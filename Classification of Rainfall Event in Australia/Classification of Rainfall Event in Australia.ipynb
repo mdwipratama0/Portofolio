{
 "cells": [
  {
   "cell_type": "markdown",
   "metadata": {
    "id": "xg_-WPK0AZ-5"
   },
   "source": [
    "# Project 2 Classification of Rainfall Event in Australia\n",
    "\n",
    "Anggota:\n",
    "1. Muhammad Taufiqul Hakim\n",
    "2. M. Dwi Pratama\n",
    "3. Rossanda Sevia Gadis\n",
    "4. Shafira Almaisa"
   ]
  },
  {
   "cell_type": "markdown",
   "metadata": {
    "id": "xtg5xnGCAfME"
   },
   "source": [
    "# Perkenalan"
   ]
  },
  {
   "cell_type": "markdown",
   "metadata": {
    "id": "MpPhnYfsBGoQ"
   },
   "source": [
    "## Latar Belakang\n",
    "\n",
    ">Kasus yang diangkat pada project ini adalah cuaca di Australia. Kondisi cuaca sangat mempengaruhi aktivitas masyarakat sehari-hari. Sering kali cuaca mengalami perubahan yang tidak menentu seperti hari ini cerah namun keesokan harinya turun hujan, yang mana hal tersebut dapat mengganggu bahkan menghentikan aktivitas yang sedang dilakukan. Oleh karena itu, dibangun sebuah model untuk memprediksi cuaca di hari esok, lebih tepatnya memprediksi apakah besok hujan atau tidak. Pembangunan model ini akan melibatkan beberapa variabel yang dianggap dapat mempengaruhi perhitungan hari esok hujan atau tidak. Model ini diharapkan dapat membantu masyarakat Australia agar dapat memperkirakan hujan sehingga akan lebih membantu mereka dalam mempersiapkan diri."
   ]
  },
  {
   "cell_type": "markdown",
   "metadata": {
    "id": "zEXTRnhWBJTL"
   },
   "source": [
    "## Data\n",
    "\n",
    ">Data yang digunakan adalah 'Rain in Australia' dimana data ini diambil dari website open source Kaggle. Data ini memuat sebanyak 23 kolom dan 145460 baris data. Kolom label atau target variabel dari data ini adalah kolom 'RainTomorrow' dimana kolom dengan value diskrit ini memuat value yes or no yang berarti jika yes maka besok akan turun hujan dengan curah hujan 1mm atau lebih dan sebaliknya. Sedangkan kolom lainnya merupakan kolom yang berisikan data-data yang berkenaan dengan cuaca seperti temperatur, evaporasi dan lainnya dimana kolom-kolom tersebut berisikan nilai numerik dan ada pula yang kategorik."
   ]
  },
  {
   "cell_type": "markdown",
   "metadata": {
    "id": "_ts5EDaDBK5o"
   },
   "source": [
    "## Capaian\n",
    "\n",
    ">Menggunakan data ini, akan dibangun sebuah model klasifikasi dimana digunakan data feature dan data label(target variabel) untuk melatih model agar mampu membuat prediksi hari esok hujan atau tidak menggunakan 6 algoritma klasifikasi yaitu logistic regression, KNN, SVM, Decision Tree, Random Forest dan Naive Bayes. "
   ]
  },
  {
   "cell_type": "markdown",
   "metadata": {
    "id": "Wm7KgTbyApcZ"
   },
   "source": [
    "# Import Pustaka"
   ]
  },
  {
   "cell_type": "code",
   "execution_count": 1,
   "metadata": {
    "id": "ibkkk5Yn_soB"
   },
   "outputs": [],
   "source": [
    "#from pydrive.auth import GoogleAuth\n",
    "#from pydrive.drive import GoogleDrive\n",
    "#from google.colab import auth\n",
    "#from oauth2client.client import GoogleCredentials\n",
    " \n",
    " \n",
    "# Authenticate and create the PyDrive client.\n",
    "#auth.authenticate_user()\n",
    "#gauth = GoogleAuth()\n",
    "#gauth.credentials = GoogleCredentials.get_application_default()\n",
    "#drive = GoogleDrive(gauth)"
   ]
  },
  {
   "cell_type": "markdown",
   "metadata": {
    "id": "INYUMX5FDTjy"
   },
   "source": [
    "Kode di atas digunakan nantinya untuk proses pembacaan file yang berasal dari google drive.\n",
    "Anda dapat mematikannya jika membuka dokumen dengan Jupyter Notebook dengan mengubah format cell menjadi raw"
   ]
  },
  {
   "cell_type": "code",
   "execution_count": 2,
   "metadata": {
    "id": "XlodWmkzELi9"
   },
   "outputs": [],
   "source": [
    "import pandas as pd\n",
    "import numpy as np\n",
    "\n",
    "# data visualization\n",
    "import matplotlib.pyplot as plt\n",
    "%matplotlib inline\n",
    "import seaborn as sns\n",
    "\n",
    "# data preprocessing\n",
    "from sklearn.model_selection import train_test_split\n",
    "from sklearn.preprocessing import StandardScaler, LabelEncoder\n",
    "from sklearn import preprocessing\n",
    "from imblearn.over_sampling import SMOTE\n",
    "\n",
    "# building model\n",
    "from sklearn.linear_model import LogisticRegression\n",
    "from sklearn.neighbors import KNeighborsClassifier\n",
    "from sklearn.svm import SVC\n",
    "from sklearn.tree import DecisionTreeClassifier\n",
    "from sklearn.ensemble import RandomForestClassifier\n",
    "from sklearn.naive_bayes import GaussianNB\n",
    "\n",
    "# hyperparameter tuning\n",
    "from sklearn.model_selection import GridSearchCV\n",
    "from sklearn.model_selection import RandomizedSearchCV\n",
    "from scipy.stats import randint\n",
    "from scipy.stats import uniform\n",
    "\n",
    "# Hypothesis Testing\n",
    "import statsmodels.api as sm\n",
    "\n",
    "# model evaluation\n",
    "from sklearn.metrics import classification_report, confusion_matrix\n",
    "from sklearn.metrics import accuracy_score"
   ]
  },
  {
   "cell_type": "markdown",
   "metadata": {
    "id": "Wmf81Rlw9r5o"
   },
   "source": [
    "Dilakukan import library dimana akan diakses beberapa fungsi di dalamnya yang akan digunakan untuk keperluan membangun model klasifikasi ini."
   ]
  },
  {
   "cell_type": "markdown",
   "metadata": {
    "id": "7klyoDH7AsU2"
   },
   "source": [
    "# Data Loading"
   ]
  },
  {
   "cell_type": "code",
   "execution_count": 3,
   "metadata": {
    "id": "W1WfTePhAte_"
   },
   "outputs": [],
   "source": [
    "#url = 'https://drive.google.com/file/d/12y3XyFRfoy5Soq-QTw7XRV-pdcejnXBN/view?usp=share_link'\n",
    "#id = url.split(\"/\")[-2]\n",
    "\n",
    "#downloaded = drive.CreateFile({'id':id})\n",
    "#downloaded.GetContentFile('weatherAUS.csv')"
   ]
  },
  {
   "cell_type": "markdown",
   "metadata": {
    "id": "9Qhn75atDb9l"
   },
   "source": [
    "Perintah untuk donwload Konten dari Url dengan nama file tersebut.\n",
    "Jika membuka menggunakan Jupyter Notebook anda dapat mematikannya dengan mengubah cell menjadi format raw"
   ]
  },
  {
   "cell_type": "code",
   "execution_count": 4,
   "metadata": {
    "colab": {
     "base_uri": "https://localhost:8080/",
     "height": 386
    },
    "id": "DtiHj7V7Df2c",
    "outputId": "dfabf946-ca0b-4394-a130-a09d195b6487"
   },
   "outputs": [
    {
     "data": {
      "text/html": [
       "<div>\n",
       "<style scoped>\n",
       "    .dataframe tbody tr th:only-of-type {\n",
       "        vertical-align: middle;\n",
       "    }\n",
       "\n",
       "    .dataframe tbody tr th {\n",
       "        vertical-align: top;\n",
       "    }\n",
       "\n",
       "    .dataframe thead th {\n",
       "        text-align: right;\n",
       "    }\n",
       "</style>\n",
       "<table border=\"1\" class=\"dataframe\">\n",
       "  <thead>\n",
       "    <tr style=\"text-align: right;\">\n",
       "      <th></th>\n",
       "      <th>Date</th>\n",
       "      <th>Location</th>\n",
       "      <th>MinTemp</th>\n",
       "      <th>MaxTemp</th>\n",
       "      <th>Rainfall</th>\n",
       "      <th>Evaporation</th>\n",
       "      <th>Sunshine</th>\n",
       "      <th>WindGustDir</th>\n",
       "      <th>WindGustSpeed</th>\n",
       "      <th>WindDir9am</th>\n",
       "      <th>...</th>\n",
       "      <th>Humidity9am</th>\n",
       "      <th>Humidity3pm</th>\n",
       "      <th>Pressure9am</th>\n",
       "      <th>Pressure3pm</th>\n",
       "      <th>Cloud9am</th>\n",
       "      <th>Cloud3pm</th>\n",
       "      <th>Temp9am</th>\n",
       "      <th>Temp3pm</th>\n",
       "      <th>RainToday</th>\n",
       "      <th>RainTomorrow</th>\n",
       "    </tr>\n",
       "  </thead>\n",
       "  <tbody>\n",
       "    <tr>\n",
       "      <th>0</th>\n",
       "      <td>2008-12-01</td>\n",
       "      <td>Albury</td>\n",
       "      <td>13.4</td>\n",
       "      <td>22.9</td>\n",
       "      <td>0.6</td>\n",
       "      <td>NaN</td>\n",
       "      <td>NaN</td>\n",
       "      <td>W</td>\n",
       "      <td>44.0</td>\n",
       "      <td>W</td>\n",
       "      <td>...</td>\n",
       "      <td>71.0</td>\n",
       "      <td>22.0</td>\n",
       "      <td>1007.7</td>\n",
       "      <td>1007.1</td>\n",
       "      <td>8.0</td>\n",
       "      <td>NaN</td>\n",
       "      <td>16.9</td>\n",
       "      <td>21.8</td>\n",
       "      <td>No</td>\n",
       "      <td>No</td>\n",
       "    </tr>\n",
       "    <tr>\n",
       "      <th>1</th>\n",
       "      <td>2008-12-02</td>\n",
       "      <td>Albury</td>\n",
       "      <td>7.4</td>\n",
       "      <td>25.1</td>\n",
       "      <td>0.0</td>\n",
       "      <td>NaN</td>\n",
       "      <td>NaN</td>\n",
       "      <td>WNW</td>\n",
       "      <td>44.0</td>\n",
       "      <td>NNW</td>\n",
       "      <td>...</td>\n",
       "      <td>44.0</td>\n",
       "      <td>25.0</td>\n",
       "      <td>1010.6</td>\n",
       "      <td>1007.8</td>\n",
       "      <td>NaN</td>\n",
       "      <td>NaN</td>\n",
       "      <td>17.2</td>\n",
       "      <td>24.3</td>\n",
       "      <td>No</td>\n",
       "      <td>No</td>\n",
       "    </tr>\n",
       "    <tr>\n",
       "      <th>2</th>\n",
       "      <td>2008-12-03</td>\n",
       "      <td>Albury</td>\n",
       "      <td>12.9</td>\n",
       "      <td>25.7</td>\n",
       "      <td>0.0</td>\n",
       "      <td>NaN</td>\n",
       "      <td>NaN</td>\n",
       "      <td>WSW</td>\n",
       "      <td>46.0</td>\n",
       "      <td>W</td>\n",
       "      <td>...</td>\n",
       "      <td>38.0</td>\n",
       "      <td>30.0</td>\n",
       "      <td>1007.6</td>\n",
       "      <td>1008.7</td>\n",
       "      <td>NaN</td>\n",
       "      <td>2.0</td>\n",
       "      <td>21.0</td>\n",
       "      <td>23.2</td>\n",
       "      <td>No</td>\n",
       "      <td>No</td>\n",
       "    </tr>\n",
       "    <tr>\n",
       "      <th>3</th>\n",
       "      <td>2008-12-04</td>\n",
       "      <td>Albury</td>\n",
       "      <td>9.2</td>\n",
       "      <td>28.0</td>\n",
       "      <td>0.0</td>\n",
       "      <td>NaN</td>\n",
       "      <td>NaN</td>\n",
       "      <td>NE</td>\n",
       "      <td>24.0</td>\n",
       "      <td>SE</td>\n",
       "      <td>...</td>\n",
       "      <td>45.0</td>\n",
       "      <td>16.0</td>\n",
       "      <td>1017.6</td>\n",
       "      <td>1012.8</td>\n",
       "      <td>NaN</td>\n",
       "      <td>NaN</td>\n",
       "      <td>18.1</td>\n",
       "      <td>26.5</td>\n",
       "      <td>No</td>\n",
       "      <td>No</td>\n",
       "    </tr>\n",
       "    <tr>\n",
       "      <th>4</th>\n",
       "      <td>2008-12-05</td>\n",
       "      <td>Albury</td>\n",
       "      <td>17.5</td>\n",
       "      <td>32.3</td>\n",
       "      <td>1.0</td>\n",
       "      <td>NaN</td>\n",
       "      <td>NaN</td>\n",
       "      <td>W</td>\n",
       "      <td>41.0</td>\n",
       "      <td>ENE</td>\n",
       "      <td>...</td>\n",
       "      <td>82.0</td>\n",
       "      <td>33.0</td>\n",
       "      <td>1010.8</td>\n",
       "      <td>1006.0</td>\n",
       "      <td>7.0</td>\n",
       "      <td>8.0</td>\n",
       "      <td>17.8</td>\n",
       "      <td>29.7</td>\n",
       "      <td>No</td>\n",
       "      <td>No</td>\n",
       "    </tr>\n",
       "  </tbody>\n",
       "</table>\n",
       "<p>5 rows × 23 columns</p>\n",
       "</div>"
      ],
      "text/plain": [
       "         Date Location  MinTemp  MaxTemp  Rainfall  Evaporation  Sunshine  \\\n",
       "0  2008-12-01   Albury     13.4     22.9       0.6          NaN       NaN   \n",
       "1  2008-12-02   Albury      7.4     25.1       0.0          NaN       NaN   \n",
       "2  2008-12-03   Albury     12.9     25.7       0.0          NaN       NaN   \n",
       "3  2008-12-04   Albury      9.2     28.0       0.0          NaN       NaN   \n",
       "4  2008-12-05   Albury     17.5     32.3       1.0          NaN       NaN   \n",
       "\n",
       "  WindGustDir  WindGustSpeed WindDir9am  ... Humidity9am  Humidity3pm  \\\n",
       "0           W           44.0          W  ...        71.0         22.0   \n",
       "1         WNW           44.0        NNW  ...        44.0         25.0   \n",
       "2         WSW           46.0          W  ...        38.0         30.0   \n",
       "3          NE           24.0         SE  ...        45.0         16.0   \n",
       "4           W           41.0        ENE  ...        82.0         33.0   \n",
       "\n",
       "   Pressure9am  Pressure3pm  Cloud9am  Cloud3pm  Temp9am  Temp3pm  RainToday  \\\n",
       "0       1007.7       1007.1       8.0       NaN     16.9     21.8         No   \n",
       "1       1010.6       1007.8       NaN       NaN     17.2     24.3         No   \n",
       "2       1007.6       1008.7       NaN       2.0     21.0     23.2         No   \n",
       "3       1017.6       1012.8       NaN       NaN     18.1     26.5         No   \n",
       "4       1010.8       1006.0       7.0       8.0     17.8     29.7         No   \n",
       "\n",
       "   RainTomorrow  \n",
       "0            No  \n",
       "1            No  \n",
       "2            No  \n",
       "3            No  \n",
       "4            No  \n",
       "\n",
       "[5 rows x 23 columns]"
      ]
     },
     "execution_count": 4,
     "metadata": {},
     "output_type": "execute_result"
    }
   ],
   "source": [
    "# read data\n",
    "df = pd.read_csv('weatherAUS.csv')\n",
    "df.head()"
   ]
  },
  {
   "cell_type": "markdown",
   "metadata": {
    "id": "xbOPrSw-955t"
   },
   "source": [
    "Dilakukan read file csv yang mana memuat dataset berisikan data hujan harian selama 10 tahun di Australia. Kemudian ditampilkan data teratas untuk melihat gambaran data secara umum."
   ]
  },
  {
   "cell_type": "code",
   "execution_count": 5,
   "metadata": {
    "colab": {
     "base_uri": "https://localhost:8080/"
    },
    "id": "fmLhULxCz6vA",
    "outputId": "c56cf96c-87bb-495f-ae69-a3331e4c8ad3"
   },
   "outputs": [
    {
     "data": {
      "text/plain": [
       "(145460, 23)"
      ]
     },
     "execution_count": 5,
     "metadata": {},
     "output_type": "execute_result"
    }
   ],
   "source": [
    "# shape of the dataset\n",
    "df.shape"
   ]
  },
  {
   "cell_type": "markdown",
   "metadata": {
    "id": "oSjKJRlx-FzP"
   },
   "source": [
    "Fungsi `shape()` digunakan untuk melihat dimensi atau bentuk data. Dari output dapat diketahui ada 145460 baris data dan 23 kolom pada dataset tersebut."
   ]
  },
  {
   "cell_type": "code",
   "execution_count": 6,
   "metadata": {
    "colab": {
     "base_uri": "https://localhost:8080/"
    },
    "id": "-Uxjz-u9z9GE",
    "outputId": "6c6b9047-64d0-4e44-dc5d-f9c42d81053c"
   },
   "outputs": [
    {
     "data": {
      "text/plain": [
       "Date                 0\n",
       "Location             0\n",
       "MinTemp           1485\n",
       "MaxTemp           1261\n",
       "Rainfall          3261\n",
       "Evaporation      62790\n",
       "Sunshine         69835\n",
       "WindGustDir      10326\n",
       "WindGustSpeed    10263\n",
       "WindDir9am       10566\n",
       "WindDir3pm        4228\n",
       "WindSpeed9am      1767\n",
       "WindSpeed3pm      3062\n",
       "Humidity9am       2654\n",
       "Humidity3pm       4507\n",
       "Pressure9am      15065\n",
       "Pressure3pm      15028\n",
       "Cloud9am         55888\n",
       "Cloud3pm         59358\n",
       "Temp9am           1767\n",
       "Temp3pm           3609\n",
       "RainToday         3261\n",
       "RainTomorrow      3267\n",
       "dtype: int64"
      ]
     },
     "execution_count": 6,
     "metadata": {},
     "output_type": "execute_result"
    }
   ],
   "source": [
    "# check null values\n",
    "df.isna().sum()"
   ]
  },
  {
   "cell_type": "markdown",
   "metadata": {
    "id": "As8JhqpV-Z41"
   },
   "source": [
    "Dilakukan pengecekan nilai null menggunakan fungsi `isna()` dimana nilai null tersebut dihitung jumlahnya menggunakan fungsi `sum()` dan diberikan output berupa total null values dari masing-masing kolom."
   ]
  },
  {
   "cell_type": "code",
   "execution_count": 7,
   "metadata": {
    "colab": {
     "base_uri": "https://localhost:8080/"
    },
    "id": "wPFL-0Lf0AvD",
    "outputId": "dc6e66c4-0eac-403b-d611-c5020f68b356"
   },
   "outputs": [
    {
     "name": "stdout",
     "output_type": "stream",
     "text": [
      "<class 'pandas.core.frame.DataFrame'>\n",
      "RangeIndex: 145460 entries, 0 to 145459\n",
      "Data columns (total 23 columns):\n",
      " #   Column         Non-Null Count   Dtype  \n",
      "---  ------         --------------   -----  \n",
      " 0   Date           145460 non-null  object \n",
      " 1   Location       145460 non-null  object \n",
      " 2   MinTemp        143975 non-null  float64\n",
      " 3   MaxTemp        144199 non-null  float64\n",
      " 4   Rainfall       142199 non-null  float64\n",
      " 5   Evaporation    82670 non-null   float64\n",
      " 6   Sunshine       75625 non-null   float64\n",
      " 7   WindGustDir    135134 non-null  object \n",
      " 8   WindGustSpeed  135197 non-null  float64\n",
      " 9   WindDir9am     134894 non-null  object \n",
      " 10  WindDir3pm     141232 non-null  object \n",
      " 11  WindSpeed9am   143693 non-null  float64\n",
      " 12  WindSpeed3pm   142398 non-null  float64\n",
      " 13  Humidity9am    142806 non-null  float64\n",
      " 14  Humidity3pm    140953 non-null  float64\n",
      " 15  Pressure9am    130395 non-null  float64\n",
      " 16  Pressure3pm    130432 non-null  float64\n",
      " 17  Cloud9am       89572 non-null   float64\n",
      " 18  Cloud3pm       86102 non-null   float64\n",
      " 19  Temp9am        143693 non-null  float64\n",
      " 20  Temp3pm        141851 non-null  float64\n",
      " 21  RainToday      142199 non-null  object \n",
      " 22  RainTomorrow   142193 non-null  object \n",
      "dtypes: float64(16), object(7)\n",
      "memory usage: 25.5+ MB\n"
     ]
    }
   ],
   "source": [
    "# show information of dataset\n",
    "df.info()"
   ]
  },
  {
   "cell_type": "markdown",
   "metadata": {
    "id": "zDZPCGMB-nn7"
   },
   "source": [
    "Dilihat informasi dari dataset menggunakan fungsi `info()` dimana akan diberikan output berupa daftar nama kolom, informasi jumlah data non-null di masing-masing kolom serta tipe data dari masing-masing kolom."
   ]
  },
  {
   "cell_type": "markdown",
   "metadata": {
    "id": "1JlPsBMtAuCk"
   },
   "source": [
    "# Data Cleaning"
   ]
  },
  {
   "cell_type": "code",
   "execution_count": 8,
   "metadata": {
    "colab": {
     "base_uri": "https://localhost:8080/",
     "height": 651
    },
    "id": "sqc1PA62AvX6",
    "outputId": "26f9c5f1-bd53-4dbf-aaa2-86bd6fc8f6c6"
   },
   "outputs": [
    {
     "data": {
      "text/html": [
       "<div>\n",
       "<style scoped>\n",
       "    .dataframe tbody tr th:only-of-type {\n",
       "        vertical-align: middle;\n",
       "    }\n",
       "\n",
       "    .dataframe tbody tr th {\n",
       "        vertical-align: top;\n",
       "    }\n",
       "\n",
       "    .dataframe thead th {\n",
       "        text-align: right;\n",
       "    }\n",
       "</style>\n",
       "<table border=\"1\" class=\"dataframe\">\n",
       "  <thead>\n",
       "    <tr style=\"text-align: right;\">\n",
       "      <th></th>\n",
       "      <th>MinTemp</th>\n",
       "      <th>MaxTemp</th>\n",
       "      <th>Rainfall</th>\n",
       "      <th>Evaporation</th>\n",
       "      <th>Sunshine</th>\n",
       "      <th>WindGustSpeed</th>\n",
       "      <th>WindSpeed9am</th>\n",
       "      <th>WindSpeed3pm</th>\n",
       "      <th>Humidity9am</th>\n",
       "      <th>Humidity3pm</th>\n",
       "      <th>Pressure9am</th>\n",
       "      <th>Pressure3pm</th>\n",
       "      <th>Cloud9am</th>\n",
       "      <th>Cloud3pm</th>\n",
       "      <th>Temp9am</th>\n",
       "      <th>Temp3pm</th>\n",
       "    </tr>\n",
       "  </thead>\n",
       "  <tbody>\n",
       "    <tr>\n",
       "      <th>MinTemp</th>\n",
       "      <td>1.000000</td>\n",
       "      <td>0.736555</td>\n",
       "      <td>0.103938</td>\n",
       "      <td>0.466993</td>\n",
       "      <td>0.072586</td>\n",
       "      <td>0.177415</td>\n",
       "      <td>0.175064</td>\n",
       "      <td>0.175173</td>\n",
       "      <td>-0.232899</td>\n",
       "      <td>0.006089</td>\n",
       "      <td>-0.450970</td>\n",
       "      <td>-0.461292</td>\n",
       "      <td>0.078754</td>\n",
       "      <td>0.021605</td>\n",
       "      <td>0.901821</td>\n",
       "      <td>0.708906</td>\n",
       "    </tr>\n",
       "    <tr>\n",
       "      <th>MaxTemp</th>\n",
       "      <td>0.736555</td>\n",
       "      <td>1.000000</td>\n",
       "      <td>-0.074992</td>\n",
       "      <td>0.587932</td>\n",
       "      <td>0.470156</td>\n",
       "      <td>0.067615</td>\n",
       "      <td>0.014450</td>\n",
       "      <td>0.050300</td>\n",
       "      <td>-0.504110</td>\n",
       "      <td>-0.508855</td>\n",
       "      <td>-0.332061</td>\n",
       "      <td>-0.427167</td>\n",
       "      <td>-0.289370</td>\n",
       "      <td>-0.277921</td>\n",
       "      <td>0.887210</td>\n",
       "      <td>0.984503</td>\n",
       "    </tr>\n",
       "    <tr>\n",
       "      <th>Rainfall</th>\n",
       "      <td>0.103938</td>\n",
       "      <td>-0.074992</td>\n",
       "      <td>1.000000</td>\n",
       "      <td>-0.064351</td>\n",
       "      <td>-0.227549</td>\n",
       "      <td>0.133659</td>\n",
       "      <td>0.087338</td>\n",
       "      <td>0.057887</td>\n",
       "      <td>0.224405</td>\n",
       "      <td>0.255755</td>\n",
       "      <td>-0.168154</td>\n",
       "      <td>-0.126534</td>\n",
       "      <td>0.198528</td>\n",
       "      <td>0.172403</td>\n",
       "      <td>0.011192</td>\n",
       "      <td>-0.079657</td>\n",
       "    </tr>\n",
       "    <tr>\n",
       "      <th>Evaporation</th>\n",
       "      <td>0.466993</td>\n",
       "      <td>0.587932</td>\n",
       "      <td>-0.064351</td>\n",
       "      <td>1.000000</td>\n",
       "      <td>0.365602</td>\n",
       "      <td>0.203021</td>\n",
       "      <td>0.193084</td>\n",
       "      <td>0.129400</td>\n",
       "      <td>-0.504092</td>\n",
       "      <td>-0.390243</td>\n",
       "      <td>-0.270362</td>\n",
       "      <td>-0.293581</td>\n",
       "      <td>-0.183793</td>\n",
       "      <td>-0.182618</td>\n",
       "      <td>0.545115</td>\n",
       "      <td>0.572893</td>\n",
       "    </tr>\n",
       "    <tr>\n",
       "      <th>Sunshine</th>\n",
       "      <td>0.072586</td>\n",
       "      <td>0.470156</td>\n",
       "      <td>-0.227549</td>\n",
       "      <td>0.365602</td>\n",
       "      <td>1.000000</td>\n",
       "      <td>-0.034750</td>\n",
       "      <td>0.005499</td>\n",
       "      <td>0.053834</td>\n",
       "      <td>-0.490819</td>\n",
       "      <td>-0.629130</td>\n",
       "      <td>0.041970</td>\n",
       "      <td>-0.019719</td>\n",
       "      <td>-0.675323</td>\n",
       "      <td>-0.703930</td>\n",
       "      <td>0.291188</td>\n",
       "      <td>0.490501</td>\n",
       "    </tr>\n",
       "    <tr>\n",
       "      <th>WindGustSpeed</th>\n",
       "      <td>0.177415</td>\n",
       "      <td>0.067615</td>\n",
       "      <td>0.133659</td>\n",
       "      <td>0.203021</td>\n",
       "      <td>-0.034750</td>\n",
       "      <td>1.000000</td>\n",
       "      <td>0.605303</td>\n",
       "      <td>0.686307</td>\n",
       "      <td>-0.215070</td>\n",
       "      <td>-0.026327</td>\n",
       "      <td>-0.458744</td>\n",
       "      <td>-0.413749</td>\n",
       "      <td>0.071736</td>\n",
       "      <td>0.109168</td>\n",
       "      <td>0.150150</td>\n",
       "      <td>0.032748</td>\n",
       "    </tr>\n",
       "    <tr>\n",
       "      <th>WindSpeed9am</th>\n",
       "      <td>0.175064</td>\n",
       "      <td>0.014450</td>\n",
       "      <td>0.087338</td>\n",
       "      <td>0.193084</td>\n",
       "      <td>0.005499</td>\n",
       "      <td>0.605303</td>\n",
       "      <td>1.000000</td>\n",
       "      <td>0.519547</td>\n",
       "      <td>-0.270858</td>\n",
       "      <td>-0.031614</td>\n",
       "      <td>-0.228743</td>\n",
       "      <td>-0.175817</td>\n",
       "      <td>0.025112</td>\n",
       "      <td>0.054639</td>\n",
       "      <td>0.128545</td>\n",
       "      <td>0.004569</td>\n",
       "    </tr>\n",
       "    <tr>\n",
       "      <th>WindSpeed3pm</th>\n",
       "      <td>0.175173</td>\n",
       "      <td>0.050300</td>\n",
       "      <td>0.057887</td>\n",
       "      <td>0.129400</td>\n",
       "      <td>0.053834</td>\n",
       "      <td>0.686307</td>\n",
       "      <td>0.519547</td>\n",
       "      <td>1.000000</td>\n",
       "      <td>-0.145525</td>\n",
       "      <td>0.016432</td>\n",
       "      <td>-0.296351</td>\n",
       "      <td>-0.255439</td>\n",
       "      <td>0.053337</td>\n",
       "      <td>0.025396</td>\n",
       "      <td>0.163030</td>\n",
       "      <td>0.027778</td>\n",
       "    </tr>\n",
       "    <tr>\n",
       "      <th>Humidity9am</th>\n",
       "      <td>-0.232899</td>\n",
       "      <td>-0.504110</td>\n",
       "      <td>0.224405</td>\n",
       "      <td>-0.504092</td>\n",
       "      <td>-0.490819</td>\n",
       "      <td>-0.215070</td>\n",
       "      <td>-0.270858</td>\n",
       "      <td>-0.145525</td>\n",
       "      <td>1.000000</td>\n",
       "      <td>0.666949</td>\n",
       "      <td>0.139442</td>\n",
       "      <td>0.186858</td>\n",
       "      <td>0.452297</td>\n",
       "      <td>0.357326</td>\n",
       "      <td>-0.471354</td>\n",
       "      <td>-0.498399</td>\n",
       "    </tr>\n",
       "    <tr>\n",
       "      <th>Humidity3pm</th>\n",
       "      <td>0.006089</td>\n",
       "      <td>-0.508855</td>\n",
       "      <td>0.255755</td>\n",
       "      <td>-0.390243</td>\n",
       "      <td>-0.629130</td>\n",
       "      <td>-0.026327</td>\n",
       "      <td>-0.031614</td>\n",
       "      <td>0.016432</td>\n",
       "      <td>0.666949</td>\n",
       "      <td>1.000000</td>\n",
       "      <td>-0.027544</td>\n",
       "      <td>0.051997</td>\n",
       "      <td>0.517120</td>\n",
       "      <td>0.523120</td>\n",
       "      <td>-0.221019</td>\n",
       "      <td>-0.557841</td>\n",
       "    </tr>\n",
       "    <tr>\n",
       "      <th>Pressure9am</th>\n",
       "      <td>-0.450970</td>\n",
       "      <td>-0.332061</td>\n",
       "      <td>-0.168154</td>\n",
       "      <td>-0.270362</td>\n",
       "      <td>0.041970</td>\n",
       "      <td>-0.458744</td>\n",
       "      <td>-0.228743</td>\n",
       "      <td>-0.296351</td>\n",
       "      <td>0.139442</td>\n",
       "      <td>-0.027544</td>\n",
       "      <td>1.000000</td>\n",
       "      <td>0.961326</td>\n",
       "      <td>-0.129796</td>\n",
       "      <td>-0.147861</td>\n",
       "      <td>-0.422556</td>\n",
       "      <td>-0.286770</td>\n",
       "    </tr>\n",
       "    <tr>\n",
       "      <th>Pressure3pm</th>\n",
       "      <td>-0.461292</td>\n",
       "      <td>-0.427167</td>\n",
       "      <td>-0.126534</td>\n",
       "      <td>-0.293581</td>\n",
       "      <td>-0.019719</td>\n",
       "      <td>-0.413749</td>\n",
       "      <td>-0.175817</td>\n",
       "      <td>-0.255439</td>\n",
       "      <td>0.186858</td>\n",
       "      <td>0.051997</td>\n",
       "      <td>0.961326</td>\n",
       "      <td>1.000000</td>\n",
       "      <td>-0.060772</td>\n",
       "      <td>-0.084778</td>\n",
       "      <td>-0.470187</td>\n",
       "      <td>-0.389548</td>\n",
       "    </tr>\n",
       "    <tr>\n",
       "      <th>Cloud9am</th>\n",
       "      <td>0.078754</td>\n",
       "      <td>-0.289370</td>\n",
       "      <td>0.198528</td>\n",
       "      <td>-0.183793</td>\n",
       "      <td>-0.675323</td>\n",
       "      <td>0.071736</td>\n",
       "      <td>0.025112</td>\n",
       "      <td>0.053337</td>\n",
       "      <td>0.452297</td>\n",
       "      <td>0.517120</td>\n",
       "      <td>-0.129796</td>\n",
       "      <td>-0.060772</td>\n",
       "      <td>1.000000</td>\n",
       "      <td>0.603564</td>\n",
       "      <td>-0.136959</td>\n",
       "      <td>-0.302060</td>\n",
       "    </tr>\n",
       "    <tr>\n",
       "      <th>Cloud3pm</th>\n",
       "      <td>0.021605</td>\n",
       "      <td>-0.277921</td>\n",
       "      <td>0.172403</td>\n",
       "      <td>-0.182618</td>\n",
       "      <td>-0.703930</td>\n",
       "      <td>0.109168</td>\n",
       "      <td>0.054639</td>\n",
       "      <td>0.025396</td>\n",
       "      <td>0.357326</td>\n",
       "      <td>0.523120</td>\n",
       "      <td>-0.147861</td>\n",
       "      <td>-0.084778</td>\n",
       "      <td>0.603564</td>\n",
       "      <td>1.000000</td>\n",
       "      <td>-0.126659</td>\n",
       "      <td>-0.317420</td>\n",
       "    </tr>\n",
       "    <tr>\n",
       "      <th>Temp9am</th>\n",
       "      <td>0.901821</td>\n",
       "      <td>0.887210</td>\n",
       "      <td>0.011192</td>\n",
       "      <td>0.545115</td>\n",
       "      <td>0.291188</td>\n",
       "      <td>0.150150</td>\n",
       "      <td>0.128545</td>\n",
       "      <td>0.163030</td>\n",
       "      <td>-0.471354</td>\n",
       "      <td>-0.221019</td>\n",
       "      <td>-0.422556</td>\n",
       "      <td>-0.470187</td>\n",
       "      <td>-0.136959</td>\n",
       "      <td>-0.126659</td>\n",
       "      <td>1.000000</td>\n",
       "      <td>0.860591</td>\n",
       "    </tr>\n",
       "    <tr>\n",
       "      <th>Temp3pm</th>\n",
       "      <td>0.708906</td>\n",
       "      <td>0.984503</td>\n",
       "      <td>-0.079657</td>\n",
       "      <td>0.572893</td>\n",
       "      <td>0.490501</td>\n",
       "      <td>0.032748</td>\n",
       "      <td>0.004569</td>\n",
       "      <td>0.027778</td>\n",
       "      <td>-0.498399</td>\n",
       "      <td>-0.557841</td>\n",
       "      <td>-0.286770</td>\n",
       "      <td>-0.389548</td>\n",
       "      <td>-0.302060</td>\n",
       "      <td>-0.317420</td>\n",
       "      <td>0.860591</td>\n",
       "      <td>1.000000</td>\n",
       "    </tr>\n",
       "  </tbody>\n",
       "</table>\n",
       "</div>"
      ],
      "text/plain": [
       "                MinTemp   MaxTemp  Rainfall  Evaporation  Sunshine  \\\n",
       "MinTemp        1.000000  0.736555  0.103938     0.466993  0.072586   \n",
       "MaxTemp        0.736555  1.000000 -0.074992     0.587932  0.470156   \n",
       "Rainfall       0.103938 -0.074992  1.000000    -0.064351 -0.227549   \n",
       "Evaporation    0.466993  0.587932 -0.064351     1.000000  0.365602   \n",
       "Sunshine       0.072586  0.470156 -0.227549     0.365602  1.000000   \n",
       "WindGustSpeed  0.177415  0.067615  0.133659     0.203021 -0.034750   \n",
       "WindSpeed9am   0.175064  0.014450  0.087338     0.193084  0.005499   \n",
       "WindSpeed3pm   0.175173  0.050300  0.057887     0.129400  0.053834   \n",
       "Humidity9am   -0.232899 -0.504110  0.224405    -0.504092 -0.490819   \n",
       "Humidity3pm    0.006089 -0.508855  0.255755    -0.390243 -0.629130   \n",
       "Pressure9am   -0.450970 -0.332061 -0.168154    -0.270362  0.041970   \n",
       "Pressure3pm   -0.461292 -0.427167 -0.126534    -0.293581 -0.019719   \n",
       "Cloud9am       0.078754 -0.289370  0.198528    -0.183793 -0.675323   \n",
       "Cloud3pm       0.021605 -0.277921  0.172403    -0.182618 -0.703930   \n",
       "Temp9am        0.901821  0.887210  0.011192     0.545115  0.291188   \n",
       "Temp3pm        0.708906  0.984503 -0.079657     0.572893  0.490501   \n",
       "\n",
       "               WindGustSpeed  WindSpeed9am  WindSpeed3pm  Humidity9am  \\\n",
       "MinTemp             0.177415      0.175064      0.175173    -0.232899   \n",
       "MaxTemp             0.067615      0.014450      0.050300    -0.504110   \n",
       "Rainfall            0.133659      0.087338      0.057887     0.224405   \n",
       "Evaporation         0.203021      0.193084      0.129400    -0.504092   \n",
       "Sunshine           -0.034750      0.005499      0.053834    -0.490819   \n",
       "WindGustSpeed       1.000000      0.605303      0.686307    -0.215070   \n",
       "WindSpeed9am        0.605303      1.000000      0.519547    -0.270858   \n",
       "WindSpeed3pm        0.686307      0.519547      1.000000    -0.145525   \n",
       "Humidity9am        -0.215070     -0.270858     -0.145525     1.000000   \n",
       "Humidity3pm        -0.026327     -0.031614      0.016432     0.666949   \n",
       "Pressure9am        -0.458744     -0.228743     -0.296351     0.139442   \n",
       "Pressure3pm        -0.413749     -0.175817     -0.255439     0.186858   \n",
       "Cloud9am            0.071736      0.025112      0.053337     0.452297   \n",
       "Cloud3pm            0.109168      0.054639      0.025396     0.357326   \n",
       "Temp9am             0.150150      0.128545      0.163030    -0.471354   \n",
       "Temp3pm             0.032748      0.004569      0.027778    -0.498399   \n",
       "\n",
       "               Humidity3pm  Pressure9am  Pressure3pm  Cloud9am  Cloud3pm  \\\n",
       "MinTemp           0.006089    -0.450970    -0.461292  0.078754  0.021605   \n",
       "MaxTemp          -0.508855    -0.332061    -0.427167 -0.289370 -0.277921   \n",
       "Rainfall          0.255755    -0.168154    -0.126534  0.198528  0.172403   \n",
       "Evaporation      -0.390243    -0.270362    -0.293581 -0.183793 -0.182618   \n",
       "Sunshine         -0.629130     0.041970    -0.019719 -0.675323 -0.703930   \n",
       "WindGustSpeed    -0.026327    -0.458744    -0.413749  0.071736  0.109168   \n",
       "WindSpeed9am     -0.031614    -0.228743    -0.175817  0.025112  0.054639   \n",
       "WindSpeed3pm      0.016432    -0.296351    -0.255439  0.053337  0.025396   \n",
       "Humidity9am       0.666949     0.139442     0.186858  0.452297  0.357326   \n",
       "Humidity3pm       1.000000    -0.027544     0.051997  0.517120  0.523120   \n",
       "Pressure9am      -0.027544     1.000000     0.961326 -0.129796 -0.147861   \n",
       "Pressure3pm       0.051997     0.961326     1.000000 -0.060772 -0.084778   \n",
       "Cloud9am          0.517120    -0.129796    -0.060772  1.000000  0.603564   \n",
       "Cloud3pm          0.523120    -0.147861    -0.084778  0.603564  1.000000   \n",
       "Temp9am          -0.221019    -0.422556    -0.470187 -0.136959 -0.126659   \n",
       "Temp3pm          -0.557841    -0.286770    -0.389548 -0.302060 -0.317420   \n",
       "\n",
       "                Temp9am   Temp3pm  \n",
       "MinTemp        0.901821  0.708906  \n",
       "MaxTemp        0.887210  0.984503  \n",
       "Rainfall       0.011192 -0.079657  \n",
       "Evaporation    0.545115  0.572893  \n",
       "Sunshine       0.291188  0.490501  \n",
       "WindGustSpeed  0.150150  0.032748  \n",
       "WindSpeed9am   0.128545  0.004569  \n",
       "WindSpeed3pm   0.163030  0.027778  \n",
       "Humidity9am   -0.471354 -0.498399  \n",
       "Humidity3pm   -0.221019 -0.557841  \n",
       "Pressure9am   -0.422556 -0.286770  \n",
       "Pressure3pm   -0.470187 -0.389548  \n",
       "Cloud9am      -0.136959 -0.302060  \n",
       "Cloud3pm      -0.126659 -0.317420  \n",
       "Temp9am        1.000000  0.860591  \n",
       "Temp3pm        0.860591  1.000000  "
      ]
     },
     "execution_count": 8,
     "metadata": {},
     "output_type": "execute_result"
    }
   ],
   "source": [
    "# Mengecek korelasi antar kolom\n",
    "df.corr()"
   ]
  },
  {
   "cell_type": "markdown",
   "metadata": {
    "id": "xnR3abm0Bkp7"
   },
   "source": [
    "Menggunakan fungsi `corr()`, dilihat korelasi antara kolom dengan kata lain melihat apakah terdapat kolom yang saling terkait penurunan atau kenaikan valuenya. Menggunakan fungsi ini juga dapat diperiksa apakah terdapat kolom dengan data yang sama atau tidak, jika ada salah satunya dapat dihapus."
   ]
  },
  {
   "cell_type": "code",
   "execution_count": 9,
   "metadata": {
    "colab": {
     "base_uri": "https://localhost:8080/",
     "height": 206
    },
    "id": "Ap5obAUf2fK4",
    "outputId": "8677e2d3-cd11-49a4-d590-5448dd2b10a1"
   },
   "outputs": [
    {
     "data": {
      "text/html": [
       "<div>\n",
       "<style scoped>\n",
       "    .dataframe tbody tr th:only-of-type {\n",
       "        vertical-align: middle;\n",
       "    }\n",
       "\n",
       "    .dataframe tbody tr th {\n",
       "        vertical-align: top;\n",
       "    }\n",
       "\n",
       "    .dataframe thead th {\n",
       "        text-align: right;\n",
       "    }\n",
       "</style>\n",
       "<table border=\"1\" class=\"dataframe\">\n",
       "  <thead>\n",
       "    <tr style=\"text-align: right;\">\n",
       "      <th></th>\n",
       "      <th>MinTemp</th>\n",
       "      <th>MaxTemp</th>\n",
       "      <th>Rainfall</th>\n",
       "      <th>WindGustSpeed</th>\n",
       "      <th>Humidity9am</th>\n",
       "      <th>Humidity3pm</th>\n",
       "      <th>Pressure9am</th>\n",
       "      <th>Pressure3pm</th>\n",
       "      <th>RainTomorrow</th>\n",
       "    </tr>\n",
       "  </thead>\n",
       "  <tbody>\n",
       "    <tr>\n",
       "      <th>0</th>\n",
       "      <td>13.4</td>\n",
       "      <td>22.9</td>\n",
       "      <td>0.6</td>\n",
       "      <td>44.0</td>\n",
       "      <td>71.0</td>\n",
       "      <td>22.0</td>\n",
       "      <td>1007.7</td>\n",
       "      <td>1007.1</td>\n",
       "      <td>No</td>\n",
       "    </tr>\n",
       "    <tr>\n",
       "      <th>1</th>\n",
       "      <td>7.4</td>\n",
       "      <td>25.1</td>\n",
       "      <td>0.0</td>\n",
       "      <td>44.0</td>\n",
       "      <td>44.0</td>\n",
       "      <td>25.0</td>\n",
       "      <td>1010.6</td>\n",
       "      <td>1007.8</td>\n",
       "      <td>No</td>\n",
       "    </tr>\n",
       "    <tr>\n",
       "      <th>2</th>\n",
       "      <td>12.9</td>\n",
       "      <td>25.7</td>\n",
       "      <td>0.0</td>\n",
       "      <td>46.0</td>\n",
       "      <td>38.0</td>\n",
       "      <td>30.0</td>\n",
       "      <td>1007.6</td>\n",
       "      <td>1008.7</td>\n",
       "      <td>No</td>\n",
       "    </tr>\n",
       "    <tr>\n",
       "      <th>3</th>\n",
       "      <td>9.2</td>\n",
       "      <td>28.0</td>\n",
       "      <td>0.0</td>\n",
       "      <td>24.0</td>\n",
       "      <td>45.0</td>\n",
       "      <td>16.0</td>\n",
       "      <td>1017.6</td>\n",
       "      <td>1012.8</td>\n",
       "      <td>No</td>\n",
       "    </tr>\n",
       "    <tr>\n",
       "      <th>4</th>\n",
       "      <td>17.5</td>\n",
       "      <td>32.3</td>\n",
       "      <td>1.0</td>\n",
       "      <td>41.0</td>\n",
       "      <td>82.0</td>\n",
       "      <td>33.0</td>\n",
       "      <td>1010.8</td>\n",
       "      <td>1006.0</td>\n",
       "      <td>No</td>\n",
       "    </tr>\n",
       "  </tbody>\n",
       "</table>\n",
       "</div>"
      ],
      "text/plain": [
       "   MinTemp  MaxTemp  Rainfall  WindGustSpeed  Humidity9am  Humidity3pm  \\\n",
       "0     13.4     22.9       0.6           44.0         71.0         22.0   \n",
       "1      7.4     25.1       0.0           44.0         44.0         25.0   \n",
       "2     12.9     25.7       0.0           46.0         38.0         30.0   \n",
       "3      9.2     28.0       0.0           24.0         45.0         16.0   \n",
       "4     17.5     32.3       1.0           41.0         82.0         33.0   \n",
       "\n",
       "   Pressure9am  Pressure3pm RainTomorrow  \n",
       "0       1007.7       1007.1           No  \n",
       "1       1010.6       1007.8           No  \n",
       "2       1007.6       1008.7           No  \n",
       "3       1017.6       1012.8           No  \n",
       "4       1010.8       1006.0           No  "
      ]
     },
     "execution_count": 9,
     "metadata": {},
     "output_type": "execute_result"
    }
   ],
   "source": [
    "# assign kolom yang akan digunakan\n",
    "df = df[['MinTemp', 'MaxTemp', 'Rainfall', 'WindGustSpeed', 'Humidity9am', 'Humidity3pm', 'Pressure9am', 'Pressure3pm', 'RainTomorrow']]\n",
    "df.head()"
   ]
  },
  {
   "cell_type": "markdown",
   "metadata": {
    "id": "gsyjiBtLhkIw"
   },
   "source": [
    ">Kolom yang dipilih untuk membangun model ini adalah **MinTemp, MaxTemp, Rainfall, WindGustSpeed, Humidity9am, Humidity3pm, Pressure9am, Pressure3pm** dan **RainTomorrow**. Kolom **RainTomorrow** merupakan kolom label yang berisikan data String 'Yes' dan 'No', menandakan hari hujan dan tidak hujan. Pada feature selection pertama, dipilih kolom **MinTemp, MaxTemp, WindGustSpeed** dan **RainTomorrow**. Namun, ketika diperiksa akurasi model untuk fitur tersebut menggunakan algoritma Logistic Regression, akurasi model yang didapatkan hanya 0,80. Sehingga dilakukan penambahan fitur **Humidity9am, Humidity3pm, Pressure9am** dan **Pressure3pm**, terjadi kenaikan akurasi menjadi 0,84. Kemudian, setelah ditambahkan kolom **Rainfall**, akurasi naik menjadi 0,85. Sehingga dipilihlah kolom-kolom tersebut sebagai feature dikarenakan kolom-kolom tersebut menghasilkan model dengan nilai akurasi tertinggi."
   ]
  },
  {
   "cell_type": "code",
   "execution_count": 10,
   "metadata": {
    "id": "aLCYmmKS31xc"
   },
   "outputs": [],
   "source": [
    "# mencari value error pada kolom RainTomorrow\n",
    "for row in df['RainTomorrow']:\n",
    "    try:\n",
    "        float(row)\n",
    "        df.loc['RainTomorrow'] = np.nan\n",
    "    except ValueError:\n",
    "        pass"
   ]
  },
  {
   "cell_type": "markdown",
   "metadata": {
    "id": "WaCVgqnd4Sd0"
   },
   "source": [
    "Dilakukan pengecekan value error atau kondisi dimana di dalam kolom RainTomorrow memuat data yang tidak sesuai tipenya dimana setelah itu value error tersebut akan digantikan dengan NaN."
   ]
  },
  {
   "cell_type": "code",
   "execution_count": 11,
   "metadata": {
    "id": "SjX36vbWJS-m"
   },
   "outputs": [],
   "source": [
    "# mencari value error pada kolom Rainfall\n",
    "for row in df['Rainfall']:\n",
    "    try:\n",
    "        float(row)\n",
    "        pass\n",
    "    except ValueError:\n",
    "        df.loc['Rainfall'] = np.nan"
   ]
  },
  {
   "cell_type": "markdown",
   "metadata": {
    "id": "Q6z653QYJZUx"
   },
   "source": [
    "Dilakukan pengecekan value error atau kondisi dimana di dalam kolom Rainfall memuat data yang tidak sesuai tipenya dimana setelah itu value error tersebut akan digantikan dengan NaN."
   ]
  },
  {
   "cell_type": "code",
   "execution_count": 12,
   "metadata": {
    "id": "5Afxa-nj4IXg"
   },
   "outputs": [],
   "source": [
    "# mencari value error pada kolom WindGustSpeed\n",
    "for row in df['WindGustSpeed']:\n",
    "    try:\n",
    "        float(row)\n",
    "        pass\n",
    "    except ValueError:\n",
    "        df.loc['WindGustSpeed'] = np.nan"
   ]
  },
  {
   "cell_type": "markdown",
   "metadata": {
    "id": "OB1LjlqZ4U5b"
   },
   "source": [
    "Dilakukan pengecekan value error atau kondisi dimana di dalam kolom WindGustSpeed memuat data yang tidak sesuai tipenya dimana setelah itu value error tersebut akan digantikan dengan NaN."
   ]
  },
  {
   "cell_type": "code",
   "execution_count": 13,
   "metadata": {
    "id": "gLkBSZMH4NDg"
   },
   "outputs": [],
   "source": [
    "# mencari value error pada kolom MaxTemp\n",
    "for row in df['MaxTemp']:\n",
    "    try:\n",
    "        float(row)\n",
    "        pass\n",
    "    except ValueError:\n",
    "        df.loc['MaxTemp'] = np.nan"
   ]
  },
  {
   "cell_type": "markdown",
   "metadata": {
    "id": "ZDF74DZY4X2a"
   },
   "source": [
    "Dilakukan pengecekan value error atau kondisi dimana di dalam kolom MaxTemp memuat data yang tidak sesuai tipenya dimana setelah itu value error tersebut akan digantikan dengan NaN."
   ]
  },
  {
   "cell_type": "code",
   "execution_count": 14,
   "metadata": {
    "id": "lSp_V6rp4NjU"
   },
   "outputs": [],
   "source": [
    "# mencari value error pada kolom MinTemp\n",
    "for row in df['MinTemp']:\n",
    "    try:\n",
    "        float(row)\n",
    "        pass\n",
    "    except ValueError:\n",
    "        df.loc['MinTemp'] = np.nan"
   ]
  },
  {
   "cell_type": "markdown",
   "metadata": {
    "id": "TRjOjGpQ4Zuq"
   },
   "source": [
    "Dilakukan pengecekan value error atau kondisi dimana di dalam kolom MinTemp memuat data yang tidak sesuai tipenya dimana setelah itu value error tersebut akan digantikan dengan NaN."
   ]
  },
  {
   "cell_type": "code",
   "execution_count": 15,
   "metadata": {
    "id": "D3UKT6v_Jijw"
   },
   "outputs": [],
   "source": [
    "# mencari value error pada kolom Humidity9am\n",
    "for row in df['Humidity9am']:\n",
    "    try:\n",
    "        float(row)\n",
    "        pass\n",
    "    except ValueError:\n",
    "        df.loc['Humidity9am'] = np.nan"
   ]
  },
  {
   "cell_type": "markdown",
   "metadata": {
    "id": "VvducA1MJtbc"
   },
   "source": [
    "Dilakukan pengecekan value error atau kondisi dimana di dalam kolom Humidity9am memuat data yang tidak sesuai tipenya dimana setelah itu value error tersebut akan digantikan dengan NaN."
   ]
  },
  {
   "cell_type": "code",
   "execution_count": 16,
   "metadata": {
    "id": "NIUpoBjKJoYw"
   },
   "outputs": [],
   "source": [
    "# mencari value error pada kolom Humidity3pm\n",
    "for row in df['Humidity3pm']:\n",
    "    try:\n",
    "        float(row)\n",
    "        pass\n",
    "    except ValueError:\n",
    "        df.loc['Humidity3pm'] = np.nan"
   ]
  },
  {
   "cell_type": "markdown",
   "metadata": {
    "id": "DyqXIDJ9JwPR"
   },
   "source": [
    "Dilakukan pengecekan value error atau kondisi dimana di dalam kolom Humidity3pm memuat data yang tidak sesuai tipenya dimana setelah itu value error tersebut akan digantikan dengan NaN."
   ]
  },
  {
   "cell_type": "code",
   "execution_count": 17,
   "metadata": {
    "id": "2aUJecoXJ5R0"
   },
   "outputs": [],
   "source": [
    "# mencari value error pada kolom Pressure9am\n",
    "for row in df['Pressure9am']:\n",
    "    try:\n",
    "        float(row)\n",
    "        pass\n",
    "    except ValueError:\n",
    "        df.loc['Pressure9am'] = np.nan"
   ]
  },
  {
   "cell_type": "markdown",
   "metadata": {
    "id": "VaZR7ssqKDz6"
   },
   "source": [
    "Dilakukan pengecekan value error atau kondisi dimana di dalam kolom Pressure9am memuat data yang tidak sesuai tipenya dimana setelah itu value error tersebut akan digantikan dengan NaN."
   ]
  },
  {
   "cell_type": "code",
   "execution_count": 18,
   "metadata": {
    "id": "rYB1_LKyJzFL"
   },
   "outputs": [],
   "source": [
    "# mencari value error pada kolom Pressure3pm\n",
    "for row in df['Pressure3pm']:\n",
    "    try:\n",
    "        float(row)\n",
    "        pass\n",
    "    except ValueError:\n",
    "        df.loc['Pressure3pm'] = np.nan"
   ]
  },
  {
   "cell_type": "markdown",
   "metadata": {
    "id": "FoG8PTP4J_C6"
   },
   "source": [
    "Dilakukan pengecekan value error atau kondisi dimana di dalam kolom Pressure3pm memuat data yang tidak sesuai tipenya dimana setelah itu value error tersebut akan digantikan dengan NaN."
   ]
  },
  {
   "cell_type": "code",
   "execution_count": 19,
   "metadata": {
    "colab": {
     "base_uri": "https://localhost:8080/"
    },
    "id": "QU7G3Lp_502j",
    "outputId": "ec3dfb14-b192-466c-b09a-a3358f07d2ad"
   },
   "outputs": [
    {
     "data": {
      "text/plain": [
       "(145461, 9)"
      ]
     },
     "execution_count": 19,
     "metadata": {},
     "output_type": "execute_result"
    }
   ],
   "source": [
    "# menampilkan bentuk data\n",
    "df.shape"
   ]
  },
  {
   "cell_type": "markdown",
   "metadata": {
    "id": "r_bCCgPj53ae"
   },
   "source": [
    "Ditampilkan bentuk data untuk mengecek kembali seberapa banyak data yang dimuat dalam dataset ini yang mana nantinya akan digunakan untuk perbandingan jumlah data null dengan keseluruhan data. Output menunjukkan bahwa dataset ini memuat sebanyak 145462 dengan 7 buah kolom dari yang diassign dari dataset awal."
   ]
  },
  {
   "cell_type": "code",
   "execution_count": 20,
   "metadata": {
    "colab": {
     "base_uri": "https://localhost:8080/"
    },
    "id": "gGKv3QWQ6O8V",
    "outputId": "78d5fb41-026e-4956-d14f-de7a089761b6"
   },
   "outputs": [
    {
     "data": {
      "text/plain": [
       "MinTemp           1486\n",
       "MaxTemp           1262\n",
       "Rainfall          3262\n",
       "WindGustSpeed    10264\n",
       "Humidity9am       2655\n",
       "Humidity3pm       4508\n",
       "Pressure9am      15066\n",
       "Pressure3pm      15029\n",
       "RainTomorrow      3268\n",
       "dtype: int64"
      ]
     },
     "execution_count": 20,
     "metadata": {},
     "output_type": "execute_result"
    }
   ],
   "source": [
    "# check null values\n",
    "df.isna().sum()"
   ]
  },
  {
   "cell_type": "markdown",
   "metadata": {
    "id": "gNu1OObQ5FYq"
   },
   "source": [
    "Setelah dilakukan pengecekan value error, dicek kembali jumlah data null pada masing-masing kolom menggunakan fungsi `isna().sum()`."
   ]
  },
  {
   "cell_type": "code",
   "execution_count": 21,
   "metadata": {
    "colab": {
     "base_uri": "https://localhost:8080/"
    },
    "id": "dm0EH1D4dOjF",
    "outputId": "776a8651-a0bb-4669-bec2-70c1d40a696d"
   },
   "outputs": [
    {
     "data": {
      "text/plain": [
       "738"
      ]
     },
     "execution_count": 21,
     "metadata": {},
     "output_type": "execute_result"
    }
   ],
   "source": [
    "# memeriksa data duplicate\n",
    "\n",
    "df.duplicated().sum()"
   ]
  },
  {
   "cell_type": "markdown",
   "metadata": {
    "id": "y74JZlp8dYOu"
   },
   "source": [
    "Digunakan untuk memeriksa ada atau tidaknya data yang berulang atau duplicate."
   ]
  },
  {
   "cell_type": "code",
   "execution_count": 22,
   "metadata": {
    "id": "n5ulVjoZVlId"
   },
   "outputs": [],
   "source": [
    "# menghapus seluruh data duplikat kecuali data pertama.\n",
    "df.drop_duplicates(keep = 'first', inplace = True)"
   ]
  },
  {
   "cell_type": "markdown",
   "metadata": {
    "id": "htYV-KiPVmEZ"
   },
   "source": [
    "Dilakukan penghapusan data duplikat, namun untuk baris pertama dari sekumpulan data tersebut tetap disimpan."
   ]
  },
  {
   "cell_type": "code",
   "execution_count": 23,
   "metadata": {
    "colab": {
     "base_uri": "https://localhost:8080/"
    },
    "id": "AFhX8HNcV37a",
    "outputId": "c26ec573-79bd-4a5c-c697-8a0395730760"
   },
   "outputs": [
    {
     "data": {
      "text/plain": [
       "0"
      ]
     },
     "execution_count": 23,
     "metadata": {},
     "output_type": "execute_result"
    }
   ],
   "source": [
    "# memeriksa data duplicate\n",
    "\n",
    "df.duplicated().sum()"
   ]
  },
  {
   "cell_type": "markdown",
   "metadata": {
    "id": "ZM6CMhXyV4jU"
   },
   "source": [
    "Setelah dilakukan pembersihan data duplikat, dicek kembali apakah masih terdapat data yang berulang atau tidak."
   ]
  },
  {
   "cell_type": "code",
   "execution_count": 24,
   "metadata": {
    "colab": {
     "base_uri": "https://localhost:8080/",
     "height": 331
    },
    "id": "AeQBZgaz58FI",
    "outputId": "ca18cb78-8da7-4566-d1d3-aab1c2b95713"
   },
   "outputs": [
    {
     "data": {
      "text/html": [
       "<div>\n",
       "<style scoped>\n",
       "    .dataframe tbody tr th:only-of-type {\n",
       "        vertical-align: middle;\n",
       "    }\n",
       "\n",
       "    .dataframe tbody tr th {\n",
       "        vertical-align: top;\n",
       "    }\n",
       "\n",
       "    .dataframe thead th {\n",
       "        text-align: right;\n",
       "    }\n",
       "</style>\n",
       "<table border=\"1\" class=\"dataframe\">\n",
       "  <thead>\n",
       "    <tr style=\"text-align: right;\">\n",
       "      <th></th>\n",
       "      <th>percent_missing</th>\n",
       "    </tr>\n",
       "  </thead>\n",
       "  <tbody>\n",
       "    <tr>\n",
       "      <th>MinTemp</th>\n",
       "      <td>0.005175</td>\n",
       "    </tr>\n",
       "    <tr>\n",
       "      <th>MaxTemp</th>\n",
       "      <td>0.003669</td>\n",
       "    </tr>\n",
       "    <tr>\n",
       "      <th>Rainfall</th>\n",
       "      <td>0.017786</td>\n",
       "    </tr>\n",
       "    <tr>\n",
       "      <th>WindGustSpeed</th>\n",
       "      <td>0.068842</td>\n",
       "    </tr>\n",
       "    <tr>\n",
       "      <th>Humidity9am</th>\n",
       "      <td>0.013253</td>\n",
       "    </tr>\n",
       "    <tr>\n",
       "      <th>Humidity3pm</th>\n",
       "      <td>0.026064</td>\n",
       "    </tr>\n",
       "    <tr>\n",
       "      <th>Pressure9am</th>\n",
       "      <td>0.099003</td>\n",
       "    </tr>\n",
       "    <tr>\n",
       "      <th>Pressure3pm</th>\n",
       "      <td>0.098747</td>\n",
       "    </tr>\n",
       "    <tr>\n",
       "      <th>RainTomorrow</th>\n",
       "      <td>0.017841</td>\n",
       "    </tr>\n",
       "  </tbody>\n",
       "</table>\n",
       "</div>"
      ],
      "text/plain": [
       "               percent_missing\n",
       "MinTemp               0.005175\n",
       "MaxTemp               0.003669\n",
       "Rainfall              0.017786\n",
       "WindGustSpeed         0.068842\n",
       "Humidity9am           0.013253\n",
       "Humidity3pm           0.026064\n",
       "Pressure9am           0.099003\n",
       "Pressure3pm           0.098747\n",
       "RainTomorrow          0.017841"
      ]
     },
     "execution_count": 24,
     "metadata": {},
     "output_type": "execute_result"
    }
   ],
   "source": [
    "\n",
    "# melihat persen data null masing-masing kolom dari keseluruhan data\n",
    "percent_missing = (df.isnull().sum() / len(df)) * 100/100\n",
    "missing_value_df = pd.DataFrame({'percent_missing': percent_missing})\n",
    "missing_value_df"
   ]
  },
  {
   "cell_type": "markdown",
   "metadata": {
    "id": "FwX8bXKD5TtT"
   },
   "source": [
    "Menggunakan kode di atas, dihitung persentasi data null pada masing-masing kolom untuk membandingkan jumlahnya dari keseluruhan data."
   ]
  },
  {
   "cell_type": "code",
   "execution_count": 25,
   "metadata": {
    "id": "roLR6ue0CBlm"
   },
   "outputs": [],
   "source": [
    "# menghapus missing value\n",
    "df.dropna(inplace=True)"
   ]
  },
  {
   "cell_type": "markdown",
   "metadata": {
    "id": "Pw9feIXVCXgA"
   },
   "source": [
    "Dari hasil perhitungan persen data null sebelumnya, diputuskan untuk menghapus data null tersebut dikarenakan jumlahnya yang sedikit dan dianggap tidak akan berdampak besar pada proses membangun model. Menggunakan `dropna()` dilakukan penghapusan nilai NaN dengan parameter axis defaultnya adalah 0 dimana akan dilakukan penghapusan nilai NaN berdasarkan index atau baris. Sehingga, setelah dilakukan drop missing values, jumlah data akan berkurang."
   ]
  },
  {
   "cell_type": "code",
   "execution_count": 26,
   "metadata": {
    "colab": {
     "base_uri": "https://localhost:8080/"
    },
    "id": "-fdE9zGjCoGs",
    "outputId": "013d0b9c-e4dc-4e3b-fee1-2af32709d471"
   },
   "outputs": [
    {
     "data": {
      "text/plain": [
       "MinTemp          0\n",
       "MaxTemp          0\n",
       "Rainfall         0\n",
       "WindGustSpeed    0\n",
       "Humidity9am      0\n",
       "Humidity3pm      0\n",
       "Pressure9am      0\n",
       "Pressure3pm      0\n",
       "RainTomorrow     0\n",
       "dtype: int64"
      ]
     },
     "execution_count": 26,
     "metadata": {},
     "output_type": "execute_result"
    }
   ],
   "source": [
    "# memeriksa data null untuk masing-masing kolom\n",
    "df.isna().sum()"
   ]
  },
  {
   "cell_type": "markdown",
   "metadata": {
    "id": "wC0JwPfnCwAA"
   },
   "source": [
    "Setelah diperiksa kembali, dapat disimpulkan data telah bersih dari missing values."
   ]
  },
  {
   "cell_type": "markdown",
   "metadata": {
    "id": "PDC7k74IAxSx"
   },
   "source": [
    "# Eksplorasi Data (EDA)"
   ]
  },
  {
   "cell_type": "markdown",
   "metadata": {
    "id": "xpAs9YZzVRbw"
   },
   "source": [
    "Informasi mengenai statistik deskriptif dari set data dapat diketahui menggunakan fungsi `.describe()`. Informasi yang diperoleh adalah ringkasan mengenai ukuran pemusatan data (central tendency) dan ukuran penyebaran data (measure of spread) dari masing-masing kolom yang berisi nilai numerik pada set data. Pada kasus ini, kolom yang berisi nilai numerik adalah kolom **MinTemp**, **MaxTemp**, **Humidity9am**, **Humidity3pm, Pressure9am, Pressure3pm, Rainfall**, dan **WindGustSpeed**."
   ]
  },
  {
   "cell_type": "code",
   "execution_count": 27,
   "metadata": {
    "colab": {
     "base_uri": "https://localhost:8080/",
     "height": 300
    },
    "id": "WAX6l80g4cpz",
    "outputId": "43868cb2-71c5-4dea-ccf0-8793044c9686"
   },
   "outputs": [
    {
     "data": {
      "text/html": [
       "<div>\n",
       "<style scoped>\n",
       "    .dataframe tbody tr th:only-of-type {\n",
       "        vertical-align: middle;\n",
       "    }\n",
       "\n",
       "    .dataframe tbody tr th {\n",
       "        vertical-align: top;\n",
       "    }\n",
       "\n",
       "    .dataframe thead th {\n",
       "        text-align: right;\n",
       "    }\n",
       "</style>\n",
       "<table border=\"1\" class=\"dataframe\">\n",
       "  <thead>\n",
       "    <tr style=\"text-align: right;\">\n",
       "      <th></th>\n",
       "      <th>MinTemp</th>\n",
       "      <th>MaxTemp</th>\n",
       "      <th>Rainfall</th>\n",
       "      <th>WindGustSpeed</th>\n",
       "      <th>Humidity9am</th>\n",
       "      <th>Humidity3pm</th>\n",
       "      <th>Pressure9am</th>\n",
       "      <th>Pressure3pm</th>\n",
       "    </tr>\n",
       "  </thead>\n",
       "  <tbody>\n",
       "    <tr>\n",
       "      <th>count</th>\n",
       "      <td>119702.000000</td>\n",
       "      <td>119702.000000</td>\n",
       "      <td>119702.000000</td>\n",
       "      <td>119702.000000</td>\n",
       "      <td>119702.000000</td>\n",
       "      <td>119702.000000</td>\n",
       "      <td>119702.000000</td>\n",
       "      <td>119702.000000</td>\n",
       "    </tr>\n",
       "    <tr>\n",
       "      <th>mean</th>\n",
       "      <td>12.385212</td>\n",
       "      <td>23.485033</td>\n",
       "      <td>2.321648</td>\n",
       "      <td>40.105378</td>\n",
       "      <td>68.296353</td>\n",
       "      <td>50.868181</td>\n",
       "      <td>1017.656577</td>\n",
       "      <td>1015.253571</td>\n",
       "    </tr>\n",
       "    <tr>\n",
       "      <th>std</th>\n",
       "      <td>6.368509</td>\n",
       "      <td>6.986828</td>\n",
       "      <td>8.465288</td>\n",
       "      <td>13.480837</td>\n",
       "      <td>19.129024</td>\n",
       "      <td>20.692725</td>\n",
       "      <td>7.099444</td>\n",
       "      <td>7.020637</td>\n",
       "    </tr>\n",
       "    <tr>\n",
       "      <th>min</th>\n",
       "      <td>-8.200000</td>\n",
       "      <td>2.600000</td>\n",
       "      <td>0.000000</td>\n",
       "      <td>6.000000</td>\n",
       "      <td>0.000000</td>\n",
       "      <td>0.000000</td>\n",
       "      <td>980.500000</td>\n",
       "      <td>977.100000</td>\n",
       "    </tr>\n",
       "    <tr>\n",
       "      <th>25%</th>\n",
       "      <td>7.700000</td>\n",
       "      <td>18.100000</td>\n",
       "      <td>0.000000</td>\n",
       "      <td>31.000000</td>\n",
       "      <td>56.000000</td>\n",
       "      <td>36.000000</td>\n",
       "      <td>1013.000000</td>\n",
       "      <td>1010.500000</td>\n",
       "    </tr>\n",
       "    <tr>\n",
       "      <th>50%</th>\n",
       "      <td>12.100000</td>\n",
       "      <td>22.900000</td>\n",
       "      <td>0.000000</td>\n",
       "      <td>39.000000</td>\n",
       "      <td>69.000000</td>\n",
       "      <td>51.000000</td>\n",
       "      <td>1017.600000</td>\n",
       "      <td>1015.200000</td>\n",
       "    </tr>\n",
       "    <tr>\n",
       "      <th>75%</th>\n",
       "      <td>17.000000</td>\n",
       "      <td>28.500000</td>\n",
       "      <td>0.600000</td>\n",
       "      <td>48.000000</td>\n",
       "      <td>82.000000</td>\n",
       "      <td>65.000000</td>\n",
       "      <td>1022.400000</td>\n",
       "      <td>1020.000000</td>\n",
       "    </tr>\n",
       "    <tr>\n",
       "      <th>max</th>\n",
       "      <td>33.900000</td>\n",
       "      <td>48.100000</td>\n",
       "      <td>367.600000</td>\n",
       "      <td>135.000000</td>\n",
       "      <td>100.000000</td>\n",
       "      <td>100.000000</td>\n",
       "      <td>1041.000000</td>\n",
       "      <td>1039.600000</td>\n",
       "    </tr>\n",
       "  </tbody>\n",
       "</table>\n",
       "</div>"
      ],
      "text/plain": [
       "             MinTemp        MaxTemp       Rainfall  WindGustSpeed  \\\n",
       "count  119702.000000  119702.000000  119702.000000  119702.000000   \n",
       "mean       12.385212      23.485033       2.321648      40.105378   \n",
       "std         6.368509       6.986828       8.465288      13.480837   \n",
       "min        -8.200000       2.600000       0.000000       6.000000   \n",
       "25%         7.700000      18.100000       0.000000      31.000000   \n",
       "50%        12.100000      22.900000       0.000000      39.000000   \n",
       "75%        17.000000      28.500000       0.600000      48.000000   \n",
       "max        33.900000      48.100000     367.600000     135.000000   \n",
       "\n",
       "         Humidity9am    Humidity3pm    Pressure9am    Pressure3pm  \n",
       "count  119702.000000  119702.000000  119702.000000  119702.000000  \n",
       "mean       68.296353      50.868181    1017.656577    1015.253571  \n",
       "std        19.129024      20.692725       7.099444       7.020637  \n",
       "min         0.000000       0.000000     980.500000     977.100000  \n",
       "25%        56.000000      36.000000    1013.000000    1010.500000  \n",
       "50%        69.000000      51.000000    1017.600000    1015.200000  \n",
       "75%        82.000000      65.000000    1022.400000    1020.000000  \n",
       "max       100.000000     100.000000    1041.000000    1039.600000  "
      ]
     },
     "execution_count": 27,
     "metadata": {},
     "output_type": "execute_result"
    }
   ],
   "source": [
    "df.describe()"
   ]
  },
  {
   "cell_type": "markdown",
   "metadata": {
    "id": "l1G9wpIIWZSg"
   },
   "source": [
    "Untuk mengetahui frekuensi nilai **Yes** dan **No** pada kolom `RainTomorrow` digunakan fungsi `.value_counts()`"
   ]
  },
  {
   "cell_type": "code",
   "execution_count": 28,
   "metadata": {
    "colab": {
     "base_uri": "https://localhost:8080/"
    },
    "id": "yuJrF4GZ6lCr",
    "outputId": "207e8030-1b1a-42b8-da90-69469c0e0a32"
   },
   "outputs": [
    {
     "data": {
      "text/plain": [
       "No     93483\n",
       "Yes    26219\n",
       "Name: RainTomorrow, dtype: int64"
      ]
     },
     "execution_count": 28,
     "metadata": {},
     "output_type": "execute_result"
    }
   ],
   "source": [
    "df['RainTomorrow'].value_counts()"
   ]
  },
  {
   "cell_type": "markdown",
   "metadata": {
    "id": "be_x98HGWh4Z"
   },
   "source": [
    "Berdasarkan hasil tersebut, dapat terlihat bahwa nilai/value **No** lebih besar daripada nilai/value **Yes**."
   ]
  },
  {
   "cell_type": "markdown",
   "metadata": {
    "id": "_LWxvyMZYfQB"
   },
   "source": [
    "Visualisasi frekuensi nilai pada kolom `RainTomorrow` dapat ditampilkan menggunakan fungsi `.plot()` dengan argumen yang disesuaikan.\n",
    "\n",
    "* `kind=''`: mendefinsikan jenis plot yang digunakan yaitu pie\n",
    "* `figsize=()`: mendefinisikan ukuran plot\n",
    "* `autopct=''`: menambahkan teks presentase\n",
    "* `shadow=True`: menambahkan bayangan pada plot\n",
    "* `colors=''`: memberikan warna tertentu pada chart\n",
    "* `explode=''`: memberikan jarak pada masing-masing slice pada chart\n",
    "\n",
    "Untuk menambahkan keterangan pada plot, dapat digunakan fungsi sebagai berikut:\n",
    "\n",
    "* `plt.title()`: memberi judul pada plot\n",
    "* `size=`: mengatur ukuran teks"
   ]
  },
  {
   "cell_type": "code",
   "execution_count": 29,
   "metadata": {
    "colab": {
     "base_uri": "https://localhost:8080/",
     "height": 444
    },
    "id": "oCl7pOB56k_g",
    "outputId": "67b288fd-1919-44ad-809d-395e0a07398b"
   },
   "outputs": [
    {
     "data": {
      "image/png": "[encoded data removed]",
      "text/plain": [
       "<Figure size 360x360 with 1 Axes>"
      ]
     },
     "metadata": {},
     "output_type": "display_data"
    }
   ],
   "source": [
    "df['RainTomorrow'].value_counts().plot(kind='pie',figsize=(5,5),autopct='%1.1f%%',colors=['lightgreen','gold'],shadow=True,explode=[0.1,0.04])\n",
    "plt.title('Yes vs No', size=13)\n",
    "plt.show()"
   ]
  },
  {
   "cell_type": "markdown",
   "metadata": {
    "id": "Ihm4g5BKYeEy"
   },
   "source": [
    "Berdasarkan plot, dapat diketahui bahwa sebanyak 77.9% data pada kolom `RainTomorrow` bernilai **No**, sedangkan sisanya yaitu 22.1% bernilai **Yes**. Data dengan proporsi tidak seimbang dinamakan imbalanced data dan perlu ditangani."
   ]
  },
  {
   "cell_type": "markdown",
   "metadata": {
    "id": "07yNSITEbRt8"
   },
   "source": [
    "Pengecekan terhadap outlier pada set data dapat dilakukan menggunakan diagnostic plots dengan jenis plot histogram dan boxplot."
   ]
  },
  {
   "cell_type": "code",
   "execution_count": 30,
   "metadata": {
    "id": "eN3qecBAb7tU"
   },
   "outputs": [],
   "source": [
    "def diagnostic_plots(df,variable):\n",
    "    plt.figure(figsize=(16,4))\n",
    "    \n",
    "    #Histogram\n",
    "    plt.subplot(1,2,1)\n",
    "    sns.histplot(df[variable],bins=30)\n",
    "    plt.title('Histogram')\n",
    "    \n",
    "    # Boxplot\n",
    "    plt.subplot(1,2,2)\n",
    "    sns.boxplot(y=df[variable])\n",
    "    plt.title('Boxplot')\n",
    "    \n",
    "    plt.show()"
   ]
  },
  {
   "cell_type": "code",
   "execution_count": 31,
   "metadata": {
    "colab": {
     "base_uri": "https://localhost:8080/",
     "height": 1000
    },
    "id": "38B4qyeK9Nxc",
    "outputId": "4f57b3fb-3853-44ed-cf43-b3995215c793"
   },
   "outputs": [
    {
     "data": {
      "image/png": "[encoded data removed]",
      "text/plain": [
       "<Figure size 1152x288 with 2 Axes>"
      ]
     },
     "metadata": {
      "needs_background": "light"
     },
     "output_type": "display_data"
    },
    {
     "data": {
      "image/png": "[encoded data removed]",
      "text/plain": [
       "<Figure size 1152x288 with 2 Axes>"
      ]
     },
     "metadata": {
      "needs_background": "light"
     },
     "output_type": "display_data"
    },
    {
     "data": {
      "image/png": "[encoded data removed]",
      "text/plain": [
       "<Figure size 1152x288 with 2 Axes>"
      ]
     },
     "metadata": {
      "needs_background": "light"
     },
     "output_type": "display_data"
    },
    {
     "data": {
      "image/png": "[encoded data removed]",
      "text/plain": [
       "<Figure size 1152x288 with 2 Axes>"
      ]
     },
     "metadata": {
      "needs_background": "light"
     },
     "output_type": "display_data"
    },
    {
     "data": {
      "image/png": "[encoded data removed]",
      "text/plain": [
       "<Figure size 1152x288 with 2 Axes>"
      ]
     },
     "metadata": {
      "needs_background": "light"
     },
     "output_type": "display_data"
    },
    {
     "data": {
      "image/png": "[encoded data removed]",
      "text/plain": [
       "<Figure size 1152x288 with 2 Axes>"
      ]
     },
     "metadata": {
      "needs_background": "light"
     },
     "output_type": "display_data"
    },
    {
     "data": {
      "image/png": "[encoded data removed]",
      "text/plain": [
       "<Figure size 1152x288 with 2 Axes>"
      ]
     },
     "metadata": {
      "needs_background": "light"
     },
     "output_type": "display_data"
    },
    {
     "data": {
      "image/png": "[encoded data removed]",
      "text/plain": [
       "<Figure size 1152x288 with 2 Axes>"
      ]
     },
     "metadata": {
      "needs_background": "light"
     },
     "output_type": "display_data"
    }
   ],
   "source": [
    "diagnostic_plots(df, 'MinTemp')\n",
    "diagnostic_plots(df, 'MaxTemp')\n",
    "diagnostic_plots(df, 'Rainfall')\n",
    "diagnostic_plots(df, 'WindGustSpeed')\n",
    "diagnostic_plots(df, 'Humidity9am')\n",
    "diagnostic_plots(df, 'Humidity3pm')\n",
    "diagnostic_plots(df, 'Pressure9am')\n",
    "diagnostic_plots(df, 'Pressure3pm')"
   ]
  },
  {
   "cell_type": "markdown",
   "metadata": {
    "id": "azGipy36xYzy"
   },
   "source": [
    "Berdasarkan diagnostic plots diatas, dapat diketahui beberapa informasi sebagai berikut:\n",
    "\n",
    ">*   Distribusi/sebaran data pada kolom **MinTemp** cenderung simetris. Hal ini dapat diketahui melalui garis median pada boxplot yang berada di tengah kotak dan panjang whisker bawah sama dengan panjang whisker bawah. Selain itu, bentuk histogram mengikuti bentuk lonceng. Namun, data pada kolom tersebut memiliki outliers.\n",
    ">*   Distribusi/sebaran data pada kolom **MaxTemp** cenderung simetris. Hal ini dapat diketahui melalui garis median pada boxplot yang berada di tengah kotak dan panjang whisker bawah sama dengan panjang whisker bawah. Selain itu, bentuk histogram mengikuti bentuk lonceng. Namun, data pada kolom tersebut memiliki outliers.\n",
    ">*   Distribusi/sebaran data pada kolom **Rainfall** miring ke kanan (positive skewed) ekstrim. Hal ini dapat diketahui melalui garis median yang berada tidak di tengah kotak dan whisker atas lebih panjang daripada whisker bawah. Selain itu, bentuk histogram tidak mengikuti bentuk lonceng. Terdapat banyak outliers pada data.\n",
    ">*   Distribusi/sebaran data pada kolom **WindGustSpeed** cenderung miring ke kanan (positive skewed). Hal ini dapat diketahui melalui garis median yang berada di tengah kotak dan panjang whisker atas sama dengan panjang whisker bawah. Namun, pada data terdapat banyak outliers di atas nilai maksimum sehingga sebaran data cenderung miring ke kanan. Selain itu, bentuk histogram tidak mengikuti bentuk lonceng.\n",
    ">*   Distribusi/sebaran data pada kolom **Humidity9am** cenderung miring ke kiri (negative skewed). Hal ini dapat diketahui melalui garis median yang berada di tengah kotak tetapi panjang whisker bawah lebih panjang daripada whisker atas. Pada data terdapat banyak outliers yang letaknya di bawah nilai minimum sehingga menyebabkan sebaran data cenderung miring ke kiri. Selain itu, bentuk histogram tidak mengikuti bentuk lonceng.\n",
    ">*  Distribusi/sebaran data pada kolom **Humidity3pm** simetris. Hal ini dapat diketahui melalui garis median pada boxplot yang berada di tengah kotak dan panjang whisker bawah sama dengan panjang whisker bawah. Selain itu, bentuk histogram mengikuti bentuk lonceng. Tidak ditemukan nilai outliers pada data.\n",
    ">*   Distribusi/sebaran data pada kolom **Pressure9am** cenderung miring ke kiri (negative skewed). Hal ini dapat diketahui melalui garis median yang berada di tengah kotak tetapi panjang whisker bawah lebih panjang daripada whisker atas. Pada data terdapat banyak outliers yang letaknya di bawah nilai minimum sehingga menyebabkan sebaran data cenderung miring ke kiri. Selain itu, bentuk histogram tidak mengikuti bentuk lonceng.\n",
    ">*   Distribusi/sebaran data pada kolom **Pressure3pm** cenderung miring ke kiri (negative skewed). Hal ini dapat diketahui melalui garis median yang berada di tengah kotak tetapi panjang whisker bawah lebih panjang daripada whisker atas. Pada data terdapat banyak outliers yang letaknya di bawah nilai minimum sehingga menyebabkan sebaran data cenderung miring ke kiri. Selain itu, bentuk histogram tidak mengikuti bentuk lonceng."
   ]
  },
  {
   "cell_type": "markdown",
   "metadata": {
    "id": "nrGEc6l7A8am"
   },
   "source": [
    "Jika ingin diketahui tingkat kemiringan data, dapat digunakan fungsi `.skew()`. Nilai koefisien skewness dapat digunakan untuk mengetahui kemiringan distribusi/sebaran data.\n",
    "1. Koefisien skewness < nol : distribusi negative (mean < median < modus)\n",
    "2. Koefisien skewness = nol : distribusi simetris (mean = median = modus)\n",
    "3. Koefisien skewness > nol : distribusi positive (mean > median > modus)"
   ]
  },
  {
   "cell_type": "code",
   "execution_count": 32,
   "metadata": {
    "colab": {
     "base_uri": "https://localhost:8080/"
    },
    "id": "zTNTa9otFls3",
    "outputId": "b3167195-9da3-4be4-8a99-849c04cd6f60"
   },
   "outputs": [
    {
     "name": "stdout",
     "output_type": "stream",
     "text": [
      "Skewness of MinTemp\t\t: 0.06237258465761144\n",
      "Skewness of Max Temp\t\t: 0.31905296927322363\n",
      "Skewness of Rainfall\t\t: 9.721496673513911\n",
      "Skewness of WindGustSpeed\t: 0.8808927284832081\n",
      "Skewness of Humidity9am\t\t: -0.4747099160871263\n",
      "Skewness of Humidity3am\t\t: 0.01739443145721476\n",
      "Skewness of Pressure9am\t\t: -0.09984086326383623\n",
      "Skewness pf Pressure3am\t\t: -0.049787423854261985\n"
     ]
    }
   ],
   "source": [
    "print('Skewness of MinTemp\\t\\t:', df.MinTemp.skew())\n",
    "print('Skewness of Max Temp\\t\\t:', df.MaxTemp.skew())\n",
    "print('Skewness of Rainfall\\t\\t:', df.Rainfall.skew())\n",
    "print('Skewness of WindGustSpeed\\t:', df.WindGustSpeed.skew())\n",
    "print('Skewness of Humidity9am\\t\\t:', df.Humidity9am.skew())\n",
    "print('Skewness of Humidity3am\\t\\t:', df.Humidity3pm.skew())\n",
    "print('Skewness of Pressure9am\\t\\t:', df.Pressure9am.skew())\n",
    "print('Skewness pf Pressure3am\\t\\t:', df.Pressure3pm.skew())"
   ]
  },
  {
   "cell_type": "markdown",
   "metadata": {
    "id": "r318277k2UrR"
   },
   "source": [
    "Berdasarkan hasil tersebut, dapat diperoleh informasi bahwa:\n",
    "\n",
    ">* Kolom **MinTemp**, **MaxTemp** dan **Humidity3am** cenderung simetris karena koefisien skewness-nya mendekati nilai 0\n",
    ">* Kolom **Rainfall** miring ke kanan (positive skewed) karena memiliki koefisien skewness lebih besar daripada nilai 0. Kolom **WindGustSpeed** juga cenderung miring ke kanan (positive skewed) karena memiliki koefisien skewed mendekati nilai 1 yang mana lebih besar daripada nilai 0\n",
    ">* Kolom **Humidity9am**, **Pressure9am**, dan **Pressure3am** cenderung miring ke kiri (negative skewed) karena memiliki koefisien skewness kurang dari nilai 0"
   ]
  },
  {
   "cell_type": "markdown",
   "metadata": {
    "id": "OZ1ahoDvBdjM"
   },
   "source": [
    "Korelasi antar kolom data target terhadap data label dapat dicari menggunakan fungsi `.corr()`. Namun, kolom data target harus di-encode terlebih dahulu karena data target merupakan data kategorik. Pada kolom `RainTomorrow` dilakukan proses encode menggunakan `LabelEncoder` untuk mengubah data kategorik menjadi numerik dengan keterangan:\n",
    "\n",
    "* No : 0\n",
    "* Yes : 1"
   ]
  },
  {
   "cell_type": "code",
   "execution_count": 33,
   "metadata": {
    "colab": {
     "base_uri": "https://localhost:8080/",
     "height": 206
    },
    "id": "j3_9umZNF53H",
    "outputId": "0ee2c08b-c10c-4ac9-838b-a02359f63780"
   },
   "outputs": [
    {
     "data": {
      "text/html": [
       "<div>\n",
       "<style scoped>\n",
       "    .dataframe tbody tr th:only-of-type {\n",
       "        vertical-align: middle;\n",
       "    }\n",
       "\n",
       "    .dataframe tbody tr th {\n",
       "        vertical-align: top;\n",
       "    }\n",
       "\n",
       "    .dataframe thead th {\n",
       "        text-align: right;\n",
       "    }\n",
       "</style>\n",
       "<table border=\"1\" class=\"dataframe\">\n",
       "  <thead>\n",
       "    <tr style=\"text-align: right;\">\n",
       "      <th></th>\n",
       "      <th>MinTemp</th>\n",
       "      <th>MaxTemp</th>\n",
       "      <th>Rainfall</th>\n",
       "      <th>WindGustSpeed</th>\n",
       "      <th>Humidity9am</th>\n",
       "      <th>Humidity3pm</th>\n",
       "      <th>Pressure9am</th>\n",
       "      <th>Pressure3pm</th>\n",
       "      <th>RainTomorrow</th>\n",
       "    </tr>\n",
       "  </thead>\n",
       "  <tbody>\n",
       "    <tr>\n",
       "      <th>0</th>\n",
       "      <td>13.4</td>\n",
       "      <td>22.9</td>\n",
       "      <td>0.6</td>\n",
       "      <td>44.0</td>\n",
       "      <td>71.0</td>\n",
       "      <td>22.0</td>\n",
       "      <td>1007.7</td>\n",
       "      <td>1007.1</td>\n",
       "      <td>0</td>\n",
       "    </tr>\n",
       "    <tr>\n",
       "      <th>1</th>\n",
       "      <td>7.4</td>\n",
       "      <td>25.1</td>\n",
       "      <td>0.0</td>\n",
       "      <td>44.0</td>\n",
       "      <td>44.0</td>\n",
       "      <td>25.0</td>\n",
       "      <td>1010.6</td>\n",
       "      <td>1007.8</td>\n",
       "      <td>0</td>\n",
       "    </tr>\n",
       "    <tr>\n",
       "      <th>2</th>\n",
       "      <td>12.9</td>\n",
       "      <td>25.7</td>\n",
       "      <td>0.0</td>\n",
       "      <td>46.0</td>\n",
       "      <td>38.0</td>\n",
       "      <td>30.0</td>\n",
       "      <td>1007.6</td>\n",
       "      <td>1008.7</td>\n",
       "      <td>0</td>\n",
       "    </tr>\n",
       "    <tr>\n",
       "      <th>3</th>\n",
       "      <td>9.2</td>\n",
       "      <td>28.0</td>\n",
       "      <td>0.0</td>\n",
       "      <td>24.0</td>\n",
       "      <td>45.0</td>\n",
       "      <td>16.0</td>\n",
       "      <td>1017.6</td>\n",
       "      <td>1012.8</td>\n",
       "      <td>0</td>\n",
       "    </tr>\n",
       "    <tr>\n",
       "      <th>4</th>\n",
       "      <td>17.5</td>\n",
       "      <td>32.3</td>\n",
       "      <td>1.0</td>\n",
       "      <td>41.0</td>\n",
       "      <td>82.0</td>\n",
       "      <td>33.0</td>\n",
       "      <td>1010.8</td>\n",
       "      <td>1006.0</td>\n",
       "      <td>0</td>\n",
       "    </tr>\n",
       "  </tbody>\n",
       "</table>\n",
       "</div>"
      ],
      "text/plain": [
       "   MinTemp  MaxTemp  Rainfall  WindGustSpeed  Humidity9am  Humidity3pm  \\\n",
       "0     13.4     22.9       0.6           44.0         71.0         22.0   \n",
       "1      7.4     25.1       0.0           44.0         44.0         25.0   \n",
       "2     12.9     25.7       0.0           46.0         38.0         30.0   \n",
       "3      9.2     28.0       0.0           24.0         45.0         16.0   \n",
       "4     17.5     32.3       1.0           41.0         82.0         33.0   \n",
       "\n",
       "   Pressure9am  Pressure3pm  RainTomorrow  \n",
       "0       1007.7       1007.1             0  \n",
       "1       1010.6       1007.8             0  \n",
       "2       1007.6       1008.7             0  \n",
       "3       1017.6       1012.8             0  \n",
       "4       1010.8       1006.0             0  "
      ]
     },
     "execution_count": 33,
     "metadata": {},
     "output_type": "execute_result"
    }
   ],
   "source": [
    "le = LabelEncoder()\n",
    "\n",
    "df[['RainTomorrow']] = df[['RainTomorrow']].apply(le.fit_transform)\n",
    "df.head()"
   ]
  },
  {
   "cell_type": "code",
   "execution_count": 34,
   "metadata": {
    "colab": {
     "base_uri": "https://localhost:8080/",
     "height": 331
    },
    "id": "2aXkHL2G9Nij",
    "outputId": "f8ce7ff0-d670-45cc-81d3-a79d5987f809"
   },
   "outputs": [
    {
     "data": {
      "text/html": [
       "<div>\n",
       "<style scoped>\n",
       "    .dataframe tbody tr th:only-of-type {\n",
       "        vertical-align: middle;\n",
       "    }\n",
       "\n",
       "    .dataframe tbody tr th {\n",
       "        vertical-align: top;\n",
       "    }\n",
       "\n",
       "    .dataframe thead th {\n",
       "        text-align: right;\n",
       "    }\n",
       "</style>\n",
       "<table border=\"1\" class=\"dataframe\">\n",
       "  <thead>\n",
       "    <tr style=\"text-align: right;\">\n",
       "      <th></th>\n",
       "      <th>MinTemp</th>\n",
       "      <th>MaxTemp</th>\n",
       "      <th>Rainfall</th>\n",
       "      <th>WindGustSpeed</th>\n",
       "      <th>Humidity9am</th>\n",
       "      <th>Humidity3pm</th>\n",
       "      <th>Pressure9am</th>\n",
       "      <th>Pressure3pm</th>\n",
       "      <th>RainTomorrow</th>\n",
       "    </tr>\n",
       "  </thead>\n",
       "  <tbody>\n",
       "    <tr>\n",
       "      <th>MinTemp</th>\n",
       "      <td>1.000000</td>\n",
       "      <td>0.730855</td>\n",
       "      <td>0.111308</td>\n",
       "      <td>0.196356</td>\n",
       "      <td>-0.246102</td>\n",
       "      <td>0.022174</td>\n",
       "      <td>-0.452415</td>\n",
       "      <td>-0.463049</td>\n",
       "      <td>0.088265</td>\n",
       "    </tr>\n",
       "    <tr>\n",
       "      <th>MaxTemp</th>\n",
       "      <td>0.730855</td>\n",
       "      <td>1.000000</td>\n",
       "      <td>-0.069747</td>\n",
       "      <td>0.089228</td>\n",
       "      <td>-0.523961</td>\n",
       "      <td>-0.498623</td>\n",
       "      <td>-0.329705</td>\n",
       "      <td>-0.423383</td>\n",
       "      <td>-0.160101</td>\n",
       "    </tr>\n",
       "    <tr>\n",
       "      <th>Rainfall</th>\n",
       "      <td>0.111308</td>\n",
       "      <td>-0.069747</td>\n",
       "      <td>1.000000</td>\n",
       "      <td>0.132212</td>\n",
       "      <td>0.225419</td>\n",
       "      <td>0.256583</td>\n",
       "      <td>-0.170200</td>\n",
       "      <td>-0.130010</td>\n",
       "      <td>0.237933</td>\n",
       "    </tr>\n",
       "    <tr>\n",
       "      <th>WindGustSpeed</th>\n",
       "      <td>0.196356</td>\n",
       "      <td>0.089228</td>\n",
       "      <td>0.132212</td>\n",
       "      <td>1.000000</td>\n",
       "      <td>-0.219944</td>\n",
       "      <td>-0.035684</td>\n",
       "      <td>-0.458399</td>\n",
       "      <td>-0.414344</td>\n",
       "      <td>0.235978</td>\n",
       "    </tr>\n",
       "    <tr>\n",
       "      <th>Humidity9am</th>\n",
       "      <td>-0.246102</td>\n",
       "      <td>-0.523961</td>\n",
       "      <td>0.225419</td>\n",
       "      <td>-0.219944</td>\n",
       "      <td>1.000000</td>\n",
       "      <td>0.675076</td>\n",
       "      <td>0.141881</td>\n",
       "      <td>0.189343</td>\n",
       "      <td>0.261301</td>\n",
       "    </tr>\n",
       "    <tr>\n",
       "      <th>Humidity3pm</th>\n",
       "      <td>0.022174</td>\n",
       "      <td>-0.498623</td>\n",
       "      <td>0.256583</td>\n",
       "      <td>-0.035684</td>\n",
       "      <td>0.675076</td>\n",
       "      <td>1.000000</td>\n",
       "      <td>-0.027535</td>\n",
       "      <td>0.051349</td>\n",
       "      <td>0.452725</td>\n",
       "    </tr>\n",
       "    <tr>\n",
       "      <th>Pressure9am</th>\n",
       "      <td>-0.452415</td>\n",
       "      <td>-0.329705</td>\n",
       "      <td>-0.170200</td>\n",
       "      <td>-0.458399</td>\n",
       "      <td>0.141881</td>\n",
       "      <td>-0.027535</td>\n",
       "      <td>1.000000</td>\n",
       "      <td>0.961660</td>\n",
       "      <td>-0.246628</td>\n",
       "    </tr>\n",
       "    <tr>\n",
       "      <th>Pressure3pm</th>\n",
       "      <td>-0.463049</td>\n",
       "      <td>-0.423383</td>\n",
       "      <td>-0.130010</td>\n",
       "      <td>-0.414344</td>\n",
       "      <td>0.189343</td>\n",
       "      <td>0.051349</td>\n",
       "      <td>0.961660</td>\n",
       "      <td>1.000000</td>\n",
       "      <td>-0.228353</td>\n",
       "    </tr>\n",
       "    <tr>\n",
       "      <th>RainTomorrow</th>\n",
       "      <td>0.088265</td>\n",
       "      <td>-0.160101</td>\n",
       "      <td>0.237933</td>\n",
       "      <td>0.235978</td>\n",
       "      <td>0.261301</td>\n",
       "      <td>0.452725</td>\n",
       "      <td>-0.246628</td>\n",
       "      <td>-0.228353</td>\n",
       "      <td>1.000000</td>\n",
       "    </tr>\n",
       "  </tbody>\n",
       "</table>\n",
       "</div>"
      ],
      "text/plain": [
       "                MinTemp   MaxTemp  Rainfall  WindGustSpeed  Humidity9am  \\\n",
       "MinTemp        1.000000  0.730855  0.111308       0.196356    -0.246102   \n",
       "MaxTemp        0.730855  1.000000 -0.069747       0.089228    -0.523961   \n",
       "Rainfall       0.111308 -0.069747  1.000000       0.132212     0.225419   \n",
       "WindGustSpeed  0.196356  0.089228  0.132212       1.000000    -0.219944   \n",
       "Humidity9am   -0.246102 -0.523961  0.225419      -0.219944     1.000000   \n",
       "Humidity3pm    0.022174 -0.498623  0.256583      -0.035684     0.675076   \n",
       "Pressure9am   -0.452415 -0.329705 -0.170200      -0.458399     0.141881   \n",
       "Pressure3pm   -0.463049 -0.423383 -0.130010      -0.414344     0.189343   \n",
       "RainTomorrow   0.088265 -0.160101  0.237933       0.235978     0.261301   \n",
       "\n",
       "               Humidity3pm  Pressure9am  Pressure3pm  RainTomorrow  \n",
       "MinTemp           0.022174    -0.452415    -0.463049      0.088265  \n",
       "MaxTemp          -0.498623    -0.329705    -0.423383     -0.160101  \n",
       "Rainfall          0.256583    -0.170200    -0.130010      0.237933  \n",
       "WindGustSpeed    -0.035684    -0.458399    -0.414344      0.235978  \n",
       "Humidity9am       0.675076     0.141881     0.189343      0.261301  \n",
       "Humidity3pm       1.000000    -0.027535     0.051349      0.452725  \n",
       "Pressure9am      -0.027535     1.000000     0.961660     -0.246628  \n",
       "Pressure3pm       0.051349     0.961660     1.000000     -0.228353  \n",
       "RainTomorrow      0.452725    -0.246628    -0.228353      1.000000  "
      ]
     },
     "execution_count": 34,
     "metadata": {},
     "output_type": "execute_result"
    }
   ],
   "source": [
    "df.corr()"
   ]
  },
  {
   "cell_type": "markdown",
   "metadata": {
    "id": "NNPK6XmhBiBj"
   },
   "source": [
    "Jika ingin diketahui visualisasi dari korelasi antar kolom, maka dapat digunakan plot jenis heatmap yang didapatkan menggunakan fungsi `sns.heatmap()`."
   ]
  },
  {
   "cell_type": "code",
   "execution_count": 90,
   "metadata": {
    "colab": {
     "base_uri": "https://localhost:8080/",
     "height": 550
    },
    "id": "3OAXKgwI_wvM",
    "outputId": "9aa9c39a-9242-4e6b-b8be-59792f1a5a5f"
   },
   "outputs": [
    {
     "data": {
      "image/png": "[encoded data removed]",
      "text/plain": [
       "<Figure size 576x576 with 2 Axes>"
      ]
     },
     "metadata": {
      "needs_background": "light"
     },
     "output_type": "display_data"
    }
   ],
   "source": [
    "fig, ax = plt.subplots(figsize=(8,8))  \n",
    "sns.heatmap(df.corr(),annot=True)\n",
    "plt.show()"
   ]
  },
  {
   "cell_type": "markdown",
   "metadata": {
    "id": "Fb--eTuWHGc7"
   },
   "source": [
    "Berdasarkan plot, dapat diketahui bahwa korelasi paling tinggi kolom data target dengan kolom data label bernilai 0.45 yaitu kolom `RainTomorrow` dengan kolom `Humidity3pm`."
   ]
  },
  {
   "cell_type": "markdown",
   "metadata": {
    "id": "1iI2NTRZFvA-"
   },
   "source": [
    "# Pre-Processing Data"
   ]
  },
  {
   "cell_type": "markdown",
   "metadata": {
    "id": "mRjWvcqkzw06"
   },
   "source": [
    "## Encode Data\n",
    "\n",
    "Proses encode data target telah dilakukan pada proses sebelumnya yaitu EDA untuk mencari nilai korelasi antar kolom.\n",
    "\n",
    "Dari proses encode data, diperoleh hasil:\n",
    "\n",
    "\n",
    "*   0: data **No**\n",
    "*   1: data **Yes**\n"
   ]
  },
  {
   "cell_type": "markdown",
   "metadata": {
    "id": "FCCfeTx1BR8-"
   },
   "source": [
    "## Splitting Data"
   ]
  },
  {
   "cell_type": "markdown",
   "metadata": {
    "id": "clApYfTPCI1p"
   },
   "source": [
    "Splitting data dilakukan untuk membagi data menjadi 2 set/bagian yaitu training set dan test set. Pembagian data training dan data testing dilakukan secara acak. Data training digunakan untuk melatih model, sedangkan data testing digunakan untuk mengevaluasi model. Sebelum dilakukan proses splitting data, masing-masing data feature dan data label perlu didefinisikan terlebih dahulu.\n",
    "\n",
    "* X : data feature\n",
    "* y : data label"
   ]
  },
  {
   "cell_type": "code",
   "execution_count": 36,
   "metadata": {
    "id": "ZCgA1FKVEjR5"
   },
   "outputs": [],
   "source": [
    "X = df.drop(columns='RainTomorrow',axis=1)\n",
    "y = df['RainTomorrow']"
   ]
  },
  {
   "cell_type": "markdown",
   "metadata": {
    "id": "YugAFk2tCYJO"
   },
   "source": [
    "Setelah data feature dan data label didefinisikan, dilakukan proses standarisasi data menggunakan fungsi `StandardScaler()`."
   ]
  },
  {
   "cell_type": "code",
   "execution_count": 37,
   "metadata": {
    "id": "umxTpHcQEjOl"
   },
   "outputs": [],
   "source": [
    "scaler = StandardScaler()\n",
    "X = scaler.fit_transform(X)"
   ]
  },
  {
   "cell_type": "markdown",
   "metadata": {
    "id": "GdzoBBu32c2V"
   },
   "source": [
    "Untuk mengatasi adanya imbalanced data, data perlu di-resampling menggunakan metode SMOTE. Metode SMOTE merupakan suatu metode re-sampling untuk menyeimbangkan set data dengan cara  menambah sampel kelas minoritas dengan cara mensintesis data baru berdasarkan metode k-nearest neighbour."
   ]
  },
  {
   "cell_type": "code",
   "execution_count": 38,
   "metadata": {
    "colab": {
     "base_uri": "https://localhost:8080/"
    },
    "id": "wyrxMUTM0fQK",
    "outputId": "3153593d-b3bb-41ab-9d06-9638b99aec51"
   },
   "outputs": [
    {
     "name": "stdout",
     "output_type": "stream",
     "text": [
      "Original dataset shape 0    93483\n",
      "1    26219\n",
      "Name: RainTomorrow, dtype: int64\n",
      " \n",
      "Resample dataset shape 0    93483\n",
      "1    93483\n",
      "Name: RainTomorrow, dtype: int64\n"
     ]
    }
   ],
   "source": [
    "smote = SMOTE(random_state=13)\n",
    "\n",
    "# fit predictor and target variable\n",
    "X_smote, y_smote = smote.fit_resample(X, y)\n",
    "\n",
    "print('Original dataset shape', y.value_counts())\n",
    "print(' ')\n",
    "print('Resample dataset shape', y_smote.value_counts())"
   ]
  },
  {
   "cell_type": "markdown",
   "metadata": {
    "id": "mUSehGaNCQjR"
   },
   "source": [
    "Proses splitting data dapat menggunakan fungsi `train_test_split()` dengan parameter:\n",
    "\n",
    "- X : data feature\n",
    "- y : data label\n",
    "- test_size : ukuran test data yaitu 30%\n",
    "- random_state : digunakan agar saat proses running ulang data tidak berubah-ubah"
   ]
  },
  {
   "cell_type": "code",
   "execution_count": 39,
   "metadata": {
    "id": "pvQhS3iiEjLl"
   },
   "outputs": [],
   "source": [
    "# train 70%, test 30%\n",
    "\n",
    "X_train, X_test, y_train, y_test = train_test_split(X_smote, y_smote, test_size=0.3, random_state=0)"
   ]
  },
  {
   "cell_type": "code",
   "execution_count": 40,
   "metadata": {
    "colab": {
     "base_uri": "https://localhost:8080/"
    },
    "id": "uRDiRxTKEjIM",
    "outputId": "ffdf8ab4-832f-4b88-aa8b-ffd5068fd465"
   },
   "outputs": [
    {
     "name": "stdout",
     "output_type": "stream",
     "text": [
      "Training dataset\t: 130876\n",
      "Testing dataset\t\t: 56090\n",
      "Training\t\t: 109.33% ada pada dataset\n",
      "Test\t\t\t: 46.86% ada pada dataset\n"
     ]
    }
   ],
   "source": [
    "print('Training dataset\\t:', len(X_train))\n",
    "print('Testing dataset\\t\\t:', len(X_test))\n",
    "print('Training\\t\\t: {0:0.02f}% ada pada dataset'.format((len(X_train)/len(df)) * 100))\n",
    "print('Test\\t\\t\\t: {0:0.02f}% ada pada dataset'.format((len(X_test)/len(df)) * 100))"
   ]
  },
  {
   "cell_type": "markdown",
   "metadata": {
    "id": "QFub9-LoA39j"
   },
   "source": [
    "# Pendefinisian Model"
   ]
  },
  {
   "cell_type": "markdown",
   "metadata": {
    "id": "DuiDCgVcBXYg"
   },
   "source": [
    "## Logistic Regression"
   ]
  },
  {
   "cell_type": "markdown",
   "metadata": {
    "id": "pXmwK-fAF8GE"
   },
   "source": [
    "\n",
    "Logistic Regression atau regresi logistik adalah suatu pendekatan yang digunakan untuk membuat model prediksi. Regresi logistik mirip dengan regresi linear, akan tetapi terdapat perbedaan pada keduanya yaitu pada variabel dependennya yang besifat dikotomus (dua kriteria: ya dan tidak). Perbedaan lainnya adalah pada regresi logistik tidak dibutuhkan asumsi khusus seperti regresi linear."
   ]
  },
  {
   "cell_type": "code",
   "execution_count": 41,
   "metadata": {
    "id": "GsoKjI3NA5Xl"
   },
   "outputs": [],
   "source": [
    "log_reg = LogisticRegression(multi_class='ovr',random_state=0)"
   ]
  },
  {
   "cell_type": "markdown",
   "metadata": {
    "id": "gloR9M8y4k4e"
   },
   "source": [
    "pendifinisian model Logistic Regression dengan memberikan nilai hyperparameter default pada beberapa parameter, yang nantinya akan dilakukan hyperparameter tuning pada pelatihan model\n",
    "\n",
    "* `multi_class='ovr'` : digunakan ketika regresi yang digunakan adalah regresi logistik biner\n",
    "* `random state=0` : digunakan untuk mengacak data dan agar saat proses running ulang data tidak berubah-ubah\n"
   ]
  },
  {
   "cell_type": "markdown",
   "metadata": {
    "id": "EUqblbZqCbxU"
   },
   "source": [
    "## K-Nearest Neighbors (KNN)"
   ]
  },
  {
   "cell_type": "markdown",
   "metadata": {
    "id": "funFavUmkkl6"
   },
   "source": [
    "K-Nearest Neighbors (K-NN) adalah sebuah algoritma Machine Learning yang digunakan untuk melakukan klasifikasi atau regresi pada data dengan cara mencari K-tetangga terdekat dari suatu data yang baru, kemudian memberikan prediksi berdasarkan mayoritas kelas dari tetangga terdekat tersebut.\n",
    "\n",
    "1. K-NN adalah algoritma Machine Learning yang mudah diimplementasikan dan dipahami.\n",
    "\n",
    "2. K-NN dapat digunakan untuk masalah klasifikasi dan regresi.\n",
    "\n",
    "3. K-NN tidak memerlukan asumsi tertentu tentang distribusi data.\n",
    "\n",
    "4. K-NN memiliki kemampuan untuk menangani data yang tidak linier atau tidak terstruktur.\n",
    "\n",
    "5. K-NN dapat menghasilkan hasil prediksi yang mudah diinterpretasikan.\n",
    "\n",
    "6. K-NN dapat secara efektif menangani data yang berdimensi tinggi (high-dimensional data) karena algoritma ini hanya memerlukan perhitungan jarak antara titik data.\n",
    "\n",
    "Namun, K-NN juga memiliki beberapa kelemahan, seperti sensitif terhadap data outlier dan sensitif terhadap jumlah dan dimensi data. Oleh karena itu, sebelum menggunakan K-NN, penting untuk memahami kondisi data dan menyesuaikan parameter K sesuai dengan kondisi tersebut."
   ]
  },
  {
   "cell_type": "code",
   "execution_count": 42,
   "metadata": {
    "id": "TiknO4PSCf50"
   },
   "outputs": [],
   "source": [
    "knn = KNeighborsClassifier()"
   ]
  },
  {
   "cell_type": "markdown",
   "metadata": {
    "id": "JzvXn00WkjGm"
   },
   "source": [
    "pendifinisian model K-Nearest Neighbors dengan memberikan nilai hyperparameter default, yang nantinya akan dilakukan hyperparameter tuning pada pelatihan model"
   ]
  },
  {
   "cell_type": "markdown",
   "metadata": {
    "id": "HMhSq46BBaxo"
   },
   "source": [
    "## Support Vector Machine (SVM)"
   ]
  },
  {
   "cell_type": "markdown",
   "metadata": {
    "id": "HzHr3BxzEBpd"
   },
   "source": [
    "Support Vector Machine adalah salah satu algoritma Machine Learning yang digunakan untuk mencari hyperplane terbaik dalam ruang N-dimensi yang secara jelas mengklasifikasikan titik data. Hyperplane adalah sebuah fungsi yang digunakan sebagai pemisah antar kelas yang satu dengan yang lain. Pada SVM, kernel adalah metode untuk memetakan data non-linear berdimensi rendah dan mengubahnya ke dalam ruang dimensi yang lebih tinggi. Tujuannya untuk memudahkan pengklasifikasian data dengan menemukan hyperplane yang dapat memisahkan dataset secara linear dengan baik."
   ]
  },
  {
   "cell_type": "code",
   "execution_count": 43,
   "metadata": {
    "id": "RYOCUi0lBsMj"
   },
   "outputs": [],
   "source": [
    "# membangun model SVM\n",
    "model_svc = SVC(kernel='linear', C=100.0)"
   ]
  },
  {
   "cell_type": "markdown",
   "metadata": {
    "id": "cA3xIKBqEGFJ"
   },
   "source": [
    "* `kernel='linear'` digunakan untuk menspesifikasikan tipe kernal yang ingin \n",
    "digunakan saat membangun model menggunakan algoritma SVM.\n",
    "* `C=100.0` parameter ini digunakan ketika data yang dipakai memiliki outlier. Semakin besar nilai C maka akan semakin rendah outliers pada data yang akan digunakan."
   ]
  },
  {
   "cell_type": "markdown",
   "metadata": {
    "id": "JwAbT9sBCq3h"
   },
   "source": [
    "## Decision Tree"
   ]
  },
  {
   "cell_type": "markdown",
   "metadata": {
    "id": "5eEVH0nKmD2o"
   },
   "source": [
    "Decision Tree atau Pohon Keputusan adalah algoritma pembelajaran mesin yang populer dan dapat digunakan untuk masalah klasifikasi maupun regresi. Konsep dasar dari decision tree adalah membagi dataset menjadi beberapa bagian dengan cara menguji nilai-nilai atribut pada setiap simpul di dalam pohon, dan kemudian menentukan cabang mana yang harus diambil berdasarkan hasil pengujian tersebut. Proses pembentukan pohon terus berlanjut hingga mencapai kondisi di mana setiap simpul menghasilkan prediksi yang sama atau mencapai batasan maksimum kedalaman atau ukuran simpul.\n",
    "\n",
    "Kelebihan dari decision tree antara lain mudah dipahami dan diinterpretasikan, mampu menangani data yang tidak seimbang, dan dapat bekerja dengan baik pada data dengan banyak atribut. Namun, kekurangan dari decision tree adalah cenderung mengalami overfitting pada data training dan sensitif terhadap perubahan data."
   ]
  },
  {
   "cell_type": "code",
   "execution_count": 44,
   "metadata": {
    "id": "85ZeMxvyCtqA"
   },
   "outputs": [],
   "source": [
    "dtc = DecisionTreeClassifier()"
   ]
  },
  {
   "cell_type": "markdown",
   "metadata": {
    "id": "qj0EQ-TsmEUl"
   },
   "source": [
    "pendifinisian model Decision Tree Classifier dengan memberikan nilai hyperparameter default, yang nantinya akan dilakukan hyperparameter tuning pada pelatihan model"
   ]
  },
  {
   "cell_type": "markdown",
   "metadata": {
    "id": "Ubd5yI2KCyZH"
   },
   "source": [
    "## Random Forest"
   ]
  },
  {
   "cell_type": "markdown",
   "metadata": {
    "id": "zIPpeuzppM5r"
   },
   "source": [
    "Random Forest Classifier merupakan pengembangan dari Decision Tree, di mana model ini membangun banyak pohon keputusan (decision tree) secara acak (random) dan menggabungkan hasil prediksi dari setiap pohon untuk menghasilkan hasil akhir yang lebih akurat dan stabil. Setiap pohon dihasilkan dari subset acak dari data pelatihan dan subset acak dari fitur-fitur yang digunakan untuk membangun setiap pohon. Dalam proses pembuatan prediksi, setiap pohon memberikan suara atau voting terhadap label kelas yang dihasilkan, dan label dengan jumlah suara terbanyak menjadi hasil prediksi akhir.\n",
    "\n",
    "Keuntungan dari Random Forest Classifier adalah memiliki performa yang baik pada dataset yang besar dan cenderung menghindari overfitting."
   ]
  },
  {
   "cell_type": "code",
   "execution_count": 45,
   "metadata": {
    "id": "Jcq2BPMuC0jq"
   },
   "outputs": [],
   "source": [
    "rfc = RandomForestClassifier()"
   ]
  },
  {
   "cell_type": "markdown",
   "metadata": {
    "id": "ZPpN4kUsqDm-"
   },
   "source": [
    "pendifinisian model Random Forest Classifier dengan memberikan nilai hyperparameter default, yang nantinya akan dilakukan hyperparameter tuning pada pelatihan model"
   ]
  },
  {
   "cell_type": "markdown",
   "metadata": {
    "id": "pvl9XBv8C9LW"
   },
   "source": [
    "## Naive Bayes"
   ]
  },
  {
   "cell_type": "markdown",
   "metadata": {
    "id": "EUGR8fU3qq44"
   },
   "source": [
    "Naive Bayes adalah sebuah algoritma klasifikasi probabilistik yang didasarkan pada teorema Bayes. Algoritma ini sering digunakan dalam machine learning untuk mengklasifikasikan data yang memiliki banyak fitur atau variabel.\n",
    "\n",
    "\"Naive\" dalam Naive Bayes merujuk pada asumsi bahwa setiap fitur atau variabel pada data adalah independen satu sama lain, sehingga kemungkinan munculnya suatu kombinasi fitur dapat dihitung dengan mengalikan kemungkinan munculnya setiap fitur secara individu. Meskipun asumsi ini terkadang tidak sepenuhnya benar dalam dunia nyata, algoritma Naive Bayes tetap menjadi pilihan yang populer dan efektif dalam banyak kasus."
   ]
  },
  {
   "cell_type": "code",
   "execution_count": 46,
   "metadata": {
    "id": "iIVC2ivVDAFi"
   },
   "outputs": [],
   "source": [
    "nb = GaussianNB()"
   ]
  },
  {
   "cell_type": "markdown",
   "metadata": {
    "id": "x95vipvlqrls"
   },
   "source": [
    "pendifinisian model Naive Bayes (Gaussian NB) dengan memberikan nilai hyperparameter default, yang nantinya akan dilakukan hyperparameter tuning pada pelatihan model"
   ]
  },
  {
   "cell_type": "markdown",
   "metadata": {
    "id": "eQemf-3GA57v"
   },
   "source": [
    "# Pelatihan Model"
   ]
  },
  {
   "cell_type": "markdown",
   "metadata": {
    "id": "eONkFkLLBfx4"
   },
   "source": [
    "## Logistic Regression"
   ]
  },
  {
   "cell_type": "code",
   "execution_count": 47,
   "metadata": {
    "id": "BFbq6DTCCbOd"
   },
   "outputs": [],
   "source": [
    "#param_dist = {'C':uniform(loc=0, scale=4),\n",
    "#              'penalty':['l1','l2'],\n",
    "#              'solver':['liblinear','saga'],\n",
    "#              'max_iter':[100,500,1000]}\n",
    "#\n",
    "#random_search = RandomizedSearchCV(log_reg, param_distributions=param_dist,\n",
    "#                                   n_iter=100, cv=5, scoring='accuracy',\n",
    "#                                   random_state=42)\n",
    "#random_search.fit(X_train, y_train)\n",
    "#print(random_search.best_params_)"
   ]
  },
  {
   "cell_type": "markdown",
   "metadata": {
    "id": "tYxVNOSD5ZmS"
   },
   "source": [
    "Dilakukan hyperparameter tuning menggunakan random search untuk Logistic Regression didapatkan parameter terbaik adalah {'C': 0.29617860693636144, 'max_iter': 1000, 'penalty': 'l2', 'solver': 'liblinear'}"
   ]
  },
  {
   "cell_type": "code",
   "execution_count": 48,
   "metadata": {
    "id": "MaCLQDxa48SM"
   },
   "outputs": [],
   "source": [
    "log_reg = LogisticRegression(C=0.29617860693636144, max_iter=1000, penalty='l2', solver='liblinear')"
   ]
  },
  {
   "cell_type": "markdown",
   "metadata": {
    "id": "6efRHWFm50cA"
   },
   "source": [
    "Dilakukan pendefinisian ulang model Logistic Regression dengan memasukkan parameter terbaik yang didapatkan dari tuning"
   ]
  },
  {
   "cell_type": "code",
   "execution_count": 49,
   "metadata": {
    "id": "1RLpKl0-A8SX"
   },
   "outputs": [],
   "source": [
    "model_lr = log_reg.fit(X_train,y_train)\n",
    "y_pred_lr_train=model_lr.predict(X_train)\n",
    "y_pred_lr_test=model_lr.predict(X_test)"
   ]
  },
  {
   "cell_type": "markdown",
   "metadata": {
    "id": "O6ohixG9bJLa"
   },
   "source": [
    "Melatih model Logistic Regression dengan variabel independen X_train dan target atau variabel dependen y_train, kemudian dilakukan prediksi target dari variabel X_train dan X_test"
   ]
  },
  {
   "cell_type": "code",
   "execution_count": 50,
   "metadata": {
    "colab": {
     "base_uri": "https://localhost:8080/",
     "height": 423
    },
    "id": "5GIvKmP_Gzox",
    "outputId": "502a6ea3-7c7c-4d3a-ce0b-e502293af9dd"
   },
   "outputs": [
    {
     "data": {
      "text/html": [
       "<div>\n",
       "<style scoped>\n",
       "    .dataframe tbody tr th:only-of-type {\n",
       "        vertical-align: middle;\n",
       "    }\n",
       "\n",
       "    .dataframe tbody tr th {\n",
       "        vertical-align: top;\n",
       "    }\n",
       "\n",
       "    .dataframe thead th {\n",
       "        text-align: right;\n",
       "    }\n",
       "</style>\n",
       "<table border=\"1\" class=\"dataframe\">\n",
       "  <thead>\n",
       "    <tr style=\"text-align: right;\">\n",
       "      <th></th>\n",
       "      <th>RainTomorrow</th>\n",
       "      <th>Predict_Train</th>\n",
       "    </tr>\n",
       "  </thead>\n",
       "  <tbody>\n",
       "    <tr>\n",
       "      <th>24580</th>\n",
       "      <td>0</td>\n",
       "      <td>0</td>\n",
       "    </tr>\n",
       "    <tr>\n",
       "      <th>51127</th>\n",
       "      <td>0</td>\n",
       "      <td>0</td>\n",
       "    </tr>\n",
       "    <tr>\n",
       "      <th>136286</th>\n",
       "      <td>1</td>\n",
       "      <td>1</td>\n",
       "    </tr>\n",
       "    <tr>\n",
       "      <th>182468</th>\n",
       "      <td>1</td>\n",
       "      <td>1</td>\n",
       "    </tr>\n",
       "    <tr>\n",
       "      <th>158145</th>\n",
       "      <td>1</td>\n",
       "      <td>1</td>\n",
       "    </tr>\n",
       "    <tr>\n",
       "      <th>...</th>\n",
       "      <td>...</td>\n",
       "      <td>...</td>\n",
       "    </tr>\n",
       "    <tr>\n",
       "      <th>152315</th>\n",
       "      <td>1</td>\n",
       "      <td>1</td>\n",
       "    </tr>\n",
       "    <tr>\n",
       "      <th>176963</th>\n",
       "      <td>1</td>\n",
       "      <td>1</td>\n",
       "    </tr>\n",
       "    <tr>\n",
       "      <th>117952</th>\n",
       "      <td>0</td>\n",
       "      <td>0</td>\n",
       "    </tr>\n",
       "    <tr>\n",
       "      <th>173685</th>\n",
       "      <td>1</td>\n",
       "      <td>1</td>\n",
       "    </tr>\n",
       "    <tr>\n",
       "      <th>43567</th>\n",
       "      <td>0</td>\n",
       "      <td>0</td>\n",
       "    </tr>\n",
       "  </tbody>\n",
       "</table>\n",
       "<p>130876 rows × 2 columns</p>\n",
       "</div>"
      ],
      "text/plain": [
       "        RainTomorrow  Predict_Train\n",
       "24580              0              0\n",
       "51127              0              0\n",
       "136286             1              1\n",
       "182468             1              1\n",
       "158145             1              1\n",
       "...              ...            ...\n",
       "152315             1              1\n",
       "176963             1              1\n",
       "117952             0              0\n",
       "173685             1              1\n",
       "43567              0              0\n",
       "\n",
       "[130876 rows x 2 columns]"
      ]
     },
     "execution_count": 50,
     "metadata": {},
     "output_type": "execute_result"
    }
   ],
   "source": [
    "train=pd.DataFrame(y_train)\n",
    "train['Predict_Train']=y_pred_lr_train\n",
    "train"
   ]
  },
  {
   "cell_type": "markdown",
   "metadata": {
    "id": "e2965LF669Ob"
   },
   "source": [
    "Menggunakan dataframe untuk melihat 10 hasil output prediksi dari data X_train yang merupakan data untuk membuat prediksi tersebut. Kemudian dibandingkan dengan data real dari y_train, yang menunjukkan hasil dari 10 data yang sama."
   ]
  },
  {
   "cell_type": "code",
   "execution_count": 51,
   "metadata": {
    "colab": {
     "base_uri": "https://localhost:8080/",
     "height": 423
    },
    "id": "mY4JfcNEILmK",
    "outputId": "9b212183-8989-49cb-d1d1-bf02dcf6219c"
   },
   "outputs": [
    {
     "data": {
      "text/html": [
       "<div>\n",
       "<style scoped>\n",
       "    .dataframe tbody tr th:only-of-type {\n",
       "        vertical-align: middle;\n",
       "    }\n",
       "\n",
       "    .dataframe tbody tr th {\n",
       "        vertical-align: top;\n",
       "    }\n",
       "\n",
       "    .dataframe thead th {\n",
       "        text-align: right;\n",
       "    }\n",
       "</style>\n",
       "<table border=\"1\" class=\"dataframe\">\n",
       "  <thead>\n",
       "    <tr style=\"text-align: right;\">\n",
       "      <th></th>\n",
       "      <th>RainTomorrow</th>\n",
       "      <th>Predict_Test</th>\n",
       "    </tr>\n",
       "  </thead>\n",
       "  <tbody>\n",
       "    <tr>\n",
       "      <th>161779</th>\n",
       "      <td>1</td>\n",
       "      <td>1</td>\n",
       "    </tr>\n",
       "    <tr>\n",
       "      <th>72035</th>\n",
       "      <td>0</td>\n",
       "      <td>0</td>\n",
       "    </tr>\n",
       "    <tr>\n",
       "      <th>41735</th>\n",
       "      <td>0</td>\n",
       "      <td>0</td>\n",
       "    </tr>\n",
       "    <tr>\n",
       "      <th>145976</th>\n",
       "      <td>1</td>\n",
       "      <td>0</td>\n",
       "    </tr>\n",
       "    <tr>\n",
       "      <th>32233</th>\n",
       "      <td>0</td>\n",
       "      <td>0</td>\n",
       "    </tr>\n",
       "    <tr>\n",
       "      <th>...</th>\n",
       "      <td>...</td>\n",
       "      <td>...</td>\n",
       "    </tr>\n",
       "    <tr>\n",
       "      <th>38517</th>\n",
       "      <td>0</td>\n",
       "      <td>0</td>\n",
       "    </tr>\n",
       "    <tr>\n",
       "      <th>12050</th>\n",
       "      <td>0</td>\n",
       "      <td>0</td>\n",
       "    </tr>\n",
       "    <tr>\n",
       "      <th>29180</th>\n",
       "      <td>0</td>\n",
       "      <td>0</td>\n",
       "    </tr>\n",
       "    <tr>\n",
       "      <th>96948</th>\n",
       "      <td>0</td>\n",
       "      <td>0</td>\n",
       "    </tr>\n",
       "    <tr>\n",
       "      <th>94720</th>\n",
       "      <td>0</td>\n",
       "      <td>1</td>\n",
       "    </tr>\n",
       "  </tbody>\n",
       "</table>\n",
       "<p>56090 rows × 2 columns</p>\n",
       "</div>"
      ],
      "text/plain": [
       "        RainTomorrow  Predict_Test\n",
       "161779             1             1\n",
       "72035              0             0\n",
       "41735              0             0\n",
       "145976             1             0\n",
       "32233              0             0\n",
       "...              ...           ...\n",
       "38517              0             0\n",
       "12050              0             0\n",
       "29180              0             0\n",
       "96948              0             0\n",
       "94720              0             1\n",
       "\n",
       "[56090 rows x 2 columns]"
      ]
     },
     "execution_count": 51,
     "metadata": {},
     "output_type": "execute_result"
    }
   ],
   "source": [
    "test=pd.DataFrame(y_test)\n",
    "test['Predict_Test']=y_pred_lr_test\n",
    "test"
   ]
  },
  {
   "cell_type": "markdown",
   "metadata": {
    "id": "oj7nILnM7y7-"
   },
   "source": [
    "Menggunakan dataframe untuk melihat 10 hasil output prediksi dari data X_test. Kemudian dibandingkan dengan data real dari y_test, yang menunjukkan 2 perbedaan hasil dari 10 data yang ditunjukkan."
   ]
  },
  {
   "cell_type": "markdown",
   "metadata": {
    "id": "uTypi0qUCg9C"
   },
   "source": [
    "## K-Nearest Neighbors (KNN)"
   ]
  },
  {
   "cell_type": "code",
   "execution_count": 52,
   "metadata": {
    "colab": {
     "base_uri": "https://localhost:8080/"
    },
    "id": "bzhVY11d2q2c",
    "outputId": "454a4fbf-4427-4c6c-a33a-9e09b3e9d380"
   },
   "outputs": [
    {
     "name": "stdout",
     "output_type": "stream",
     "text": [
      "{'n_neighbors': 15}\n"
     ]
    }
   ],
   "source": [
    "param_grid = {\n",
    "    'n_neighbors':[15,16,17,19,20]\n",
    "}\n",
    "\n",
    "grid_search = GridSearchCV(knn, param_grid, cv=5, scoring='accuracy')\n",
    "grid_search.fit(X_train, y_train)\n",
    "print(grid_search.best_params_)"
   ]
  },
  {
   "cell_type": "markdown",
   "metadata": {
    "id": "CfC2Q2KI8Jv2"
   },
   "source": [
    "Dilakukan hyperparameter tuning menggunakan grid search untuk K-Nearest Neighbors didapatkan parameter terbaik adalah {'n_neighbors': 15}"
   ]
  },
  {
   "cell_type": "code",
   "execution_count": 53,
   "metadata": {
    "id": "OFXORvnY2rOO"
   },
   "outputs": [],
   "source": [
    "knn = KNeighborsClassifier(n_neighbors=15)"
   ]
  },
  {
   "cell_type": "markdown",
   "metadata": {
    "id": "2Rhup_j88KWJ"
   },
   "source": [
    "Dilakukan pendefinisian ulang model K-Nearest Neighbors Classifier dengan memasukkan parameter terbaik yang didapatkan dari tuning"
   ]
  },
  {
   "cell_type": "code",
   "execution_count": 54,
   "metadata": {
    "id": "XgEoN8zECh0K"
   },
   "outputs": [],
   "source": [
    "model_knn = knn.fit(X_train,y_train)\n",
    "y_pred_knn_train=model_knn.predict(X_train)\n",
    "y_pred_knn_test=model_knn.predict(X_test)"
   ]
  },
  {
   "cell_type": "markdown",
   "metadata": {
    "id": "VdHxNrjB8K8C"
   },
   "source": [
    "Melatih model K-Nearest Neighbors dengan variabel independen X_train dan target atau variabel dependen y_train, kemudian dilakukan prediksi target dari variabel X_train dan X_test"
   ]
  },
  {
   "cell_type": "code",
   "execution_count": 55,
   "metadata": {
    "colab": {
     "base_uri": "https://localhost:8080/",
     "height": 423
    },
    "id": "d9sPDcFrsVlH",
    "outputId": "a2c094ca-a16b-4d3e-c66a-59d0be044a04"
   },
   "outputs": [
    {
     "data": {
      "text/html": [
       "<div>\n",
       "<style scoped>\n",
       "    .dataframe tbody tr th:only-of-type {\n",
       "        vertical-align: middle;\n",
       "    }\n",
       "\n",
       "    .dataframe tbody tr th {\n",
       "        vertical-align: top;\n",
       "    }\n",
       "\n",
       "    .dataframe thead th {\n",
       "        text-align: right;\n",
       "    }\n",
       "</style>\n",
       "<table border=\"1\" class=\"dataframe\">\n",
       "  <thead>\n",
       "    <tr style=\"text-align: right;\">\n",
       "      <th></th>\n",
       "      <th>RainTomorrow</th>\n",
       "      <th>Predict_Train</th>\n",
       "    </tr>\n",
       "  </thead>\n",
       "  <tbody>\n",
       "    <tr>\n",
       "      <th>24580</th>\n",
       "      <td>0</td>\n",
       "      <td>0</td>\n",
       "    </tr>\n",
       "    <tr>\n",
       "      <th>51127</th>\n",
       "      <td>0</td>\n",
       "      <td>0</td>\n",
       "    </tr>\n",
       "    <tr>\n",
       "      <th>136286</th>\n",
       "      <td>1</td>\n",
       "      <td>1</td>\n",
       "    </tr>\n",
       "    <tr>\n",
       "      <th>182468</th>\n",
       "      <td>1</td>\n",
       "      <td>1</td>\n",
       "    </tr>\n",
       "    <tr>\n",
       "      <th>158145</th>\n",
       "      <td>1</td>\n",
       "      <td>1</td>\n",
       "    </tr>\n",
       "    <tr>\n",
       "      <th>...</th>\n",
       "      <td>...</td>\n",
       "      <td>...</td>\n",
       "    </tr>\n",
       "    <tr>\n",
       "      <th>152315</th>\n",
       "      <td>1</td>\n",
       "      <td>0</td>\n",
       "    </tr>\n",
       "    <tr>\n",
       "      <th>176963</th>\n",
       "      <td>1</td>\n",
       "      <td>1</td>\n",
       "    </tr>\n",
       "    <tr>\n",
       "      <th>117952</th>\n",
       "      <td>0</td>\n",
       "      <td>1</td>\n",
       "    </tr>\n",
       "    <tr>\n",
       "      <th>173685</th>\n",
       "      <td>1</td>\n",
       "      <td>1</td>\n",
       "    </tr>\n",
       "    <tr>\n",
       "      <th>43567</th>\n",
       "      <td>0</td>\n",
       "      <td>0</td>\n",
       "    </tr>\n",
       "  </tbody>\n",
       "</table>\n",
       "<p>130876 rows × 2 columns</p>\n",
       "</div>"
      ],
      "text/plain": [
       "        RainTomorrow  Predict_Train\n",
       "24580              0              0\n",
       "51127              0              0\n",
       "136286             1              1\n",
       "182468             1              1\n",
       "158145             1              1\n",
       "...              ...            ...\n",
       "152315             1              0\n",
       "176963             1              1\n",
       "117952             0              1\n",
       "173685             1              1\n",
       "43567              0              0\n",
       "\n",
       "[130876 rows x 2 columns]"
      ]
     },
     "execution_count": 55,
     "metadata": {},
     "output_type": "execute_result"
    }
   ],
   "source": [
    "train=pd.DataFrame(y_train)\n",
    "train['Predict_Train']=y_pred_knn_train\n",
    "train"
   ]
  },
  {
   "cell_type": "markdown",
   "metadata": {
    "id": "IXHDi_sF8LgN"
   },
   "source": [
    "Menggunakan dataframe untuk melihat 10 hasil output prediksi dari data X_train yang merupakan data untuk membuat prediksi tersebut. Kemudian dibandingkan dengan data real dari y_train, yang menunjukkan terdapat 2 perbedaan hasil dari 10 data yang ditunjukkan."
   ]
  },
  {
   "cell_type": "code",
   "execution_count": 56,
   "metadata": {
    "colab": {
     "base_uri": "https://localhost:8080/",
     "height": 423
    },
    "id": "8k6YzKgttHmx",
    "outputId": "1967dd8b-ea8d-4a8b-c386-9918776ae1e7"
   },
   "outputs": [
    {
     "data": {
      "text/html": [
       "<div>\n",
       "<style scoped>\n",
       "    .dataframe tbody tr th:only-of-type {\n",
       "        vertical-align: middle;\n",
       "    }\n",
       "\n",
       "    .dataframe tbody tr th {\n",
       "        vertical-align: top;\n",
       "    }\n",
       "\n",
       "    .dataframe thead th {\n",
       "        text-align: right;\n",
       "    }\n",
       "</style>\n",
       "<table border=\"1\" class=\"dataframe\">\n",
       "  <thead>\n",
       "    <tr style=\"text-align: right;\">\n",
       "      <th></th>\n",
       "      <th>RainTomorrow</th>\n",
       "      <th>Predict_Test</th>\n",
       "    </tr>\n",
       "  </thead>\n",
       "  <tbody>\n",
       "    <tr>\n",
       "      <th>161779</th>\n",
       "      <td>1</td>\n",
       "      <td>1</td>\n",
       "    </tr>\n",
       "    <tr>\n",
       "      <th>72035</th>\n",
       "      <td>0</td>\n",
       "      <td>0</td>\n",
       "    </tr>\n",
       "    <tr>\n",
       "      <th>41735</th>\n",
       "      <td>0</td>\n",
       "      <td>0</td>\n",
       "    </tr>\n",
       "    <tr>\n",
       "      <th>145976</th>\n",
       "      <td>1</td>\n",
       "      <td>1</td>\n",
       "    </tr>\n",
       "    <tr>\n",
       "      <th>32233</th>\n",
       "      <td>0</td>\n",
       "      <td>0</td>\n",
       "    </tr>\n",
       "    <tr>\n",
       "      <th>...</th>\n",
       "      <td>...</td>\n",
       "      <td>...</td>\n",
       "    </tr>\n",
       "    <tr>\n",
       "      <th>38517</th>\n",
       "      <td>0</td>\n",
       "      <td>1</td>\n",
       "    </tr>\n",
       "    <tr>\n",
       "      <th>12050</th>\n",
       "      <td>0</td>\n",
       "      <td>0</td>\n",
       "    </tr>\n",
       "    <tr>\n",
       "      <th>29180</th>\n",
       "      <td>0</td>\n",
       "      <td>0</td>\n",
       "    </tr>\n",
       "    <tr>\n",
       "      <th>96948</th>\n",
       "      <td>0</td>\n",
       "      <td>0</td>\n",
       "    </tr>\n",
       "    <tr>\n",
       "      <th>94720</th>\n",
       "      <td>0</td>\n",
       "      <td>1</td>\n",
       "    </tr>\n",
       "  </tbody>\n",
       "</table>\n",
       "<p>56090 rows × 2 columns</p>\n",
       "</div>"
      ],
      "text/plain": [
       "        RainTomorrow  Predict_Test\n",
       "161779             1             1\n",
       "72035              0             0\n",
       "41735              0             0\n",
       "145976             1             1\n",
       "32233              0             0\n",
       "...              ...           ...\n",
       "38517              0             1\n",
       "12050              0             0\n",
       "29180              0             0\n",
       "96948              0             0\n",
       "94720              0             1\n",
       "\n",
       "[56090 rows x 2 columns]"
      ]
     },
     "execution_count": 56,
     "metadata": {},
     "output_type": "execute_result"
    }
   ],
   "source": [
    "test=pd.DataFrame(y_test)\n",
    "test['Predict_Test']=y_pred_knn_test\n",
    "test"
   ]
  },
  {
   "cell_type": "markdown",
   "metadata": {
    "id": "oNwIoXbZ8MLu"
   },
   "source": [
    "Menggunakan dataframe untuk melihat 10 hasil output prediksi dari data X_test. Kemudian dibandingkan dengan data real dari y_test, yang menunjukkan 2 perbedaan hasil dari 10 data yang ditunjukkan."
   ]
  },
  {
   "cell_type": "markdown",
   "metadata": {
    "id": "DIiC-tn-BiRD"
   },
   "source": [
    "## Support Vector Machine (SVM)"
   ]
  },
  {
   "cell_type": "code",
   "execution_count": 57,
   "metadata": {
    "colab": {
     "base_uri": "https://localhost:8080/",
     "height": 206
    },
    "id": "so_5NyWeNG3L",
    "outputId": "62d8c8ea-ffc7-4de8-f220-709d0f65c9b4"
   },
   "outputs": [
    {
     "data": {
      "text/html": [
       "<div>\n",
       "<style scoped>\n",
       "    .dataframe tbody tr th:only-of-type {\n",
       "        vertical-align: middle;\n",
       "    }\n",
       "\n",
       "    .dataframe tbody tr th {\n",
       "        vertical-align: top;\n",
       "    }\n",
       "\n",
       "    .dataframe thead th {\n",
       "        text-align: right;\n",
       "    }\n",
       "</style>\n",
       "<table border=\"1\" class=\"dataframe\">\n",
       "  <thead>\n",
       "    <tr style=\"text-align: right;\">\n",
       "      <th></th>\n",
       "      <th>MinTemp</th>\n",
       "      <th>MaxTemp</th>\n",
       "      <th>Rainfall</th>\n",
       "      <th>WindGustSpeed</th>\n",
       "      <th>Humidity9am</th>\n",
       "      <th>Humidity3pm</th>\n",
       "      <th>Pressure9am</th>\n",
       "      <th>Pressure3pm</th>\n",
       "      <th>RainTomorrow</th>\n",
       "    </tr>\n",
       "  </thead>\n",
       "  <tbody>\n",
       "    <tr>\n",
       "      <th>0</th>\n",
       "      <td>13.4</td>\n",
       "      <td>22.9</td>\n",
       "      <td>0.6</td>\n",
       "      <td>44.0</td>\n",
       "      <td>71.0</td>\n",
       "      <td>22.0</td>\n",
       "      <td>1007.7</td>\n",
       "      <td>1007.1</td>\n",
       "      <td>0</td>\n",
       "    </tr>\n",
       "    <tr>\n",
       "      <th>1</th>\n",
       "      <td>7.4</td>\n",
       "      <td>25.1</td>\n",
       "      <td>0.0</td>\n",
       "      <td>44.0</td>\n",
       "      <td>44.0</td>\n",
       "      <td>25.0</td>\n",
       "      <td>1010.6</td>\n",
       "      <td>1007.8</td>\n",
       "      <td>0</td>\n",
       "    </tr>\n",
       "    <tr>\n",
       "      <th>2</th>\n",
       "      <td>12.9</td>\n",
       "      <td>25.7</td>\n",
       "      <td>0.0</td>\n",
       "      <td>46.0</td>\n",
       "      <td>38.0</td>\n",
       "      <td>30.0</td>\n",
       "      <td>1007.6</td>\n",
       "      <td>1008.7</td>\n",
       "      <td>0</td>\n",
       "    </tr>\n",
       "    <tr>\n",
       "      <th>3</th>\n",
       "      <td>9.2</td>\n",
       "      <td>28.0</td>\n",
       "      <td>0.0</td>\n",
       "      <td>24.0</td>\n",
       "      <td>45.0</td>\n",
       "      <td>16.0</td>\n",
       "      <td>1017.6</td>\n",
       "      <td>1012.8</td>\n",
       "      <td>0</td>\n",
       "    </tr>\n",
       "    <tr>\n",
       "      <th>4</th>\n",
       "      <td>17.5</td>\n",
       "      <td>32.3</td>\n",
       "      <td>1.0</td>\n",
       "      <td>41.0</td>\n",
       "      <td>82.0</td>\n",
       "      <td>33.0</td>\n",
       "      <td>1010.8</td>\n",
       "      <td>1006.0</td>\n",
       "      <td>0</td>\n",
       "    </tr>\n",
       "  </tbody>\n",
       "</table>\n",
       "</div>"
      ],
      "text/plain": [
       "   MinTemp  MaxTemp  Rainfall  WindGustSpeed  Humidity9am  Humidity3pm  \\\n",
       "0     13.4     22.9       0.6           44.0         71.0         22.0   \n",
       "1      7.4     25.1       0.0           44.0         44.0         25.0   \n",
       "2     12.9     25.7       0.0           46.0         38.0         30.0   \n",
       "3      9.2     28.0       0.0           24.0         45.0         16.0   \n",
       "4     17.5     32.3       1.0           41.0         82.0         33.0   \n",
       "\n",
       "   Pressure9am  Pressure3pm  RainTomorrow  \n",
       "0       1007.7       1007.1             0  \n",
       "1       1010.6       1007.8             0  \n",
       "2       1007.6       1008.7             0  \n",
       "3       1017.6       1012.8             0  \n",
       "4       1010.8       1006.0             0  "
      ]
     },
     "execution_count": 57,
     "metadata": {},
     "output_type": "execute_result"
    }
   ],
   "source": [
    "# menampilkan data teratas\n",
    "df.head()"
   ]
  },
  {
   "cell_type": "markdown",
   "metadata": {
    "id": "QNJImrEzvm5W"
   },
   "source": [
    "Ditampilkan data teratas untuk melihat kembali dataset secara umum"
   ]
  },
  {
   "cell_type": "code",
   "execution_count": 58,
   "metadata": {
    "id": "ClTPLRa3gDXC"
   },
   "outputs": [],
   "source": [
    "# mengambil 20000 data sample\n",
    "df_svm = df.sample(20000)"
   ]
  },
  {
   "cell_type": "markdown",
   "metadata": {
    "id": "kv_R_TDQvr9F"
   },
   "source": [
    "Diambil sample sebanyak 20000 data karena untuk model SVM lebih baik digunakan data yang berukuran kecil. Digunakan fungsi `sample()` dengan tujuan agar terjadi randomisasi pada data yang akan diambil."
   ]
  },
  {
   "cell_type": "code",
   "execution_count": 59,
   "metadata": {
    "id": "NzFFAiXcgHX5"
   },
   "outputs": [],
   "source": [
    "# assign feature dan label\n",
    "y_svm = df_svm['RainTomorrow']\n",
    "X_svm = df_svm.drop('RainTomorrow', axis=1)"
   ]
  },
  {
   "cell_type": "markdown",
   "metadata": {
    "id": "zUUmJ7P4wSkE"
   },
   "source": [
    "Kemudian dilakukan pemisahan kolom untuk feature dan label."
   ]
  },
  {
   "cell_type": "code",
   "execution_count": 60,
   "metadata": {
    "id": "mt01W-5YgMzh"
   },
   "outputs": [],
   "source": [
    "#standarisasi feature\n",
    "scaler = StandardScaler()\n",
    "X_svm = scaler.fit_transform(X_svm)"
   ]
  },
  {
   "cell_type": "markdown",
   "metadata": {
    "id": "mLxMI3vrwhM1"
   },
   "source": [
    "Dilakukan standarisasi fitur dengan tujuan untuk normalisasi data agar data yang digunakan tidak memiliki penyimpangan yang terlalu besar."
   ]
  },
  {
   "cell_type": "code",
   "execution_count": 61,
   "metadata": {
    "id": "1P0VFjyFU4kR"
   },
   "outputs": [],
   "source": [
    "# train 70%, test 30%\n",
    "\n",
    "X_train_svm, X_test_svm, y_train_svm, y_test_svm = train_test_split(X_svm, y_svm, test_size=0.3, random_state=0)"
   ]
  },
  {
   "cell_type": "markdown",
   "metadata": {
    "id": "r0JqVzrJIm7f"
   },
   "source": [
    "Dilakukan splitting tes untuk data SVM ini, dengan ukuran 70% data untuk training dan 30% data untuk testing."
   ]
  },
  {
   "cell_type": "code",
   "execution_count": 62,
   "metadata": {
    "colab": {
     "base_uri": "https://localhost:8080/"
    },
    "id": "eFyESIryVBLU",
    "outputId": "677220f0-a069-4f2c-8a85-be64030cada2"
   },
   "outputs": [
    {
     "name": "stdout",
     "output_type": "stream",
     "text": [
      "train set score :  0.8450714285714286\n",
      "test set score :  0.8428333333333333\n"
     ]
    }
   ],
   "source": [
    "# fitting model\n",
    "model_svc = model_svc.fit(X_train_svm, y_train_svm)\n",
    "\n",
    "# menampilkan score model\n",
    "print('train set score : ', model_svc.score(X_train_svm, y_train_svm))\n",
    "print('test set score : ', model_svc.score(X_test_svm, y_test_svm))"
   ]
  },
  {
   "cell_type": "markdown",
   "metadata": {
    "id": "FAHBLhuLIqwY"
   },
   "source": [
    "Dari hasil score yang ditunjukkan bisa dilihat selisih score untuk penggunaan data training dan testing tidak terlalu jauh yang mana artinya model tidak overfitting."
   ]
  },
  {
   "cell_type": "code",
   "execution_count": 63,
   "metadata": {
    "id": "RDfy8OVmIxKI"
   },
   "outputs": [],
   "source": [
    "# predict data\n",
    "y_pred_svm_train = model_svc.predict(X_train_svm)\n",
    "y_pred_svm_test = model_svc.predict(X_test_svm)"
   ]
  },
  {
   "cell_type": "markdown",
   "metadata": {
    "id": "hb8viowsI3dh"
   },
   "source": [
    "Kemudian dilakukan prediksi label menggunakan model yang telah dibangun. Proses predict dilakukan dua kali, yaitu menggunakan data training dan menggunakan data testing."
   ]
  },
  {
   "cell_type": "code",
   "execution_count": 64,
   "metadata": {
    "colab": {
     "base_uri": "https://localhost:8080/",
     "height": 423
    },
    "id": "d3JdHoaBJETH",
    "outputId": "c4c7d43d-d9e4-4326-d828-50a466ff58d3"
   },
   "outputs": [
    {
     "data": {
      "text/html": [
       "<div>\n",
       "<style scoped>\n",
       "    .dataframe tbody tr th:only-of-type {\n",
       "        vertical-align: middle;\n",
       "    }\n",
       "\n",
       "    .dataframe tbody tr th {\n",
       "        vertical-align: top;\n",
       "    }\n",
       "\n",
       "    .dataframe thead th {\n",
       "        text-align: right;\n",
       "    }\n",
       "</style>\n",
       "<table border=\"1\" class=\"dataframe\">\n",
       "  <thead>\n",
       "    <tr style=\"text-align: right;\">\n",
       "      <th></th>\n",
       "      <th>RainTomorrow</th>\n",
       "      <th>Predict_Train</th>\n",
       "    </tr>\n",
       "  </thead>\n",
       "  <tbody>\n",
       "    <tr>\n",
       "      <th>45759</th>\n",
       "      <td>0</td>\n",
       "      <td>0</td>\n",
       "    </tr>\n",
       "    <tr>\n",
       "      <th>8149</th>\n",
       "      <td>0</td>\n",
       "      <td>0</td>\n",
       "    </tr>\n",
       "    <tr>\n",
       "      <th>126960</th>\n",
       "      <td>0</td>\n",
       "      <td>0</td>\n",
       "    </tr>\n",
       "    <tr>\n",
       "      <th>141310</th>\n",
       "      <td>0</td>\n",
       "      <td>0</td>\n",
       "    </tr>\n",
       "    <tr>\n",
       "      <th>1028</th>\n",
       "      <td>0</td>\n",
       "      <td>0</td>\n",
       "    </tr>\n",
       "    <tr>\n",
       "      <th>...</th>\n",
       "      <td>...</td>\n",
       "      <td>...</td>\n",
       "    </tr>\n",
       "    <tr>\n",
       "      <th>66936</th>\n",
       "      <td>0</td>\n",
       "      <td>0</td>\n",
       "    </tr>\n",
       "    <tr>\n",
       "      <th>73279</th>\n",
       "      <td>0</td>\n",
       "      <td>0</td>\n",
       "    </tr>\n",
       "    <tr>\n",
       "      <th>2047</th>\n",
       "      <td>0</td>\n",
       "      <td>0</td>\n",
       "    </tr>\n",
       "    <tr>\n",
       "      <th>115444</th>\n",
       "      <td>0</td>\n",
       "      <td>0</td>\n",
       "    </tr>\n",
       "    <tr>\n",
       "      <th>76748</th>\n",
       "      <td>0</td>\n",
       "      <td>0</td>\n",
       "    </tr>\n",
       "  </tbody>\n",
       "</table>\n",
       "<p>14000 rows × 2 columns</p>\n",
       "</div>"
      ],
      "text/plain": [
       "        RainTomorrow  Predict_Train\n",
       "45759              0              0\n",
       "8149               0              0\n",
       "126960             0              0\n",
       "141310             0              0\n",
       "1028               0              0\n",
       "...              ...            ...\n",
       "66936              0              0\n",
       "73279              0              0\n",
       "2047               0              0\n",
       "115444             0              0\n",
       "76748              0              0\n",
       "\n",
       "[14000 rows x 2 columns]"
      ]
     },
     "execution_count": 64,
     "metadata": {},
     "output_type": "execute_result"
    }
   ],
   "source": [
    "# membandingkan label prediksi dan actual label pada data training\n",
    "train = pd.DataFrame(y_train_svm)\n",
    "train['Predict_Train'] = y_pred_svm_train\n",
    "train"
   ]
  },
  {
   "cell_type": "code",
   "execution_count": 65,
   "metadata": {
    "colab": {
     "base_uri": "https://localhost:8080/",
     "height": 423
    },
    "id": "soZBR89OJAbX",
    "outputId": "aac3d1a2-9a50-42c7-a634-6bc1439b1a53"
   },
   "outputs": [
    {
     "data": {
      "text/html": [
       "<div>\n",
       "<style scoped>\n",
       "    .dataframe tbody tr th:only-of-type {\n",
       "        vertical-align: middle;\n",
       "    }\n",
       "\n",
       "    .dataframe tbody tr th {\n",
       "        vertical-align: top;\n",
       "    }\n",
       "\n",
       "    .dataframe thead th {\n",
       "        text-align: right;\n",
       "    }\n",
       "</style>\n",
       "<table border=\"1\" class=\"dataframe\">\n",
       "  <thead>\n",
       "    <tr style=\"text-align: right;\">\n",
       "      <th></th>\n",
       "      <th>RainTomorrow</th>\n",
       "      <th>Predict_Test</th>\n",
       "    </tr>\n",
       "  </thead>\n",
       "  <tbody>\n",
       "    <tr>\n",
       "      <th>89534</th>\n",
       "      <td>1</td>\n",
       "      <td>0</td>\n",
       "    </tr>\n",
       "    <tr>\n",
       "      <th>100122</th>\n",
       "      <td>1</td>\n",
       "      <td>0</td>\n",
       "    </tr>\n",
       "    <tr>\n",
       "      <th>79513</th>\n",
       "      <td>0</td>\n",
       "      <td>0</td>\n",
       "    </tr>\n",
       "    <tr>\n",
       "      <th>107454</th>\n",
       "      <td>0</td>\n",
       "      <td>0</td>\n",
       "    </tr>\n",
       "    <tr>\n",
       "      <th>98029</th>\n",
       "      <td>0</td>\n",
       "      <td>0</td>\n",
       "    </tr>\n",
       "    <tr>\n",
       "      <th>...</th>\n",
       "      <td>...</td>\n",
       "      <td>...</td>\n",
       "    </tr>\n",
       "    <tr>\n",
       "      <th>42648</th>\n",
       "      <td>0</td>\n",
       "      <td>0</td>\n",
       "    </tr>\n",
       "    <tr>\n",
       "      <th>136238</th>\n",
       "      <td>0</td>\n",
       "      <td>0</td>\n",
       "    </tr>\n",
       "    <tr>\n",
       "      <th>71812</th>\n",
       "      <td>0</td>\n",
       "      <td>0</td>\n",
       "    </tr>\n",
       "    <tr>\n",
       "      <th>18789</th>\n",
       "      <td>0</td>\n",
       "      <td>0</td>\n",
       "    </tr>\n",
       "    <tr>\n",
       "      <th>73813</th>\n",
       "      <td>0</td>\n",
       "      <td>0</td>\n",
       "    </tr>\n",
       "  </tbody>\n",
       "</table>\n",
       "<p>6000 rows × 2 columns</p>\n",
       "</div>"
      ],
      "text/plain": [
       "        RainTomorrow  Predict_Test\n",
       "89534              1             0\n",
       "100122             1             0\n",
       "79513              0             0\n",
       "107454             0             0\n",
       "98029              0             0\n",
       "...              ...           ...\n",
       "42648              0             0\n",
       "136238             0             0\n",
       "71812              0             0\n",
       "18789              0             0\n",
       "73813              0             0\n",
       "\n",
       "[6000 rows x 2 columns]"
      ]
     },
     "execution_count": 65,
     "metadata": {},
     "output_type": "execute_result"
    }
   ],
   "source": [
    "# membandingkan label prediksi dan actual label pada data testing\n",
    "test = pd.DataFrame(y_test_svm)\n",
    "test['Predict_Test'] = y_pred_svm_test\n",
    "test"
   ]
  },
  {
   "cell_type": "markdown",
   "metadata": {
    "id": "FJ1JnoRYXBKL"
   },
   "source": [
    " Setelah itu dibuat masing-masing sebuah data frame untuk data testing dan data training. Di dalamnya memuat data label hasil prediksi dan actual label untuk masing-masing data. Ini bertujuan untuk membandingkan label asli dan label yang diprediksi oleh model. Bisa dilihat dari beberapa data yang ditampilkan di output, model dapat memprediksi label dengan cukup baik."
   ]
  },
  {
   "cell_type": "markdown",
   "metadata": {
    "id": "JEwUcWAACuk7"
   },
   "source": [
    "## Decision Tree"
   ]
  },
  {
   "cell_type": "code",
   "execution_count": 66,
   "metadata": {
    "id": "QwdyyOTpEq_C"
   },
   "outputs": [],
   "source": [
    "#param_dist = {'max_depth': [3, None],\n",
    "#              'max_features': randint(1, 4),\n",
    "#              'min_samples_split': randint(2, 20),\n",
    "#              'min_samples_leaf': randint(1, 20)}\n",
    "#\n",
    "#random_search = RandomizedSearchCV(dtc, param_distributions=param_dist,\n",
    "#                                   n_iter=100, cv=5, scoring='accuracy',\n",
    "#                                   random_state=42)\n",
    "#random_search.fit(X_train, y_train)\n",
    "#print(random_search.best_params_)"
   ]
  },
  {
   "cell_type": "markdown",
   "metadata": {
    "id": "czcCO6UB8OOs"
   },
   "source": [
    "Dilakukan hyperparameter tuning menggunakan random search untuk Decision Tree Classifier didapatkan parameter terbaik adalah {'max_depth': None, 'max_features': 3, 'min_samples_leaf': 9, 'min_samples_split': 6}"
   ]
  },
  {
   "cell_type": "code",
   "execution_count": 67,
   "metadata": {
    "id": "plH2zPiNzEvH"
   },
   "outputs": [],
   "source": [
    "dtc = DecisionTreeClassifier(max_depth= None,min_samples_split= 6,min_samples_leaf= 9,max_features= 3)"
   ]
  },
  {
   "cell_type": "markdown",
   "metadata": {
    "id": "AtcNHUpU8OzE"
   },
   "source": [
    "Dilakukan pendefinisian ulang model Decision Tree Classifier dengan memasukkan parameter terbaik yang didapatkan dari tuning"
   ]
  },
  {
   "cell_type": "code",
   "execution_count": 68,
   "metadata": {
    "id": "jdps5UyyCvY6"
   },
   "outputs": [],
   "source": [
    "model_dtc = dtc.fit(X_train,y_train)\n",
    "y_pred_dtc_train=model_dtc.predict(X_train)\n",
    "y_pred_dtc_test=model_dtc.predict(X_test)"
   ]
  },
  {
   "cell_type": "markdown",
   "metadata": {
    "id": "uuTCa8ZH8Pd1"
   },
   "source": [
    "Melatih model Decision Tree Classifier dengan variabel independen X_train dan target atau variabel dependen y_train, kemudian dilakukan prediksi target dari variabel X_train dan X_test"
   ]
  },
  {
   "cell_type": "code",
   "execution_count": 69,
   "metadata": {
    "colab": {
     "base_uri": "https://localhost:8080/",
     "height": 423
    },
    "id": "64Kxfli-tfyU",
    "outputId": "9c1c734b-4ab6-4cf2-ad05-d6e5ce2d4852"
   },
   "outputs": [
    {
     "data": {
      "text/html": [
       "<div>\n",
       "<style scoped>\n",
       "    .dataframe tbody tr th:only-of-type {\n",
       "        vertical-align: middle;\n",
       "    }\n",
       "\n",
       "    .dataframe tbody tr th {\n",
       "        vertical-align: top;\n",
       "    }\n",
       "\n",
       "    .dataframe thead th {\n",
       "        text-align: right;\n",
       "    }\n",
       "</style>\n",
       "<table border=\"1\" class=\"dataframe\">\n",
       "  <thead>\n",
       "    <tr style=\"text-align: right;\">\n",
       "      <th></th>\n",
       "      <th>RainTomorrow</th>\n",
       "      <th>Predict_Train</th>\n",
       "    </tr>\n",
       "  </thead>\n",
       "  <tbody>\n",
       "    <tr>\n",
       "      <th>24580</th>\n",
       "      <td>0</td>\n",
       "      <td>0</td>\n",
       "    </tr>\n",
       "    <tr>\n",
       "      <th>51127</th>\n",
       "      <td>0</td>\n",
       "      <td>0</td>\n",
       "    </tr>\n",
       "    <tr>\n",
       "      <th>136286</th>\n",
       "      <td>1</td>\n",
       "      <td>1</td>\n",
       "    </tr>\n",
       "    <tr>\n",
       "      <th>182468</th>\n",
       "      <td>1</td>\n",
       "      <td>1</td>\n",
       "    </tr>\n",
       "    <tr>\n",
       "      <th>158145</th>\n",
       "      <td>1</td>\n",
       "      <td>1</td>\n",
       "    </tr>\n",
       "    <tr>\n",
       "      <th>...</th>\n",
       "      <td>...</td>\n",
       "      <td>...</td>\n",
       "    </tr>\n",
       "    <tr>\n",
       "      <th>152315</th>\n",
       "      <td>1</td>\n",
       "      <td>1</td>\n",
       "    </tr>\n",
       "    <tr>\n",
       "      <th>176963</th>\n",
       "      <td>1</td>\n",
       "      <td>1</td>\n",
       "    </tr>\n",
       "    <tr>\n",
       "      <th>117952</th>\n",
       "      <td>0</td>\n",
       "      <td>0</td>\n",
       "    </tr>\n",
       "    <tr>\n",
       "      <th>173685</th>\n",
       "      <td>1</td>\n",
       "      <td>1</td>\n",
       "    </tr>\n",
       "    <tr>\n",
       "      <th>43567</th>\n",
       "      <td>0</td>\n",
       "      <td>0</td>\n",
       "    </tr>\n",
       "  </tbody>\n",
       "</table>\n",
       "<p>130876 rows × 2 columns</p>\n",
       "</div>"
      ],
      "text/plain": [
       "        RainTomorrow  Predict_Train\n",
       "24580              0              0\n",
       "51127              0              0\n",
       "136286             1              1\n",
       "182468             1              1\n",
       "158145             1              1\n",
       "...              ...            ...\n",
       "152315             1              1\n",
       "176963             1              1\n",
       "117952             0              0\n",
       "173685             1              1\n",
       "43567              0              0\n",
       "\n",
       "[130876 rows x 2 columns]"
      ]
     },
     "execution_count": 69,
     "metadata": {},
     "output_type": "execute_result"
    }
   ],
   "source": [
    "train=pd.DataFrame(y_train)\n",
    "train['Predict_Train']=y_pred_dtc_train\n",
    "train"
   ]
  },
  {
   "cell_type": "markdown",
   "metadata": {
    "id": "7AU94duY8QUk"
   },
   "source": [
    "Menggunakan dataframe untuk melihat 10 hasil output prediksi dari data X_train yang merupakan data untuk membuat prediksi tersebut. Kemudian dibandingkan dengan data real dari y_train, yang menunjukkan hasil dari 10 data yang sama."
   ]
  },
  {
   "cell_type": "code",
   "execution_count": 70,
   "metadata": {
    "colab": {
     "base_uri": "https://localhost:8080/",
     "height": 423
    },
    "id": "Kvmn_rpttfbO",
    "outputId": "b7daab56-f2ed-4583-91d1-e3bbab6eb554"
   },
   "outputs": [
    {
     "data": {
      "text/html": [
       "<div>\n",
       "<style scoped>\n",
       "    .dataframe tbody tr th:only-of-type {\n",
       "        vertical-align: middle;\n",
       "    }\n",
       "\n",
       "    .dataframe tbody tr th {\n",
       "        vertical-align: top;\n",
       "    }\n",
       "\n",
       "    .dataframe thead th {\n",
       "        text-align: right;\n",
       "    }\n",
       "</style>\n",
       "<table border=\"1\" class=\"dataframe\">\n",
       "  <thead>\n",
       "    <tr style=\"text-align: right;\">\n",
       "      <th></th>\n",
       "      <th>RainTomorrow</th>\n",
       "      <th>Predict_Test</th>\n",
       "    </tr>\n",
       "  </thead>\n",
       "  <tbody>\n",
       "    <tr>\n",
       "      <th>161779</th>\n",
       "      <td>1</td>\n",
       "      <td>1</td>\n",
       "    </tr>\n",
       "    <tr>\n",
       "      <th>72035</th>\n",
       "      <td>0</td>\n",
       "      <td>0</td>\n",
       "    </tr>\n",
       "    <tr>\n",
       "      <th>41735</th>\n",
       "      <td>0</td>\n",
       "      <td>0</td>\n",
       "    </tr>\n",
       "    <tr>\n",
       "      <th>145976</th>\n",
       "      <td>1</td>\n",
       "      <td>1</td>\n",
       "    </tr>\n",
       "    <tr>\n",
       "      <th>32233</th>\n",
       "      <td>0</td>\n",
       "      <td>0</td>\n",
       "    </tr>\n",
       "    <tr>\n",
       "      <th>...</th>\n",
       "      <td>...</td>\n",
       "      <td>...</td>\n",
       "    </tr>\n",
       "    <tr>\n",
       "      <th>38517</th>\n",
       "      <td>0</td>\n",
       "      <td>0</td>\n",
       "    </tr>\n",
       "    <tr>\n",
       "      <th>12050</th>\n",
       "      <td>0</td>\n",
       "      <td>0</td>\n",
       "    </tr>\n",
       "    <tr>\n",
       "      <th>29180</th>\n",
       "      <td>0</td>\n",
       "      <td>0</td>\n",
       "    </tr>\n",
       "    <tr>\n",
       "      <th>96948</th>\n",
       "      <td>0</td>\n",
       "      <td>0</td>\n",
       "    </tr>\n",
       "    <tr>\n",
       "      <th>94720</th>\n",
       "      <td>0</td>\n",
       "      <td>0</td>\n",
       "    </tr>\n",
       "  </tbody>\n",
       "</table>\n",
       "<p>56090 rows × 2 columns</p>\n",
       "</div>"
      ],
      "text/plain": [
       "        RainTomorrow  Predict_Test\n",
       "161779             1             1\n",
       "72035              0             0\n",
       "41735              0             0\n",
       "145976             1             1\n",
       "32233              0             0\n",
       "...              ...           ...\n",
       "38517              0             0\n",
       "12050              0             0\n",
       "29180              0             0\n",
       "96948              0             0\n",
       "94720              0             0\n",
       "\n",
       "[56090 rows x 2 columns]"
      ]
     },
     "execution_count": 70,
     "metadata": {},
     "output_type": "execute_result"
    }
   ],
   "source": [
    "test=pd.DataFrame(y_test)\n",
    "test['Predict_Test']=y_pred_dtc_test\n",
    "test"
   ]
  },
  {
   "cell_type": "markdown",
   "metadata": {
    "id": "rz6a1ux28RGR"
   },
   "source": [
    "Menggunakan dataframe untuk melihat 10 hasil output prediksi dari data X_test. Kemudian dibandingkan dengan data real dari y_test, yang menunjukkan 3 perbedaaan hasil dari 10 data yang ditunjukkan."
   ]
  },
  {
   "cell_type": "markdown",
   "metadata": {
    "id": "LMSBntwLC1c5"
   },
   "source": [
    "## Random Forest"
   ]
  },
  {
   "cell_type": "code",
   "execution_count": 71,
   "metadata": {
    "id": "6splI0l-FBsg"
   },
   "outputs": [],
   "source": [
    "#param_dist = {'n_estimators': [80,90,100,110,120],\n",
    "#              'max_features': ['auto','sqrt','log2'],\n",
    "#              'max_depth': [10,12,14,16,18],\n",
    "#              'min_samples_split': [2,5,8,10],\n",
    "#              'min_samples_leaf': [1,2,4,8]}\n",
    "#\n",
    "#random_search = RandomizedSearchCV(rfc, param_distributions=param_dist,\n",
    "#                                   n_iter=10, cv=5, scoring='accuracy',\n",
    "#                                   random_state=42)\n",
    "#random_search.fit(X_train, y_train)\n",
    "#print(random_search.best_params_)"
   ]
  },
  {
   "cell_type": "markdown",
   "metadata": {
    "id": "JPIcuXfV8RzP"
   },
   "source": [
    "Dilakukan hyperparameter tuning menggunakan random search untuk Random Forest Classifier didapatkan parameter terbaik adalah {'n_estimators': 110, 'min_samples_split': 2, 'min_samples_leaf': 1, 'max_features': 'log2', 'max_depth': 18}"
   ]
  },
  {
   "cell_type": "code",
   "execution_count": 72,
   "metadata": {
    "id": "B_646dGZxJde"
   },
   "outputs": [],
   "source": [
    "rfc = RandomForestClassifier(n_estimators= 110,max_depth= 18,min_samples_split=2 ,min_samples_leaf= 1,max_features= 'log2' )"
   ]
  },
  {
   "cell_type": "markdown",
   "metadata": {
    "id": "QT8Bi0ci8SX8"
   },
   "source": [
    "Dilakukan pendefinisian ulang model Random Forest Classifier dengan memasukkan parameter terbaik yang didapatkan dari tuning"
   ]
  },
  {
   "cell_type": "code",
   "execution_count": 73,
   "metadata": {
    "id": "0CK9Dh7OC3FE"
   },
   "outputs": [],
   "source": [
    "model_rfc = rfc.fit(X_train,y_train)\n",
    "y_pred_rfc_train=model_rfc.predict(X_train)\n",
    "y_pred_rfc_test=model_rfc.predict(X_test)"
   ]
  },
  {
   "cell_type": "markdown",
   "metadata": {
    "id": "xNKnIJvM8S2Z"
   },
   "source": [
    "Melatih model Random Forest Classifier dengan variabel independen X_train dan target atau variabel dependen y_train, kemudian dilakukan prediksi target dari variabel X_train dan X_test"
   ]
  },
  {
   "cell_type": "code",
   "execution_count": 74,
   "metadata": {
    "colab": {
     "base_uri": "https://localhost:8080/",
     "height": 423
    },
    "id": "RTLfgW3mt1UX",
    "outputId": "1c9f9b32-fa25-4dd7-90a3-e2b9818a8e9f"
   },
   "outputs": [
    {
     "data": {
      "text/html": [
       "<div>\n",
       "<style scoped>\n",
       "    .dataframe tbody tr th:only-of-type {\n",
       "        vertical-align: middle;\n",
       "    }\n",
       "\n",
       "    .dataframe tbody tr th {\n",
       "        vertical-align: top;\n",
       "    }\n",
       "\n",
       "    .dataframe thead th {\n",
       "        text-align: right;\n",
       "    }\n",
       "</style>\n",
       "<table border=\"1\" class=\"dataframe\">\n",
       "  <thead>\n",
       "    <tr style=\"text-align: right;\">\n",
       "      <th></th>\n",
       "      <th>RainTomorrow</th>\n",
       "      <th>Predict_Train</th>\n",
       "    </tr>\n",
       "  </thead>\n",
       "  <tbody>\n",
       "    <tr>\n",
       "      <th>24580</th>\n",
       "      <td>0</td>\n",
       "      <td>0</td>\n",
       "    </tr>\n",
       "    <tr>\n",
       "      <th>51127</th>\n",
       "      <td>0</td>\n",
       "      <td>0</td>\n",
       "    </tr>\n",
       "    <tr>\n",
       "      <th>136286</th>\n",
       "      <td>1</td>\n",
       "      <td>1</td>\n",
       "    </tr>\n",
       "    <tr>\n",
       "      <th>182468</th>\n",
       "      <td>1</td>\n",
       "      <td>1</td>\n",
       "    </tr>\n",
       "    <tr>\n",
       "      <th>158145</th>\n",
       "      <td>1</td>\n",
       "      <td>1</td>\n",
       "    </tr>\n",
       "    <tr>\n",
       "      <th>...</th>\n",
       "      <td>...</td>\n",
       "      <td>...</td>\n",
       "    </tr>\n",
       "    <tr>\n",
       "      <th>152315</th>\n",
       "      <td>1</td>\n",
       "      <td>1</td>\n",
       "    </tr>\n",
       "    <tr>\n",
       "      <th>176963</th>\n",
       "      <td>1</td>\n",
       "      <td>1</td>\n",
       "    </tr>\n",
       "    <tr>\n",
       "      <th>117952</th>\n",
       "      <td>0</td>\n",
       "      <td>0</td>\n",
       "    </tr>\n",
       "    <tr>\n",
       "      <th>173685</th>\n",
       "      <td>1</td>\n",
       "      <td>1</td>\n",
       "    </tr>\n",
       "    <tr>\n",
       "      <th>43567</th>\n",
       "      <td>0</td>\n",
       "      <td>0</td>\n",
       "    </tr>\n",
       "  </tbody>\n",
       "</table>\n",
       "<p>130876 rows × 2 columns</p>\n",
       "</div>"
      ],
      "text/plain": [
       "        RainTomorrow  Predict_Train\n",
       "24580              0              0\n",
       "51127              0              0\n",
       "136286             1              1\n",
       "182468             1              1\n",
       "158145             1              1\n",
       "...              ...            ...\n",
       "152315             1              1\n",
       "176963             1              1\n",
       "117952             0              0\n",
       "173685             1              1\n",
       "43567              0              0\n",
       "\n",
       "[130876 rows x 2 columns]"
      ]
     },
     "execution_count": 74,
     "metadata": {},
     "output_type": "execute_result"
    }
   ],
   "source": [
    "train=pd.DataFrame(y_train)\n",
    "train['Predict_Train']=y_pred_rfc_train\n",
    "train"
   ]
  },
  {
   "cell_type": "markdown",
   "metadata": {
    "id": "TzPai11w8TcL"
   },
   "source": [
    "Menggunakan dataframe untuk melihat 10 hasil output prediksi dari data X_train yang merupakan data untuk membuat prediksi tersebut. Kemudian dibandingkan dengan data real dari y_train, yang menunjukkan hasil dari 10 data sama."
   ]
  },
  {
   "cell_type": "code",
   "execution_count": 75,
   "metadata": {
    "colab": {
     "base_uri": "https://localhost:8080/",
     "height": 423
    },
    "id": "hRZnbqZGt07m",
    "outputId": "230a49e7-87c8-4c2c-8f88-532bed4ef027"
   },
   "outputs": [
    {
     "data": {
      "text/html": [
       "<div>\n",
       "<style scoped>\n",
       "    .dataframe tbody tr th:only-of-type {\n",
       "        vertical-align: middle;\n",
       "    }\n",
       "\n",
       "    .dataframe tbody tr th {\n",
       "        vertical-align: top;\n",
       "    }\n",
       "\n",
       "    .dataframe thead th {\n",
       "        text-align: right;\n",
       "    }\n",
       "</style>\n",
       "<table border=\"1\" class=\"dataframe\">\n",
       "  <thead>\n",
       "    <tr style=\"text-align: right;\">\n",
       "      <th></th>\n",
       "      <th>RainTomorrow</th>\n",
       "      <th>Predict_Test</th>\n",
       "    </tr>\n",
       "  </thead>\n",
       "  <tbody>\n",
       "    <tr>\n",
       "      <th>161779</th>\n",
       "      <td>1</td>\n",
       "      <td>1</td>\n",
       "    </tr>\n",
       "    <tr>\n",
       "      <th>72035</th>\n",
       "      <td>0</td>\n",
       "      <td>0</td>\n",
       "    </tr>\n",
       "    <tr>\n",
       "      <th>41735</th>\n",
       "      <td>0</td>\n",
       "      <td>0</td>\n",
       "    </tr>\n",
       "    <tr>\n",
       "      <th>145976</th>\n",
       "      <td>1</td>\n",
       "      <td>1</td>\n",
       "    </tr>\n",
       "    <tr>\n",
       "      <th>32233</th>\n",
       "      <td>0</td>\n",
       "      <td>0</td>\n",
       "    </tr>\n",
       "    <tr>\n",
       "      <th>...</th>\n",
       "      <td>...</td>\n",
       "      <td>...</td>\n",
       "    </tr>\n",
       "    <tr>\n",
       "      <th>38517</th>\n",
       "      <td>0</td>\n",
       "      <td>0</td>\n",
       "    </tr>\n",
       "    <tr>\n",
       "      <th>12050</th>\n",
       "      <td>0</td>\n",
       "      <td>0</td>\n",
       "    </tr>\n",
       "    <tr>\n",
       "      <th>29180</th>\n",
       "      <td>0</td>\n",
       "      <td>0</td>\n",
       "    </tr>\n",
       "    <tr>\n",
       "      <th>96948</th>\n",
       "      <td>0</td>\n",
       "      <td>0</td>\n",
       "    </tr>\n",
       "    <tr>\n",
       "      <th>94720</th>\n",
       "      <td>0</td>\n",
       "      <td>1</td>\n",
       "    </tr>\n",
       "  </tbody>\n",
       "</table>\n",
       "<p>56090 rows × 2 columns</p>\n",
       "</div>"
      ],
      "text/plain": [
       "        RainTomorrow  Predict_Test\n",
       "161779             1             1\n",
       "72035              0             0\n",
       "41735              0             0\n",
       "145976             1             1\n",
       "32233              0             0\n",
       "...              ...           ...\n",
       "38517              0             0\n",
       "12050              0             0\n",
       "29180              0             0\n",
       "96948              0             0\n",
       "94720              0             1\n",
       "\n",
       "[56090 rows x 2 columns]"
      ]
     },
     "execution_count": 75,
     "metadata": {},
     "output_type": "execute_result"
    }
   ],
   "source": [
    "test=pd.DataFrame(y_test)\n",
    "test['Predict_Test']=y_pred_rfc_test\n",
    "test"
   ]
  },
  {
   "cell_type": "markdown",
   "metadata": {
    "id": "aZNAtfrg8UMP"
   },
   "source": [
    "Menggunakan dataframe untuk melihat 10 hasil output prediksi dari data X_test. Kemudian dibandingkan dengan data real dari y_test, yang menunjukkan 1 perbedaan hasil dari 10 data yang ditunjukkan."
   ]
  },
  {
   "cell_type": "markdown",
   "metadata": {
    "id": "X079mhKaDCPz"
   },
   "source": [
    "## Naive Bayes"
   ]
  },
  {
   "cell_type": "code",
   "execution_count": 76,
   "metadata": {
    "id": "jv9pBP0NuyqB"
   },
   "outputs": [],
   "source": [
    "#param_grid={\n",
    "#    'var_smoothing':[1e-20,1e-15,1e-10]\n",
    "#}\n",
    "#\n",
    "#grid_search = GridSearchCV(nb, param_grid, cv=5)\n",
    "#grid_search.fit(X_train, y_train)\n",
    "#print(grid_search.best_params_)"
   ]
  },
  {
   "cell_type": "markdown",
   "metadata": {
    "id": "2opzHFC98U5u"
   },
   "source": [
    "Dilakukan hyperparameter tuning menggunakan grid search untuk Naive Bayes didapatkan parameter terbaik adalah {'var_smoothing': 1e-20}"
   ]
  },
  {
   "cell_type": "code",
   "execution_count": 77,
   "metadata": {
    "id": "Mbw6jMkJv0tP"
   },
   "outputs": [],
   "source": [
    "nb = GaussianNB(var_smoothing=1e-20)"
   ]
  },
  {
   "cell_type": "markdown",
   "metadata": {
    "id": "yqtwRdlZ8VXZ"
   },
   "source": [
    "Dilakukan pendefinisian ulang model Naive Bayes dengan memasukkan parameter terbaik yang didapatkan dari tuning"
   ]
  },
  {
   "cell_type": "code",
   "execution_count": 78,
   "metadata": {
    "id": "_anl5QGYuQsx"
   },
   "outputs": [],
   "source": [
    "model_nb = nb.fit(X_train,y_train)\n",
    "y_pred_nb_train=model_nb.predict(X_train)\n",
    "y_pred_nb_test=model_nb.predict(X_test)"
   ]
  },
  {
   "cell_type": "markdown",
   "metadata": {
    "id": "RiN3CriS8V3p"
   },
   "source": [
    "Melatih model Naive Bayes dengan variabel independen X_train dan target atau variabel dependen y_train, kemudian dilakukan prediksi target dari variabel X_train dan X_test"
   ]
  },
  {
   "cell_type": "code",
   "execution_count": 79,
   "metadata": {
    "colab": {
     "base_uri": "https://localhost:8080/",
     "height": 423
    },
    "id": "Dv8sWkeouMLA",
    "outputId": "a608bb2c-c196-4d39-cdb6-94bb07b4ca15"
   },
   "outputs": [
    {
     "data": {
      "text/html": [
       "<div>\n",
       "<style scoped>\n",
       "    .dataframe tbody tr th:only-of-type {\n",
       "        vertical-align: middle;\n",
       "    }\n",
       "\n",
       "    .dataframe tbody tr th {\n",
       "        vertical-align: top;\n",
       "    }\n",
       "\n",
       "    .dataframe thead th {\n",
       "        text-align: right;\n",
       "    }\n",
       "</style>\n",
       "<table border=\"1\" class=\"dataframe\">\n",
       "  <thead>\n",
       "    <tr style=\"text-align: right;\">\n",
       "      <th></th>\n",
       "      <th>RainTomorrow</th>\n",
       "      <th>Predict_Train</th>\n",
       "    </tr>\n",
       "  </thead>\n",
       "  <tbody>\n",
       "    <tr>\n",
       "      <th>24580</th>\n",
       "      <td>0</td>\n",
       "      <td>0</td>\n",
       "    </tr>\n",
       "    <tr>\n",
       "      <th>51127</th>\n",
       "      <td>0</td>\n",
       "      <td>0</td>\n",
       "    </tr>\n",
       "    <tr>\n",
       "      <th>136286</th>\n",
       "      <td>1</td>\n",
       "      <td>1</td>\n",
       "    </tr>\n",
       "    <tr>\n",
       "      <th>182468</th>\n",
       "      <td>1</td>\n",
       "      <td>1</td>\n",
       "    </tr>\n",
       "    <tr>\n",
       "      <th>158145</th>\n",
       "      <td>1</td>\n",
       "      <td>1</td>\n",
       "    </tr>\n",
       "    <tr>\n",
       "      <th>...</th>\n",
       "      <td>...</td>\n",
       "      <td>...</td>\n",
       "    </tr>\n",
       "    <tr>\n",
       "      <th>152315</th>\n",
       "      <td>1</td>\n",
       "      <td>1</td>\n",
       "    </tr>\n",
       "    <tr>\n",
       "      <th>176963</th>\n",
       "      <td>1</td>\n",
       "      <td>1</td>\n",
       "    </tr>\n",
       "    <tr>\n",
       "      <th>117952</th>\n",
       "      <td>0</td>\n",
       "      <td>0</td>\n",
       "    </tr>\n",
       "    <tr>\n",
       "      <th>173685</th>\n",
       "      <td>1</td>\n",
       "      <td>1</td>\n",
       "    </tr>\n",
       "    <tr>\n",
       "      <th>43567</th>\n",
       "      <td>0</td>\n",
       "      <td>0</td>\n",
       "    </tr>\n",
       "  </tbody>\n",
       "</table>\n",
       "<p>130876 rows × 2 columns</p>\n",
       "</div>"
      ],
      "text/plain": [
       "        RainTomorrow  Predict_Train\n",
       "24580              0              0\n",
       "51127              0              0\n",
       "136286             1              1\n",
       "182468             1              1\n",
       "158145             1              1\n",
       "...              ...            ...\n",
       "152315             1              1\n",
       "176963             1              1\n",
       "117952             0              0\n",
       "173685             1              1\n",
       "43567              0              0\n",
       "\n",
       "[130876 rows x 2 columns]"
      ]
     },
     "execution_count": 79,
     "metadata": {},
     "output_type": "execute_result"
    }
   ],
   "source": [
    "train=pd.DataFrame(y_train)\n",
    "train['Predict_Train']=y_pred_nb_train\n",
    "train"
   ]
  },
  {
   "cell_type": "markdown",
   "metadata": {
    "id": "OinveqwQ8Wo2"
   },
   "source": [
    "Menggunakan dataframe untuk melihat 10 hasil output prediksi dari data X_train yang merupakan data untuk membuat prediksi tersebut. Kemudian dibandingkan dengan data real dari y_train, yang menunjukkan hasil dari 10 data sama."
   ]
  },
  {
   "cell_type": "code",
   "execution_count": 80,
   "metadata": {
    "colab": {
     "base_uri": "https://localhost:8080/",
     "height": 423
    },
    "id": "5Ol36pa3DDNY",
    "outputId": "a1f4b6df-2b70-4af7-cbf3-665accc39588"
   },
   "outputs": [
    {
     "data": {
      "text/html": [
       "<div>\n",
       "<style scoped>\n",
       "    .dataframe tbody tr th:only-of-type {\n",
       "        vertical-align: middle;\n",
       "    }\n",
       "\n",
       "    .dataframe tbody tr th {\n",
       "        vertical-align: top;\n",
       "    }\n",
       "\n",
       "    .dataframe thead th {\n",
       "        text-align: right;\n",
       "    }\n",
       "</style>\n",
       "<table border=\"1\" class=\"dataframe\">\n",
       "  <thead>\n",
       "    <tr style=\"text-align: right;\">\n",
       "      <th></th>\n",
       "      <th>RainTomorrow</th>\n",
       "      <th>Predict_Test</th>\n",
       "    </tr>\n",
       "  </thead>\n",
       "  <tbody>\n",
       "    <tr>\n",
       "      <th>161779</th>\n",
       "      <td>1</td>\n",
       "      <td>0</td>\n",
       "    </tr>\n",
       "    <tr>\n",
       "      <th>72035</th>\n",
       "      <td>0</td>\n",
       "      <td>0</td>\n",
       "    </tr>\n",
       "    <tr>\n",
       "      <th>41735</th>\n",
       "      <td>0</td>\n",
       "      <td>0</td>\n",
       "    </tr>\n",
       "    <tr>\n",
       "      <th>145976</th>\n",
       "      <td>1</td>\n",
       "      <td>0</td>\n",
       "    </tr>\n",
       "    <tr>\n",
       "      <th>32233</th>\n",
       "      <td>0</td>\n",
       "      <td>0</td>\n",
       "    </tr>\n",
       "    <tr>\n",
       "      <th>...</th>\n",
       "      <td>...</td>\n",
       "      <td>...</td>\n",
       "    </tr>\n",
       "    <tr>\n",
       "      <th>38517</th>\n",
       "      <td>0</td>\n",
       "      <td>0</td>\n",
       "    </tr>\n",
       "    <tr>\n",
       "      <th>12050</th>\n",
       "      <td>0</td>\n",
       "      <td>0</td>\n",
       "    </tr>\n",
       "    <tr>\n",
       "      <th>29180</th>\n",
       "      <td>0</td>\n",
       "      <td>0</td>\n",
       "    </tr>\n",
       "    <tr>\n",
       "      <th>96948</th>\n",
       "      <td>0</td>\n",
       "      <td>0</td>\n",
       "    </tr>\n",
       "    <tr>\n",
       "      <th>94720</th>\n",
       "      <td>0</td>\n",
       "      <td>0</td>\n",
       "    </tr>\n",
       "  </tbody>\n",
       "</table>\n",
       "<p>56090 rows × 2 columns</p>\n",
       "</div>"
      ],
      "text/plain": [
       "        RainTomorrow  Predict_Test\n",
       "161779             1             0\n",
       "72035              0             0\n",
       "41735              0             0\n",
       "145976             1             0\n",
       "32233              0             0\n",
       "...              ...           ...\n",
       "38517              0             0\n",
       "12050              0             0\n",
       "29180              0             0\n",
       "96948              0             0\n",
       "94720              0             0\n",
       "\n",
       "[56090 rows x 2 columns]"
      ]
     },
     "execution_count": 80,
     "metadata": {},
     "output_type": "execute_result"
    }
   ],
   "source": [
    "test=pd.DataFrame(y_test)\n",
    "test['Predict_Test']=y_pred_nb_test\n",
    "test"
   ]
  },
  {
   "cell_type": "markdown",
   "metadata": {
    "id": "pjgdLQ6S8XU5"
   },
   "source": [
    "Menggunakan dataframe untuk melihat 10 hasil output prediksi dari data X_test. Kemudian dibandingkan dengan data real dari y_test, yang menunjukkan 2 perbedaan hasil dari 10 data yang ditunjukkan."
   ]
  },
  {
   "cell_type": "markdown",
   "metadata": {
    "id": "-zCkfUaoA-jy"
   },
   "source": [
    "# Evaluasi Model"
   ]
  },
  {
   "cell_type": "markdown",
   "metadata": {
    "id": "cHxlH2L5BpEK"
   },
   "source": [
    "## Logistic Regression"
   ]
  },
  {
   "cell_type": "code",
   "execution_count": 81,
   "metadata": {
    "colab": {
     "base_uri": "https://localhost:8080/",
     "height": 716
    },
    "id": "aOChaj_VBosj",
    "outputId": "95f43c2f-6fd4-47b5-ef59-daf93436b123"
   },
   "outputs": [
    {
     "name": "stdout",
     "output_type": "stream",
     "text": [
      "Accuracy score data train model Logistic Regression adalah : 0.7836654543231761\n",
      "Accuracy score data test model Logistic Regression adalah : 0.7813335710465323\n",
      "\n",
      "Hasil Classification Report Logistic Regression\n",
      "              precision    recall  f1-score   support\n",
      "\n",
      "           0       0.77      0.79      0.78     27875\n",
      "           1       0.79      0.77      0.78     28215\n",
      "\n",
      "    accuracy                           0.78     56090\n",
      "   macro avg       0.78      0.78      0.78     56090\n",
      "weighted avg       0.78      0.78      0.78     56090\n",
      "\n"
     ]
    },
    {
     "data": {
      "image/png": "[encoded data removed]",
      "text/plain": [
       "<Figure size 432x288 with 2 Axes>"
      ]
     },
     "metadata": {
      "needs_background": "light"
     },
     "output_type": "display_data"
    }
   ],
   "source": [
    "print('Accuracy score data train model Logistic Regression adalah :',accuracy_score(y_train, y_pred_lr_train))\n",
    "print('Accuracy score data test model Logistic Regression adalah :',accuracy_score(y_test, y_pred_lr_test))\n",
    "\n",
    "print('\\nHasil Classification Report Logistic Regression')\n",
    "print(classification_report(y_test,y_pred_lr_test)) \n",
    "\n",
    "cm_lr = confusion_matrix(y_test,y_pred_lr_test)\n",
    "ax= plt.subplot()\n",
    "sns.heatmap(cm_lr, annot=True, fmt='g', ax=ax);  #annot=True to annotate cells, ftm='g' to disable scientific notation\n",
    "\n",
    "# labels, title and ticks\n",
    "ax.set_xlabel('Predicted labels');ax.set_ylabel('True labels'); \n",
    "ax.set_title('Confusion Matrix Logistic Regression', y=1.02, fontsize=15); \n",
    "ax.xaxis.set_ticklabels(['No', 'Yes']); ax.yaxis.set_ticklabels(['No', 'Yes']);"
   ]
  },
  {
   "cell_type": "markdown",
   "metadata": {
    "id": "f5SplddRqu1o"
   },
   "source": [
    "> Accuracy score mewakili seberapa baik model tersebut dalam memprediksi seberapa baik nilai cocok dibandingkan dengan nilai aslinya. Rentang nilai diwakili dari 0 sampai 1 dan diartikan sebagai presentase, semakin tinggi nilainya, semakin baik modelnya. Terlihat hasil akurasi pada model Logistic Regression sebesar 0.7813 atau sebesar 78% dapat disimpulkan bahwa model tersebut sudah cukup baik dalam memprediksi data. Juga dapat dilihat dari selisih accuracy score data training dan data testing tidak cukup besar sehingga dapat disimpulkan tidak terjadi overfitting pada model tersebut.\n",
    "\n",
    "> Dari classsification Report diketahui precision adalah banyaknya sampel yang benar-benar termasuk dalam kelas positif dari semua sampel yang diprediksi menjadi kelas positif oleh model, sedangkan recall adalah banyaknya sampel yang diprediksi dengan benar menjadi kelas positif dari semua s\n",
    "ampel yang benar-benar termasuk kelas positif. Dari hasil analisis nilai recall sebesar 0.79 (:0) dan 0.77 (:1) cukup mendekati nilai precision yaitu 0.77 (:0) dan 0.79 (:1), sehingga model sudah cukup baik dalam memprediksi. Namun, untuk membuat model semakin akurat selisih antara nilai recall dan precision harus semakin kecil lagi.\n",
    "\n",
    "> Dari confusion matrix diketahui bahwa True negatif (TN) sebanyak 22047, false negatif (FN) sebanyak 5828, false positif (FP) sebanyak 6437, dan true positif (TP) sebanyak 21778.\n"
   ]
  },
  {
   "cell_type": "markdown",
   "metadata": {
    "id": "5rPNIaWqCinu"
   },
   "source": [
    "## K-Nearest Neighbors (KNN)"
   ]
  },
  {
   "cell_type": "code",
   "execution_count": 82,
   "metadata": {
    "colab": {
     "base_uri": "https://localhost:8080/",
     "height": 716
    },
    "id": "YbIkqTqSCjc0",
    "outputId": "4dcd5d73-c49c-4a65-9566-85ffafa7f0bb"
   },
   "outputs": [
    {
     "name": "stdout",
     "output_type": "stream",
     "text": [
      "Accuracy score data train model K-Nearest Neighbors adalah : 0.850369815703414\n",
      "Accuracy score data test model K-Nearest Neighbors adalah : 0.8239614904617579\n",
      "\n",
      "Hasil Classification Report K-Nearest Neighbors\n",
      "              precision    recall  f1-score   support\n",
      "\n",
      "           0       0.86      0.77      0.81     27875\n",
      "           1       0.79      0.88      0.83     28215\n",
      "\n",
      "    accuracy                           0.82     56090\n",
      "   macro avg       0.83      0.82      0.82     56090\n",
      "weighted avg       0.83      0.82      0.82     56090\n",
      "\n"
     ]
    },
    {
     "data": {
      "image/png": "[encoded data removed]",
      "text/plain": [
       "<Figure size 432x288 with 2 Axes>"
      ]
     },
     "metadata": {
      "needs_background": "light"
     },
     "output_type": "display_data"
    }
   ],
   "source": [
    "print('Accuracy score data train model K-Nearest Neighbors adalah :',accuracy_score(y_train, y_pred_knn_train))\n",
    "print('Accuracy score data test model K-Nearest Neighbors adalah :',accuracy_score(y_test, y_pred_knn_test))\n",
    "\n",
    "print('\\nHasil Classification Report K-Nearest Neighbors')\n",
    "print(classification_report(y_test,y_pred_knn_test)) \n",
    "\n",
    "cm_knn = confusion_matrix(y_test,y_pred_knn_test)\n",
    "ax= plt.subplot()\n",
    "sns.heatmap(cm_knn, annot=True, fmt='g', ax=ax);  #annot=True to annotate cells, ftm='g' to disable scientific notation\n",
    "\n",
    "# labels, title and ticks\n",
    "ax.set_xlabel('Predicted labels');ax.set_ylabel('True labels'); \n",
    "ax.set_title('Confusion Matrix K-Nearest Neighbors', y=1.02, fontsize=15); \n",
    "ax.xaxis.set_ticklabels(['No', 'Yes']); ax.yaxis.set_ticklabels(['No', 'Yes']);"
   ]
  },
  {
   "cell_type": "markdown",
   "metadata": {
    "id": "riSPq1x3q4DT"
   },
   "source": [
    "> Accuracy score mewakili seberapa baik model tersebut dalam memprediksi seberapa baik nilai cocok dibandingkan dengan nilai aslinya. Rentang nilai diwakili dari 0 sampai 1 dan diartikan sebagai presentase, semakin tinggi nilainya, semakin baik modelnya. Terlihat hasil akurasi pada data test model K-Nearest Neighbors sebesar 0.8239 atau sebesar 82% dapat disimpulkan bahwa model tersebut sudah cukup baik dalam memprediksi data. Juga dapat dilihat dari selisih accuracy score data training dan data testing tidak cukup besar sehingga dapat disimpulkan tidak terjadi overfitting pada model tersebut.\n",
    "\n",
    "> Dari classsification Report diketahui precision adalah banyaknya sampel yang benar-benar termasuk dalam kelas positif dari semua sampel yang diprediksi menjadi kelas positif oleh model, sedangkan recall adalah banyaknya sampel yang diprediksi dengan benar menjadi kelas positif dari semua sampel yang benar-benar termasuk kelas positif. Dari hasil analisis nilai recall sebesar 0.77 (:0) dan 0.88 (:1) cukup mendekati nilai precision yaitu 0.86 (:0) dan 0.79 (:1), sehingga model sudah cukup baik dalam memprediksi. Namun, untuk membuat model semakin akurat selisih antara nilai recall dan precision harus semakin kecil lagi.\n",
    "\n",
    "> Dari confusion matrix diketahui bahwa True negatif (TN) sebanyak 21408, false negatif (FN) sebanyak 6467, false positif (FP) sebanyak 3407, dan true positif (TP) sebanyak 24808.\n"
   ]
  },
  {
   "cell_type": "markdown",
   "metadata": {
    "id": "7t8A9BEaBn3Q"
   },
   "source": [
    "## Support Vector Machine (SVM)"
   ]
  },
  {
   "cell_type": "code",
   "execution_count": 83,
   "metadata": {
    "colab": {
     "base_uri": "https://localhost:8080/",
     "height": 716
    },
    "id": "xLwSh_HaA_uQ",
    "outputId": "ce0d9c3a-2b45-444d-c39b-982ef2ea1d7e"
   },
   "outputs": [
    {
     "name": "stdout",
     "output_type": "stream",
     "text": [
      "Accuracy score data train model Support Vector Machine adalah : 0.8450714285714286\n",
      "Accuracy score data test model Support Vector Machine adalah : 0.8428333333333333\n",
      "\n",
      "Hasil Classification Report Logistic Regression\n",
      "              precision    recall  f1-score   support\n",
      "\n",
      "           0       0.86      0.95      0.90      4672\n",
      "           1       0.74      0.45      0.56      1328\n",
      "\n",
      "    accuracy                           0.84      6000\n",
      "   macro avg       0.80      0.70      0.73      6000\n",
      "weighted avg       0.83      0.84      0.83      6000\n",
      "\n"
     ]
    },
    {
     "data": {
      "image/png": "[encoded data removed]",
      "text/plain": [
       "<Figure size 432x288 with 2 Axes>"
      ]
     },
     "metadata": {
      "needs_background": "light"
     },
     "output_type": "display_data"
    }
   ],
   "source": [
    "print('Accuracy score data train model Support Vector Machine adalah :',accuracy_score(y_train_svm, y_pred_svm_train))\n",
    "print('Accuracy score data test model Support Vector Machine adalah :',accuracy_score(y_test_svm, y_pred_svm_test))\n",
    "\n",
    "print('\\nHasil Classification Report Logistic Regression')\n",
    "print(classification_report(y_test_svm,y_pred_svm_test)) \n",
    "\n",
    "cm_svm = confusion_matrix(y_test_svm,y_pred_svm_test)\n",
    "ax= plt.subplot()\n",
    "sns.heatmap(cm_svm, annot=True, fmt='g', ax=ax);  #annot=True to annotate cells, ftm='g' to disable scientific notation\n",
    "\n",
    "# labels, title and ticks\n",
    "ax.set_xlabel('Predicted labels');ax.set_ylabel('True labels'); \n",
    "ax.set_title('Confusion Matrix Support Vector Machine', y=1.02, fontsize=15); \n",
    "ax.xaxis.set_ticklabels(['No', 'Yes']); ax.yaxis.set_ticklabels(['No', 'Yes']);"
   ]
  },
  {
   "cell_type": "markdown",
   "metadata": {
    "id": "EWLkiuUSsN_W"
   },
   "source": [
    "> Accuracy score mewakili seberapa baik model tersebut dalam memprediksi seberapa baik nilai cocok dibandingkan dengan nilai aslinya. Rentang nilai diwakili dari 0 sampai 1 dan diartikan sebagai presentase, semakin tinggi nilainya, semakin baik modelnya. Terlihat hasil akurasi pada model Support Vector Machine sebesar 0.846 atau sebesar 85% dapat disimpulkan bahwa model tersebut sudah cukup baik dalam memprediksi data. Juga dapat dilihat dari selisih accuracy score data training dan data testing tidak cukup besar sehingga dapat disimpulkan tidak terjadi overfitting pada model tersebut.\n",
    "\n",
    "> Dari classsification Report diketahui precision adalah banyaknya sampel yang benar-benar termasuk dalam kelas positif dari semua sampel yang diprediksi menjadi kelas positif oleh model, sedangkan recall adalah banyaknya sampel yang diprediksi dengan benar menjadi kelas positif dari semua sampel yang benar-benar termasuk kelas positif. Dari hasil analisis nilai recall sebesar 0.95 (:0) dan 0.46 (:1) cukup mendekati nilai precision yaitu 0.86 (:0) dan 0.74 (:1), sehingga model sudah cukup baik dalam memprediksi. Namun, untuk membuat model semakin akurat selisih antara nilai recall dan precision harus semakin kecil lagi.\n",
    "\n",
    "> Dari confusion matrix diketahui bahwa True negatif (TN) sebanyak 4464, false negatif (FN) sebanyak 215, false positif (FP) sebanyak 707, dan true positif (TP) sebanyak 614.\n",
    "\n",
    ">**Note :\n",
    "Karena model SVM lebih cocok dipakai untuk jumlah data yang kecil, maka dalam analisis SVM dilakukan penyesuaian terhadap data tersebut**\n"
   ]
  },
  {
   "cell_type": "markdown",
   "metadata": {
    "id": "4V9J4bCuCwKN"
   },
   "source": [
    "## Decision Tree"
   ]
  },
  {
   "cell_type": "code",
   "execution_count": 84,
   "metadata": {
    "colab": {
     "base_uri": "https://localhost:8080/",
     "height": 716
    },
    "id": "e8PtnVaYCw9T",
    "outputId": "dd416fc8-4bde-4f52-82c4-3f4a6e6ea462"
   },
   "outputs": [
    {
     "name": "stdout",
     "output_type": "stream",
     "text": [
      "Accuracy score data train model Decision Tree adalah : 0.886167058895443\n",
      "Accuracy score data test model Decision Tree adalah : 0.813995364592619\n",
      "\n",
      "Hasil Classification Report Decision Tree\n",
      "              precision    recall  f1-score   support\n",
      "\n",
      "           0       0.81      0.83      0.82     27875\n",
      "           1       0.82      0.80      0.81     28215\n",
      "\n",
      "    accuracy                           0.81     56090\n",
      "   macro avg       0.81      0.81      0.81     56090\n",
      "weighted avg       0.81      0.81      0.81     56090\n",
      "\n"
     ]
    },
    {
     "data": {
      "image/png": "[encoded data removed]",
      "text/plain": [
       "<Figure size 432x288 with 2 Axes>"
      ]
     },
     "metadata": {
      "needs_background": "light"
     },
     "output_type": "display_data"
    }
   ],
   "source": [
    "print('Accuracy score data train model Decision Tree adalah :',accuracy_score(y_train, y_pred_dtc_train))\n",
    "print('Accuracy score data test model Decision Tree adalah :',accuracy_score(y_test, y_pred_dtc_test))\n",
    "\n",
    "print('\\nHasil Classification Report Decision Tree')\n",
    "print(classification_report(y_test,y_pred_dtc_test)) \n",
    "\n",
    "cm_dtc = confusion_matrix(y_test,y_pred_dtc_test)\n",
    "ax= plt.subplot()\n",
    "sns.heatmap(cm_dtc, annot=True, fmt='g', ax=ax);  #annot=True to annotate cells, ftm='g' to disable scientific notation\n",
    "\n",
    "# labels, title and ticks\n",
    "ax.set_xlabel('Predicted labels');ax.set_ylabel('True labels'); \n",
    "ax.set_title('Confusion Matrix Decision tree', y=1.02, fontsize=15); \n",
    "ax.xaxis.set_ticklabels(['No', 'Yes']); ax.yaxis.set_ticklabels(['No', 'Yes']);"
   ]
  },
  {
   "cell_type": "markdown",
   "metadata": {
    "id": "l0YkVIg_sUyp"
   },
   "source": [
    "> Accuracy score mewakili seberapa baik model tersebut dalam memprediksi seberapa baik nilai cocok dibandingkan dengan nilai aslinya. Rentang nilai diwakili dari 0 sampai 1 dan diartikan sebagai presentase, semakin tinggi nilainya, semakin baik modelnya. Terlihat hasil akurasi pada model Decision Tree sebesar 0.8165 atau sebesar 82% dapat disimpulkan bahwa model tersebut sudah cukup baik dalam memprediksi data. Juga dapat dilihat dari selisih accuracy score data training dan data testing cukup besar sehingga dapat disimpulkan terjadi overfitting pada model tersebut.\n",
    "\n",
    "> Dari classsification Report diketahui precision adalah banyaknya sampel yang benar-benar termasuk dalam kelas positif dari semua sampel yang diprediksi menjadi kelas positif oleh model, sedangkan recall adalah banyaknya sampel yang diprediksi dengan benar menjadi kelas positif dari semua sampel yang benar-benar termasuk kelas positif. Dari hasil analisis nilai recall sebesar 0.83 (:0) dan 0.80 (:1) cukup mendekati nilai precision yaitu 0.81 (:0) dan 0.83 (:1), sehingga model sudah cukup baik dalam memprediksi. Namun, untuk membuat model semakin akurat selisih antara nilai recall dan precision harus semakin kecil lagi.\n",
    "\n",
    "> Dari confusion matrix diketahui bahwa True negatif (TN) sebanyak 23089, false negatif (FN) sebanyak 4786, false positif (FP) sebanyak 5503, dan true positif (TP) sebanyak 22712.\n"
   ]
  },
  {
   "cell_type": "markdown",
   "metadata": {
    "id": "xe6S3z1-C5I9"
   },
   "source": [
    "## Random Forest"
   ]
  },
  {
   "cell_type": "code",
   "execution_count": 85,
   "metadata": {
    "colab": {
     "base_uri": "https://localhost:8080/",
     "height": 716
    },
    "id": "X48nG1HzC56y",
    "outputId": "b6ef3847-775a-4a25-e0a7-a0f918c19870"
   },
   "outputs": [
    {
     "name": "stdout",
     "output_type": "stream",
     "text": [
      "Accuracy score data train model Random Forest adalah : 0.9675035911855496\n",
      "Accuracy score data test model Random Forest adalah : 0.8756997682296309\n",
      "\n",
      "Hasil Classification Report Random Forest\n",
      "              precision    recall  f1-score   support\n",
      "\n",
      "           0       0.87      0.88      0.88     27875\n",
      "           1       0.88      0.88      0.88     28215\n",
      "\n",
      "    accuracy                           0.88     56090\n",
      "   macro avg       0.88      0.88      0.88     56090\n",
      "weighted avg       0.88      0.88      0.88     56090\n",
      "\n"
     ]
    },
    {
     "data": {
      "image/png": "[encoded data removed]",
      "text/plain": [
       "<Figure size 432x288 with 2 Axes>"
      ]
     },
     "metadata": {
      "needs_background": "light"
     },
     "output_type": "display_data"
    }
   ],
   "source": [
    "print('Accuracy score data train model Random Forest adalah :',accuracy_score(y_train, y_pred_rfc_train))\n",
    "print('Accuracy score data test model Random Forest adalah :',accuracy_score(y_test, y_pred_rfc_test))\n",
    "\n",
    "print('\\nHasil Classification Report Random Forest')\n",
    "print(classification_report(y_test,y_pred_rfc_test)) \n",
    "\n",
    "cm_rfc = confusion_matrix(y_test,y_pred_rfc_test)\n",
    "ax= plt.subplot()\n",
    "sns.heatmap(cm_rfc, annot=True, fmt='g', ax=ax);  #annot=True to annotate cells, ftm='g' to disable scientific notation\n",
    "\n",
    "# labels, title and ticks\n",
    "ax.set_xlabel('Predicted labels');ax.set_ylabel('True labels'); \n",
    "ax.set_title('Confusion Matrix Random Forest', y=1.02, fontsize=15); \n",
    "ax.xaxis.set_ticklabels(['No', 'Yes']); ax.yaxis.set_ticklabels(['No', 'Yes']);"
   ]
  },
  {
   "cell_type": "markdown",
   "metadata": {
    "id": "033aKTZ-sbg-"
   },
   "source": [
    "> Accuracy score mewakili seberapa baik model tersebut dalam memprediksi seberapa baik nilai cocok dibandingkan dengan nilai aslinya. Rentang nilai diwakili dari 0 sampai 1 dan diartikan sebagai presentase, semakin tinggi nilainya, semakin baik modelnya. Terlihat hasil akurasi pada model Random Forest sebesar 0.8770 pada data test atau sebesar 88% dapat disimpulkan bahwa model tersebut sudah cukup baik dalam memprediksi data. Juga dapat dilihat dari selisih accuracy score data training dan data testingnya cukup besar sehingga dapat disimpulkan terjadi sedikit overfitting pada model tersebut.\n",
    "\n",
    "> Dari classsification Report diketahui precision adalah banyaknya sampel yang benar-benar termasuk dalam kelas positif dari semua sampel yang diprediksi menjadi kelas positif oleh model, sedangkan recall adalah banyaknya sampel yang diprediksi dengan benar menjadi kelas positif dari semua sampel yang benar-benar termasuk kelas positif. Dari hasil analisis nilai recall sebesar 0.88 (:0) dan 0.88 (:1) cukup mendekati nilai precision yaitu 0.88 (:0) dan 0.88 (:1), sehingga model sudah cukup baik dalam memprediksi. Namun, untuk membuat model semakin akurat selisih antara nilai recall dan precision harus semakin kecil lagi.\n",
    "\n",
    "> Dari confusion matrix diketahui bahwa True negatif (TN) sebanyak 24454, false negatif (FN) sebanyak 3421, false positif (FP) sebanyak 3473, dan true positif (TP) sebanyak 24742.\n"
   ]
  },
  {
   "cell_type": "markdown",
   "metadata": {
    "id": "8YvtKGBEDE8U"
   },
   "source": [
    "## Naive Bayes"
   ]
  },
  {
   "cell_type": "code",
   "execution_count": 86,
   "metadata": {
    "colab": {
     "base_uri": "https://localhost:8080/",
     "height": 716
    },
    "id": "Jevd1p1qDFxA",
    "outputId": "2382f0c9-bcc4-4b92-9ce2-583ba50fac04"
   },
   "outputs": [
    {
     "name": "stdout",
     "output_type": "stream",
     "text": [
      "Accuracy score data train model Naive Bayes adalah : 0.7561967052782786\n",
      "Accuracy score data test model Naive Bayes adalah : 0.7551435193439116\n",
      "\n",
      "Hasil Classification Report Naive Bayes\n",
      "              precision    recall  f1-score   support\n",
      "\n",
      "           0       0.71      0.87      0.78     27875\n",
      "           1       0.83      0.64      0.73     28215\n",
      "\n",
      "    accuracy                           0.76     56090\n",
      "   macro avg       0.77      0.76      0.75     56090\n",
      "weighted avg       0.77      0.76      0.75     56090\n",
      "\n"
     ]
    },
    {
     "data": {
      "image/png": "[encoded data removed]",
      "text/plain": [
       "<Figure size 432x288 with 2 Axes>"
      ]
     },
     "metadata": {
      "needs_background": "light"
     },
     "output_type": "display_data"
    }
   ],
   "source": [
    "print('Accuracy score data train model Naive Bayes adalah :',accuracy_score(y_train, y_pred_nb_train))\n",
    "print('Accuracy score data test model Naive Bayes adalah :',accuracy_score(y_test, y_pred_nb_test))\n",
    "\n",
    "print('\\nHasil Classification Report Naive Bayes')\n",
    "print(classification_report(y_test,y_pred_nb_test)) \n",
    "\n",
    "cm_nb = confusion_matrix(y_test,y_pred_nb_test)\n",
    "ax= plt.subplot()\n",
    "sns.heatmap(cm_nb, annot=True, fmt='g', ax=ax);  #annot=True to annotate cells, ftm='g' to disable scientific notation\n",
    "\n",
    "# labels, title and ticks\n",
    "ax.set_xlabel('Predicted labels');ax.set_ylabel('True labels'); \n",
    "ax.set_title('Confusion Matrix Naive Bayes', y=1.02, fontsize=15); \n",
    "ax.xaxis.set_ticklabels(['No', 'Yes']); ax.yaxis.set_ticklabels(['No', 'Yes']);"
   ]
  },
  {
   "cell_type": "markdown",
   "metadata": {
    "id": "7oZZ7YbKsfh1"
   },
   "source": [
    "> Accuracy score mewakili seberapa baik model tersebut dalam memprediksi seberapa baik nilai cocok dibandingkan dengan nilai aslinya. Rentang nilai diwakili dari 0 sampai 1 dan diartikan sebagai presentase, semakin tinggi nilainya, semakin baik modelnya. Terlihat hasil akurasi pada model Naive Bayes sebesar 0.75515 atau sebesar 76% dapat disimpulkan bahwa model tersebut sudah cukup baik dalam memprediksi data. Juga dapat dilihat dari selisih accuracy score data training dan data testing tidak cukup besar sehingga dapat disimpulkan tidak terjadi overfitting pada model tersebut.\n",
    "\n",
    "> Dari classsification Report diketahui precision adalah banyaknya sampel yang benar-benar termasuk dalam kelas positif dari semua sampel yang diprediksi menjadi kelas positif oleh model, sedangkan recall adalah banyaknya sampel yang diprediksi dengan benar menjadi kelas positif dari semua sampel yang benar-benar termasuk kelas positif. Dari hasil analisis nilai recall sebesar 0.87 (:0) dan 0.71 (:1) cukup mendekati nilai precision yaitu 0.64 (:0) dan 0.83 (:1), sehingga model sudah cukup baik dalam memprediksi. Namun, untuk membuat model semakin akurat selisih antara nilai recall dan precision harus semakin kecil lagi.\n",
    "\n",
    "> Dari confusion matrix diketahui bahwa True negatif (TN) sebanyak 24183, false negatif (FN) sebanyak 3692, false positif (FP) sebanyak 10042, dan true positif (TP) sebanyak 18173.\n"
   ]
  },
  {
   "cell_type": "markdown",
   "metadata": {
    "id": "z4vEBV9pBAWa"
   },
   "source": [
    "# Kesimpulan"
   ]
  },
  {
   "cell_type": "markdown",
   "metadata": {
    "id": "SsB4HUf9si6E"
   },
   "source": [
    "**Dari hasil analisis diatas dapat ditarik kesimpulan sebagai berikut :**\n",
    "\n",
    "> Dari hasil analisis feature selection yang pertaama dipilih yaitu MinTemp, MaxTemp, WindGustSpeed, RainTomorrow. Namun, ketika dilakukan analisis akurasi model hanya mendapatkan 80% sehingga untuk mendapatkan hasil yang maksimal dilakukan penambahan feature menjadi MinTemp, MaxTemp, Rainfall, WindGustSpeed, Humidity9am, Humidity3pm, Pressure9am, Pressure3pm dan RainTomorrow karena diketahui beberapa variabel-variabel tersebut  yang paling mempengaruhi terjadinya hujan pada besok (Rain Tomorrow). Dan setelah penambahan feature didapatkan hasil analisis pada nilai akurasi naik menjadi 85%. \n",
    "\n",
    "> Dari diagnostic plot diketahui bahwa variabel-variabel yang dipilih sebagai feature berdistribusi normal, namun terdapat juga variabel yang memiliki skew negatif yaitu variabel humidity9am, pressure9m, presure3m. Variabel yang memiliki skew positif yaitu rainfall dan windgustspeed.\n",
    "\n",
    "> Dari grafik boxplot diketahui bahwa terdapat outliers pada variabel MinTemp, MaxTemp, Rainfall, WindGustSpeed, Humidity9am, Pressure9am, dan Pressure3pm.\n",
    "\n",
    "> Dari model-model machine learning yang telah dianalisis untuk klasifikasi, diambil kesimpulan bahwa terdapat beberapa model yang sudah baik dalam memprediksi target yaitu Logistic Regression, K-Nearest Neighbors dan Naive Bayes, dan dari ketiga model tersebut dipilih **K-Nearest Neighbors**  merupakan model terbaik untuk memprediksi. Karena nilai True Positif (TN) dan True Negatif (TN) termasuk yang paling besar diantara model-model lain secara berurutan yaitu 24808 dan 21408, nilai akurasi skor pada model tersebut juga cukup besar yaitu 82% sehingga dapat dikatakan model sudah baik dalam memprediksiselain itu selisih skor akurasi antara data train dan data test kecil sehingga tidak terjadi undefitting ataupun overfitting.\n",
    "\n",
    "> Untuk memprediksi terjadi hujan atau tidaknya yang terjadi di Australia dari data tersebut variabel-variabel yang harus diperhatikan yaitu MinTemp, MaxTemp, Rainfall, WindGustSpeed, Humidity9am, Humidity3pm, Pressure9am, dan Pressure3pm."
   ]
  },
  {
   "cell_type": "code",
   "execution_count": null,
   "metadata": {},
   "outputs": [],
   "source": []
  }
 ],
 "metadata": {
  "colab": {
   "provenance": []
  },
  "kernelspec": {
   "display_name": "Python 3 (ipykernel)",
   "language": "python",
   "name": "python3"
  },
  "language_info": {
   "codemirror_mode": {
    "name": "ipython",
    "version": 3
   },
   "file_extension": ".py",
   "mimetype": "text/x-python",
   "name": "python",
   "nbconvert_exporter": "python",
   "pygments_lexer": "ipython3",
   "version": "3.9.12"
  }
 },
 "nbformat": 4,
 "nbformat_minor": 1
}
