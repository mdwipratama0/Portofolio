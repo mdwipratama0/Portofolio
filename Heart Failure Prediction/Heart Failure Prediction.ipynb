{
 "cells": [
  {
   "cell_type": "markdown",
   "metadata": {
    "id": "bfLHJ0Qir7M9"
   },
   "source": [
    "# Project 3 Heart Failure Prediction\n",
    "\n",
    "Anggota:\n",
    "1. Muhammad Taufiqul Hakim\n",
    "2. M. Dwi Pratama\n",
    "3. Rossanda Sevia Gadis\n",
    "4. Shafira Almaisa"
   ]
  },
  {
   "cell_type": "markdown",
   "metadata": {
    "id": "JX0JdfIPsJ1S"
   },
   "source": [
    "# Latar Belakang\n",
    "\n",
    ">Penyakit kardiovaskular (CVD) merupakan penyebab kematian nomor 1 secara global, penyakit ini diperkirakan telah merenggut 17,9 juta setiap tahun serta menyumbang 31% dari seluruh kematian di seluruh dunia.\n",
    ">Gagal jantung merupakan peristiwa umum yang disebabkan oleh CVD dan pada dataset terdapat 12 fitur yang dapat digunakan untuk memprediksi kematian akibat gagal jantung.\n",
    ">Sebagian besar penyakit kardiovaskular dapat dicegah dengan mengatasi faktor resiko perilaku seperti penggunaan tembakau, diet tidak sehat dan obesitas, aktivitas fisik dan penggunaan alkohol yang berbahaya.\n",
    ">Orang dengan penyakit kardiovaskular atau yang beresiko tinggi memerlukan deteksi dini di mana model machine learning dapat sangat membantu.\n",
    "\n"
   ]
  },
  {
   "cell_type": "markdown",
   "metadata": {
    "id": "8S-RaL58sJp5"
   },
   "source": [
    "# Data"
   ]
  },
  {
   "cell_type": "markdown",
   "metadata": {
    "id": "ZVNm0DZ8jPQW"
   },
   "source": [
    ">Data yang digunakan pada kasus ini adalah data **Heart Failure Prediction** yang diambil dari Kaggle. Data memiliki feature sebagai berikut:\n",
    "\n",
    ">1. `age` - umur pasien\n",
    ">2. `anaemia` - pengurangan hemoglobin\n",
    "> - 0: tidak\n",
    "> - 1: ya\n",
    ">3. `creatinine_phosphokinase` - level enzim CPK (mcg/L)\n",
    ">4. `diabetes` - riwayat diabetes\n",
    "> - 0: tidak\n",
    "> - 1: ya\n",
    ">5. `ejection_fraction` - persentase darah yang meninggalkan jantung setiap kontraksi jantung (persen)\n",
    ">6. `high_blood_pressure` - riwayat hipertensi\n",
    "> - 0: tidak\n",
    "> - 1: ya\n",
    ">7. `platelets` - jumlah platelet di darah dalam kiloplatelets/mL\n",
    ">8. `serum_creatinine` - level serum creatinine di darah (mg/dL)\n",
    ">9. `serum_sodium` - level serum sodium di darah dalam (mEq/L)\n",
    ">10. `sex` - gender/jenis kelamin\n",
    "> - 0: perempuan\n",
    "> - 1: laki-laki\n",
    ">11. `smoking` - pasien merokok\n",
    "> - 0: tidak\n",
    "> - 1: ya\n",
    ">12. `time` - waktu dalam hari untuk follow-up\n",
    ">13. `DEATH_EVENT` - pasien sudah meninggal saat waktu follow-up\n",
    "> - 0: tidak\n",
    "> - 1: ya"
   ]
  },
  {
   "cell_type": "markdown",
   "metadata": {
    "id": "Ibfbb6VIsOTs"
   },
   "source": [
    "# Capaian"
   ]
  },
  {
   "cell_type": "markdown",
   "metadata": {
    "id": "cZXlpJQwy2Ua"
   },
   "source": [
    ">Capaian dari project ini adalah peserta dapat memahami konsep Classification dengan Ensemble Model, mempersiapkan data untuk digunakan dalam Ensemble Model, mengimplementasikan Ensemble Model untuk membuat prediksi.\n"
   ]
  },
  {
   "cell_type": "markdown",
   "metadata": {
    "id": "pPBSevvLsREL"
   },
   "source": [
    "# Import Pustaka"
   ]
  },
  {
   "cell_type": "markdown",
   "metadata": {
    "id": "k-VOL39R1gfo"
   },
   "source": [
    "Dilakukan proses import pustaka dimana akan diakses beberapa fungsi di dalamnya yang akan digunakan untuk keperluan membangun model klasifikasi ini."
   ]
  },
  {
   "cell_type": "code",
   "execution_count": 1,
   "metadata": {
    "id": "SXeRXuUHrkWI"
   },
   "outputs": [],
   "source": [
    "import pandas as pd\n",
    "import numpy as np\n",
    "\n",
    "# data visualization\n",
    "import matplotlib.pyplot as plt\n",
    "%matplotlib inline\n",
    "import seaborn as sns\n",
    "\n",
    "# data preprocessing\n",
    "from sklearn.model_selection import train_test_split\n",
    "from sklearn.preprocessing import StandardScaler, LabelEncoder\n",
    "from sklearn import preprocessing\n",
    "from imblearn.over_sampling import SMOTE\n",
    "from imblearn.over_sampling import RandomOverSampler\n",
    "\n",
    "# building model\n",
    "from sklearn.linear_model import LogisticRegression\n",
    "from sklearn.svm import SVC\n",
    "from sklearn.tree import DecisionTreeClassifier\n",
    "from sklearn.ensemble import VotingClassifier, StackingClassifier, RandomForestClassifier\n",
    "\n",
    "# model evaluation\n",
    "from sklearn.metrics import classification_report, confusion_matrix\n",
    "from sklearn.metrics import accuracy_score"
   ]
  },
  {
   "cell_type": "markdown",
   "metadata": {
    "id": "1DFCI1p7sUX1"
   },
   "source": [
    "# Data Loading"
   ]
  },
  {
   "cell_type": "markdown",
   "metadata": {
    "id": "8CVInVvIwnVi"
   },
   "source": [
    "Proses impor data dari situs Kaggle dapat dilakukan menggunakan fungsi seperti berikut."
   ]
  },
  {
   "cell_type": "code",
   "execution_count": 2,
   "metadata": {
    "colab": {
     "base_uri": "https://localhost:8080/"
    },
    "id": "WkVG14hWsVrP",
    "outputId": "6825f0fe-16c8-402a-9d7b-adbf9049684e"
   },
   "outputs": [],
   "source": [
    "#! pip install -q kaggle\n",
    "#! mkdir ~/.kaggle\n",
    "#! cp kaggle.json ~/.kaggle/\n",
    "#! chmod 600 ~/.kaggle/kaggle.json"
   ]
  },
  {
   "cell_type": "code",
   "execution_count": 3,
   "metadata": {
    "colab": {
     "base_uri": "https://localhost:8080/"
    },
    "id": "nIQrfTEWukag",
    "outputId": "867b9d56-aa78-4817-832e-2ae7954b2f68"
   },
   "outputs": [],
   "source": [
    "#! kaggle datasets download -d andrewmvd/heart-failure-clinical-data"
   ]
  },
  {
   "cell_type": "code",
   "execution_count": 4,
   "metadata": {
    "colab": {
     "base_uri": "https://localhost:8080/"
    },
    "id": "Z5ETGjomumJq",
    "outputId": "d423ee05-4376-4e5a-ce83-bfc8560b23d7"
   },
   "outputs": [],
   "source": [
    "#!unzip heart-failure-clinical-data.zip"
   ]
  },
  {
   "cell_type": "markdown",
   "metadata": {
    "id": "nBQxc62K1_9Z"
   },
   "source": [
    "Proses mengimpor dataset dilakukan menggunakan fungsi `pd.read_csv`. Untuk menampilkan data teratas digunakan fungsi `.head()`"
   ]
  },
  {
   "cell_type": "code",
   "execution_count": 5,
   "metadata": {
    "colab": {
     "base_uri": "https://localhost:8080/",
     "height": 270
    },
    "id": "BGYzXjTJuwlX",
    "outputId": "398be97d-6e82-49b5-c11b-5e301bd48012"
   },
   "outputs": [
    {
     "data": {
      "text/html": [
       "<div>\n",
       "<style scoped>\n",
       "    .dataframe tbody tr th:only-of-type {\n",
       "        vertical-align: middle;\n",
       "    }\n",
       "\n",
       "    .dataframe tbody tr th {\n",
       "        vertical-align: top;\n",
       "    }\n",
       "\n",
       "    .dataframe thead th {\n",
       "        text-align: right;\n",
       "    }\n",
       "</style>\n",
       "<table border=\"1\" class=\"dataframe\">\n",
       "  <thead>\n",
       "    <tr style=\"text-align: right;\">\n",
       "      <th></th>\n",
       "      <th>age</th>\n",
       "      <th>anaemia</th>\n",
       "      <th>creatinine_phosphokinase</th>\n",
       "      <th>diabetes</th>\n",
       "      <th>ejection_fraction</th>\n",
       "      <th>high_blood_pressure</th>\n",
       "      <th>platelets</th>\n",
       "      <th>serum_creatinine</th>\n",
       "      <th>serum_sodium</th>\n",
       "      <th>sex</th>\n",
       "      <th>smoking</th>\n",
       "      <th>time</th>\n",
       "      <th>DEATH_EVENT</th>\n",
       "    </tr>\n",
       "  </thead>\n",
       "  <tbody>\n",
       "    <tr>\n",
       "      <th>0</th>\n",
       "      <td>75.0</td>\n",
       "      <td>0</td>\n",
       "      <td>582</td>\n",
       "      <td>0</td>\n",
       "      <td>20</td>\n",
       "      <td>1</td>\n",
       "      <td>265000.00</td>\n",
       "      <td>1.9</td>\n",
       "      <td>130</td>\n",
       "      <td>1</td>\n",
       "      <td>0</td>\n",
       "      <td>4</td>\n",
       "      <td>1</td>\n",
       "    </tr>\n",
       "    <tr>\n",
       "      <th>1</th>\n",
       "      <td>55.0</td>\n",
       "      <td>0</td>\n",
       "      <td>7861</td>\n",
       "      <td>0</td>\n",
       "      <td>38</td>\n",
       "      <td>0</td>\n",
       "      <td>263358.03</td>\n",
       "      <td>1.1</td>\n",
       "      <td>136</td>\n",
       "      <td>1</td>\n",
       "      <td>0</td>\n",
       "      <td>6</td>\n",
       "      <td>1</td>\n",
       "    </tr>\n",
       "    <tr>\n",
       "      <th>2</th>\n",
       "      <td>65.0</td>\n",
       "      <td>0</td>\n",
       "      <td>146</td>\n",
       "      <td>0</td>\n",
       "      <td>20</td>\n",
       "      <td>0</td>\n",
       "      <td>162000.00</td>\n",
       "      <td>1.3</td>\n",
       "      <td>129</td>\n",
       "      <td>1</td>\n",
       "      <td>1</td>\n",
       "      <td>7</td>\n",
       "      <td>1</td>\n",
       "    </tr>\n",
       "    <tr>\n",
       "      <th>3</th>\n",
       "      <td>50.0</td>\n",
       "      <td>1</td>\n",
       "      <td>111</td>\n",
       "      <td>0</td>\n",
       "      <td>20</td>\n",
       "      <td>0</td>\n",
       "      <td>210000.00</td>\n",
       "      <td>1.9</td>\n",
       "      <td>137</td>\n",
       "      <td>1</td>\n",
       "      <td>0</td>\n",
       "      <td>7</td>\n",
       "      <td>1</td>\n",
       "    </tr>\n",
       "    <tr>\n",
       "      <th>4</th>\n",
       "      <td>65.0</td>\n",
       "      <td>1</td>\n",
       "      <td>160</td>\n",
       "      <td>1</td>\n",
       "      <td>20</td>\n",
       "      <td>0</td>\n",
       "      <td>327000.00</td>\n",
       "      <td>2.7</td>\n",
       "      <td>116</td>\n",
       "      <td>0</td>\n",
       "      <td>0</td>\n",
       "      <td>8</td>\n",
       "      <td>1</td>\n",
       "    </tr>\n",
       "  </tbody>\n",
       "</table>\n",
       "</div>"
      ],
      "text/plain": [
       "    age  anaemia  creatinine_phosphokinase  diabetes  ejection_fraction  \\\n",
       "0  75.0        0                       582         0                 20   \n",
       "1  55.0        0                      7861         0                 38   \n",
       "2  65.0        0                       146         0                 20   \n",
       "3  50.0        1                       111         0                 20   \n",
       "4  65.0        1                       160         1                 20   \n",
       "\n",
       "   high_blood_pressure  platelets  serum_creatinine  serum_sodium  sex  \\\n",
       "0                    1  265000.00               1.9           130    1   \n",
       "1                    0  263358.03               1.1           136    1   \n",
       "2                    0  162000.00               1.3           129    1   \n",
       "3                    0  210000.00               1.9           137    1   \n",
       "4                    0  327000.00               2.7           116    0   \n",
       "\n",
       "   smoking  time  DEATH_EVENT  \n",
       "0        0     4            1  \n",
       "1        0     6            1  \n",
       "2        1     7            1  \n",
       "3        0     7            1  \n",
       "4        0     8            1  "
      ]
     },
     "execution_count": 5,
     "metadata": {},
     "output_type": "execute_result"
    }
   ],
   "source": [
    "#read data\n",
    "\n",
    "df = pd.read_csv('heart_failure_clinical_records_dataset.csv')\n",
    "df.head()"
   ]
  },
  {
   "cell_type": "markdown",
   "metadata": {
    "id": "y0f9hXcq1qRZ"
   },
   "source": [
    "Dilakukan proses rename kolom untuk mempermudah proses analisis.\n",
    "- kolom `anaemia` di-rename dengan nama `anemia`\n",
    "- kolom `DEATH_EVENT` di-rename dengan nama `death`\n",
    "\n",
    "Digunakan argumen `inplace=True` untuk menjadikan perubahan pada nama kolom secara permanen."
   ]
  },
  {
   "cell_type": "code",
   "execution_count": 6,
   "metadata": {
    "id": "76s9tRewjpWT"
   },
   "outputs": [],
   "source": [
    "# rename columns\n",
    "\n",
    "df.rename(columns= {\"anaemia\":\"anemia\",\"DEATH_EVENT\":\"death\"}, inplace = True)"
   ]
  },
  {
   "cell_type": "markdown",
   "metadata": {
    "id": "wKApve9R2PRu"
   },
   "source": [
    "Dimensi atau bentuk data dapat diketahui menggunakan fungsi `.shape()`"
   ]
  },
  {
   "cell_type": "code",
   "execution_count": 7,
   "metadata": {
    "colab": {
     "base_uri": "https://localhost:8080/"
    },
    "id": "41qdpdNZfkCR",
    "outputId": "c1519a67-99b0-4a7e-e94f-ed4f3af0e3f5"
   },
   "outputs": [
    {
     "data": {
      "text/plain": [
       "(299, 13)"
      ]
     },
     "execution_count": 7,
     "metadata": {},
     "output_type": "execute_result"
    }
   ],
   "source": [
    "# dataset shape\n",
    "\n",
    "df.shape"
   ]
  },
  {
   "cell_type": "markdown",
   "metadata": {
    "id": "ccDx9fq02guX"
   },
   "source": [
    "Berdasarkan output, dapat diketahui bahwa terdapat 299 baris dan 13 kolom pada dataset."
   ]
  },
  {
   "cell_type": "markdown",
   "metadata": {
    "id": "AmlxfJBy2poV"
   },
   "source": [
    "Informasi yang terdapat pada dataset seperti nama kolom, informasi jumlah data non-null pada masing-masing kolom dan tipe data pada masing-masing kolom dapat diketahui menggunakan fungsi `.info()`"
   ]
  },
  {
   "cell_type": "code",
   "execution_count": 8,
   "metadata": {
    "colab": {
     "base_uri": "https://localhost:8080/"
    },
    "id": "Ebzvqn-XfsKx",
    "outputId": "057e5e33-f617-4ed7-9c19-c17f1c1ab32b"
   },
   "outputs": [
    {
     "name": "stdout",
     "output_type": "stream",
     "text": [
      "<class 'pandas.core.frame.DataFrame'>\n",
      "RangeIndex: 299 entries, 0 to 298\n",
      "Data columns (total 13 columns):\n",
      " #   Column                    Non-Null Count  Dtype  \n",
      "---  ------                    --------------  -----  \n",
      " 0   age                       299 non-null    float64\n",
      " 1   anemia                    299 non-null    int64  \n",
      " 2   creatinine_phosphokinase  299 non-null    int64  \n",
      " 3   diabetes                  299 non-null    int64  \n",
      " 4   ejection_fraction         299 non-null    int64  \n",
      " 5   high_blood_pressure       299 non-null    int64  \n",
      " 6   platelets                 299 non-null    float64\n",
      " 7   serum_creatinine          299 non-null    float64\n",
      " 8   serum_sodium              299 non-null    int64  \n",
      " 9   sex                       299 non-null    int64  \n",
      " 10  smoking                   299 non-null    int64  \n",
      " 11  time                      299 non-null    int64  \n",
      " 12  death                     299 non-null    int64  \n",
      "dtypes: float64(3), int64(10)\n",
      "memory usage: 30.5 KB\n"
     ]
    }
   ],
   "source": [
    "# information from dataset\n",
    "\n",
    "df.info()"
   ]
  },
  {
   "cell_type": "markdown",
   "metadata": {
    "id": "2Pb7NAZ0sWbw"
   },
   "source": [
    "# Data Cleaning"
   ]
  },
  {
   "cell_type": "markdown",
   "metadata": {
    "id": "QYqicoFx3EO_"
   },
   "source": [
    "Pengecekan terhadap nilai null dapat dilakukan menggunakan fungsi `.isna().sum()`"
   ]
  },
  {
   "cell_type": "code",
   "execution_count": 9,
   "metadata": {
    "colab": {
     "base_uri": "https://localhost:8080/"
    },
    "id": "JnVy4OoKfnrc",
    "outputId": "6dd0ee47-e7e1-4cc5-d0e1-83e4ef32d940"
   },
   "outputs": [
    {
     "data": {
      "text/plain": [
       "age                         0\n",
       "anemia                      0\n",
       "creatinine_phosphokinase    0\n",
       "diabetes                    0\n",
       "ejection_fraction           0\n",
       "high_blood_pressure         0\n",
       "platelets                   0\n",
       "serum_creatinine            0\n",
       "serum_sodium                0\n",
       "sex                         0\n",
       "smoking                     0\n",
       "time                        0\n",
       "death                       0\n",
       "dtype: int64"
      ]
     },
     "execution_count": 9,
     "metadata": {},
     "output_type": "execute_result"
    }
   ],
   "source": [
    "# null-value check\n",
    "\n",
    "df.isna().sum()"
   ]
  },
  {
   "cell_type": "markdown",
   "metadata": {
    "id": "vMTZ6qok3P_d"
   },
   "source": [
    "Pengecekan terhadap nilai yang memiliki duplikat dapat dilakukan menggunakan fungsi `.duplicated().sum()`"
   ]
  },
  {
   "cell_type": "code",
   "execution_count": 10,
   "metadata": {
    "colab": {
     "base_uri": "https://localhost:8080/"
    },
    "id": "ZPNnvsRAfqRX",
    "outputId": "eacc73eb-d2db-4c1b-8754-c42eaaf3bc8b"
   },
   "outputs": [
    {
     "data": {
      "text/plain": [
       "0"
      ]
     },
     "execution_count": 10,
     "metadata": {},
     "output_type": "execute_result"
    }
   ],
   "source": [
    "# duplicated data check\n",
    "\n",
    "df.duplicated().sum()"
   ]
  },
  {
   "cell_type": "markdown",
   "metadata": {
    "id": "BfWtXn0e3al_"
   },
   "source": [
    "Korelasi antar kolom pada data dapat diketahui menggunakan fungsi `.corr()`"
   ]
  },
  {
   "cell_type": "code",
   "execution_count": 11,
   "metadata": {
    "colab": {
     "base_uri": "https://localhost:8080/",
     "height": 521
    },
    "id": "CSbWmwcwfqUD",
    "outputId": "3083b43c-75f1-4c81-ade4-9474b312ac9d"
   },
   "outputs": [
    {
     "data": {
      "text/html": [
       "<div>\n",
       "<style scoped>\n",
       "    .dataframe tbody tr th:only-of-type {\n",
       "        vertical-align: middle;\n",
       "    }\n",
       "\n",
       "    .dataframe tbody tr th {\n",
       "        vertical-align: top;\n",
       "    }\n",
       "\n",
       "    .dataframe thead th {\n",
       "        text-align: right;\n",
       "    }\n",
       "</style>\n",
       "<table border=\"1\" class=\"dataframe\">\n",
       "  <thead>\n",
       "    <tr style=\"text-align: right;\">\n",
       "      <th></th>\n",
       "      <th>age</th>\n",
       "      <th>anemia</th>\n",
       "      <th>creatinine_phosphokinase</th>\n",
       "      <th>diabetes</th>\n",
       "      <th>ejection_fraction</th>\n",
       "      <th>high_blood_pressure</th>\n",
       "      <th>platelets</th>\n",
       "      <th>serum_creatinine</th>\n",
       "      <th>serum_sodium</th>\n",
       "      <th>sex</th>\n",
       "      <th>smoking</th>\n",
       "      <th>time</th>\n",
       "      <th>death</th>\n",
       "    </tr>\n",
       "  </thead>\n",
       "  <tbody>\n",
       "    <tr>\n",
       "      <th>age</th>\n",
       "      <td>1.000000</td>\n",
       "      <td>0.088006</td>\n",
       "      <td>-0.081584</td>\n",
       "      <td>-0.101012</td>\n",
       "      <td>0.060098</td>\n",
       "      <td>0.093289</td>\n",
       "      <td>-0.052354</td>\n",
       "      <td>0.159187</td>\n",
       "      <td>-0.045966</td>\n",
       "      <td>0.065430</td>\n",
       "      <td>0.018668</td>\n",
       "      <td>-0.224068</td>\n",
       "      <td>0.253729</td>\n",
       "    </tr>\n",
       "    <tr>\n",
       "      <th>anemia</th>\n",
       "      <td>0.088006</td>\n",
       "      <td>1.000000</td>\n",
       "      <td>-0.190741</td>\n",
       "      <td>-0.012729</td>\n",
       "      <td>0.031557</td>\n",
       "      <td>0.038182</td>\n",
       "      <td>-0.043786</td>\n",
       "      <td>0.052174</td>\n",
       "      <td>0.041882</td>\n",
       "      <td>-0.094769</td>\n",
       "      <td>-0.107290</td>\n",
       "      <td>-0.141414</td>\n",
       "      <td>0.066270</td>\n",
       "    </tr>\n",
       "    <tr>\n",
       "      <th>creatinine_phosphokinase</th>\n",
       "      <td>-0.081584</td>\n",
       "      <td>-0.190741</td>\n",
       "      <td>1.000000</td>\n",
       "      <td>-0.009639</td>\n",
       "      <td>-0.044080</td>\n",
       "      <td>-0.070590</td>\n",
       "      <td>0.024463</td>\n",
       "      <td>-0.016408</td>\n",
       "      <td>0.059550</td>\n",
       "      <td>0.079791</td>\n",
       "      <td>0.002421</td>\n",
       "      <td>-0.009346</td>\n",
       "      <td>0.062728</td>\n",
       "    </tr>\n",
       "    <tr>\n",
       "      <th>diabetes</th>\n",
       "      <td>-0.101012</td>\n",
       "      <td>-0.012729</td>\n",
       "      <td>-0.009639</td>\n",
       "      <td>1.000000</td>\n",
       "      <td>-0.004850</td>\n",
       "      <td>-0.012732</td>\n",
       "      <td>0.092193</td>\n",
       "      <td>-0.046975</td>\n",
       "      <td>-0.089551</td>\n",
       "      <td>-0.157730</td>\n",
       "      <td>-0.147173</td>\n",
       "      <td>0.033726</td>\n",
       "      <td>-0.001943</td>\n",
       "    </tr>\n",
       "    <tr>\n",
       "      <th>ejection_fraction</th>\n",
       "      <td>0.060098</td>\n",
       "      <td>0.031557</td>\n",
       "      <td>-0.044080</td>\n",
       "      <td>-0.004850</td>\n",
       "      <td>1.000000</td>\n",
       "      <td>0.024445</td>\n",
       "      <td>0.072177</td>\n",
       "      <td>-0.011302</td>\n",
       "      <td>0.175902</td>\n",
       "      <td>-0.148386</td>\n",
       "      <td>-0.067315</td>\n",
       "      <td>0.041729</td>\n",
       "      <td>-0.268603</td>\n",
       "    </tr>\n",
       "    <tr>\n",
       "      <th>high_blood_pressure</th>\n",
       "      <td>0.093289</td>\n",
       "      <td>0.038182</td>\n",
       "      <td>-0.070590</td>\n",
       "      <td>-0.012732</td>\n",
       "      <td>0.024445</td>\n",
       "      <td>1.000000</td>\n",
       "      <td>0.049963</td>\n",
       "      <td>-0.004935</td>\n",
       "      <td>0.037109</td>\n",
       "      <td>-0.104615</td>\n",
       "      <td>-0.055711</td>\n",
       "      <td>-0.196439</td>\n",
       "      <td>0.079351</td>\n",
       "    </tr>\n",
       "    <tr>\n",
       "      <th>platelets</th>\n",
       "      <td>-0.052354</td>\n",
       "      <td>-0.043786</td>\n",
       "      <td>0.024463</td>\n",
       "      <td>0.092193</td>\n",
       "      <td>0.072177</td>\n",
       "      <td>0.049963</td>\n",
       "      <td>1.000000</td>\n",
       "      <td>-0.041198</td>\n",
       "      <td>0.062125</td>\n",
       "      <td>-0.125120</td>\n",
       "      <td>0.028234</td>\n",
       "      <td>0.010514</td>\n",
       "      <td>-0.049139</td>\n",
       "    </tr>\n",
       "    <tr>\n",
       "      <th>serum_creatinine</th>\n",
       "      <td>0.159187</td>\n",
       "      <td>0.052174</td>\n",
       "      <td>-0.016408</td>\n",
       "      <td>-0.046975</td>\n",
       "      <td>-0.011302</td>\n",
       "      <td>-0.004935</td>\n",
       "      <td>-0.041198</td>\n",
       "      <td>1.000000</td>\n",
       "      <td>-0.189095</td>\n",
       "      <td>0.006970</td>\n",
       "      <td>-0.027414</td>\n",
       "      <td>-0.149315</td>\n",
       "      <td>0.294278</td>\n",
       "    </tr>\n",
       "    <tr>\n",
       "      <th>serum_sodium</th>\n",
       "      <td>-0.045966</td>\n",
       "      <td>0.041882</td>\n",
       "      <td>0.059550</td>\n",
       "      <td>-0.089551</td>\n",
       "      <td>0.175902</td>\n",
       "      <td>0.037109</td>\n",
       "      <td>0.062125</td>\n",
       "      <td>-0.189095</td>\n",
       "      <td>1.000000</td>\n",
       "      <td>-0.027566</td>\n",
       "      <td>0.004813</td>\n",
       "      <td>0.087640</td>\n",
       "      <td>-0.195204</td>\n",
       "    </tr>\n",
       "    <tr>\n",
       "      <th>sex</th>\n",
       "      <td>0.065430</td>\n",
       "      <td>-0.094769</td>\n",
       "      <td>0.079791</td>\n",
       "      <td>-0.157730</td>\n",
       "      <td>-0.148386</td>\n",
       "      <td>-0.104615</td>\n",
       "      <td>-0.125120</td>\n",
       "      <td>0.006970</td>\n",
       "      <td>-0.027566</td>\n",
       "      <td>1.000000</td>\n",
       "      <td>0.445892</td>\n",
       "      <td>-0.015608</td>\n",
       "      <td>-0.004316</td>\n",
       "    </tr>\n",
       "    <tr>\n",
       "      <th>smoking</th>\n",
       "      <td>0.018668</td>\n",
       "      <td>-0.107290</td>\n",
       "      <td>0.002421</td>\n",
       "      <td>-0.147173</td>\n",
       "      <td>-0.067315</td>\n",
       "      <td>-0.055711</td>\n",
       "      <td>0.028234</td>\n",
       "      <td>-0.027414</td>\n",
       "      <td>0.004813</td>\n",
       "      <td>0.445892</td>\n",
       "      <td>1.000000</td>\n",
       "      <td>-0.022839</td>\n",
       "      <td>-0.012623</td>\n",
       "    </tr>\n",
       "    <tr>\n",
       "      <th>time</th>\n",
       "      <td>-0.224068</td>\n",
       "      <td>-0.141414</td>\n",
       "      <td>-0.009346</td>\n",
       "      <td>0.033726</td>\n",
       "      <td>0.041729</td>\n",
       "      <td>-0.196439</td>\n",
       "      <td>0.010514</td>\n",
       "      <td>-0.149315</td>\n",
       "      <td>0.087640</td>\n",
       "      <td>-0.015608</td>\n",
       "      <td>-0.022839</td>\n",
       "      <td>1.000000</td>\n",
       "      <td>-0.526964</td>\n",
       "    </tr>\n",
       "    <tr>\n",
       "      <th>death</th>\n",
       "      <td>0.253729</td>\n",
       "      <td>0.066270</td>\n",
       "      <td>0.062728</td>\n",
       "      <td>-0.001943</td>\n",
       "      <td>-0.268603</td>\n",
       "      <td>0.079351</td>\n",
       "      <td>-0.049139</td>\n",
       "      <td>0.294278</td>\n",
       "      <td>-0.195204</td>\n",
       "      <td>-0.004316</td>\n",
       "      <td>-0.012623</td>\n",
       "      <td>-0.526964</td>\n",
       "      <td>1.000000</td>\n",
       "    </tr>\n",
       "  </tbody>\n",
       "</table>\n",
       "</div>"
      ],
      "text/plain": [
       "                               age    anemia  creatinine_phosphokinase  \\\n",
       "age                       1.000000  0.088006                 -0.081584   \n",
       "anemia                    0.088006  1.000000                 -0.190741   \n",
       "creatinine_phosphokinase -0.081584 -0.190741                  1.000000   \n",
       "diabetes                 -0.101012 -0.012729                 -0.009639   \n",
       "ejection_fraction         0.060098  0.031557                 -0.044080   \n",
       "high_blood_pressure       0.093289  0.038182                 -0.070590   \n",
       "platelets                -0.052354 -0.043786                  0.024463   \n",
       "serum_creatinine          0.159187  0.052174                 -0.016408   \n",
       "serum_sodium             -0.045966  0.041882                  0.059550   \n",
       "sex                       0.065430 -0.094769                  0.079791   \n",
       "smoking                   0.018668 -0.107290                  0.002421   \n",
       "time                     -0.224068 -0.141414                 -0.009346   \n",
       "death                     0.253729  0.066270                  0.062728   \n",
       "\n",
       "                          diabetes  ejection_fraction  high_blood_pressure  \\\n",
       "age                      -0.101012           0.060098             0.093289   \n",
       "anemia                   -0.012729           0.031557             0.038182   \n",
       "creatinine_phosphokinase -0.009639          -0.044080            -0.070590   \n",
       "diabetes                  1.000000          -0.004850            -0.012732   \n",
       "ejection_fraction        -0.004850           1.000000             0.024445   \n",
       "high_blood_pressure      -0.012732           0.024445             1.000000   \n",
       "platelets                 0.092193           0.072177             0.049963   \n",
       "serum_creatinine         -0.046975          -0.011302            -0.004935   \n",
       "serum_sodium             -0.089551           0.175902             0.037109   \n",
       "sex                      -0.157730          -0.148386            -0.104615   \n",
       "smoking                  -0.147173          -0.067315            -0.055711   \n",
       "time                      0.033726           0.041729            -0.196439   \n",
       "death                    -0.001943          -0.268603             0.079351   \n",
       "\n",
       "                          platelets  serum_creatinine  serum_sodium       sex  \\\n",
       "age                       -0.052354          0.159187     -0.045966  0.065430   \n",
       "anemia                    -0.043786          0.052174      0.041882 -0.094769   \n",
       "creatinine_phosphokinase   0.024463         -0.016408      0.059550  0.079791   \n",
       "diabetes                   0.092193         -0.046975     -0.089551 -0.157730   \n",
       "ejection_fraction          0.072177         -0.011302      0.175902 -0.148386   \n",
       "high_blood_pressure        0.049963         -0.004935      0.037109 -0.104615   \n",
       "platelets                  1.000000         -0.041198      0.062125 -0.125120   \n",
       "serum_creatinine          -0.041198          1.000000     -0.189095  0.006970   \n",
       "serum_sodium               0.062125         -0.189095      1.000000 -0.027566   \n",
       "sex                       -0.125120          0.006970     -0.027566  1.000000   \n",
       "smoking                    0.028234         -0.027414      0.004813  0.445892   \n",
       "time                       0.010514         -0.149315      0.087640 -0.015608   \n",
       "death                     -0.049139          0.294278     -0.195204 -0.004316   \n",
       "\n",
       "                           smoking      time     death  \n",
       "age                       0.018668 -0.224068  0.253729  \n",
       "anemia                   -0.107290 -0.141414  0.066270  \n",
       "creatinine_phosphokinase  0.002421 -0.009346  0.062728  \n",
       "diabetes                 -0.147173  0.033726 -0.001943  \n",
       "ejection_fraction        -0.067315  0.041729 -0.268603  \n",
       "high_blood_pressure      -0.055711 -0.196439  0.079351  \n",
       "platelets                 0.028234  0.010514 -0.049139  \n",
       "serum_creatinine         -0.027414 -0.149315  0.294278  \n",
       "serum_sodium              0.004813  0.087640 -0.195204  \n",
       "sex                       0.445892 -0.015608 -0.004316  \n",
       "smoking                   1.000000 -0.022839 -0.012623  \n",
       "time                     -0.022839  1.000000 -0.526964  \n",
       "death                    -0.012623 -0.526964  1.000000  "
      ]
     },
     "execution_count": 11,
     "metadata": {},
     "output_type": "execute_result"
    }
   ],
   "source": [
    "# correlation check\n",
    "\n",
    "df.corr()"
   ]
  },
  {
   "cell_type": "markdown",
   "metadata": {
    "id": "t6Fk8WvSpZ0I"
   },
   "source": [
    ">Berdasarkan nilai korelasi antar kolom dapat dipilih beberapa kolom yang dapat digunakan untuk membangun model. \n",
    "\n",
    ">Kolom-kolom yang digunakan untuk membangun model diantaranya:\n",
    "\n",
    ">1. Kolom `time` memiliki korelasi yang tinggi dengan kolom target yaitu `death` sebesar -0.53. Hal ini berarti semakin sering dilakukan follow-up kondisi pasien maka resiko kematian akibat penyakit jantung semakin kecil.\n",
    ">2. Kolom `ejection_fraction` memiliki koefisien korelasi negatif sebesar -0.27. Hal ini berarti semakin rendah presentase darah yang keluar dari jantung maka semakin tinggi resiko kematian akibat penyakit jantung.\n",
    ">3. Kolom `serum_sodium` memiliki koefisien korelasi negatif sebesar -0.2. Hal ini berarti semakin rendah level serum sodium maka resiko kematian akibat penyakit jantung juga semakin tinggi.\n",
    ">4. Kolom `serum_creatinine` memiliki korelasi positif sebesar 0.29. Hal ini berarti semakin tinggi evel serum creatinne dalam tubuh pasien, maka resiko kematian akibat penyakit jantung juga semakin tinggi.\n",
    ">5. Kolom `age` memiliki korelasi positif sebesar 0.25. Hal ini berarti semakin tua usia pasien, maka reskio kematian akibat penyakit jantung semakin tinggi.\n",
    ">6. Kolom `anemia`, `diabetes`, `high_blood_pressure`, `sex`, `smoking` merupakan kolom dengan korelasi yang rendah. Namun, pada beberapa penelitian anemia, diabetes, hipertensi, gender, dan perilaku merokok berpengaruh terhadap resiko kematian akibat penyakit jantung."
   ]
  },
  {
   "cell_type": "markdown",
   "metadata": {
    "id": "LhK4_GFDw5rF"
   },
   "source": [
    "Dilakukan drop pada kolom `creatinine_phosphokinase` dan `platelets` menggunakan fungsi `.drop()`.\n",
    "\n",
    "- axis=1 : menghapus seluruh nilai pada kolom\n",
    "- inplace=True : menghapus secara permanen"
   ]
  },
  {
   "cell_type": "code",
   "execution_count": 12,
   "metadata": {
    "id": "YJQKe7U7sYBo"
   },
   "outputs": [],
   "source": [
    "# drop columns\n",
    "\n",
    "df.drop(['creatinine_phosphokinase','platelets'],axis=1,inplace=True)"
   ]
  },
  {
   "cell_type": "markdown",
   "metadata": {
    "id": "z8ppkW9HAnVJ"
   },
   "source": [
    "Dilakukan pengecekan value error atau kondisi dimana di dalam kolom-kolom yang di-assign memuat data yang tidak sesuai tipenya, setelah itu value error tersebut akan digantikan dengan NaN."
   ]
  },
  {
   "cell_type": "code",
   "execution_count": 13,
   "metadata": {
    "id": "sTnENzKBkPOh"
   },
   "outputs": [],
   "source": [
    "# value error check 'age'\n",
    "for row in df['age']:\n",
    "    try:\n",
    "        float(row)\n",
    "        pass\n",
    "    except ValueError:\n",
    "        df.loc['age'] = np.nan\n",
    "\n",
    "# value error check 'anemia'\n",
    "for row in df['anemia']:\n",
    "    try:\n",
    "        float(row)\n",
    "        pass\n",
    "    except ValueError:\n",
    "        df.loc['anemia'] = np.nan\n",
    "\n",
    "# value error check 'diabetes'\n",
    "for row in df['diabetes']:\n",
    "    try:\n",
    "        float(row)\n",
    "        pass\n",
    "    except ValueError:\n",
    "        df.loc['diabetes'] = np.nan\n",
    "\n",
    "# value error check 'high_blood_pressure'\n",
    "for row in df['high_blood_pressure']:\n",
    "    try:\n",
    "        float(row)\n",
    "        pass\n",
    "    except ValueError:\n",
    "        df.loc['high_blood_pressure'] = np.nan\n",
    "\n",
    "# value error check 'sex'\n",
    "for row in df['sex']:\n",
    "    try:\n",
    "        float(row)\n",
    "        pass\n",
    "    except ValueError:\n",
    "        df.loc['sex'] = np.nan\n",
    "\n",
    "# value error check 'smoking'\n",
    "for row in df['smoking']:\n",
    "    try:\n",
    "        float(row)\n",
    "        pass\n",
    "    except ValueError:\n",
    "        df.loc['smoking'] = np.nan\n",
    "\n",
    "# value error check 'ejection_fraction'\n",
    "for row in df['ejection_fraction']:\n",
    "    try:\n",
    "        float(row)\n",
    "        pass\n",
    "    except ValueError:\n",
    "        df.loc['ejection_fraction'] = np.nan\n",
    "\n",
    "# value error check 'serum_creatinine'\n",
    "for row in df['serum_creatinine']:\n",
    "    try:\n",
    "        float(row)\n",
    "        pass\n",
    "    except ValueError:\n",
    "        df.loc['serum_creatinine'] = np.nan\n",
    "\n",
    "# value error check 'serum_sodium'\n",
    "for row in df['serum_sodium']:\n",
    "    try:\n",
    "        float(row)\n",
    "        pass\n",
    "    except ValueError:\n",
    "        df.loc['serum_sodium'] = np.nan\n",
    "\n",
    "# value error check 'time' \n",
    "for row in df['time']:\n",
    "    try:\n",
    "        float(row)\n",
    "        pass\n",
    "    except ValueError:\n",
    "        df.loc['time'] = np.nan\n",
    "\n",
    "# value error check 'death'\n",
    "for row in df['death']:\n",
    "    try:\n",
    "        float(row)\n",
    "        pass\n",
    "    except ValueError:\n",
    "        df.loc['death'] = np.nan"
   ]
  },
  {
   "cell_type": "markdown",
   "metadata": {
    "id": "TqAiMtboA_Xs"
   },
   "source": [
    "Dilakukan pengecekan kembali terhadap data null."
   ]
  },
  {
   "cell_type": "code",
   "execution_count": 14,
   "metadata": {
    "colab": {
     "base_uri": "https://localhost:8080/"
    },
    "id": "4ra7cGUTkPLm",
    "outputId": "e5c8a2ab-2943-4a20-f112-bf891ee3864c"
   },
   "outputs": [
    {
     "data": {
      "text/plain": [
       "age                    0\n",
       "anemia                 0\n",
       "diabetes               0\n",
       "ejection_fraction      0\n",
       "high_blood_pressure    0\n",
       "serum_creatinine       0\n",
       "serum_sodium           0\n",
       "sex                    0\n",
       "smoking                0\n",
       "time                   0\n",
       "death                  0\n",
       "dtype: int64"
      ]
     },
     "execution_count": 14,
     "metadata": {},
     "output_type": "execute_result"
    }
   ],
   "source": [
    "# null-value check\n",
    "\n",
    "df.isna().sum()"
   ]
  },
  {
   "cell_type": "markdown",
   "metadata": {
    "id": "eFxMGk5cBPy4"
   },
   "source": [
    "Tidak ditemukan data null pada kolom."
   ]
  },
  {
   "cell_type": "markdown",
   "metadata": {
    "id": "av0xtCMKsZlE"
   },
   "source": [
    "# Eksplorasi Data (EDA)"
   ]
  },
  {
   "cell_type": "markdown",
   "metadata": {
    "id": "uuigfvj1PATL"
   },
   "source": [
    ">Exploratory Data Analysis (EDA) adalah proses eksplorasi data yang bertujuan untuk memahami struktur, pola, hubungan, dan anomali dalam data. EDA merupakan langkah awal yang penting dalam analisis data dan pembuatan modelm yang membantu kita untuk memahami data dan mengidentifikasi masalah yang mungkin muncul dalam proses analisis."
   ]
  },
  {
   "cell_type": "code",
   "execution_count": 15,
   "metadata": {
    "colab": {
     "base_uri": "https://localhost:8080/",
     "height": 364
    },
    "id": "E6HmWo3ssef_",
    "outputId": "083eb1d0-8d32-4b21-ff07-4c2cba3ea897"
   },
   "outputs": [
    {
     "data": {
      "text/html": [
       "<div>\n",
       "<style scoped>\n",
       "    .dataframe tbody tr th:only-of-type {\n",
       "        vertical-align: middle;\n",
       "    }\n",
       "\n",
       "    .dataframe tbody tr th {\n",
       "        vertical-align: top;\n",
       "    }\n",
       "\n",
       "    .dataframe thead th {\n",
       "        text-align: right;\n",
       "    }\n",
       "</style>\n",
       "<table border=\"1\" class=\"dataframe\">\n",
       "  <thead>\n",
       "    <tr style=\"text-align: right;\">\n",
       "      <th></th>\n",
       "      <th>age</th>\n",
       "      <th>anemia</th>\n",
       "      <th>diabetes</th>\n",
       "      <th>ejection_fraction</th>\n",
       "      <th>high_blood_pressure</th>\n",
       "      <th>serum_creatinine</th>\n",
       "      <th>serum_sodium</th>\n",
       "      <th>sex</th>\n",
       "      <th>smoking</th>\n",
       "      <th>time</th>\n",
       "      <th>death</th>\n",
       "    </tr>\n",
       "  </thead>\n",
       "  <tbody>\n",
       "    <tr>\n",
       "      <th>count</th>\n",
       "      <td>299.000000</td>\n",
       "      <td>299.000000</td>\n",
       "      <td>299.000000</td>\n",
       "      <td>299.000000</td>\n",
       "      <td>299.000000</td>\n",
       "      <td>299.00000</td>\n",
       "      <td>299.000000</td>\n",
       "      <td>299.000000</td>\n",
       "      <td>299.00000</td>\n",
       "      <td>299.000000</td>\n",
       "      <td>299.00000</td>\n",
       "    </tr>\n",
       "    <tr>\n",
       "      <th>mean</th>\n",
       "      <td>60.833893</td>\n",
       "      <td>0.431438</td>\n",
       "      <td>0.418060</td>\n",
       "      <td>38.083612</td>\n",
       "      <td>0.351171</td>\n",
       "      <td>1.39388</td>\n",
       "      <td>136.625418</td>\n",
       "      <td>0.648829</td>\n",
       "      <td>0.32107</td>\n",
       "      <td>130.260870</td>\n",
       "      <td>0.32107</td>\n",
       "    </tr>\n",
       "    <tr>\n",
       "      <th>std</th>\n",
       "      <td>11.894809</td>\n",
       "      <td>0.496107</td>\n",
       "      <td>0.494067</td>\n",
       "      <td>11.834841</td>\n",
       "      <td>0.478136</td>\n",
       "      <td>1.03451</td>\n",
       "      <td>4.412477</td>\n",
       "      <td>0.478136</td>\n",
       "      <td>0.46767</td>\n",
       "      <td>77.614208</td>\n",
       "      <td>0.46767</td>\n",
       "    </tr>\n",
       "    <tr>\n",
       "      <th>min</th>\n",
       "      <td>40.000000</td>\n",
       "      <td>0.000000</td>\n",
       "      <td>0.000000</td>\n",
       "      <td>14.000000</td>\n",
       "      <td>0.000000</td>\n",
       "      <td>0.50000</td>\n",
       "      <td>113.000000</td>\n",
       "      <td>0.000000</td>\n",
       "      <td>0.00000</td>\n",
       "      <td>4.000000</td>\n",
       "      <td>0.00000</td>\n",
       "    </tr>\n",
       "    <tr>\n",
       "      <th>25%</th>\n",
       "      <td>51.000000</td>\n",
       "      <td>0.000000</td>\n",
       "      <td>0.000000</td>\n",
       "      <td>30.000000</td>\n",
       "      <td>0.000000</td>\n",
       "      <td>0.90000</td>\n",
       "      <td>134.000000</td>\n",
       "      <td>0.000000</td>\n",
       "      <td>0.00000</td>\n",
       "      <td>73.000000</td>\n",
       "      <td>0.00000</td>\n",
       "    </tr>\n",
       "    <tr>\n",
       "      <th>50%</th>\n",
       "      <td>60.000000</td>\n",
       "      <td>0.000000</td>\n",
       "      <td>0.000000</td>\n",
       "      <td>38.000000</td>\n",
       "      <td>0.000000</td>\n",
       "      <td>1.10000</td>\n",
       "      <td>137.000000</td>\n",
       "      <td>1.000000</td>\n",
       "      <td>0.00000</td>\n",
       "      <td>115.000000</td>\n",
       "      <td>0.00000</td>\n",
       "    </tr>\n",
       "    <tr>\n",
       "      <th>75%</th>\n",
       "      <td>70.000000</td>\n",
       "      <td>1.000000</td>\n",
       "      <td>1.000000</td>\n",
       "      <td>45.000000</td>\n",
       "      <td>1.000000</td>\n",
       "      <td>1.40000</td>\n",
       "      <td>140.000000</td>\n",
       "      <td>1.000000</td>\n",
       "      <td>1.00000</td>\n",
       "      <td>203.000000</td>\n",
       "      <td>1.00000</td>\n",
       "    </tr>\n",
       "    <tr>\n",
       "      <th>max</th>\n",
       "      <td>95.000000</td>\n",
       "      <td>1.000000</td>\n",
       "      <td>1.000000</td>\n",
       "      <td>80.000000</td>\n",
       "      <td>1.000000</td>\n",
       "      <td>9.40000</td>\n",
       "      <td>148.000000</td>\n",
       "      <td>1.000000</td>\n",
       "      <td>1.00000</td>\n",
       "      <td>285.000000</td>\n",
       "      <td>1.00000</td>\n",
       "    </tr>\n",
       "  </tbody>\n",
       "</table>\n",
       "</div>"
      ],
      "text/plain": [
       "              age      anemia    diabetes  ejection_fraction  \\\n",
       "count  299.000000  299.000000  299.000000         299.000000   \n",
       "mean    60.833893    0.431438    0.418060          38.083612   \n",
       "std     11.894809    0.496107    0.494067          11.834841   \n",
       "min     40.000000    0.000000    0.000000          14.000000   \n",
       "25%     51.000000    0.000000    0.000000          30.000000   \n",
       "50%     60.000000    0.000000    0.000000          38.000000   \n",
       "75%     70.000000    1.000000    1.000000          45.000000   \n",
       "max     95.000000    1.000000    1.000000          80.000000   \n",
       "\n",
       "       high_blood_pressure  serum_creatinine  serum_sodium         sex  \\\n",
       "count           299.000000         299.00000    299.000000  299.000000   \n",
       "mean              0.351171           1.39388    136.625418    0.648829   \n",
       "std               0.478136           1.03451      4.412477    0.478136   \n",
       "min               0.000000           0.50000    113.000000    0.000000   \n",
       "25%               0.000000           0.90000    134.000000    0.000000   \n",
       "50%               0.000000           1.10000    137.000000    1.000000   \n",
       "75%               1.000000           1.40000    140.000000    1.000000   \n",
       "max               1.000000           9.40000    148.000000    1.000000   \n",
       "\n",
       "         smoking        time      death  \n",
       "count  299.00000  299.000000  299.00000  \n",
       "mean     0.32107  130.260870    0.32107  \n",
       "std      0.46767   77.614208    0.46767  \n",
       "min      0.00000    4.000000    0.00000  \n",
       "25%      0.00000   73.000000    0.00000  \n",
       "50%      0.00000  115.000000    0.00000  \n",
       "75%      1.00000  203.000000    1.00000  \n",
       "max      1.00000  285.000000    1.00000  "
      ]
     },
     "execution_count": 15,
     "metadata": {},
     "output_type": "execute_result"
    }
   ],
   "source": [
    "df.describe()"
   ]
  },
  {
   "cell_type": "markdown",
   "metadata": {
    "id": "qQkNcQoOT3CV"
   },
   "source": [
    "Describe() berfungsi untuk memperoleh ringkasan informasi mengenai ukuran pemusatan data (central tendency) dan ukuran penyebaran data (measure of spread) dari masing-masing kolom yang berisi nilai numerik pada set data. Pada kasus ini, semua kolom pada data tersebut memiliki nilai numerik."
   ]
  },
  {
   "cell_type": "code",
   "execution_count": 16,
   "metadata": {
    "colab": {
     "base_uri": "https://localhost:8080/"
    },
    "id": "yNCChFE5T6hL",
    "outputId": "121fa1f2-4f1a-4907-c69a-e41db9b2243f"
   },
   "outputs": [
    {
     "data": {
      "text/plain": [
       "0    203\n",
       "1     96\n",
       "Name: death, dtype: int64"
      ]
     },
     "execution_count": 16,
     "metadata": {},
     "output_type": "execute_result"
    }
   ],
   "source": [
    "df['death'].value_counts()"
   ]
  },
  {
   "cell_type": "markdown",
   "metadata": {
    "id": "vrd9QtmFUFWa"
   },
   "source": [
    "Kolom 'death' merupakan target dari analisis ini, sehingga dilakukan pengecekan terhadap nilai-nilai yang ada didalamnya, dengan menggunakan value_counts() didapatkan hasil pada target 'Not Survived'(:0) berjumlah 203, dan target 'Survived'(:1) berjumlah 96 pada data tersebut."
   ]
  },
  {
   "cell_type": "markdown",
   "metadata": {
    "id": "Nr61ywkyUaHb"
   },
   "source": [
    ">Visualisasi frekuensi nilai pada kolom `Death Event` dapat ditampilkan menggunakan fungsi `.plot()` dengan menggunakan pie plot dengan argumen yang disesuaikan.\n",
    "\n",
    ">* `kind=''`: mendefinsikan jenis plot yang digunakan yaitu pie\n",
    ">* `figsize=()`: mendefinisikan ukuran plot\n",
    ">* `autopct=''`: menambahkan teks presentase\n",
    ">* `shadow=True`: menambahkan bayangan pada plot\n",
    ">* `colors=['']`: memberikan warna tertentu pada chart\n",
    ">* `explode=['']`: memberikan jarak pada masing-masing slice pada chart\n",
    ">* `labeldistance=`: memberikan jarak antara label dan gambar, label disini yaitu 'Not Survived' dan 'Survived'\n",
    ">* `startangle=`: berfungsi untuk mengatur rotasi dari plot tersebut.\n",
    ">* `shadow=`: berfungsi untuk memberikan bayangan/shadow pada plot.\n",
    "\n",
    "\n",
    ">Untuk menambahkan keterangan pada plot, dapat digunakan fungsi sebagai berikut:\n",
    "\n",
    ">* `plt.title()`: memberi judul pada plot.\n",
    ">* `plt.legend()`: berfungsi untuk membuat legenda label pada plot.\n",
    ">* `loc=`: mengatur letak dari legenda yang dibuat."
   ]
  },
  {
   "cell_type": "code",
   "execution_count": 17,
   "metadata": {
    "colab": {
     "base_uri": "https://localhost:8080/",
     "height": 422
    },
    "id": "E4hJSUVNT6pc",
    "outputId": "77abd07c-42c7-42c0-b05a-49a299067309"
   },
   "outputs": [
    {
     "data": {
      "image/png": "[encoded data removed]",
      "text/plain": [
       "<Figure size 504x360 with 1 Axes>"
      ]
     },
     "metadata": {},
     "output_type": "display_data"
    }
   ],
   "source": [
    "label = ['Not survived', 'Survived']\n",
    "stats = df['death'].value_counts()\n",
    "colors = ['red', 'lightgreen']\n",
    "stats.plot(kind='pie',labels=label,figsize=(7,5), autopct='%1.0f%%', labeldistance=1.2, startangle=85,explode=[0.13,0], colors=colors, shadow = True)\n",
    "plt.legend(title = \"Survived Ratio\", loc='upper right')\n",
    "plt.show()"
   ]
  },
  {
   "cell_type": "markdown",
   "metadata": {
    "id": "_LiUNV1XVhGq"
   },
   "source": [
    "Berdasarkan pie plot diatas diketahui bahwa rasio nilai dari target **Not Survived** sebesar 68% dari total nilai target pada kolom 'death', yang mana nilai tersebut lebih besar dibandingkan target **Survived** yang memiliki nilai 32% dari total nilai target.\n",
    "\n",
    "Dari data target tersebut diketahui bahwa terjadi ketidakseimbangan antar data **Not Survived** dan **Survived** dan akan mempengaruhi akurasi dari model prediksi sehingga di proses selanjutnya akan dilakukan proses balancing dengan metode seperti random sampling atau SMOTE untuk membuat data target tersebut menjadi seimbang."
   ]
  },
  {
   "cell_type": "code",
   "execution_count": 18,
   "metadata": {
    "id": "U0-T7OFTT6rx"
   },
   "outputs": [],
   "source": [
    "def diagnostic_plots(df,variable):\n",
    "    plt.figure(figsize=(16,4))\n",
    "    \n",
    "    #Histogram\n",
    "    plt.subplot(1,2,1)\n",
    "    sns.histplot(df[variable],bins=20)\n",
    "    plt.title('Histogram')\n",
    "    \n",
    "    # Boxplot\n",
    "    plt.subplot(1,2,2)\n",
    "    sns.boxplot(y=df[variable])\n",
    "    plt.title('Boxplot')\n",
    "    \n",
    "    plt.show()"
   ]
  },
  {
   "cell_type": "code",
   "execution_count": 19,
   "metadata": {
    "colab": {
     "base_uri": "https://localhost:8080/",
     "height": 1000
    },
    "id": "jRJbJsDnWWbD",
    "outputId": "24685ab7-ffe9-494a-8275-fcbd8bd27f2b"
   },
   "outputs": [
    {
     "data": {
      "image/png": "[encoded data removed]",
      "text/plain": [
       "<Figure size 1152x288 with 2 Axes>"
      ]
     },
     "metadata": {
      "needs_background": "light"
     },
     "output_type": "display_data"
    },
    {
     "data": {
      "image/png": "[encoded data removed]",
      "text/plain": [
       "<Figure size 1152x288 with 2 Axes>"
      ]
     },
     "metadata": {
      "needs_background": "light"
     },
     "output_type": "display_data"
    },
    {
     "data": {
      "image/png": "[encoded data removed]",
      "text/plain": [
       "<Figure size 1152x288 with 2 Axes>"
      ]
     },
     "metadata": {
      "needs_background": "light"
     },
     "output_type": "display_data"
    },
    {
     "data": {
      "image/png": "[encoded data removed]",
      "text/plain": [
       "<Figure size 1152x288 with 2 Axes>"
      ]
     },
     "metadata": {
      "needs_background": "light"
     },
     "output_type": "display_data"
    },
    {
     "data": {
      "image/png": "[encoded data removed]",
      "text/plain": [
       "<Figure size 1152x288 with 2 Axes>"
      ]
     },
     "metadata": {
      "needs_background": "light"
     },
     "output_type": "display_data"
    }
   ],
   "source": [
    "diagnostic_plots(df, 'age')\n",
    "diagnostic_plots(df, 'ejection_fraction')\n",
    "diagnostic_plots(df, 'serum_creatinine')\n",
    "diagnostic_plots(df, 'serum_sodium')\n",
    "diagnostic_plots(df, 'time')"
   ]
  },
  {
   "cell_type": "markdown",
   "metadata": {
    "id": "LK6rcdEdnm2Y"
   },
   "source": [
    ">Berdasarkan diagnostic plots diatas, dapat diketahui beberapa informasi sebagai berikut:\n",
    "\n",
    ">*   Plot histogram pada kolom **Age** cenderung normal atau simetris. Hal ini dapat diketahui melalui garis median pada boxplot yang berada di tengah kotak tetapi panjang whisker bawah lebih pendek dibanding whisker atas. Selain itu, bentuk histogram menyerupai bentuk kurva lonceng. Namun, terdapat sedikit skew positif pada plot tersebut yang mana sedikit lebih condong ke kiri. Data pada kolom tersebut tidak memiliki outliers.\n",
    ">*   Plot histogram pada kolom **EjectionFraction** cenderung simetris. Hal ini dapat diketahui melalui garis median pada boxplot yang berada di tengah kotak dan panjang whisker bawah sama dengan panjang whisker bawah. Selain itu, bentuk histogram menyerupai bentuk kurva lonceng. Namun, terdapat sedikit skew positif pada plot tersebut yang mana sedikit lebih condong ke kiri. Data pada kolom tersebut memiliki outliers.\n",
    ">*   Plot histogram pada kolom **SerumCreatinine** cendrung tidak normal. Hal ini dapat diketahui melalui garis median yang berada tidak di tengah kotak dan whisker atas lebih panjang daripada whisker bawah. Selain itu, bentuk histogram tidak menyerupai bentuk kurva lonceng. Terdapat skew positif pada plot tersebut yang mana lebih condong ke kiri, dan terdapat banyak outliers pada data.\n",
    ">*   Plot histogram pada kolom **SerumSodium** cendrung tidak normal dan plot condong ke kanan (positif skewed). Hal ini dapat diketahui melalui bentuk plot yang lebih condong ke kanan. Namun, pada data terdapat banyak outliers di atas nilai minimum sehingga sebaran data cenderung miring ke kanan. Selain itu, bentuk histogram tidak menyerupai bentuk kurva lonceng.\n",
    ">*   Plot histogram pada kolom **Time** cenderung tidak normal. Hal ini dapat diketahui melalui garis median yang tidak berada di tengah kotak dan panjang whisker bawah lebih pendek daripada whisker atas. Selain itu, bentuk histogram tidak menyerupai bentuk kurva lonceng."
   ]
  },
  {
   "cell_type": "code",
   "execution_count": 20,
   "metadata": {
    "colab": {
     "base_uri": "https://localhost:8080/"
    },
    "id": "jTXacRwkWXju",
    "outputId": "b679c625-3113-41b1-fcb1-1e61238701e6"
   },
   "outputs": [
    {
     "name": "stdout",
     "output_type": "stream",
     "text": [
      "Skewness of Age\t\t\t\t: 0.42306190672863536\n",
      "Skewness of Ejection Fraction\t\t: 0.5553827516973211\n",
      "Skewness of Serum Creatinine\t\t: 4.455995882049026\n",
      "Skewness of Serum Sodium\t\t: -1.0481360160574988\n",
      "Skewness of time\t\t\t: 0.12780264559841184\n"
     ]
    }
   ],
   "source": [
    "print('Skewness of Age\\t\\t\\t\\t:', df.age.skew())\n",
    "print('Skewness of Ejection Fraction\\t\\t:', df.ejection_fraction.skew())\n",
    "print('Skewness of Serum Creatinine\\t\\t:', df.serum_creatinine.skew())\n",
    "print('Skewness of Serum Sodium\\t\\t:', df.serum_sodium.skew())\n",
    "print('Skewness of time\\t\\t\\t:', df.time.skew())"
   ]
  },
  {
   "cell_type": "markdown",
   "metadata": {
    "id": "8FV0GZG_xhZl"
   },
   "source": [
    ">Untuk mengetahui tingkat kemiringan dari data setelah melihat probability plot dan box plot tersebut, dapat menggunakan fungsi .skew(). Nilai dari koefisien skewness dapat digunakan untuk mengetahui tingkat kemiringan atau sebaran data.\n",
    ">- Nilai koefisien skewness > nol (0) : positive skewed (mean > median > modus)\n",
    ">- Nilai koefisien skewness = nol (0) : simetrical data (mean = median = modus)\n",
    ">- NIlai koefisien skewness < nol (0) : negative skewed (mean < median < modus)\n",
    "\n",
    ">Dari hasil analisis skewed diatas diperoleh :\n",
    ">- Kolom **Age** dan **EjectionFraction** cendrung normal/simetris karena nilai skewnessnya mendekati 0.\n",
    ">- Kolom **SerumCreatinine** dan **Time** cendrung positif skewed karena nilai skewnessnya lebih besar dari nol.\n",
    ">- Kolom **SerumSodium** cendrung negative skewed karena nilai skewnessnya lebih kecil dari nol."
   ]
  },
  {
   "cell_type": "code",
   "execution_count": 21,
   "metadata": {
    "colab": {
     "base_uri": "https://localhost:8080/",
     "height": 900
    },
    "id": "YPoZU5iiWXlq",
    "outputId": "78bc3007-c100-4ecb-f713-f5426f7c97cf"
   },
   "outputs": [
    {
     "data": {
      "image/png": "[encoded data removed]",
      "text/plain": [
       "<Figure size 1080x1080 with 2 Axes>"
      ]
     },
     "metadata": {
      "needs_background": "light"
     },
     "output_type": "display_data"
    }
   ],
   "source": [
    "fig, ax = plt.subplots(figsize=(15,15))  \n",
    "sns.heatmap(df.corr(),annot=True)\n",
    "plt.show()"
   ]
  },
  {
   "cell_type": "markdown",
   "metadata": {
    "id": "puo8gFU6ywRi"
   },
   "source": [
    "Berdasarkan hasil dari Correlation heatmap Plot dengan menggunakan seaborn diketahui bahwa korelasi paling tinggi terhadap kolom target **death** yaitu kolom **time**, **serumcreatinine**, dan **age**. "
   ]
  },
  {
   "cell_type": "markdown",
   "metadata": {
    "id": "TRyeCpK4se9x"
   },
   "source": [
    "# Pre-Processing Data"
   ]
  },
  {
   "cell_type": "markdown",
   "metadata": {
    "id": "mpoqNeq3s7A7"
   },
   "source": [
    "## Splitting Data"
   ]
  },
  {
   "cell_type": "markdown",
   "metadata": {
    "id": "6Tm-5XupYUMa"
   },
   "source": [
    ">Splitting data yaitu membagi data menjadi dua bagian atau lebih yang membentuk subhimpunan data. Umumnya, data splitting memisahkan dua bagian, bagian pertama digunakan untuk mengevaluasi atau uji data dan data lainnya digunakan untuk melatih model. Dalam analisis ini data training digunakan untuk melatih model, sedangkan data testing digunakan untuk mengevaluasi model.\n",
    "\n",
    ">- X : data feature\n",
    ">- y : data label (target)"
   ]
  },
  {
   "cell_type": "code",
   "execution_count": 22,
   "metadata": {
    "id": "n5tcsRbVshXg"
   },
   "outputs": [],
   "source": [
    "X = df.drop(columns='death',axis=1)\n",
    "y = df['death']"
   ]
  },
  {
   "cell_type": "code",
   "execution_count": 23,
   "metadata": {
    "id": "Qt-1je9hY1p0"
   },
   "outputs": [],
   "source": [
    "scaler = StandardScaler()\n",
    "X = scaler.fit_transform(X)"
   ]
  },
  {
   "cell_type": "markdown",
   "metadata": {
    "id": "1ThJXLfD1FVC"
   },
   "source": [
    "Setelah data feature (X) dan data target (y) didefinisikan, dilakukan standarisasi pada data tersebut dengan menggunakan fungsi `StandarScaler()`"
   ]
  },
  {
   "cell_type": "code",
   "execution_count": 24,
   "metadata": {
    "colab": {
     "base_uri": "https://localhost:8080/"
    },
    "id": "5PmlWfUFZ8B8",
    "outputId": "60e1f555-5361-421b-c655-976b57a71bf5"
   },
   "outputs": [
    {
     "name": "stdout",
     "output_type": "stream",
     "text": [
      "0    203\n",
      "1     96\n",
      "Name: death, dtype: int64\n",
      "1    203\n",
      "0    203\n",
      "Name: death, dtype: int64\n"
     ]
    }
   ],
   "source": [
    "ros = RandomOverSampler(random_state=42)\n",
    "\n",
    "X_ros, y_ros = ros.fit_resample(X, y)\n",
    "print(y.value_counts())\n",
    "print(y_ros.value_counts())"
   ]
  },
  {
   "cell_type": "markdown",
   "metadata": {
    "id": "Z5_6_SH6TBNT"
   },
   "source": [
    "Untuk mengatasi adanya imbalanced data, data perlu di-resampling menggunakan metode balancing. Dalam analisis ini dilakukan beberapa uji metode balancing yaitu dengan uji tanpa balancing, random over sampling, dan SMOTE. Dan setelah dilakukan uji dipilih metode **random over sampling (ROS)** merupakan suatu metode re-sampling yang terbaik untuk analisis data tersebut yang berfungsi untuk menyeimbangkan set data dengan cara  menambah sampel kelas minoritas dengan cara pengambilan sampel yang dilakukan secara acak. Hal ini dimaksudkan agar representasi sampel yang dipilih tidak bias dari total populasi. Dan juga dipilih metode tersebut dikarenakan data yang digunakan untuk analisis tergolong data yang kecil(sedikit). Sehingga didapat hasil target untuk 'Not Survived'(:0) dan 'Survived'(:1) telah menjadi seimbang yaitu 203:203."
   ]
  },
  {
   "cell_type": "code",
   "execution_count": 25,
   "metadata": {
    "id": "3otFnWRqZ8EK"
   },
   "outputs": [],
   "source": [
    "X_train, X_test, y_train, y_test = train_test_split(X_ros, y_ros, test_size=0.3, random_state=0)"
   ]
  },
  {
   "cell_type": "code",
   "execution_count": 26,
   "metadata": {
    "colab": {
     "base_uri": "https://localhost:8080/"
    },
    "id": "HM-iYRD7Z8GQ",
    "outputId": "64ffcb6f-e8bd-405e-b93d-3d49b6a85f0e"
   },
   "outputs": [
    {
     "name": "stdout",
     "output_type": "stream",
     "text": [
      "Training dataset\t: 284\n",
      "Testing dataset\t\t: 122\n",
      "Training\t\t: 69.95% ada pada dataset\n",
      "Test\t\t\t: 30.05% ada pada dataset\n"
     ]
    }
   ],
   "source": [
    "print('Training dataset\\t:', len(X_train))\n",
    "print('Testing dataset\\t\\t:', len(X_test))\n",
    "print('Training\\t\\t: {0:0.02f}% ada pada dataset'.format((len(X_train)/len(X_ros)) * 100))\n",
    "print('Test\\t\\t\\t: {0:0.02f}% ada pada dataset'.format((len(X_test)/len(X_ros)) * 100))"
   ]
  },
  {
   "cell_type": "markdown",
   "metadata": {
    "id": "gbgKq8erUp82"
   },
   "source": [
    "Dari hasil balancing didapat data yang digunakan pada training dataset sebanyak 284 data dan data yang digunakan pada testing dataset sebanyak 122 data dari total sebanyak 406 data. Hasil spliting diatas juga sudah memenuhi syarat splitting yaitu perbandingan untuk data training dan testing sebesar 80:20 atau 70:30 dari dataset."
   ]
  },
  {
   "cell_type": "markdown",
   "metadata": {
    "id": "mI2zbE4EtC5d"
   },
   "source": [
    "# Pendefinisian model"
   ]
  },
  {
   "cell_type": "markdown",
   "metadata": {
    "id": "zYQ0d2vpBLLZ"
   },
   "source": [
    "Ensemble merupakan metode klasifikasi yang menggabungkan model dari beberapa algoritma untuk melakukan prediksi label dari suatu data."
   ]
  },
  {
   "cell_type": "code",
   "execution_count": 27,
   "metadata": {
    "id": "M5Swb3Hd1bPf"
   },
   "outputs": [],
   "source": [
    "model_lr = LogisticRegression(solver ='liblinear',multi_class ='ovr',max_iter = 100)\n",
    "model_svm = SVC(kernel='linear', C=0.1, probability=True)\n",
    "model_dtc = DecisionTreeClassifier(criterion = 'entropy', max_depth = 3)"
   ]
  },
  {
   "cell_type": "markdown",
   "metadata": {
    "id": "iNuVadXICF8o"
   },
   "source": [
    "Pada project ini, dipilih tiga algoritma untuk membangun model ensemble. Algoritma yang dipilih adalah Logistic Regression, Support Vector Machine(SVM) dan Decision Tree. Menggunakan code di atas, dibangun ketiga model tersebut dengan pilihan parameter terbaik berdasarkan percobaan tuning parameter yang telah dilakukan."
   ]
  },
  {
   "cell_type": "code",
   "execution_count": 28,
   "metadata": {
    "id": "EMJfD2da7e3u"
   },
   "outputs": [],
   "source": [
    "# Ensemble of Models \n",
    "estimator = [] \n",
    "estimator.append(('LR', model_lr)) \n",
    "estimator.append(('SVC', model_svm)) \n",
    "estimator.append(('DTC', model_dtc))"
   ]
  },
  {
   "cell_type": "markdown",
   "metadata": {
    "id": "HXj18lvVC9tk"
   },
   "source": [
    "Dibuat sebuah list, yang diberi nama estimator. List tersebut diisi dengan model-model yang telah dibangun sebelumnya."
   ]
  },
  {
   "cell_type": "markdown",
   "metadata": {
    "id": "XmuIDChgLeI8"
   },
   "source": [
    "## Voting Classifier"
   ]
  },
  {
   "cell_type": "markdown",
   "metadata": {
    "id": "hb2yr-QGDlp5"
   },
   "source": [
    "Voting Classifier merupakan salah satu metode ensemble dimana prediksi dilakukan berdasarkan voting estimator-estimator yang telah dipilih."
   ]
  },
  {
   "cell_type": "markdown",
   "metadata": {
    "id": "ioVWHAM_wwDj"
   },
   "source": [
    "### Hard Voting"
   ]
  },
  {
   "cell_type": "code",
   "execution_count": 29,
   "metadata": {
    "id": "_8BIVI-QwiFa"
   },
   "outputs": [],
   "source": [
    "# Pendefinisian Model\n",
    "hard_voting = VotingClassifier(estimators = estimator, voting ='hard') "
   ]
  },
  {
   "cell_type": "markdown",
   "metadata": {
    "id": "I5Nq163WEfsx"
   },
   "source": [
    "Hard Voting merupakan metode Voting Classifier dimana label prediksi untuk suatu data dipilih berdasarkan suara terbanyak(output class terbanyak) dari hasil prediksi seluruh model. Menggunakan fungsi `VotingClassifier()`, dibangun model untuk melakukan hard voting dengan memberikan input 'hard' pada parameter voting."
   ]
  },
  {
   "cell_type": "markdown",
   "metadata": {
    "id": "afMQiSCLwy1r"
   },
   "source": [
    "### Soft Voting"
   ]
  },
  {
   "cell_type": "code",
   "execution_count": 30,
   "metadata": {
    "id": "XlLdesqiwrcw"
   },
   "outputs": [],
   "source": [
    "# Pendefinisian Model\n",
    "soft_voting = VotingClassifier(estimators = estimator, voting ='soft') "
   ]
  },
  {
   "cell_type": "markdown",
   "metadata": {
    "id": "yYCaLALnGGoR"
   },
   "source": [
    "Soft Voting merupakan metode Voting Classifier dimana label prediksi untuk suatu data dipilih berdasarkan rata-rata probabilitas ketiga model yang digunakan dimana perhitungan rata-rata dilakukan pada masing-masing label/class. Class dengan rata-rata probabilitas tertinggi akan dipilih sebagai label prediksi untuk data tersebut. Menggunakan fungsi `VotingClassifier()`, dibangun model untuk melakukan hard voting dengan memberikan input 'soft' pada parameter voting."
   ]
  },
  {
   "cell_type": "markdown",
   "metadata": {
    "id": "5iVVynS1323y"
   },
   "source": [
    "## Stacking"
   ]
  },
  {
   "cell_type": "code",
   "execution_count": 31,
   "metadata": {
    "id": "piqQamAT34fB"
   },
   "outputs": [],
   "source": [
    "model_stacking = StackingClassifier(estimators=estimator)"
   ]
  },
  {
   "cell_type": "markdown",
   "metadata": {
    "id": "54B4rgukGpQE"
   },
   "source": [
    "Stacking merupakan metode klasifikasi ensemble dimana sebuah model terdiri dari beberapa layer. Suatu layer dapat diisi oleh model dengan berbagai macam algoritma, layer terakhir akan memuat satu model algoritma sebagai final estimator. Kali ini, hanya dibangun model stacking dengan dua layer, layer base dan layer final estimator dimana layer base berisikan model Logistic Regression, SVM dan Decision Tree. Sedangkan untuk Final Estimator, tidak diberikan input sehingga akan dibangun mengikuti default dari parameter tersebut yaitu Logistic Regression."
   ]
  },
  {
   "cell_type": "markdown",
   "metadata": {
    "id": "EqYNo2IwKuu6"
   },
   "source": [
    "## Random Forest"
   ]
  },
  {
   "cell_type": "code",
   "execution_count": 32,
   "metadata": {
    "id": "MsQPLVP9K1GX"
   },
   "outputs": [],
   "source": [
    "model_rfc = RandomForestClassifier(n_estimators=100, criterion = 'gini', max_depth = 2)"
   ]
  },
  {
   "cell_type": "markdown",
   "metadata": {
    "id": "Sc-lcp0fNpbR"
   },
   "source": [
    "Random Forest merupakan salah satu metode ensemble dimana akan dibangun sebuah model prediksi dengan cara menggabungkan beberapa Decision Tree."
   ]
  },
  {
   "cell_type": "markdown",
   "metadata": {
    "id": "KUVRiiUetaGR"
   },
   "source": [
    "# Pelatihan Model"
   ]
  },
  {
   "cell_type": "markdown",
   "metadata": {
    "id": "yA_wpJ01LjAx"
   },
   "source": [
    "## Voting Classifier"
   ]
  },
  {
   "cell_type": "markdown",
   "metadata": {
    "id": "vZoylFs57y2a"
   },
   "source": [
    "### Hard Voting"
   ]
  },
  {
   "cell_type": "code",
   "execution_count": 33,
   "metadata": {
    "colab": {
     "base_uri": "https://localhost:8080/",
     "height": 110
    },
    "id": "GVLSvPKdtbKu",
    "outputId": "cabea139-2bff-4b00-a33a-df372ed31cd9"
   },
   "outputs": [
    {
     "data": {
      "text/plain": [
       "VotingClassifier(estimators=[('LR',\n",
       "                              LogisticRegression(multi_class='ovr',\n",
       "                                                 solver='liblinear')),\n",
       "                             ('SVC',\n",
       "                              SVC(C=0.1, kernel='linear', probability=True)),\n",
       "                             ('DTC',\n",
       "                              DecisionTreeClassifier(criterion='entropy',\n",
       "                                                     max_depth=3))])"
      ]
     },
     "execution_count": 33,
     "metadata": {},
     "output_type": "execute_result"
    }
   ],
   "source": [
    "# Fitting model\n",
    "hard_voting.fit(X_train, y_train)"
   ]
  },
  {
   "cell_type": "markdown",
   "metadata": {
    "id": "wmvpCtlpHogO"
   },
   "source": [
    "Dilakukan fitting model Hard Voting untuk ketiga estimator yang telah dipilih menggunakan data training."
   ]
  },
  {
   "cell_type": "code",
   "execution_count": 34,
   "metadata": {
    "id": "Olx2wbuD8czL"
   },
   "outputs": [],
   "source": [
    "# Predict data\n",
    "y_pred_train_hard = hard_voting.predict(X_train)\n",
    "y_pred_test_hard = hard_voting.predict(X_test)"
   ]
  },
  {
   "cell_type": "markdown",
   "metadata": {
    "id": "EDswThnbJ7jw"
   },
   "source": [
    "Kemudian dilakukan prediksi data menggunakan data testing dan data training pada model Hard Voting."
   ]
  },
  {
   "cell_type": "code",
   "execution_count": 35,
   "metadata": {
    "colab": {
     "base_uri": "https://localhost:8080/",
     "height": 424
    },
    "id": "V_emldLY8x8L",
    "outputId": "30296c3a-1263-4707-b518-8fc0aa9be73d"
   },
   "outputs": [
    {
     "data": {
      "text/html": [
       "<div>\n",
       "<style scoped>\n",
       "    .dataframe tbody tr th:only-of-type {\n",
       "        vertical-align: middle;\n",
       "    }\n",
       "\n",
       "    .dataframe tbody tr th {\n",
       "        vertical-align: top;\n",
       "    }\n",
       "\n",
       "    .dataframe thead th {\n",
       "        text-align: right;\n",
       "    }\n",
       "</style>\n",
       "<table border=\"1\" class=\"dataframe\">\n",
       "  <thead>\n",
       "    <tr style=\"text-align: right;\">\n",
       "      <th></th>\n",
       "      <th>death</th>\n",
       "      <th>Predict_Train</th>\n",
       "    </tr>\n",
       "  </thead>\n",
       "  <tbody>\n",
       "    <tr>\n",
       "      <th>191</th>\n",
       "      <td>0</td>\n",
       "      <td>0</td>\n",
       "    </tr>\n",
       "    <tr>\n",
       "      <th>297</th>\n",
       "      <td>0</td>\n",
       "      <td>0</td>\n",
       "    </tr>\n",
       "    <tr>\n",
       "      <th>233</th>\n",
       "      <td>0</td>\n",
       "      <td>0</td>\n",
       "    </tr>\n",
       "    <tr>\n",
       "      <th>49</th>\n",
       "      <td>1</td>\n",
       "      <td>1</td>\n",
       "    </tr>\n",
       "    <tr>\n",
       "      <th>349</th>\n",
       "      <td>1</td>\n",
       "      <td>1</td>\n",
       "    </tr>\n",
       "    <tr>\n",
       "      <th>...</th>\n",
       "      <td>...</td>\n",
       "      <td>...</td>\n",
       "    </tr>\n",
       "    <tr>\n",
       "      <th>323</th>\n",
       "      <td>1</td>\n",
       "      <td>1</td>\n",
       "    </tr>\n",
       "    <tr>\n",
       "      <th>192</th>\n",
       "      <td>0</td>\n",
       "      <td>0</td>\n",
       "    </tr>\n",
       "    <tr>\n",
       "      <th>117</th>\n",
       "      <td>0</td>\n",
       "      <td>1</td>\n",
       "    </tr>\n",
       "    <tr>\n",
       "      <th>47</th>\n",
       "      <td>1</td>\n",
       "      <td>1</td>\n",
       "    </tr>\n",
       "    <tr>\n",
       "      <th>172</th>\n",
       "      <td>0</td>\n",
       "      <td>0</td>\n",
       "    </tr>\n",
       "  </tbody>\n",
       "</table>\n",
       "<p>284 rows × 2 columns</p>\n",
       "</div>"
      ],
      "text/plain": [
       "     death  Predict_Train\n",
       "191      0              0\n",
       "297      0              0\n",
       "233      0              0\n",
       "49       1              1\n",
       "349      1              1\n",
       "..     ...            ...\n",
       "323      1              1\n",
       "192      0              0\n",
       "117      0              1\n",
       "47       1              1\n",
       "172      0              0\n",
       "\n",
       "[284 rows x 2 columns]"
      ]
     },
     "execution_count": 35,
     "metadata": {},
     "output_type": "execute_result"
    }
   ],
   "source": [
    "# Tabel perbandingan actual label dan predicted label untuk data training\n",
    "train = pd.DataFrame(y_train)\n",
    "train['Predict_Train'] = y_pred_train_hard\n",
    "train"
   ]
  },
  {
   "cell_type": "code",
   "execution_count": 36,
   "metadata": {
    "colab": {
     "base_uri": "https://localhost:8080/",
     "height": 424
    },
    "id": "SASg0qZ17-X-",
    "outputId": "63a72fc1-67a2-4a5e-dd46-a42c94551aa1"
   },
   "outputs": [
    {
     "data": {
      "text/html": [
       "<div>\n",
       "<style scoped>\n",
       "    .dataframe tbody tr th:only-of-type {\n",
       "        vertical-align: middle;\n",
       "    }\n",
       "\n",
       "    .dataframe tbody tr th {\n",
       "        vertical-align: top;\n",
       "    }\n",
       "\n",
       "    .dataframe thead th {\n",
       "        text-align: right;\n",
       "    }\n",
       "</style>\n",
       "<table border=\"1\" class=\"dataframe\">\n",
       "  <thead>\n",
       "    <tr style=\"text-align: right;\">\n",
       "      <th></th>\n",
       "      <th>death</th>\n",
       "      <th>Predict_Test</th>\n",
       "    </tr>\n",
       "  </thead>\n",
       "  <tbody>\n",
       "    <tr>\n",
       "      <th>175</th>\n",
       "      <td>0</td>\n",
       "      <td>0</td>\n",
       "    </tr>\n",
       "    <tr>\n",
       "      <th>239</th>\n",
       "      <td>0</td>\n",
       "      <td>0</td>\n",
       "    </tr>\n",
       "    <tr>\n",
       "      <th>60</th>\n",
       "      <td>1</td>\n",
       "      <td>1</td>\n",
       "    </tr>\n",
       "    <tr>\n",
       "      <th>231</th>\n",
       "      <td>0</td>\n",
       "      <td>0</td>\n",
       "    </tr>\n",
       "    <tr>\n",
       "      <th>134</th>\n",
       "      <td>0</td>\n",
       "      <td>1</td>\n",
       "    </tr>\n",
       "    <tr>\n",
       "      <th>...</th>\n",
       "      <td>...</td>\n",
       "      <td>...</td>\n",
       "    </tr>\n",
       "    <tr>\n",
       "      <th>96</th>\n",
       "      <td>0</td>\n",
       "      <td>1</td>\n",
       "    </tr>\n",
       "    <tr>\n",
       "      <th>145</th>\n",
       "      <td>0</td>\n",
       "      <td>0</td>\n",
       "    </tr>\n",
       "    <tr>\n",
       "      <th>89</th>\n",
       "      <td>0</td>\n",
       "      <td>1</td>\n",
       "    </tr>\n",
       "    <tr>\n",
       "      <th>364</th>\n",
       "      <td>1</td>\n",
       "      <td>1</td>\n",
       "    </tr>\n",
       "    <tr>\n",
       "      <th>21</th>\n",
       "      <td>1</td>\n",
       "      <td>1</td>\n",
       "    </tr>\n",
       "  </tbody>\n",
       "</table>\n",
       "<p>122 rows × 2 columns</p>\n",
       "</div>"
      ],
      "text/plain": [
       "     death  Predict_Test\n",
       "175      0             0\n",
       "239      0             0\n",
       "60       1             1\n",
       "231      0             0\n",
       "134      0             1\n",
       "..     ...           ...\n",
       "96       0             1\n",
       "145      0             0\n",
       "89       0             1\n",
       "364      1             1\n",
       "21       1             1\n",
       "\n",
       "[122 rows x 2 columns]"
      ]
     },
     "execution_count": 36,
     "metadata": {},
     "output_type": "execute_result"
    }
   ],
   "source": [
    "# Tabel perbandingan actual label dan predicted label untuk data testing\n",
    "test = pd.DataFrame(y_test)\n",
    "test['Predict_Test'] = y_pred_test_hard\n",
    "test"
   ]
  },
  {
   "cell_type": "markdown",
   "metadata": {
    "id": "gKK11aYxJwLM"
   },
   "source": [
    "Ditampilkan tabel yang memuat label asli dan label prediksi dari suatu data yang dapat digunakan untuk melihat garis besar perbandingan hasil output yang diprediksi oleh model Hard Voting. Di atas ditampilkan label untuk data training kemudian ditampilkan untuk data testing."
   ]
  },
  {
   "cell_type": "markdown",
   "metadata": {
    "id": "J3vk4KEg71B2"
   },
   "source": [
    "### Soft Voting"
   ]
  },
  {
   "cell_type": "code",
   "execution_count": 37,
   "metadata": {
    "colab": {
     "base_uri": "https://localhost:8080/",
     "height": 110
    },
    "id": "8E6pHtKg7214",
    "outputId": "37733071-5acb-4850-92bb-23a14aa506cd"
   },
   "outputs": [
    {
     "data": {
      "text/plain": [
       "VotingClassifier(estimators=[('LR',\n",
       "                              LogisticRegression(multi_class='ovr',\n",
       "                                                 solver='liblinear')),\n",
       "                             ('SVC',\n",
       "                              SVC(C=0.1, kernel='linear', probability=True)),\n",
       "                             ('DTC',\n",
       "                              DecisionTreeClassifier(criterion='entropy',\n",
       "                                                     max_depth=3))],\n",
       "                 voting='soft')"
      ]
     },
     "execution_count": 37,
     "metadata": {},
     "output_type": "execute_result"
    }
   ],
   "source": [
    "# Fitting Model\n",
    "soft_voting.fit(X_train, y_train)"
   ]
  },
  {
   "cell_type": "markdown",
   "metadata": {
    "id": "lXX7ChZ0H16C"
   },
   "source": [
    "Dilakukan fitting model Soft Voting untuk ketiga estimator yang telah dipilih menggunakan data training."
   ]
  },
  {
   "cell_type": "code",
   "execution_count": 38,
   "metadata": {
    "id": "5r7e9Ya_9EPo"
   },
   "outputs": [],
   "source": [
    "# Predict data\n",
    "y_pred_train_soft = soft_voting.predict(X_train)\n",
    "y_pred_test_soft = soft_voting.predict(X_test)"
   ]
  },
  {
   "cell_type": "markdown",
   "metadata": {
    "id": "YB3E_U_AKFBz"
   },
   "source": [
    "Kemudian dilakukan prediksi data menggunakan data testing dan data training pada model Soft Voting."
   ]
  },
  {
   "cell_type": "code",
   "execution_count": 39,
   "metadata": {
    "colab": {
     "base_uri": "https://localhost:8080/",
     "height": 424
    },
    "id": "cRhJQ0Fu9D7L",
    "outputId": "b059acae-87d6-4ebb-95e7-11a8509c241d"
   },
   "outputs": [
    {
     "data": {
      "text/html": [
       "<div>\n",
       "<style scoped>\n",
       "    .dataframe tbody tr th:only-of-type {\n",
       "        vertical-align: middle;\n",
       "    }\n",
       "\n",
       "    .dataframe tbody tr th {\n",
       "        vertical-align: top;\n",
       "    }\n",
       "\n",
       "    .dataframe thead th {\n",
       "        text-align: right;\n",
       "    }\n",
       "</style>\n",
       "<table border=\"1\" class=\"dataframe\">\n",
       "  <thead>\n",
       "    <tr style=\"text-align: right;\">\n",
       "      <th></th>\n",
       "      <th>death</th>\n",
       "      <th>Predict_Train</th>\n",
       "    </tr>\n",
       "  </thead>\n",
       "  <tbody>\n",
       "    <tr>\n",
       "      <th>191</th>\n",
       "      <td>0</td>\n",
       "      <td>0</td>\n",
       "    </tr>\n",
       "    <tr>\n",
       "      <th>297</th>\n",
       "      <td>0</td>\n",
       "      <td>0</td>\n",
       "    </tr>\n",
       "    <tr>\n",
       "      <th>233</th>\n",
       "      <td>0</td>\n",
       "      <td>0</td>\n",
       "    </tr>\n",
       "    <tr>\n",
       "      <th>49</th>\n",
       "      <td>1</td>\n",
       "      <td>1</td>\n",
       "    </tr>\n",
       "    <tr>\n",
       "      <th>349</th>\n",
       "      <td>1</td>\n",
       "      <td>1</td>\n",
       "    </tr>\n",
       "    <tr>\n",
       "      <th>...</th>\n",
       "      <td>...</td>\n",
       "      <td>...</td>\n",
       "    </tr>\n",
       "    <tr>\n",
       "      <th>323</th>\n",
       "      <td>1</td>\n",
       "      <td>1</td>\n",
       "    </tr>\n",
       "    <tr>\n",
       "      <th>192</th>\n",
       "      <td>0</td>\n",
       "      <td>0</td>\n",
       "    </tr>\n",
       "    <tr>\n",
       "      <th>117</th>\n",
       "      <td>0</td>\n",
       "      <td>1</td>\n",
       "    </tr>\n",
       "    <tr>\n",
       "      <th>47</th>\n",
       "      <td>1</td>\n",
       "      <td>1</td>\n",
       "    </tr>\n",
       "    <tr>\n",
       "      <th>172</th>\n",
       "      <td>0</td>\n",
       "      <td>0</td>\n",
       "    </tr>\n",
       "  </tbody>\n",
       "</table>\n",
       "<p>284 rows × 2 columns</p>\n",
       "</div>"
      ],
      "text/plain": [
       "     death  Predict_Train\n",
       "191      0              0\n",
       "297      0              0\n",
       "233      0              0\n",
       "49       1              1\n",
       "349      1              1\n",
       "..     ...            ...\n",
       "323      1              1\n",
       "192      0              0\n",
       "117      0              1\n",
       "47       1              1\n",
       "172      0              0\n",
       "\n",
       "[284 rows x 2 columns]"
      ]
     },
     "execution_count": 39,
     "metadata": {},
     "output_type": "execute_result"
    }
   ],
   "source": [
    "# Tabel perbandingan actual label dan predicted label untuk data training\n",
    "train = pd.DataFrame(y_train)\n",
    "train['Predict_Train'] = y_pred_train_soft\n",
    "train"
   ]
  },
  {
   "cell_type": "code",
   "execution_count": 40,
   "metadata": {
    "colab": {
     "base_uri": "https://localhost:8080/",
     "height": 424
    },
    "id": "sAE06bPq9DoB",
    "outputId": "5e448112-e117-4cf4-9037-14e7092398c0"
   },
   "outputs": [
    {
     "data": {
      "text/html": [
       "<div>\n",
       "<style scoped>\n",
       "    .dataframe tbody tr th:only-of-type {\n",
       "        vertical-align: middle;\n",
       "    }\n",
       "\n",
       "    .dataframe tbody tr th {\n",
       "        vertical-align: top;\n",
       "    }\n",
       "\n",
       "    .dataframe thead th {\n",
       "        text-align: right;\n",
       "    }\n",
       "</style>\n",
       "<table border=\"1\" class=\"dataframe\">\n",
       "  <thead>\n",
       "    <tr style=\"text-align: right;\">\n",
       "      <th></th>\n",
       "      <th>death</th>\n",
       "      <th>Predict_Test</th>\n",
       "    </tr>\n",
       "  </thead>\n",
       "  <tbody>\n",
       "    <tr>\n",
       "      <th>175</th>\n",
       "      <td>0</td>\n",
       "      <td>0</td>\n",
       "    </tr>\n",
       "    <tr>\n",
       "      <th>239</th>\n",
       "      <td>0</td>\n",
       "      <td>0</td>\n",
       "    </tr>\n",
       "    <tr>\n",
       "      <th>60</th>\n",
       "      <td>1</td>\n",
       "      <td>1</td>\n",
       "    </tr>\n",
       "    <tr>\n",
       "      <th>231</th>\n",
       "      <td>0</td>\n",
       "      <td>0</td>\n",
       "    </tr>\n",
       "    <tr>\n",
       "      <th>134</th>\n",
       "      <td>0</td>\n",
       "      <td>1</td>\n",
       "    </tr>\n",
       "    <tr>\n",
       "      <th>...</th>\n",
       "      <td>...</td>\n",
       "      <td>...</td>\n",
       "    </tr>\n",
       "    <tr>\n",
       "      <th>96</th>\n",
       "      <td>0</td>\n",
       "      <td>1</td>\n",
       "    </tr>\n",
       "    <tr>\n",
       "      <th>145</th>\n",
       "      <td>0</td>\n",
       "      <td>0</td>\n",
       "    </tr>\n",
       "    <tr>\n",
       "      <th>89</th>\n",
       "      <td>0</td>\n",
       "      <td>1</td>\n",
       "    </tr>\n",
       "    <tr>\n",
       "      <th>364</th>\n",
       "      <td>1</td>\n",
       "      <td>1</td>\n",
       "    </tr>\n",
       "    <tr>\n",
       "      <th>21</th>\n",
       "      <td>1</td>\n",
       "      <td>1</td>\n",
       "    </tr>\n",
       "  </tbody>\n",
       "</table>\n",
       "<p>122 rows × 2 columns</p>\n",
       "</div>"
      ],
      "text/plain": [
       "     death  Predict_Test\n",
       "175      0             0\n",
       "239      0             0\n",
       "60       1             1\n",
       "231      0             0\n",
       "134      0             1\n",
       "..     ...           ...\n",
       "96       0             1\n",
       "145      0             0\n",
       "89       0             1\n",
       "364      1             1\n",
       "21       1             1\n",
       "\n",
       "[122 rows x 2 columns]"
      ]
     },
     "execution_count": 40,
     "metadata": {},
     "output_type": "execute_result"
    }
   ],
   "source": [
    "# Tabel perbandingan actual label dan predicted label untuk data testing\n",
    "test = pd.DataFrame(y_test)\n",
    "test['Predict_Test'] = y_pred_test_soft\n",
    "test"
   ]
  },
  {
   "cell_type": "markdown",
   "metadata": {
    "id": "2csxSoWvJl2U"
   },
   "source": [
    "Ditampilkan tabel yang memuat label asli dan label prediksi dari suatu data yang dapat digunakan untuk melihat garis besar perbandingan hasil output yang diprediksi oleh model Soft Voting. Di atas ditampilkan label untuk data training kemudian ditampilkan untuk data testing."
   ]
  },
  {
   "cell_type": "markdown",
   "metadata": {
    "id": "j0KPN63h36vS"
   },
   "source": [
    "## Stacking"
   ]
  },
  {
   "cell_type": "code",
   "execution_count": 41,
   "metadata": {
    "colab": {
     "base_uri": "https://localhost:8080/",
     "height": 164
    },
    "id": "bEBUKvBI38ww",
    "outputId": "21eba86c-f400-4cb1-c0f6-6e53f8d8fa69"
   },
   "outputs": [
    {
     "data": {
      "text/plain": [
       "StackingClassifier(estimators=[('LR',\n",
       "                                LogisticRegression(multi_class='ovr',\n",
       "                                                   solver='liblinear')),\n",
       "                               ('SVC',\n",
       "                                SVC(C=0.1, kernel='linear', probability=True)),\n",
       "                               ('DTC',\n",
       "                                DecisionTreeClassifier(criterion='entropy',\n",
       "                                                       max_depth=3))])"
      ]
     },
     "execution_count": 41,
     "metadata": {},
     "output_type": "execute_result"
    }
   ],
   "source": [
    "# VFitting Model\n",
    "model_stacking.fit(X_train, y_train)"
   ]
  },
  {
   "cell_type": "markdown",
   "metadata": {
    "id": "w5OnRdcpIV4q"
   },
   "source": [
    "Dilakukan fitting model Stacking untuk ketiga estimator yang telah dipilih menggunakan data training. Feature Output dari ketiga model layer base akan digunakan untuk training final estimator(Logistic Regression)."
   ]
  },
  {
   "cell_type": "code",
   "execution_count": 42,
   "metadata": {
    "id": "uBCCXkua38kx"
   },
   "outputs": [],
   "source": [
    "# Predict data\n",
    "y_pred_train_stacking = model_stacking.predict(X_train)\n",
    "y_pred_test_stacking = model_stacking.predict(X_test)"
   ]
  },
  {
   "cell_type": "markdown",
   "metadata": {
    "id": "JfwrytttKIPk"
   },
   "source": [
    "Kemudian dilakukan prediksi data menggunakan data testing dan data training pada model Stacking."
   ]
  },
  {
   "cell_type": "code",
   "execution_count": 43,
   "metadata": {
    "colab": {
     "base_uri": "https://localhost:8080/",
     "height": 424
    },
    "id": "2EQKCe4l38cu",
    "outputId": "a54dec3b-ecb1-47b5-8198-a4b6cc42eef6"
   },
   "outputs": [
    {
     "data": {
      "text/html": [
       "<div>\n",
       "<style scoped>\n",
       "    .dataframe tbody tr th:only-of-type {\n",
       "        vertical-align: middle;\n",
       "    }\n",
       "\n",
       "    .dataframe tbody tr th {\n",
       "        vertical-align: top;\n",
       "    }\n",
       "\n",
       "    .dataframe thead th {\n",
       "        text-align: right;\n",
       "    }\n",
       "</style>\n",
       "<table border=\"1\" class=\"dataframe\">\n",
       "  <thead>\n",
       "    <tr style=\"text-align: right;\">\n",
       "      <th></th>\n",
       "      <th>death</th>\n",
       "      <th>Predict_Train</th>\n",
       "    </tr>\n",
       "  </thead>\n",
       "  <tbody>\n",
       "    <tr>\n",
       "      <th>191</th>\n",
       "      <td>0</td>\n",
       "      <td>0</td>\n",
       "    </tr>\n",
       "    <tr>\n",
       "      <th>297</th>\n",
       "      <td>0</td>\n",
       "      <td>0</td>\n",
       "    </tr>\n",
       "    <tr>\n",
       "      <th>233</th>\n",
       "      <td>0</td>\n",
       "      <td>0</td>\n",
       "    </tr>\n",
       "    <tr>\n",
       "      <th>49</th>\n",
       "      <td>1</td>\n",
       "      <td>1</td>\n",
       "    </tr>\n",
       "    <tr>\n",
       "      <th>349</th>\n",
       "      <td>1</td>\n",
       "      <td>1</td>\n",
       "    </tr>\n",
       "    <tr>\n",
       "      <th>...</th>\n",
       "      <td>...</td>\n",
       "      <td>...</td>\n",
       "    </tr>\n",
       "    <tr>\n",
       "      <th>323</th>\n",
       "      <td>1</td>\n",
       "      <td>1</td>\n",
       "    </tr>\n",
       "    <tr>\n",
       "      <th>192</th>\n",
       "      <td>0</td>\n",
       "      <td>0</td>\n",
       "    </tr>\n",
       "    <tr>\n",
       "      <th>117</th>\n",
       "      <td>0</td>\n",
       "      <td>1</td>\n",
       "    </tr>\n",
       "    <tr>\n",
       "      <th>47</th>\n",
       "      <td>1</td>\n",
       "      <td>1</td>\n",
       "    </tr>\n",
       "    <tr>\n",
       "      <th>172</th>\n",
       "      <td>0</td>\n",
       "      <td>0</td>\n",
       "    </tr>\n",
       "  </tbody>\n",
       "</table>\n",
       "<p>284 rows × 2 columns</p>\n",
       "</div>"
      ],
      "text/plain": [
       "     death  Predict_Train\n",
       "191      0              0\n",
       "297      0              0\n",
       "233      0              0\n",
       "49       1              1\n",
       "349      1              1\n",
       "..     ...            ...\n",
       "323      1              1\n",
       "192      0              0\n",
       "117      0              1\n",
       "47       1              1\n",
       "172      0              0\n",
       "\n",
       "[284 rows x 2 columns]"
      ]
     },
     "execution_count": 43,
     "metadata": {},
     "output_type": "execute_result"
    }
   ],
   "source": [
    "# Tabel perbandingan actual label dan predicted label untuk data training\n",
    "train = pd.DataFrame(y_train)\n",
    "train['Predict_Train'] = y_pred_train_stacking\n",
    "train"
   ]
  },
  {
   "cell_type": "code",
   "execution_count": 44,
   "metadata": {
    "colab": {
     "base_uri": "https://localhost:8080/",
     "height": 424
    },
    "id": "9EQ8odYU38I7",
    "outputId": "f8f723c9-31b6-44f6-d326-20348c9c5376"
   },
   "outputs": [
    {
     "data": {
      "text/html": [
       "<div>\n",
       "<style scoped>\n",
       "    .dataframe tbody tr th:only-of-type {\n",
       "        vertical-align: middle;\n",
       "    }\n",
       "\n",
       "    .dataframe tbody tr th {\n",
       "        vertical-align: top;\n",
       "    }\n",
       "\n",
       "    .dataframe thead th {\n",
       "        text-align: right;\n",
       "    }\n",
       "</style>\n",
       "<table border=\"1\" class=\"dataframe\">\n",
       "  <thead>\n",
       "    <tr style=\"text-align: right;\">\n",
       "      <th></th>\n",
       "      <th>death</th>\n",
       "      <th>Predict_Test</th>\n",
       "    </tr>\n",
       "  </thead>\n",
       "  <tbody>\n",
       "    <tr>\n",
       "      <th>175</th>\n",
       "      <td>0</td>\n",
       "      <td>0</td>\n",
       "    </tr>\n",
       "    <tr>\n",
       "      <th>239</th>\n",
       "      <td>0</td>\n",
       "      <td>0</td>\n",
       "    </tr>\n",
       "    <tr>\n",
       "      <th>60</th>\n",
       "      <td>1</td>\n",
       "      <td>1</td>\n",
       "    </tr>\n",
       "    <tr>\n",
       "      <th>231</th>\n",
       "      <td>0</td>\n",
       "      <td>0</td>\n",
       "    </tr>\n",
       "    <tr>\n",
       "      <th>134</th>\n",
       "      <td>0</td>\n",
       "      <td>1</td>\n",
       "    </tr>\n",
       "    <tr>\n",
       "      <th>...</th>\n",
       "      <td>...</td>\n",
       "      <td>...</td>\n",
       "    </tr>\n",
       "    <tr>\n",
       "      <th>96</th>\n",
       "      <td>0</td>\n",
       "      <td>1</td>\n",
       "    </tr>\n",
       "    <tr>\n",
       "      <th>145</th>\n",
       "      <td>0</td>\n",
       "      <td>0</td>\n",
       "    </tr>\n",
       "    <tr>\n",
       "      <th>89</th>\n",
       "      <td>0</td>\n",
       "      <td>1</td>\n",
       "    </tr>\n",
       "    <tr>\n",
       "      <th>364</th>\n",
       "      <td>1</td>\n",
       "      <td>1</td>\n",
       "    </tr>\n",
       "    <tr>\n",
       "      <th>21</th>\n",
       "      <td>1</td>\n",
       "      <td>1</td>\n",
       "    </tr>\n",
       "  </tbody>\n",
       "</table>\n",
       "<p>122 rows × 2 columns</p>\n",
       "</div>"
      ],
      "text/plain": [
       "     death  Predict_Test\n",
       "175      0             0\n",
       "239      0             0\n",
       "60       1             1\n",
       "231      0             0\n",
       "134      0             1\n",
       "..     ...           ...\n",
       "96       0             1\n",
       "145      0             0\n",
       "89       0             1\n",
       "364      1             1\n",
       "21       1             1\n",
       "\n",
       "[122 rows x 2 columns]"
      ]
     },
     "execution_count": 44,
     "metadata": {},
     "output_type": "execute_result"
    }
   ],
   "source": [
    "# Tabel perbandingan actual label dan predicted label untuk data testing\n",
    "test = pd.DataFrame(y_test)\n",
    "test['Predict_Test'] = y_pred_test_stacking\n",
    "test"
   ]
  },
  {
   "cell_type": "markdown",
   "metadata": {
    "id": "pvRRPNPFJF95"
   },
   "source": [
    "Ditampilkan tabel yang memuat label asli dan label prediksi dari suatu data yang dapat digunakan untuk melihat garis besar perbandingan hasil output yang diprediksi oleh model Stacking. Di atas ditampilkan label untuk data training kemudian ditampilkan untuk data testing."
   ]
  },
  {
   "cell_type": "markdown",
   "metadata": {
    "id": "V4fjclfUN4u-"
   },
   "source": [
    "## Random Forest"
   ]
  },
  {
   "cell_type": "code",
   "execution_count": 45,
   "metadata": {
    "colab": {
     "base_uri": "https://localhost:8080/",
     "height": 75
    },
    "id": "yFh8irCqN7dF",
    "outputId": "fd9b9f45-bd45-4e3c-edf0-fbac59aca214"
   },
   "outputs": [
    {
     "data": {
      "text/plain": [
       "RandomForestClassifier(max_depth=2)"
      ]
     },
     "execution_count": 45,
     "metadata": {},
     "output_type": "execute_result"
    }
   ],
   "source": [
    "# Fitting Model Random Forest\n",
    "model_rfc.fit(X_train, y_train)"
   ]
  },
  {
   "cell_type": "markdown",
   "metadata": {
    "id": "jb4oukjoN_u-"
   },
   "source": [
    "Dilakukan fitting atau proses learning model berdasarkan data training (features dan label) yang telah disiapkan sebelumnya."
   ]
  },
  {
   "cell_type": "code",
   "execution_count": 46,
   "metadata": {
    "id": "kgRHQztmOAXi"
   },
   "outputs": [],
   "source": [
    "# Predict labels\n",
    "y_pred_train_rfc = model_rfc.predict(X_train)\n",
    "y_pred_test_rfc = model_rfc.predict(X_test)"
   ]
  },
  {
   "cell_type": "markdown",
   "metadata": {
    "id": "MC5WrdPFORBw"
   },
   "source": [
    "Kemudian dilakukan prediksi menggunakan model Random Forest untuk masing-masing data (Training Data dan Testing Data)."
   ]
  },
  {
   "cell_type": "code",
   "execution_count": 47,
   "metadata": {
    "colab": {
     "base_uri": "https://localhost:8080/",
     "height": 424
    },
    "id": "TxQzn0rzOnLk",
    "outputId": "d73760b7-dc70-41db-972b-16cbb86ff0a5"
   },
   "outputs": [
    {
     "data": {
      "text/html": [
       "<div>\n",
       "<style scoped>\n",
       "    .dataframe tbody tr th:only-of-type {\n",
       "        vertical-align: middle;\n",
       "    }\n",
       "\n",
       "    .dataframe tbody tr th {\n",
       "        vertical-align: top;\n",
       "    }\n",
       "\n",
       "    .dataframe thead th {\n",
       "        text-align: right;\n",
       "    }\n",
       "</style>\n",
       "<table border=\"1\" class=\"dataframe\">\n",
       "  <thead>\n",
       "    <tr style=\"text-align: right;\">\n",
       "      <th></th>\n",
       "      <th>death</th>\n",
       "      <th>Predict_Train</th>\n",
       "    </tr>\n",
       "  </thead>\n",
       "  <tbody>\n",
       "    <tr>\n",
       "      <th>191</th>\n",
       "      <td>0</td>\n",
       "      <td>0</td>\n",
       "    </tr>\n",
       "    <tr>\n",
       "      <th>297</th>\n",
       "      <td>0</td>\n",
       "      <td>0</td>\n",
       "    </tr>\n",
       "    <tr>\n",
       "      <th>233</th>\n",
       "      <td>0</td>\n",
       "      <td>0</td>\n",
       "    </tr>\n",
       "    <tr>\n",
       "      <th>49</th>\n",
       "      <td>1</td>\n",
       "      <td>1</td>\n",
       "    </tr>\n",
       "    <tr>\n",
       "      <th>349</th>\n",
       "      <td>1</td>\n",
       "      <td>1</td>\n",
       "    </tr>\n",
       "    <tr>\n",
       "      <th>...</th>\n",
       "      <td>...</td>\n",
       "      <td>...</td>\n",
       "    </tr>\n",
       "    <tr>\n",
       "      <th>323</th>\n",
       "      <td>1</td>\n",
       "      <td>0</td>\n",
       "    </tr>\n",
       "    <tr>\n",
       "      <th>192</th>\n",
       "      <td>0</td>\n",
       "      <td>0</td>\n",
       "    </tr>\n",
       "    <tr>\n",
       "      <th>117</th>\n",
       "      <td>0</td>\n",
       "      <td>1</td>\n",
       "    </tr>\n",
       "    <tr>\n",
       "      <th>47</th>\n",
       "      <td>1</td>\n",
       "      <td>1</td>\n",
       "    </tr>\n",
       "    <tr>\n",
       "      <th>172</th>\n",
       "      <td>0</td>\n",
       "      <td>0</td>\n",
       "    </tr>\n",
       "  </tbody>\n",
       "</table>\n",
       "<p>284 rows × 2 columns</p>\n",
       "</div>"
      ],
      "text/plain": [
       "     death  Predict_Train\n",
       "191      0              0\n",
       "297      0              0\n",
       "233      0              0\n",
       "49       1              1\n",
       "349      1              1\n",
       "..     ...            ...\n",
       "323      1              0\n",
       "192      0              0\n",
       "117      0              1\n",
       "47       1              1\n",
       "172      0              0\n",
       "\n",
       "[284 rows x 2 columns]"
      ]
     },
     "execution_count": 47,
     "metadata": {},
     "output_type": "execute_result"
    }
   ],
   "source": [
    "# Tabel perbandingan actual label dan predicted label untuk data training\n",
    "train = pd.DataFrame(y_train)\n",
    "train['Predict_Train'] = y_pred_train_rfc\n",
    "train"
   ]
  },
  {
   "cell_type": "code",
   "execution_count": 48,
   "metadata": {
    "colab": {
     "base_uri": "https://localhost:8080/",
     "height": 424
    },
    "id": "L5N0th6KOosM",
    "outputId": "2f90c596-d840-47d0-d624-5d8c754c6582"
   },
   "outputs": [
    {
     "data": {
      "text/html": [
       "<div>\n",
       "<style scoped>\n",
       "    .dataframe tbody tr th:only-of-type {\n",
       "        vertical-align: middle;\n",
       "    }\n",
       "\n",
       "    .dataframe tbody tr th {\n",
       "        vertical-align: top;\n",
       "    }\n",
       "\n",
       "    .dataframe thead th {\n",
       "        text-align: right;\n",
       "    }\n",
       "</style>\n",
       "<table border=\"1\" class=\"dataframe\">\n",
       "  <thead>\n",
       "    <tr style=\"text-align: right;\">\n",
       "      <th></th>\n",
       "      <th>death</th>\n",
       "      <th>Predict_Test</th>\n",
       "    </tr>\n",
       "  </thead>\n",
       "  <tbody>\n",
       "    <tr>\n",
       "      <th>175</th>\n",
       "      <td>0</td>\n",
       "      <td>0</td>\n",
       "    </tr>\n",
       "    <tr>\n",
       "      <th>239</th>\n",
       "      <td>0</td>\n",
       "      <td>0</td>\n",
       "    </tr>\n",
       "    <tr>\n",
       "      <th>60</th>\n",
       "      <td>1</td>\n",
       "      <td>1</td>\n",
       "    </tr>\n",
       "    <tr>\n",
       "      <th>231</th>\n",
       "      <td>0</td>\n",
       "      <td>0</td>\n",
       "    </tr>\n",
       "    <tr>\n",
       "      <th>134</th>\n",
       "      <td>0</td>\n",
       "      <td>0</td>\n",
       "    </tr>\n",
       "    <tr>\n",
       "      <th>...</th>\n",
       "      <td>...</td>\n",
       "      <td>...</td>\n",
       "    </tr>\n",
       "    <tr>\n",
       "      <th>96</th>\n",
       "      <td>0</td>\n",
       "      <td>0</td>\n",
       "    </tr>\n",
       "    <tr>\n",
       "      <th>145</th>\n",
       "      <td>0</td>\n",
       "      <td>0</td>\n",
       "    </tr>\n",
       "    <tr>\n",
       "      <th>89</th>\n",
       "      <td>0</td>\n",
       "      <td>0</td>\n",
       "    </tr>\n",
       "    <tr>\n",
       "      <th>364</th>\n",
       "      <td>1</td>\n",
       "      <td>1</td>\n",
       "    </tr>\n",
       "    <tr>\n",
       "      <th>21</th>\n",
       "      <td>1</td>\n",
       "      <td>1</td>\n",
       "    </tr>\n",
       "  </tbody>\n",
       "</table>\n",
       "<p>122 rows × 2 columns</p>\n",
       "</div>"
      ],
      "text/plain": [
       "     death  Predict_Test\n",
       "175      0             0\n",
       "239      0             0\n",
       "60       1             1\n",
       "231      0             0\n",
       "134      0             0\n",
       "..     ...           ...\n",
       "96       0             0\n",
       "145      0             0\n",
       "89       0             0\n",
       "364      1             1\n",
       "21       1             1\n",
       "\n",
       "[122 rows x 2 columns]"
      ]
     },
     "execution_count": 48,
     "metadata": {},
     "output_type": "execute_result"
    }
   ],
   "source": [
    "# Tabel perbandingan actual label dan predicted label untuk data testing\n",
    "test = pd.DataFrame(y_test)\n",
    "test['Predict_Test'] = y_pred_test_rfc\n",
    "test"
   ]
  },
  {
   "cell_type": "markdown",
   "metadata": {
    "id": "tCQxiPUhOwhv"
   },
   "source": [
    "Ditampilkan tabel yang memuat label asli dan label prediksi dari suatu data yang dapat digunakan untuk melihat garis besar perbandingan hasil output yang diprediksi oleh model Random Forest. Di atas ditampilkan label untuk data training kemudian ditampilkan untuk data testing."
   ]
  },
  {
   "cell_type": "markdown",
   "metadata": {
    "id": "oy5ncMWkwdcO"
   },
   "source": [
    "# Evaluasi Model"
   ]
  },
  {
   "cell_type": "markdown",
   "metadata": {
    "id": "hwcPzCrZ7y0-"
   },
   "source": [
    "## Voting Classifier"
   ]
  },
  {
   "cell_type": "markdown",
   "metadata": {
    "id": "9S4pwbTF73Lf"
   },
   "source": [
    "### Hard Voting"
   ]
  },
  {
   "cell_type": "code",
   "execution_count": 49,
   "metadata": {
    "colab": {
     "base_uri": "https://localhost:8080/"
    },
    "id": "YWJ674PLwpEv",
    "outputId": "94cfca4a-e28d-469e-c922-0ddbea4efd11"
   },
   "outputs": [
    {
     "name": "stdout",
     "output_type": "stream",
     "text": [
      "Accuracy score data train model Hard Voting adalah : 0.8485915492957746\n",
      "Accuracy score data test model Hard Voting adalah : 0.819672131147541\n"
     ]
    }
   ],
   "source": [
    "print('Accuracy score data train model Hard Voting adalah :',accuracy_score(y_train, y_pred_train_hard))\n",
    "print('Accuracy score data test model Hard Voting adalah :',accuracy_score(y_test, y_pred_test_hard))\n"
   ]
  },
  {
   "cell_type": "markdown",
   "metadata": {
    "id": "wYwhrhLv7wxg"
   },
   "source": [
    ">- Accuracy score mewakili seberapa baik model tersebut dalam memprediksi seberapa baik nilai cocok dibandingkan dengan nilai aslinya. Rentang nilai diwakili dari 0 sampai 1 dan diartikan sebagai presentase, semakin tinggi nilainya, semakin baik modelnya. Terlihat hasil akurasi pada model Hard Voting sebesar 0.819 atau sebesar 82% dapat disimpulkan bahwa model tersebut sudah cukup baik dalam memprediksi data. Juga dapat dilihat dari selisih accuracy score, data training lebih besar dari 0.029 atau 3% data testing yang dapat disimpulkan terjadi overfitting tetapi dengan nilai sangat kecil.\n",
    "\n"
   ]
  },
  {
   "cell_type": "code",
   "execution_count": 50,
   "metadata": {
    "colab": {
     "base_uri": "https://localhost:8080/",
     "height": 672
    },
    "id": "2_UgiaDl7oJb",
    "outputId": "e80f95a7-4eca-4e58-a437-f2f0582e23e6"
   },
   "outputs": [
    {
     "name": "stdout",
     "output_type": "stream",
     "text": [
      "\n",
      "Hasil Classification Report Hard Voting\n",
      "              precision    recall  f1-score   support\n",
      "\n",
      "           0       0.78      0.81      0.80        53\n",
      "           1       0.85      0.83      0.84        69\n",
      "\n",
      "    accuracy                           0.82       122\n",
      "   macro avg       0.82      0.82      0.82       122\n",
      "weighted avg       0.82      0.82      0.82       122\n",
      "\n"
     ]
    },
    {
     "data": {
      "image/png": "[encoded data removed]",
      "text/plain": [
       "<Figure size 432x288 with 2 Axes>"
      ]
     },
     "metadata": {
      "needs_background": "light"
     },
     "output_type": "display_data"
    }
   ],
   "source": [
    "print('\\nHasil Classification Report Hard Voting')\n",
    "print(classification_report(y_test,y_pred_test_hard)) \n",
    "\n",
    "cm_hard = confusion_matrix(y_test,y_pred_test_hard)\n",
    "ax= plt.subplot()\n",
    "sns.heatmap(cm_hard, annot=True, fmt='g', ax=ax);  #annot=True to annotate cells, ftm='g' to disable scientific notation\n",
    "\n",
    "# labels, title and ticks\n",
    "ax.set_xlabel('Predicted labels');ax.set_ylabel('True labels'); \n",
    "ax.set_title('Confusion Matrix Hard Voting', y=1.02, fontsize=15); \n",
    "ax.xaxis.set_ticklabels(['No', 'Yes']); ax.yaxis.set_ticklabels(['No', 'Yes']);"
   ]
  },
  {
   "cell_type": "markdown",
   "metadata": {
    "id": "DeC71nJx4jXq"
   },
   "source": [
    ">- Dari classsification Report diketahui precision adalah banyaknya sampel yang benar-benar termasuk dalam kelas positif dari semua sampel yang diprediksi menjadi kelas positif oleh model, sedangkan recall adalah banyaknya sampel yang diprediksi dengan benar menjadi kelas positif dari semua sampel yang benar-benar termasuk kelas positif. Dari hasil analisis nilai recall sebesar 0.81 (:0) dan 0.83 (:1) cukup mendekati nilai precision yaitu 0.78 (:0) dan 0.85 (:1), sehingga model sudah cukup baik dalam memprediksi. Namun, untuk membuat model semakin akurat selisih antara nilai recall dan precision harus semakin kecil lagi.\n",
    "\n",
    ">- Dari Counfusion Matrix diketahuin bahwa True Negatif (TN) sebanyak 43, false negatif (FN) sebanyak 12, false positif (FP) sebanyak  10, dan true positif (TP) sebanyak 57."
   ]
  },
  {
   "cell_type": "markdown",
   "metadata": {
    "id": "w6EOYg4m8Aop"
   },
   "source": [
    "### Soft Voting"
   ]
  },
  {
   "cell_type": "code",
   "execution_count": 51,
   "metadata": {
    "colab": {
     "base_uri": "https://localhost:8080/"
    },
    "id": "6NR-J_j58Aoq",
    "outputId": "098674fa-4ebd-4103-d3b8-f419ca55d650"
   },
   "outputs": [
    {
     "name": "stdout",
     "output_type": "stream",
     "text": [
      "Accuracy score data train model Soft Voting adalah : 0.8697183098591549\n",
      "Accuracy score data test model Soft Voting adalah : 0.8278688524590164\n"
     ]
    }
   ],
   "source": [
    "print('Accuracy score data train model Soft Voting adalah :',accuracy_score(y_train, y_pred_train_soft))\n",
    "print('Accuracy score data test model Soft Voting adalah :',accuracy_score(y_test, y_pred_test_soft))\n"
   ]
  },
  {
   "cell_type": "markdown",
   "metadata": {
    "id": "i_cl7Vqv8Aor"
   },
   "source": [
    ">- Accuracy score mewakili seberapa baik model tersebut dalam memprediksi seberapa baik nilai cocok dibandingkan dengan nilai aslinya. Rentang nilai diwakili dari 0 sampai 1 dan diartikan sebagai presentase, semakin tinggi nilainya, semakin baik modelnya. Terlihat hasil akurasi pada model Soft Voting sebesar 0.827 atau sebesar 83% dapat disimpulkan bahwa model tersebut sudah cukup baik dalam memprediksi data. Juga dapat dilihat dari selisih accuracy score, data training lebih besar 0.042 atau 4% dari data testing yang dapat disimpulkan terjadi overfitting pada model Soft Voting dengan nilai sangat kecil.\n",
    "\n"
   ]
  },
  {
   "cell_type": "code",
   "execution_count": 52,
   "metadata": {
    "colab": {
     "base_uri": "https://localhost:8080/",
     "height": 672
    },
    "id": "9F8NEmDP8Aos",
    "outputId": "00544752-c85f-464c-bfb1-0076d9f714b7"
   },
   "outputs": [
    {
     "name": "stdout",
     "output_type": "stream",
     "text": [
      "\n",
      "Hasil Classification Report Soft Voting\n",
      "              precision    recall  f1-score   support\n",
      "\n",
      "           0       0.80      0.81      0.80        53\n",
      "           1       0.85      0.84      0.85        69\n",
      "\n",
      "    accuracy                           0.83       122\n",
      "   macro avg       0.82      0.83      0.83       122\n",
      "weighted avg       0.83      0.83      0.83       122\n",
      "\n"
     ]
    },
    {
     "data": {
      "image/png": "[encoded data removed]",
      "text/plain": [
       "<Figure size 432x288 with 2 Axes>"
      ]
     },
     "metadata": {
      "needs_background": "light"
     },
     "output_type": "display_data"
    }
   ],
   "source": [
    "print('\\nHasil Classification Report Soft Voting')\n",
    "print(classification_report(y_test,y_pred_test_soft)) \n",
    "\n",
    "cm_soft = confusion_matrix(y_test,y_pred_test_soft)\n",
    "ax= plt.subplot()\n",
    "sns.heatmap(cm_soft, annot=True, fmt='g', ax=ax);  #annot=True to annotate cells, ftm='g' to disable scientific notation\n",
    "\n",
    "# labels, title and ticks\n",
    "ax.set_xlabel('Predicted labels');ax.set_ylabel('True labels'); \n",
    "ax.set_title('Confusion Matrix Soft Voting', y=1.02, fontsize=15); \n",
    "ax.xaxis.set_ticklabels(['No', 'Yes']); ax.yaxis.set_ticklabels(['No', 'Yes']);"
   ]
  },
  {
   "cell_type": "markdown",
   "metadata": {
    "id": "CpJe4cJf8Aos"
   },
   "source": [
    ">- Dari classsification Report diketahui precision adalah banyaknya sampel yang benar-benar termasuk dalam kelas positif dari semua sampel yang diprediksi menjadi kelas positif oleh model, sedangkan recall adalah banyaknya sampel yang diprediksi dengan benar menjadi kelas positif dari semua sampel yang benar-benar termasuk kelas positif. Dari hasil analisis nilai recall sebesar 0.81 (:0) dan 0.84 (:1) cukup mendekati nilai precision yaitu 0.80 (:0) dan 0.85 (:1), sehingga model sudah cukup baik dalam memprediksi. Namun, untuk membuat model semakin akurat selisih antara nilai recall dan precision harus semakin kecil lagi.\n",
    "\n",
    ">- Dari Counfusion Matrix diketahuin bahwa True Negatif (TN) sebanyak 43, false negatif (FN) sebanyak 11, false positif (FP) sebanyak  10, dan true positif (TP) sebanyak 58."
   ]
  },
  {
   "cell_type": "markdown",
   "metadata": {
    "id": "0-FqZ9Hlmg2a"
   },
   "source": [
    "## Stacking"
   ]
  },
  {
   "cell_type": "code",
   "execution_count": 53,
   "metadata": {
    "colab": {
     "base_uri": "https://localhost:8080/"
    },
    "id": "DD0Autg4mg2c",
    "outputId": "d37d1a7f-6976-42fc-ff3f-735ad799b404"
   },
   "outputs": [
    {
     "name": "stdout",
     "output_type": "stream",
     "text": [
      "Accuracy score data train model Stacking adalah : 0.8732394366197183\n",
      "Accuracy score data test model Stacking adalah : 0.8114754098360656\n"
     ]
    }
   ],
   "source": [
    "print('Accuracy score data train model Stacking adalah :',accuracy_score(y_train, y_pred_train_stacking))\n",
    "print('Accuracy score data test model Stacking adalah :',accuracy_score(y_test, y_pred_test_stacking))\n"
   ]
  },
  {
   "cell_type": "markdown",
   "metadata": {
    "id": "i_7HTQr8mg2d"
   },
   "source": [
    ">- Accuracy score mewakili seberapa baik model tersebut dalam memprediksi seberapa baik nilai cocok dibandingkan dengan nilai aslinya. Rentang nilai diwakili dari 0 sampai 1 dan diartikan sebagai presentase, semakin tinggi nilainya, semakin baik modelnya. Terlihat hasil akurasi pada model Stacking sebesar 0.811 atau sebesar 81% dapat disimpulkan bahwa model tersebut sudah cukup baik dalam memprediksi data. Juga dapat dilihat dari selisih accuracy score, data training lebih besar 0.072 atau 7% dari data testing yang dapat disimpulkan terjadi overfitting pada model Stacking namun dengan nilai cukup kecil.\n",
    "\n"
   ]
  },
  {
   "cell_type": "code",
   "execution_count": 54,
   "metadata": {
    "colab": {
     "base_uri": "https://localhost:8080/",
     "height": 672
    },
    "id": "GVLrh70Qmg2e",
    "outputId": "b649b47d-379c-40c3-9cea-5a2ba5dd0fcd"
   },
   "outputs": [
    {
     "name": "stdout",
     "output_type": "stream",
     "text": [
      "\n",
      "Hasil Classification Report Stacking\n",
      "              precision    recall  f1-score   support\n",
      "\n",
      "           0       0.77      0.81      0.79        53\n",
      "           1       0.85      0.81      0.83        69\n",
      "\n",
      "    accuracy                           0.81       122\n",
      "   macro avg       0.81      0.81      0.81       122\n",
      "weighted avg       0.81      0.81      0.81       122\n",
      "\n"
     ]
    },
    {
     "data": {
      "image/png": "[encoded data removed]",
      "text/plain": [
       "<Figure size 432x288 with 2 Axes>"
      ]
     },
     "metadata": {
      "needs_background": "light"
     },
     "output_type": "display_data"
    }
   ],
   "source": [
    "print('\\nHasil Classification Report Stacking')\n",
    "print(classification_report(y_test,y_pred_test_stacking)) \n",
    "\n",
    "cm_stacking = confusion_matrix(y_test,y_pred_test_stacking)\n",
    "ax= plt.subplot()\n",
    "sns.heatmap(cm_stacking, annot=True, fmt='g', ax=ax);  #annot=True to annotate cells, ftm='g' to disable scientific notation\n",
    "\n",
    "# labels, title and ticks\n",
    "ax.set_xlabel('Predicted labels');ax.set_ylabel('True labels'); \n",
    "ax.set_title('Confusion Matrix Stacking Ensemble', y=1.02, fontsize=15); \n",
    "ax.xaxis.set_ticklabels(['No', 'Yes']); ax.yaxis.set_ticklabels(['No', 'Yes']);"
   ]
  },
  {
   "cell_type": "markdown",
   "metadata": {
    "id": "51JR2Lqcmg2f"
   },
   "source": [
    ">- Dari classsification Report diketahui precision adalah banyaknya sampel yang benar-benar termasuk dalam kelas positif dari semua sampel yang diprediksi menjadi kelas positif oleh model, sedangkan recall adalah banyaknya sampel yang diprediksi dengan benar menjadi kelas positif dari semua sampel yang benar-benar termasuk kelas positif. Dari hasil analisis nilai recall sebesar 0.81 (:0) dan 0.81 (:1) cukup mendekati nilai precision yaitu 0.77 (:0) dan 0.85 (:1), sehingga model sudah cukup baik dalam memprediksi. Namun, untuk membuat model semakin akurat selisih antara nilai recall dan precision harus semakin kecil lagi.\n",
    "\n",
    ">- Dari Counfusion Matrix diketahuin bahwa True Negatif (TN) sebanyak 43, false negatif (FN) sebanyak 13, false positif (FP) sebanyak  10, dan true positif (TP) sebanyak 56."
   ]
  },
  {
   "cell_type": "markdown",
   "metadata": {
    "id": "h4ex990dmiJJ"
   },
   "source": [
    "## Random Forest\n"
   ]
  },
  {
   "cell_type": "code",
   "execution_count": 55,
   "metadata": {
    "colab": {
     "base_uri": "https://localhost:8080/"
    },
    "id": "Ve7qx3A5miJw",
    "outputId": "83126bc4-d2fd-4e74-c9c6-cf953bbe8777"
   },
   "outputs": [
    {
     "name": "stdout",
     "output_type": "stream",
     "text": [
      "Accuracy score data train model Random Forest adalah : 0.8626760563380281\n",
      "Accuracy score data test model Random Forest adalah : 0.8442622950819673\n"
     ]
    }
   ],
   "source": [
    "print('Accuracy score data train model Random Forest adalah :',accuracy_score(y_train, y_pred_train_rfc))\n",
    "print('Accuracy score data test model Random Forest adalah :',accuracy_score(y_test, y_pred_test_rfc))\n"
   ]
  },
  {
   "cell_type": "markdown",
   "metadata": {
    "id": "c0hMF5szmiJx"
   },
   "source": [
    ">- Accuracy score mewakili seberapa baik model tersebut dalam memprediksi seberapa baik nilai cocok dibandingkan dengan nilai aslinya. Rentang nilai diwakili dari 0 sampai 1 dan diartikan sebagai presentase, semakin tinggi nilainya, semakin baik modelnya. Terlihat hasil akurasi pada model Random Forest sebesar 0.836 atau sebesar 84% dapat disimpulkan bahwa model tersebut sudah cukup baik dalam memprediksi data. Juga dapat dilihat dari selisih accuracy score, data training lebih besar 0.019 atau 2% dari data testing yang dapat disimpulkan terjadi overfitting namun dengan nilai yang sangat kecil.\n",
    "\n"
   ]
  },
  {
   "cell_type": "code",
   "execution_count": 56,
   "metadata": {
    "colab": {
     "base_uri": "https://localhost:8080/",
     "height": 672
    },
    "id": "EzRqWWAGmiJx",
    "outputId": "4f80b377-a9b2-4226-c69c-1aa6575d8c01"
   },
   "outputs": [
    {
     "name": "stdout",
     "output_type": "stream",
     "text": [
      "\n",
      "Hasil Classification Report Random Forest\n",
      "              precision    recall  f1-score   support\n",
      "\n",
      "           0       0.78      0.89      0.83        53\n",
      "           1       0.90      0.81      0.85        69\n",
      "\n",
      "    accuracy                           0.84       122\n",
      "   macro avg       0.84      0.85      0.84       122\n",
      "weighted avg       0.85      0.84      0.84       122\n",
      "\n"
     ]
    },
    {
     "data": {
      "image/png": "[encoded data removed]",
      "text/plain": [
       "<Figure size 432x288 with 2 Axes>"
      ]
     },
     "metadata": {
      "needs_background": "light"
     },
     "output_type": "display_data"
    }
   ],
   "source": [
    "print('\\nHasil Classification Report Random Forest')\n",
    "print(classification_report(y_test,y_pred_test_rfc)) \n",
    "\n",
    "cm_rfc = confusion_matrix(y_test,y_pred_test_rfc)\n",
    "ax= plt.subplot()\n",
    "sns.heatmap(cm_rfc, annot=True, fmt='g', ax=ax);  #annot=True to annotate cells, ftm='g' to disable scientific notation\n",
    "\n",
    "# labels, title and ticks\n",
    "ax.set_xlabel('Predicted labels');ax.set_ylabel('True labels'); \n",
    "ax.set_title('Confusion Matrix Random Forest', y=1.02, fontsize=15); \n",
    "ax.xaxis.set_ticklabels(['No', 'Yes']); ax.yaxis.set_ticklabels(['No', 'Yes']);"
   ]
  },
  {
   "cell_type": "markdown",
   "metadata": {
    "id": "I7dnxW6rmiJx"
   },
   "source": [
    ">- Dari classsification Report diketahui precision adalah banyaknya sampel yang benar-benar termasuk dalam kelas positif dari semua sampel yang diprediksi menjadi kelas positif oleh model, sedangkan recall adalah banyaknya sampel yang diprediksi dengan benar menjadi kelas positif dari semua sampel yang benar-benar termasuk kelas positif. Dari hasil analisis nilai recall sebesar 0.87 (:0) dan 0.81 (:1) cukup mendekati nilai precision yaitu 0.78 (:0) dan 0.89 (:1), sehingga model sudah cukup baik dalam memprediksi. Namun, untuk membuat model semakin akurat selisih antara nilai recall dan precision harus semakin kecil lagi.\n",
    "\n",
    ">- Dari Counfusion Matrix diketahuin bahwa True Negatif (TN) sebanyak 46, false negatif (FN) sebanyak 13, false positif (FP) sebanyak  7, dan true positif (TP) sebanyak 56."
   ]
  },
  {
   "cell_type": "markdown",
   "metadata": {
    "id": "nxygv6RKtzZx"
   },
   "source": [
    "# Kesimpulan"
   ]
  },
  {
   "cell_type": "markdown",
   "metadata": {
    "id": "fnCA-D39_bMm"
   },
   "source": [
    ">**Dari Hasil Analisis diatas dapat ditarik kesimpulan sebagai berikut:**\n",
    "\n",
    ">- Dari hasil analisis feature selection age,\tanemia,\tdiabetes,\tejection_fraction,\thigh_blood_pressure,\tserum_creatinine,\tserum_sodium,\tsex,\tsmoking,\ttime,\tdeath, kita gunakan dalam membangun model dan didapatkan bahwa berdasarkan data tersebut kita dapat memperkirakan resiko kematioan orang yang menderita gagal jantung dengan akurasi prediksi dari beberapa model sebesar 81-84%.\n",
    ">- Dari analisis pie plot diatas diketahui bahwa rasio nilai dari target Not Survived sebesar 68% dari total nilai target pada kolom 'death', yang mana nilai tersebut lebih besar dibandingkan target Survived yang memiliki nilai 32% dari total nilai target. Untuk mengatasi adanya imbalanced data, data perlu di-resampling menggunakan metode balancing. Dalam analisis ini dilakukan beberapa uji metode balancing yaitu dengan uji tanpa balancing, random over sampling, dan SMOTE. Dan setelah dilakukan uji dipilih metode random over sampling (ROS) Sehingga didapat hasil target untuk 'Not Survived'(:0) dan 'Survived'(:1) telah menjadi seimbang yaitu 203:203.\n",
    ">- Dari diagnostic plot diketahui bahwa variabel Age dan EjectionFraction cenderung normal/simetris, sedangkan untuk SerumCreatinine dan Time cenderung positif skewed, dan SerumSodium cenderung negative skewed\n",
    ">- Dari grafik boxplot diketahui bahwa terdapat outliers pada variabel EjectionFraction, SerumCreatinine, dan SerumSodium. Sedangkan pada variabel Age dan Time tidak terdapat outliers.\n",
    ">- Berdasarkan hasil dari Correlation heatmap Plot terdapat korelasi paling tinggi terhadap kolom target death yaitu kolom time, serumcreatinine, dan age.\n",
    ">- Dalam metode Voting model yang digunakan adalah Logistic Regression, Support Vector Machine, dan Decission Tree.\n",
    ">- Dalam metode Stacking model yang digunakan juga Logistic Regression, Support Vector Machine dan Decission Tree dengan final estimator Logistic Regression\n",
    ">- Dari pemodelan-pemodelan tersebut, didapatkan akurasi **Hard Voting 82%**, **Soft Voting 83%**, **Stacking 81%**, dan **Random Forest 84%**. Dengan Random Forest sebagai model terbaik dengan tingkat akurasi tertinggi, dengan nilai selisih akurasi dari train dan test **2%** sehingga bisa dikatakatan tidak terjadi underfitting atau overfitting dengan nilai yang sangat kecil dan dapat dihiraukan.\n",
    ">- Sehingga dapat disimpulkan untuk memprediksi kematian akibat gagal jantung setidaknya membutuhkan beberapa variabel yaitu **time, ejection_fraction, serum_sodium, serum_creatinine, age, anemia, diabetes, high_blood_pressure, sex, dan smoking**."
   ]
  },
  {
   "cell_type": "code",
   "execution_count": null,
   "metadata": {},
   "outputs": [],
   "source": []
  }
 ],
 "metadata": {
  "colab": {
   "provenance": []
  },
  "kernelspec": {
   "display_name": "Python 3 (ipykernel)",
   "language": "python",
   "name": "python3"
  },
  "language_info": {
   "codemirror_mode": {
    "name": "ipython",
    "version": 3
   },
   "file_extension": ".py",
   "mimetype": "text/x-python",
   "name": "python",
   "nbconvert_exporter": "python",
   "pygments_lexer": "ipython3",
   "version": "3.9.12"
  }
 },
 "nbformat": 4,
 "nbformat_minor": 1
}
