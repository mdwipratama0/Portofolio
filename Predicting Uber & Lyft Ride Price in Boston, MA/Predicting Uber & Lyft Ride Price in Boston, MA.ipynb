{
 "cells": [
  {
   "cell_type": "markdown",
   "metadata": {
    "id": "IRESHrFtLgaC"
   },
   "source": [
    "# Predicting Uber & Lyft Ride Price in Boston, MA\n",
    "\n",
    ">Anggota:\n",
    ">1. Muhammad Taufiqul Hakim\n",
    ">2. M. Dwi Pratama\n",
    ">3. Rossanda Sevia Gadis\n",
    ">4. Shafira Almaisa\n",
    "\n",
    "\n",
    "# Perkenalan "
   ]
  },
  {
   "cell_type": "markdown",
   "metadata": {
    "id": "NeBqHhys58C6"
   },
   "source": [
    ">## Latar belakang.\n",
    "Kasus yang diangkat pada project ini adalah harga transportasi online untuk Uber dan Lyft. Transportasi online memiliki peran yang cukup penting dalam mobilisasi di suatu wilayah. Transportasi online memudahkan masyarakat dalam mendapatkan transportasi dikarenakan pemesanannya yang dilakukan secara online. Selain itu transportasin online juga dapat mencatat harga berdasarkan jarak dari titik jemput dan titik tujuan. Namun, dalam kehidupan sehari-hari, seringkali kita temui keadaan dimana harga transportasi online berubah Hal ini menyebabkan semakin tingginya kebutuhan akan transportasi online. "
   ]
  },
  {
   "cell_type": "markdown",
   "metadata": {
    "id": "yqS6bEmG6A1_"
   },
   "source": [
    ">## Data\n",
    "Data yang digunakan adalah 'Uber and Lyft Dataset Boston, MA' dimana data ini diambil dari website open source Kaggle. Data ini memuat sebanyak 57 kolom dan 693071 baris data. Kolom label atau target variabel dari data ini adalah kolom 'price' dimana kolom dengan value kontinu ini memuat nilai yang mana nilai tersebut dipengaruhi oleh faktor/kolom lainnya."
   ]
  },
  {
   "cell_type": "markdown",
   "metadata": {
    "id": "LzJ88UKc6Ghj"
   },
   "source": [
    ">## Capaian\n",
    "Menggunakan data ini, akan dibangun sebuah model dimana digunakan data feature(independen variabel) dan data label(dependen variabel) untuk melatih model agar mampu membuat prediksi harga atau tagihan transportasi(output berupa nilai kontinu) menggunakan algoritma linear regression. "
   ]
  },
  {
   "cell_type": "markdown",
   "metadata": {
    "id": "usc6yNusvgnc",
    "tags": []
   },
   "source": [
    "# Import Pustaka"
   ]
  },
  {
   "cell_type": "markdown",
   "metadata": {
    "id": "mMyNNT86A52B"
   },
   "source": [
    "\n",
    "from pydrive.auth import GoogleAuth\n",
    "from pydrive.drive import GoogleDrive\n",
    "from google.colab import auth\n",
    "from oauth2client.client import GoogleCredentials\n",
    " \n",
    " \n",
    "# Authenticate and create the PyDrive client.\n",
    "auth.authenticate_user()\n",
    "gauth = GoogleAuth()\n",
    "gauth.credentials = GoogleCredentials.get_application_default()\n",
    "drive = GoogleDrive(gauth)\n"
   ]
  },
  {
   "cell_type": "markdown",
   "metadata": {
    "id": "esWyn5a3jv1y"
   },
   "source": [
    "Kode di atas digunakan nantinya untuk proses pembacaan file yang berasal dari google drive.\n",
    "Anda dapat mematikannya jika membuka dokumen dengan Jupyter Notebook dengan mengubah format cell menjadi raw"
   ]
  },
  {
   "cell_type": "code",
   "execution_count": 1,
   "metadata": {
    "id": "aDf99wKtga5b"
   },
   "outputs": [],
   "source": [
    "# import library\n",
    "import pandas as pd\n",
    "import numpy as np\n",
    "\n",
    "# data visualization\n",
    "import matplotlib.pyplot as plt\n",
    "%matplotlib inline\n",
    "import seaborn as sns\n",
    "\n",
    "# regression model\n",
    "import xgboost as xg\n",
    "from sklearn.linear_model import LinearRegression\n",
    "from sklearn.ensemble import RandomForestRegressor\n",
    "\n",
    "# data preprocessing\n",
    "from sklearn.model_selection import train_test_split\n",
    "from sklearn.preprocessing import StandardScaler, LabelEncoder\n",
    "\n",
    "# regression metrics\n",
    "from sklearn.model_selection import GridSearchCV\n",
    "from sklearn.preprocessing import LabelEncoder\n",
    "from sklearn.metrics import mean_squared_error\n",
    "from sklearn.metrics import mean_absolute_percentage_error\n",
    "from sklearn.metrics import r2_score\n",
    "from sklearn.model_selection import train_test_split\n",
    "import pickle as pk\n",
    "from sklearn.preprocessing import OneHotEncoder\n",
    "\n",
    "# Hypothesis Testing\n",
    "import statsmodels.api as sm"
   ]
  },
  {
   "cell_type": "markdown",
   "metadata": {
    "id": "St0v5L9sO07s"
   },
   "source": [
    "Dilakukan import library  dimana akan diakses beberapa fungsi di dalamnya yang akan digunakan untuk keperluan membangun model regresi ini."
   ]
  },
  {
   "cell_type": "markdown",
   "metadata": {
    "id": "Tvt0ehfAvk1_",
    "jp-MarkdownHeadingCollapsed": true,
    "tags": []
   },
   "source": [
    "# Data Loading"
   ]
  },
  {
   "cell_type": "markdown",
   "metadata": {
    "id": "UYWx168BBP3n"
   },
   "source": [
    "url = 'https://drive.google.com/file/d/1jUbB3-NmsV-7kwA6tOFXQM8R_Nlt9eFW/view?usp=share_link'\n",
    "id = url.split(\"/\")[-2]\n",
    "\n",
    "downloaded = drive.CreateFile({'id':id})\n",
    "downloaded.GetContentFile('rideshare_kaggle.csv')"
   ]
  },
  {
   "cell_type": "markdown",
   "metadata": {
    "id": "40G7RC4Jt69R"
   },
   "source": [
    "Perintah untuk donwload Konten dari Url dengan nama file tersebut.\n",
    "Jika membuka menggunakan Jupyter Notebook anda dapat mematikannya dengan mengubah cell menjadi format raw"
   ]
  },
  {
   "cell_type": "code",
   "execution_count": 2,
   "metadata": {
    "colab": {
     "base_uri": "https://localhost:8080/",
     "height": 560
    },
    "id": "6Qpdz46uRxD2",
    "outputId": "08e1b9b3-7815-4b69-a288-654a1df3f67d"
   },
   "outputs": [
    {
     "data": {
      "text/html": [
       "<div>\n",
       "<style scoped>\n",
       "    .dataframe tbody tr th:only-of-type {\n",
       "        vertical-align: middle;\n",
       "    }\n",
       "\n",
       "    .dataframe tbody tr th {\n",
       "        vertical-align: top;\n",
       "    }\n",
       "\n",
       "    .dataframe thead th {\n",
       "        text-align: right;\n",
       "    }\n",
       "</style>\n",
       "<table border=\"1\" class=\"dataframe\">\n",
       "  <thead>\n",
       "    <tr style=\"text-align: right;\">\n",
       "      <th></th>\n",
       "      <th>id</th>\n",
       "      <th>timestamp</th>\n",
       "      <th>hour</th>\n",
       "      <th>day</th>\n",
       "      <th>month</th>\n",
       "      <th>datetime</th>\n",
       "      <th>timezone</th>\n",
       "      <th>source</th>\n",
       "      <th>destination</th>\n",
       "      <th>cab_type</th>\n",
       "      <th>...</th>\n",
       "      <th>precipIntensityMax</th>\n",
       "      <th>uvIndexTime</th>\n",
       "      <th>temperatureMin</th>\n",
       "      <th>temperatureMinTime</th>\n",
       "      <th>temperatureMax</th>\n",
       "      <th>temperatureMaxTime</th>\n",
       "      <th>apparentTemperatureMin</th>\n",
       "      <th>apparentTemperatureMinTime</th>\n",
       "      <th>apparentTemperatureMax</th>\n",
       "      <th>apparentTemperatureMaxTime</th>\n",
       "    </tr>\n",
       "  </thead>\n",
       "  <tbody>\n",
       "    <tr>\n",
       "      <th>0</th>\n",
       "      <td>424553bb-7174-41ea-aeb4-fe06d4f4b9d7</td>\n",
       "      <td>1.544953e+09</td>\n",
       "      <td>9</td>\n",
       "      <td>16</td>\n",
       "      <td>12</td>\n",
       "      <td>2018-12-16 09:30:07</td>\n",
       "      <td>America/New_York</td>\n",
       "      <td>Haymarket Square</td>\n",
       "      <td>North Station</td>\n",
       "      <td>Lyft</td>\n",
       "      <td>...</td>\n",
       "      <td>0.1276</td>\n",
       "      <td>1544979600</td>\n",
       "      <td>39.89</td>\n",
       "      <td>1545012000</td>\n",
       "      <td>43.68</td>\n",
       "      <td>1544968800</td>\n",
       "      <td>33.73</td>\n",
       "      <td>1545012000</td>\n",
       "      <td>38.07</td>\n",
       "      <td>1544958000</td>\n",
       "    </tr>\n",
       "    <tr>\n",
       "      <th>1</th>\n",
       "      <td>4bd23055-6827-41c6-b23b-3c491f24e74d</td>\n",
       "      <td>1.543284e+09</td>\n",
       "      <td>2</td>\n",
       "      <td>27</td>\n",
       "      <td>11</td>\n",
       "      <td>2018-11-27 02:00:23</td>\n",
       "      <td>America/New_York</td>\n",
       "      <td>Haymarket Square</td>\n",
       "      <td>North Station</td>\n",
       "      <td>Lyft</td>\n",
       "      <td>...</td>\n",
       "      <td>0.1300</td>\n",
       "      <td>1543251600</td>\n",
       "      <td>40.49</td>\n",
       "      <td>1543233600</td>\n",
       "      <td>47.30</td>\n",
       "      <td>1543251600</td>\n",
       "      <td>36.20</td>\n",
       "      <td>1543291200</td>\n",
       "      <td>43.92</td>\n",
       "      <td>1543251600</td>\n",
       "    </tr>\n",
       "    <tr>\n",
       "      <th>2</th>\n",
       "      <td>981a3613-77af-4620-a42a-0c0866077d1e</td>\n",
       "      <td>1.543367e+09</td>\n",
       "      <td>1</td>\n",
       "      <td>28</td>\n",
       "      <td>11</td>\n",
       "      <td>2018-11-28 01:00:22</td>\n",
       "      <td>America/New_York</td>\n",
       "      <td>Haymarket Square</td>\n",
       "      <td>North Station</td>\n",
       "      <td>Lyft</td>\n",
       "      <td>...</td>\n",
       "      <td>0.1064</td>\n",
       "      <td>1543338000</td>\n",
       "      <td>35.36</td>\n",
       "      <td>1543377600</td>\n",
       "      <td>47.55</td>\n",
       "      <td>1543320000</td>\n",
       "      <td>31.04</td>\n",
       "      <td>1543377600</td>\n",
       "      <td>44.12</td>\n",
       "      <td>1543320000</td>\n",
       "    </tr>\n",
       "    <tr>\n",
       "      <th>3</th>\n",
       "      <td>c2d88af2-d278-4bfd-a8d0-29ca77cc5512</td>\n",
       "      <td>1.543554e+09</td>\n",
       "      <td>4</td>\n",
       "      <td>30</td>\n",
       "      <td>11</td>\n",
       "      <td>2018-11-30 04:53:02</td>\n",
       "      <td>America/New_York</td>\n",
       "      <td>Haymarket Square</td>\n",
       "      <td>North Station</td>\n",
       "      <td>Lyft</td>\n",
       "      <td>...</td>\n",
       "      <td>0.0000</td>\n",
       "      <td>1543507200</td>\n",
       "      <td>34.67</td>\n",
       "      <td>1543550400</td>\n",
       "      <td>45.03</td>\n",
       "      <td>1543510800</td>\n",
       "      <td>30.30</td>\n",
       "      <td>1543550400</td>\n",
       "      <td>38.53</td>\n",
       "      <td>1543510800</td>\n",
       "    </tr>\n",
       "    <tr>\n",
       "      <th>4</th>\n",
       "      <td>e0126e1f-8ca9-4f2e-82b3-50505a09db9a</td>\n",
       "      <td>1.543463e+09</td>\n",
       "      <td>3</td>\n",
       "      <td>29</td>\n",
       "      <td>11</td>\n",
       "      <td>2018-11-29 03:49:20</td>\n",
       "      <td>America/New_York</td>\n",
       "      <td>Haymarket Square</td>\n",
       "      <td>North Station</td>\n",
       "      <td>Lyft</td>\n",
       "      <td>...</td>\n",
       "      <td>0.0001</td>\n",
       "      <td>1543420800</td>\n",
       "      <td>33.10</td>\n",
       "      <td>1543402800</td>\n",
       "      <td>42.18</td>\n",
       "      <td>1543420800</td>\n",
       "      <td>29.11</td>\n",
       "      <td>1543392000</td>\n",
       "      <td>35.75</td>\n",
       "      <td>1543420800</td>\n",
       "    </tr>\n",
       "  </tbody>\n",
       "</table>\n",
       "<p>5 rows × 57 columns</p>\n",
       "</div>"
      ],
      "text/plain": [
       "                                     id     timestamp  hour  day  month  \\\n",
       "0  424553bb-7174-41ea-aeb4-fe06d4f4b9d7  1.544953e+09     9   16     12   \n",
       "1  4bd23055-6827-41c6-b23b-3c491f24e74d  1.543284e+09     2   27     11   \n",
       "2  981a3613-77af-4620-a42a-0c0866077d1e  1.543367e+09     1   28     11   \n",
       "3  c2d88af2-d278-4bfd-a8d0-29ca77cc5512  1.543554e+09     4   30     11   \n",
       "4  e0126e1f-8ca9-4f2e-82b3-50505a09db9a  1.543463e+09     3   29     11   \n",
       "\n",
       "              datetime          timezone            source    destination  \\\n",
       "0  2018-12-16 09:30:07  America/New_York  Haymarket Square  North Station   \n",
       "1  2018-11-27 02:00:23  America/New_York  Haymarket Square  North Station   \n",
       "2  2018-11-28 01:00:22  America/New_York  Haymarket Square  North Station   \n",
       "3  2018-11-30 04:53:02  America/New_York  Haymarket Square  North Station   \n",
       "4  2018-11-29 03:49:20  America/New_York  Haymarket Square  North Station   \n",
       "\n",
       "  cab_type  ... precipIntensityMax uvIndexTime  temperatureMin  \\\n",
       "0     Lyft  ...             0.1276  1544979600           39.89   \n",
       "1     Lyft  ...             0.1300  1543251600           40.49   \n",
       "2     Lyft  ...             0.1064  1543338000           35.36   \n",
       "3     Lyft  ...             0.0000  1543507200           34.67   \n",
       "4     Lyft  ...             0.0001  1543420800           33.10   \n",
       "\n",
       "   temperatureMinTime  temperatureMax  temperatureMaxTime  \\\n",
       "0          1545012000           43.68          1544968800   \n",
       "1          1543233600           47.30          1543251600   \n",
       "2          1543377600           47.55          1543320000   \n",
       "3          1543550400           45.03          1543510800   \n",
       "4          1543402800           42.18          1543420800   \n",
       "\n",
       "   apparentTemperatureMin  apparentTemperatureMinTime  apparentTemperatureMax  \\\n",
       "0                   33.73                  1545012000                   38.07   \n",
       "1                   36.20                  1543291200                   43.92   \n",
       "2                   31.04                  1543377600                   44.12   \n",
       "3                   30.30                  1543550400                   38.53   \n",
       "4                   29.11                  1543392000                   35.75   \n",
       "\n",
       "  apparentTemperatureMaxTime  \n",
       "0                 1544958000  \n",
       "1                 1543251600  \n",
       "2                 1543320000  \n",
       "3                 1543510800  \n",
       "4                 1543420800  \n",
       "\n",
       "[5 rows x 57 columns]"
      ]
     },
     "execution_count": 2,
     "metadata": {},
     "output_type": "execute_result"
    }
   ],
   "source": [
    "# read data\n",
    "df = pd.read_csv('rideshare_kaggle.csv')\n",
    "df.head()"
   ]
  },
  {
   "cell_type": "markdown",
   "metadata": {
    "id": "QFuLXyPzUAlO"
   },
   "source": [
    "Dilakukan read file csv yang mana memuat dataset berisikan data Uber dan Lyft tepatnya di kota Boston. Kemudian ditampilkan data teratas untuk melihat gambaran data secara umum."
   ]
  },
  {
   "cell_type": "code",
   "execution_count": 3,
   "metadata": {
    "colab": {
     "base_uri": "https://localhost:8080/"
    },
    "id": "Pp1ORrD0hb40",
    "outputId": "d46916e6-491e-4a8a-f852-1939dd0f4c25"
   },
   "outputs": [
    {
     "data": {
      "text/plain": [
       "(693071, 57)"
      ]
     },
     "execution_count": 3,
     "metadata": {},
     "output_type": "execute_result"
    }
   ],
   "source": [
    "# shape of the dataset\n",
    "df.shape"
   ]
  },
  {
   "cell_type": "markdown",
   "metadata": {
    "id": "tXlUSxK4hd1p"
   },
   "source": [
    "Bertujuan untuk melihat bentuk data (jumlah baris, jumlah kolom).\n",
    "\n",
    "\n",
    "\n"
   ]
  },
  {
   "cell_type": "code",
   "execution_count": 4,
   "metadata": {
    "colab": {
     "base_uri": "https://localhost:8080/"
    },
    "id": "4VxHOus9a13l",
    "outputId": "5cd47bc7-d37e-4403-8829-38567346ce33"
   },
   "outputs": [
    {
     "data": {
      "text/plain": [
       "id                                 0\n",
       "timestamp                          0\n",
       "hour                               0\n",
       "day                                0\n",
       "month                              0\n",
       "datetime                           0\n",
       "timezone                           0\n",
       "source                             0\n",
       "destination                        0\n",
       "cab_type                           0\n",
       "product_id                         0\n",
       "name                               0\n",
       "price                          55095\n",
       "distance                           0\n",
       "surge_multiplier                   0\n",
       "latitude                           0\n",
       "longitude                          0\n",
       "temperature                        0\n",
       "apparentTemperature                0\n",
       "short_summary                      0\n",
       "long_summary                       0\n",
       "precipIntensity                    0\n",
       "precipProbability                  0\n",
       "humidity                           0\n",
       "windSpeed                          0\n",
       "windGust                           0\n",
       "windGustTime                       0\n",
       "visibility                         0\n",
       "temperatureHigh                    0\n",
       "temperatureHighTime                0\n",
       "temperatureLow                     0\n",
       "temperatureLowTime                 0\n",
       "apparentTemperatureHigh            0\n",
       "apparentTemperatureHighTime        0\n",
       "apparentTemperatureLow             0\n",
       "apparentTemperatureLowTime         0\n",
       "icon                               0\n",
       "dewPoint                           0\n",
       "pressure                           0\n",
       "windBearing                        0\n",
       "cloudCover                         0\n",
       "uvIndex                            0\n",
       "visibility.1                       0\n",
       "ozone                              0\n",
       "sunriseTime                        0\n",
       "sunsetTime                         0\n",
       "moonPhase                          0\n",
       "precipIntensityMax                 0\n",
       "uvIndexTime                        0\n",
       "temperatureMin                     0\n",
       "temperatureMinTime                 0\n",
       "temperatureMax                     0\n",
       "temperatureMaxTime                 0\n",
       "apparentTemperatureMin             0\n",
       "apparentTemperatureMinTime         0\n",
       "apparentTemperatureMax             0\n",
       "apparentTemperatureMaxTime         0\n",
       "dtype: int64"
      ]
     },
     "execution_count": 4,
     "metadata": {},
     "output_type": "execute_result"
    }
   ],
   "source": [
    "# check null values\n",
    "df.isna().sum()"
   ]
  },
  {
   "cell_type": "markdown",
   "metadata": {
    "id": "ofWn0hvubgRI"
   },
   "source": [
    "Dilakukan pengecekan nilai null di masing-masing kolom dimana nilai null tersebut dihitung jumlahnya dan diberikan output berupa total null values dari masing-masing kolom."
   ]
  },
  {
   "cell_type": "code",
   "execution_count": 5,
   "metadata": {
    "colab": {
     "base_uri": "https://localhost:8080/"
    },
    "id": "M8nQqLz5YyFS",
    "outputId": "e21996fd-5a9c-43c4-eca3-d3e56cfeb902"
   },
   "outputs": [
    {
     "name": "stdout",
     "output_type": "stream",
     "text": [
      "<class 'pandas.core.frame.DataFrame'>\n",
      "RangeIndex: 693071 entries, 0 to 693070\n",
      "Data columns (total 57 columns):\n",
      " #   Column                       Non-Null Count   Dtype  \n",
      "---  ------                       --------------   -----  \n",
      " 0   id                           693071 non-null  object \n",
      " 1   timestamp                    693071 non-null  float64\n",
      " 2   hour                         693071 non-null  int64  \n",
      " 3   day                          693071 non-null  int64  \n",
      " 4   month                        693071 non-null  int64  \n",
      " 5   datetime                     693071 non-null  object \n",
      " 6   timezone                     693071 non-null  object \n",
      " 7   source                       693071 non-null  object \n",
      " 8   destination                  693071 non-null  object \n",
      " 9   cab_type                     693071 non-null  object \n",
      " 10  product_id                   693071 non-null  object \n",
      " 11  name                         693071 non-null  object \n",
      " 12  price                        637976 non-null  float64\n",
      " 13  distance                     693071 non-null  float64\n",
      " 14  surge_multiplier             693071 non-null  float64\n",
      " 15  latitude                     693071 non-null  float64\n",
      " 16  longitude                    693071 non-null  float64\n",
      " 17  temperature                  693071 non-null  float64\n",
      " 18  apparentTemperature          693071 non-null  float64\n",
      " 19  short_summary                693071 non-null  object \n",
      " 20  long_summary                 693071 non-null  object \n",
      " 21  precipIntensity              693071 non-null  float64\n",
      " 22  precipProbability            693071 non-null  float64\n",
      " 23  humidity                     693071 non-null  float64\n",
      " 24  windSpeed                    693071 non-null  float64\n",
      " 25  windGust                     693071 non-null  float64\n",
      " 26  windGustTime                 693071 non-null  int64  \n",
      " 27  visibility                   693071 non-null  float64\n",
      " 28  temperatureHigh              693071 non-null  float64\n",
      " 29  temperatureHighTime          693071 non-null  int64  \n",
      " 30  temperatureLow               693071 non-null  float64\n",
      " 31  temperatureLowTime           693071 non-null  int64  \n",
      " 32  apparentTemperatureHigh      693071 non-null  float64\n",
      " 33  apparentTemperatureHighTime  693071 non-null  int64  \n",
      " 34  apparentTemperatureLow       693071 non-null  float64\n",
      " 35  apparentTemperatureLowTime   693071 non-null  int64  \n",
      " 36  icon                         693071 non-null  object \n",
      " 37  dewPoint                     693071 non-null  float64\n",
      " 38  pressure                     693071 non-null  float64\n",
      " 39  windBearing                  693071 non-null  int64  \n",
      " 40  cloudCover                   693071 non-null  float64\n",
      " 41  uvIndex                      693071 non-null  int64  \n",
      " 42  visibility.1                 693071 non-null  float64\n",
      " 43  ozone                        693071 non-null  float64\n",
      " 44  sunriseTime                  693071 non-null  int64  \n",
      " 45  sunsetTime                   693071 non-null  int64  \n",
      " 46  moonPhase                    693071 non-null  float64\n",
      " 47  precipIntensityMax           693071 non-null  float64\n",
      " 48  uvIndexTime                  693071 non-null  int64  \n",
      " 49  temperatureMin               693071 non-null  float64\n",
      " 50  temperatureMinTime           693071 non-null  int64  \n",
      " 51  temperatureMax               693071 non-null  float64\n",
      " 52  temperatureMaxTime           693071 non-null  int64  \n",
      " 53  apparentTemperatureMin       693071 non-null  float64\n",
      " 54  apparentTemperatureMinTime   693071 non-null  int64  \n",
      " 55  apparentTemperatureMax       693071 non-null  float64\n",
      " 56  apparentTemperatureMaxTime   693071 non-null  int64  \n",
      "dtypes: float64(29), int64(17), object(11)\n",
      "memory usage: 301.4+ MB\n"
     ]
    }
   ],
   "source": [
    "# show information of dataset\n",
    "df.info()"
   ]
  },
  {
   "cell_type": "markdown",
   "metadata": {
    "id": "lIoeVDBIZMGo"
   },
   "source": [
    "Dilihat informasi dari dataset menggunakan fungsi info() dimana akan diberikan output berupa daftar nama kolom, informasi jumlah data non-null di masing-masing kolom serta tipe data dari masing-masing kolom."
   ]
  },
  {
   "cell_type": "markdown",
   "metadata": {
    "id": "gpmeSbGLvyv5",
    "jp-MarkdownHeadingCollapsed": true,
    "tags": []
   },
   "source": [
    "# Data Cleaning"
   ]
  },
  {
   "cell_type": "code",
   "execution_count": 6,
   "metadata": {
    "colab": {
     "base_uri": "https://localhost:8080/",
     "height": 206
    },
    "id": "wv374B0GbwZq",
    "outputId": "b517638b-d875-44a8-c528-de1820f21b09"
   },
   "outputs": [
    {
     "data": {
      "text/html": [
       "<div>\n",
       "<style scoped>\n",
       "    .dataframe tbody tr th:only-of-type {\n",
       "        vertical-align: middle;\n",
       "    }\n",
       "\n",
       "    .dataframe tbody tr th {\n",
       "        vertical-align: top;\n",
       "    }\n",
       "\n",
       "    .dataframe thead th {\n",
       "        text-align: right;\n",
       "    }\n",
       "</style>\n",
       "<table border=\"1\" class=\"dataframe\">\n",
       "  <thead>\n",
       "    <tr style=\"text-align: right;\">\n",
       "      <th></th>\n",
       "      <th>cab_type</th>\n",
       "      <th>name</th>\n",
       "      <th>surge_multiplier</th>\n",
       "      <th>hour</th>\n",
       "      <th>distance</th>\n",
       "      <th>visibility</th>\n",
       "      <th>temperature</th>\n",
       "      <th>windSpeed</th>\n",
       "      <th>price</th>\n",
       "    </tr>\n",
       "  </thead>\n",
       "  <tbody>\n",
       "    <tr>\n",
       "      <th>0</th>\n",
       "      <td>Lyft</td>\n",
       "      <td>Shared</td>\n",
       "      <td>1.0</td>\n",
       "      <td>9</td>\n",
       "      <td>0.44</td>\n",
       "      <td>10.000</td>\n",
       "      <td>42.34</td>\n",
       "      <td>8.66</td>\n",
       "      <td>5.0</td>\n",
       "    </tr>\n",
       "    <tr>\n",
       "      <th>1</th>\n",
       "      <td>Lyft</td>\n",
       "      <td>Lux</td>\n",
       "      <td>1.0</td>\n",
       "      <td>2</td>\n",
       "      <td>0.44</td>\n",
       "      <td>4.786</td>\n",
       "      <td>43.58</td>\n",
       "      <td>11.98</td>\n",
       "      <td>11.0</td>\n",
       "    </tr>\n",
       "    <tr>\n",
       "      <th>2</th>\n",
       "      <td>Lyft</td>\n",
       "      <td>Lyft</td>\n",
       "      <td>1.0</td>\n",
       "      <td>1</td>\n",
       "      <td>0.44</td>\n",
       "      <td>10.000</td>\n",
       "      <td>38.33</td>\n",
       "      <td>7.33</td>\n",
       "      <td>7.0</td>\n",
       "    </tr>\n",
       "    <tr>\n",
       "      <th>3</th>\n",
       "      <td>Lyft</td>\n",
       "      <td>Lux Black XL</td>\n",
       "      <td>1.0</td>\n",
       "      <td>4</td>\n",
       "      <td>0.44</td>\n",
       "      <td>10.000</td>\n",
       "      <td>34.38</td>\n",
       "      <td>5.28</td>\n",
       "      <td>26.0</td>\n",
       "    </tr>\n",
       "    <tr>\n",
       "      <th>4</th>\n",
       "      <td>Lyft</td>\n",
       "      <td>Lyft XL</td>\n",
       "      <td>1.0</td>\n",
       "      <td>3</td>\n",
       "      <td>0.44</td>\n",
       "      <td>10.000</td>\n",
       "      <td>37.44</td>\n",
       "      <td>9.14</td>\n",
       "      <td>9.0</td>\n",
       "    </tr>\n",
       "  </tbody>\n",
       "</table>\n",
       "</div>"
      ],
      "text/plain": [
       "  cab_type          name  surge_multiplier  hour  distance  visibility  \\\n",
       "0     Lyft        Shared               1.0     9      0.44      10.000   \n",
       "1     Lyft           Lux               1.0     2      0.44       4.786   \n",
       "2     Lyft          Lyft               1.0     1      0.44      10.000   \n",
       "3     Lyft  Lux Black XL               1.0     4      0.44      10.000   \n",
       "4     Lyft       Lyft XL               1.0     3      0.44      10.000   \n",
       "\n",
       "   temperature  windSpeed  price  \n",
       "0        42.34       8.66    5.0  \n",
       "1        43.58      11.98   11.0  \n",
       "2        38.33       7.33    7.0  \n",
       "3        34.38       5.28   26.0  \n",
       "4        37.44       9.14    9.0  "
      ]
     },
     "execution_count": 6,
     "metadata": {},
     "output_type": "execute_result"
    }
   ],
   "source": [
    "# assign kolom yang akan digunakan\n",
    "df = df[['cab_type', 'name','surge_multiplier','hour', 'distance', 'visibility', 'temperature', 'windSpeed', 'price']]\n",
    "df.head()"
   ]
  },
  {
   "cell_type": "markdown",
   "metadata": {
    "id": "jEf1emTkf1i9"
   },
   "source": [
    ">Kami memilih price sebagai dependen variabel atau target variable yang mana akan menjadi sesuatu yang akan diprediksi. Dikarenakan jumlah kolom dari data awal terlalu besar, dipilih beberapa kolom yang sekiranya sangat mempengaruhi nilai dari price. Menurut kami, cab_type, name, hour, distance, visibility, temperature, windSpeed merupakan faktor yang mempengaruhi harga dari transportasi uber/lyft.\n",
    "\n",
    ">Kolom name merupakan kolom yang menyimpan tipe kendaraan dimana setiap tipe tersebut menentukan kualitas kendaraan yang digunakan untuk transportasi, semakin baik kulitas kendaraan maka semakin mahal harga yang dipatok. \n",
    "Sedangkan cab_type merupakan jenis transportasi (uber atau lyft) dimana di antara jenis tersebut diperkirakan terdapat perbedaan harga.\n",
    "\n",
    ">Kolom surge_multiplier merupakan kolom yang menyimpan nilai kelipatan harga transportasi dari harga normal. Biasanya perubahan harga ini disebabkan oleh demand yang tinggi namun supply tidak memadai.\n",
    "\n",
    ">Kolom hour menyimpan data jam dilakukan pemesanan transportasi dimana biasanya harga dapat berubah di jam-jam tertentu disebabkan oleh tingkat kesibukan aktivitas. Distance menyimpan jarak dari titik awal sampai tujuan dimana semakin jauh jaraknya maka akan semakin tinggi biaya yang akan dipungut.\n",
    "\n",
    ">Terakhir, kolom visibility, temperature dan windSpeed. Ketiga kolom tersebut merupakan kolom yang menyimpan data yang berkaitan dengan cuaca. Ketiga kolom tersebut dapat kita jadikan acuan untuk cuaca baik atau buruk, dimana biasanya kondisi cuaca akan mempengaruhi harga dari transportasi."
   ]
  },
  {
   "cell_type": "code",
   "execution_count": 7,
   "metadata": {
    "id": "JIRQoZKUCMzV"
   },
   "outputs": [],
   "source": [
    "# mencari value error pada kolom cab_type\n",
    "for row in df['cab_type']:\n",
    "    try:\n",
    "        float(row)\n",
    "        df.loc['cab_type'] = np.nan\n",
    "    except ValueError:\n",
    "        pass"
   ]
  },
  {
   "cell_type": "markdown",
   "metadata": {
    "id": "g8YReenXCVYs"
   },
   "source": [
    "Dilakukan pengecekan value error atau kondisi dimana di dalam kolom cab_type terdapat data yang tidak sesuai dimana setelah itu value error tersebut akan digantikan dengan NaN."
   ]
  },
  {
   "cell_type": "code",
   "execution_count": 8,
   "metadata": {
    "id": "L9T2OJspghNR"
   },
   "outputs": [],
   "source": [
    "# mencari value error pada kolom name\n",
    "for row in df['name']:\n",
    "    try:\n",
    "        float(row)\n",
    "        df.loc['name'] = np.nan\n",
    "    except ValueError:\n",
    "        pass"
   ]
  },
  {
   "cell_type": "markdown",
   "metadata": {
    "id": "4hSgRoVSs3Vp"
   },
   "source": [
    "Dilakukan pengecekan value error atau kondisi dimana di dalam kolom name terdapat data yang tidak sesuai dimana setelah itu value error tersebut akan digantikan dengan NaN."
   ]
  },
  {
   "cell_type": "code",
   "execution_count": 9,
   "metadata": {
    "id": "Z7W2ewFrgSQ6"
   },
   "outputs": [],
   "source": [
    "# mencari value error pada kolom surge multiplier\n",
    "for row in df['surge_multiplier']:\n",
    "    try:\n",
    "        float(row)\n",
    "        pass\n",
    "    except ValueError:\n",
    "        df.loc['surge_multiplier'] = np.nan"
   ]
  },
  {
   "cell_type": "markdown",
   "metadata": {
    "id": "tlJQQ-31gSQ7"
   },
   "source": [
    "Dilakukan pengecekan value error atau kondisi dimana di dalam kolom surge_multiplier terdapat data yang tidak sesuai dimana setelah itu value error tersebut akan digantikan dengan NaN."
   ]
  },
  {
   "cell_type": "code",
   "execution_count": 10,
   "metadata": {
    "id": "YKKu1UDap76q"
   },
   "outputs": [],
   "source": [
    "# mencari value error pada kolom hour\n",
    "for row in df['hour']:\n",
    "    try:\n",
    "        float(row)\n",
    "        pass\n",
    "    except ValueError:\n",
    "        df.loc['hour'] = np.nan"
   ]
  },
  {
   "cell_type": "markdown",
   "metadata": {
    "id": "vMMkk7bxtH7c"
   },
   "source": [
    "Dilakukan pengecekan value error atau kondisi dimana di dalam kolom hour terdapat data yang tidak sesuai dimana setelah itu value error tersebut akan digantikan dengan NaN."
   ]
  },
  {
   "cell_type": "code",
   "execution_count": 11,
   "metadata": {
    "id": "NHUjaCdSp-oO"
   },
   "outputs": [],
   "source": [
    "# mencari value error pada kolom distance\n",
    "for row in df['distance']:\n",
    "    try:\n",
    "        float(row)\n",
    "        pass\n",
    "    except ValueError:\n",
    "        df.loc['distance'] = np.nan"
   ]
  },
  {
   "cell_type": "markdown",
   "metadata": {
    "id": "mujPP0EitKCc"
   },
   "source": [
    "Dilakukan pengecekan value error atau kondisi dimana di dalam kolom distance terdapat data yang tidak sesuai dimana setelah itu value error tersebut akan digantikan dengan NaN."
   ]
  },
  {
   "cell_type": "code",
   "execution_count": 12,
   "metadata": {
    "id": "MBB4HENnCklF"
   },
   "outputs": [],
   "source": [
    "# mencari value error pada kolom visibility\n",
    "for row in df['visibility']:\n",
    "    try:\n",
    "        float(row)\n",
    "        pass\n",
    "    except ValueError:\n",
    "        df.loc['visibility'] = np.nan"
   ]
  },
  {
   "cell_type": "markdown",
   "metadata": {
    "id": "IgWHimHLC4FO"
   },
   "source": [
    "Dilakukan pengecekan value error atau kondisi dimana di dalam kolom visibility terdapat data yang tidak sesuai dimana setelah itu value error tersebut akan digantikan dengan NaN."
   ]
  },
  {
   "cell_type": "code",
   "execution_count": 13,
   "metadata": {
    "id": "TnUKfQDlCllc"
   },
   "outputs": [],
   "source": [
    "# mencari value error pada kolom temperature\n",
    "for row in df['temperature']:\n",
    "    try:\n",
    "        float(row)\n",
    "        pass\n",
    "    except ValueError:\n",
    "        df.loc['temperature'] = np.nan"
   ]
  },
  {
   "cell_type": "markdown",
   "metadata": {
    "id": "YYWOCzshC8qH"
   },
   "source": [
    "Dilakukan pengecekan value error atau kondisi dimana di dalam kolom temperature terdapat data yang tidak sesuai dimana setelah itu value error tersebut akan digantikan dengan NaN."
   ]
  },
  {
   "cell_type": "code",
   "execution_count": 14,
   "metadata": {
    "id": "0-rTzg81CmWq"
   },
   "outputs": [],
   "source": [
    "# mencari value error pada kolom windSpeed\n",
    "for row in df['windSpeed']:\n",
    "    try:\n",
    "        float(row)\n",
    "        pass\n",
    "    except ValueError:\n",
    "        df.loc['windSpeed'] = np.nan"
   ]
  },
  {
   "cell_type": "markdown",
   "metadata": {
    "id": "QhVeIADHC_oh"
   },
   "source": [
    "Dilakukan pengecekan value error atau kondisi dimana di dalam kolom windSpeed terdapat data yang tidak sesuai dimana setelah itu value error tersebut akan digantikan dengan NaN."
   ]
  },
  {
   "cell_type": "code",
   "execution_count": 15,
   "metadata": {
    "id": "IEZP3aY2s0ws"
   },
   "outputs": [],
   "source": [
    "# mencari value error pada kolom price\n",
    "for row in df['price']:\n",
    "    try:\n",
    "        float(row)\n",
    "        pass\n",
    "    except ValueError:\n",
    "        df.loc['price'] = np.nan"
   ]
  },
  {
   "cell_type": "markdown",
   "metadata": {
    "id": "NCY9T8nPtU5z"
   },
   "source": [
    "Dilakukan pengecekan value error atau kondisi dimana di dalam kolom price terdapat data yang tidak sesuai dimana setelah itu value error tersebut akan digantikan dengan NaN."
   ]
  },
  {
   "cell_type": "code",
   "execution_count": 16,
   "metadata": {
    "colab": {
     "base_uri": "https://localhost:8080/"
    },
    "id": "P3pkqaiZtzru",
    "outputId": "a3311d26-07ee-48c8-9131-f17a270ac42d"
   },
   "outputs": [
    {
     "data": {
      "text/plain": [
       "(693071, 9)"
      ]
     },
     "execution_count": 16,
     "metadata": {},
     "output_type": "execute_result"
    }
   ],
   "source": [
    "# menampilkan bentuk data\n",
    "df.shape"
   ]
  },
  {
   "cell_type": "markdown",
   "metadata": {
    "id": "Nt4ul6eyuTiY"
   },
   "source": [
    "Ditampilkan bentuk data untuk mengecek kembali seberapa banyak data yang dimuat dalam dataset ini yang mana nantinya akan digunakan untuk perbandingan jumlah data null dengan keseluruhan data. Output menunjukkan bahwa dataset ini memuat sebanyak 693071 dengan 8 buah kolom."
   ]
  },
  {
   "cell_type": "code",
   "execution_count": 17,
   "metadata": {
    "colab": {
     "base_uri": "https://localhost:8080/",
     "height": 331
    },
    "id": "ec12ZlthGzKL",
    "outputId": "c4665ca3-ad63-4e33-a045-1b7831a1920c"
   },
   "outputs": [
    {
     "data": {
      "text/html": [
       "<div>\n",
       "<style scoped>\n",
       "    .dataframe tbody tr th:only-of-type {\n",
       "        vertical-align: middle;\n",
       "    }\n",
       "\n",
       "    .dataframe tbody tr th {\n",
       "        vertical-align: top;\n",
       "    }\n",
       "\n",
       "    .dataframe thead th {\n",
       "        text-align: right;\n",
       "    }\n",
       "</style>\n",
       "<table border=\"1\" class=\"dataframe\">\n",
       "  <thead>\n",
       "    <tr style=\"text-align: right;\">\n",
       "      <th></th>\n",
       "      <th>percent_missing</th>\n",
       "    </tr>\n",
       "  </thead>\n",
       "  <tbody>\n",
       "    <tr>\n",
       "      <th>cab_type</th>\n",
       "      <td>0.000000</td>\n",
       "    </tr>\n",
       "    <tr>\n",
       "      <th>name</th>\n",
       "      <td>0.000000</td>\n",
       "    </tr>\n",
       "    <tr>\n",
       "      <th>surge_multiplier</th>\n",
       "      <td>0.000000</td>\n",
       "    </tr>\n",
       "    <tr>\n",
       "      <th>hour</th>\n",
       "      <td>0.000000</td>\n",
       "    </tr>\n",
       "    <tr>\n",
       "      <th>distance</th>\n",
       "      <td>0.000000</td>\n",
       "    </tr>\n",
       "    <tr>\n",
       "      <th>visibility</th>\n",
       "      <td>0.000000</td>\n",
       "    </tr>\n",
       "    <tr>\n",
       "      <th>temperature</th>\n",
       "      <td>0.000000</td>\n",
       "    </tr>\n",
       "    <tr>\n",
       "      <th>windSpeed</th>\n",
       "      <td>0.000000</td>\n",
       "    </tr>\n",
       "    <tr>\n",
       "      <th>price</th>\n",
       "      <td>0.079494</td>\n",
       "    </tr>\n",
       "  </tbody>\n",
       "</table>\n",
       "</div>"
      ],
      "text/plain": [
       "                  percent_missing\n",
       "cab_type                 0.000000\n",
       "name                     0.000000\n",
       "surge_multiplier         0.000000\n",
       "hour                     0.000000\n",
       "distance                 0.000000\n",
       "visibility               0.000000\n",
       "temperature              0.000000\n",
       "windSpeed                0.000000\n",
       "price                    0.079494"
      ]
     },
     "execution_count": 17,
     "metadata": {},
     "output_type": "execute_result"
    }
   ],
   "source": [
    "# melihat persen data null masing-masing kolom dari keseluruhan data\n",
    "percent_missing = (df.isnull().sum() / len(df)) * 100/100\n",
    "missing_value_df = pd.DataFrame({'percent_missing': percent_missing})\n",
    "missing_value_df"
   ]
  },
  {
   "cell_type": "markdown",
   "metadata": {
    "id": "MqX1bTWMG_D1"
   },
   "source": [
    "Kemudian dilihat persen data null dari masing-masing kolom. Dapat dilihat bahwa, dari keseluruhan kolom hanya kolom price saja yang memiliki data null. Jika dibandingkan dengan keseluruhan data, terdapat 0.079494% data null tepatnya pada kolom price."
   ]
  },
  {
   "cell_type": "code",
   "execution_count": 18,
   "metadata": {
    "colab": {
     "base_uri": "https://localhost:8080/"
    },
    "id": "c85_4zL6IMRd",
    "outputId": "6264a78d-59cd-46a2-d557-1c4b986eb758"
   },
   "outputs": [
    {
     "data": {
      "text/plain": [
       "cab_type                0\n",
       "name                    0\n",
       "surge_multiplier        0\n",
       "hour                    0\n",
       "distance                0\n",
       "visibility              0\n",
       "temperature             0\n",
       "windSpeed               0\n",
       "price               55095\n",
       "dtype: int64"
      ]
     },
     "execution_count": 18,
     "metadata": {},
     "output_type": "execute_result"
    }
   ],
   "source": [
    "# check null values\n",
    "df.isna().sum()"
   ]
  },
  {
   "cell_type": "markdown",
   "metadata": {
    "id": "RiK2Qbsntfjt"
   },
   "source": [
    "Menggunakan sintaks di atas ditampilkan secara jelas jumlah dari data null yang ada pada dataset. Dapat dilihat bahwa output menunjukkan ada sebanyak 55095 data null pada kolom price. "
   ]
  },
  {
   "cell_type": "code",
   "execution_count": 19,
   "metadata": {
    "id": "4xQWX7touw0i"
   },
   "outputs": [],
   "source": [
    "# menghapus missing value\n",
    "df.dropna(inplace=True)"
   ]
  },
  {
   "cell_type": "markdown",
   "metadata": {
    "id": "b3pZqhzd5DCT"
   },
   "source": [
    "Dari hasil perhitungan persen data null sebelumnya, diputuskan untuk menghapus data null tersebut dikarenakan jumlahnya yang sedikit dianggap tidak akan berdampak besar pada proses membangun model. Menggunakan dropna() dilakukan penghapusan nilai NaN dengan parameter axis defaultnya adalah 0 dimana akan dilakukan penghapusan nilai NaN berdasarkan index atau baris. Sehingga, setelah dilakukan drop missing values jumlah data akan berkurang."
   ]
  },
  {
   "cell_type": "code",
   "execution_count": 20,
   "metadata": {
    "colab": {
     "base_uri": "https://localhost:8080/"
    },
    "id": "i_abciNl5Zx7",
    "outputId": "32b7440c-406b-4b4a-a717-6b07520cd9a3"
   },
   "outputs": [
    {
     "data": {
      "text/plain": [
       "cab_type            0\n",
       "name                0\n",
       "surge_multiplier    0\n",
       "hour                0\n",
       "distance            0\n",
       "visibility          0\n",
       "temperature         0\n",
       "windSpeed           0\n",
       "price               0\n",
       "dtype: int64"
      ]
     },
     "execution_count": 20,
     "metadata": {},
     "output_type": "execute_result"
    }
   ],
   "source": [
    "# check nilai NaN\n",
    "df.isna().sum()"
   ]
  },
  {
   "cell_type": "markdown",
   "metadata": {
    "id": "T7DQ1CDe5lOR"
   },
   "source": [
    "Setelah diperiksa kembali, dapat disimpulkan data telah bersih dari missing values."
   ]
  },
  {
   "cell_type": "markdown",
   "metadata": {
    "id": "tn7WbscC8euG",
    "jp-MarkdownHeadingCollapsed": true,
    "tags": []
   },
   "source": [
    "# Eksplorasi Data (EDA)"
   ]
  },
  {
   "cell_type": "markdown",
   "metadata": {
    "id": "I5lBH1irN39O"
   },
   "source": [
    "Untuk mengetahui jenis taksi manakah yang sering dipesan oleh pelanggan, dapat digunakan fungsi `.value_counts()` untuk menghitung total jumlah pemesanan setiap jenis taksi.\n",
    "\n",
    "Untuk membuat visualisasi dari perbandingan jenis taksi yang dipesan, dapat digunakan bar plot menggunakan fungsi `.plot()` dengan argumen yang disesuaikan.\n",
    "\n",
    "- `kind='bar' `: mendefinisikan jenis plot yang digunakan yaitu bar plot\n",
    "- `figsize=()` : mendefinisikan ukuran dari plot yang akan dibuat\n",
    "- `color=' '` : memberi warna pada plot\n",
    "- `edgecolor=' '` : memberi warna pada tepi plot\n",
    "\n",
    "Untuk menambahkan keterangan pada plot, dapat digunakan fungsi sebagai berikut:\n",
    "\n",
    "- `plt.title()` : memberi judul pada plot\n",
    "- `plt.xlabel()` : memberi keterangan pada sumbu X\n",
    "- `plt.ylable()` : memberi keterangan pada sumbu Y\n",
    "- `size= ` : mengatur ukuran"
   ]
  },
  {
   "cell_type": "code",
   "execution_count": 21,
   "metadata": {
    "colab": {
     "base_uri": "https://localhost:8080/",
     "height": 512
    },
    "id": "AvLPIIUZN6iW",
    "outputId": "ee9d4423-ccc3-45a5-aff8-6740f70bbab6"
   },
   "outputs": [
    {
     "data": {
      "image/png": "[encoded data removed]",
      "text/plain": [
       "<Figure size 720x360 with 1 Axes>"
      ]
     },
     "metadata": {
      "needs_background": "light"
     },
     "output_type": "display_data"
    }
   ],
   "source": [
    "df.cab_type.value_counts().plot(kind='bar', figsize=(10,5), color='salmon', edgecolor='black')\n",
    "plt.title('Uber vs Lyft', size=15)\n",
    "plt.xlabel('Type', size=13)\n",
    "plt.ylabel('Value', size=13)\n",
    "plt.show()"
   ]
  },
  {
   "cell_type": "markdown",
   "metadata": {
    "id": "PzBGjT-fN8L2"
   },
   "source": [
    "Berdasarkan bar plot, dapat diketahui bahwa pelanggan lebih banyak memesan taksi jenis Uber dibandingkan dengan taksi jenis Lyft."
   ]
  },
  {
   "cell_type": "markdown",
   "metadata": {
    "id": "rorZmF645rnE"
   },
   "source": [
    "Untuk mengetahui jenis/tipe mobil manakah yang sering dipesan oleh pelanggan, dapat digunakan fungsi `.value_counts()` untuk menghitung total jumlah pemesanan setiap jenis/tipe mobil. Fungsi `.sort_values(ascending=True)` digunakan untuk mengurutkan value dari total jumlah pemesanan setiap jenis/tipe mobil dari yang paling sedikit ke paling banyak."
   ]
  },
  {
   "cell_type": "code",
   "execution_count": 22,
   "metadata": {
    "colab": {
     "base_uri": "https://localhost:8080/"
    },
    "id": "lHdvcAUJ6AYB",
    "outputId": "e49b5ebc-3042-488d-c37e-cf973bdf44cc"
   },
   "outputs": [
    {
     "data": {
      "text/plain": [
       "Shared          51233\n",
       "Lux             51235\n",
       "Lyft            51235\n",
       "Lux Black XL    51235\n",
       "Lyft XL         51235\n",
       "Lux Black       51235\n",
       "UberPool        55091\n",
       "UberX           55094\n",
       "Black           55095\n",
       "UberXL          55096\n",
       "WAV             55096\n",
       "Black SUV       55096\n",
       "Name: name, dtype: int64"
      ]
     },
     "execution_count": 22,
     "metadata": {},
     "output_type": "execute_result"
    }
   ],
   "source": [
    "df_name = df.name.value_counts()\n",
    "df_name = df_name.sort_values(ascending=True)\n",
    "df_name"
   ]
  },
  {
   "cell_type": "markdown",
   "metadata": {
    "id": "o8de0_Z2il1p"
   },
   "source": [
    "Hasil yang didapatkan dapat divisualisasikan menggunakan bar plot atau diagram batang menggunakan fungsi `.plot()` dengan argumen yang disesuaikan.\n",
    "\n",
    "- `kind='bar' `: mendefinisikan jenis plot yang digunakan yaitu bar plot\n",
    "- `figsize=()` : mendefinisikan ukuran dari plot yang akan dibuat\n",
    "- `color=' '` : memberi warna pada plot\n",
    "- `edgecolor=' '` : memberi warna pada tepi plot\n",
    "\n",
    "Untuk menambahkan keterangan pada plot, dapat digunakan fungsi sebagai berikut:\n",
    "\n",
    "- `plt.title()` : memberi judul pada plot\n",
    "- `plt.xlabel()` : memberi keterangan pada sumbu X\n",
    "- `plt.ylable()` : memberi keterangan pada sumbu Y\n",
    "- `size= ` : mengatur ukuran"
   ]
  },
  {
   "cell_type": "code",
   "execution_count": 23,
   "metadata": {
    "colab": {
     "base_uri": "https://localhost:8080/",
     "height": 567
    },
    "id": "vYcYMDurirOu",
    "outputId": "dc45b652-562c-4285-a4e2-4fd13f6b5284"
   },
   "outputs": [
    {
     "data": {
      "image/png": "[encoded data removed]",
      "text/plain": [
       "<Figure size 720x360 with 1 Axes>"
      ]
     },
     "metadata": {
      "needs_background": "light"
     },
     "output_type": "display_data"
    }
   ],
   "source": [
    "df_name.plot(kind='bar', figsize=(10,5), color='skyblue', edgecolor='black')\n",
    "plt.title('Comparation Between Car Name', size=15)\n",
    "plt.xlabel('Car Name', size=13)\n",
    "plt.ylabel('Value', size=13)\n",
    "plt.show()"
   ]
  },
  {
   "cell_type": "markdown",
   "metadata": {
    "id": "g7X787iuiuYP"
   },
   "source": [
    "Berdasarkan bar plot, dapat diketahui bahwa mobil jenis Shared adalah jenis mobil yang paling sedikit dipesan oleh pelanggan. Sedangkan mobil jenis Black SUV adalah jenis mobil yang paling banyak dipesan oleh pelanggan."
   ]
  },
  {
   "cell_type": "markdown",
   "metadata": {
    "id": "6biPkQUO4H6r"
   },
   "source": [
    "Informasi mengenai statistik deskriptif dari set data dapat diketahui menggunakan fungsi `.describe()`. Informasi yang diperoleh adalah ringkasan mengenai ukuran pemusatan data (central tendency) dan ukuran penyebaran data (measure of spread) dari masing-masing kolom yang berisi nilai numerik pada set data."
   ]
  },
  {
   "cell_type": "code",
   "execution_count": 24,
   "metadata": {
    "colab": {
     "base_uri": "https://localhost:8080/",
     "height": 300
    },
    "id": "A6ZHUX3Q4Krs",
    "outputId": "99c1a875-aea1-4a05-dfb1-c1e880d28eda"
   },
   "outputs": [
    {
     "data": {
      "text/html": [
       "<div>\n",
       "<style scoped>\n",
       "    .dataframe tbody tr th:only-of-type {\n",
       "        vertical-align: middle;\n",
       "    }\n",
       "\n",
       "    .dataframe tbody tr th {\n",
       "        vertical-align: top;\n",
       "    }\n",
       "\n",
       "    .dataframe thead th {\n",
       "        text-align: right;\n",
       "    }\n",
       "</style>\n",
       "<table border=\"1\" class=\"dataframe\">\n",
       "  <thead>\n",
       "    <tr style=\"text-align: right;\">\n",
       "      <th></th>\n",
       "      <th>surge_multiplier</th>\n",
       "      <th>hour</th>\n",
       "      <th>distance</th>\n",
       "      <th>visibility</th>\n",
       "      <th>temperature</th>\n",
       "      <th>windSpeed</th>\n",
       "      <th>price</th>\n",
       "    </tr>\n",
       "  </thead>\n",
       "  <tbody>\n",
       "    <tr>\n",
       "      <th>count</th>\n",
       "      <td>637976.000000</td>\n",
       "      <td>637976.000000</td>\n",
       "      <td>637976.000000</td>\n",
       "      <td>637976.000000</td>\n",
       "      <td>637976.000000</td>\n",
       "      <td>637976.000000</td>\n",
       "      <td>637976.000000</td>\n",
       "    </tr>\n",
       "    <tr>\n",
       "      <th>mean</th>\n",
       "      <td>1.015068</td>\n",
       "      <td>11.618528</td>\n",
       "      <td>2.189261</td>\n",
       "      <td>8.469180</td>\n",
       "      <td>39.582406</td>\n",
       "      <td>6.186795</td>\n",
       "      <td>16.545125</td>\n",
       "    </tr>\n",
       "    <tr>\n",
       "      <th>std</th>\n",
       "      <td>0.095422</td>\n",
       "      <td>6.948776</td>\n",
       "      <td>1.135413</td>\n",
       "      <td>2.601828</td>\n",
       "      <td>6.725500</td>\n",
       "      <td>3.147856</td>\n",
       "      <td>9.324359</td>\n",
       "    </tr>\n",
       "    <tr>\n",
       "      <th>min</th>\n",
       "      <td>1.000000</td>\n",
       "      <td>0.000000</td>\n",
       "      <td>0.020000</td>\n",
       "      <td>0.717000</td>\n",
       "      <td>18.910000</td>\n",
       "      <td>0.450000</td>\n",
       "      <td>2.500000</td>\n",
       "    </tr>\n",
       "    <tr>\n",
       "      <th>25%</th>\n",
       "      <td>1.000000</td>\n",
       "      <td>6.000000</td>\n",
       "      <td>1.270000</td>\n",
       "      <td>8.432000</td>\n",
       "      <td>36.450000</td>\n",
       "      <td>3.410000</td>\n",
       "      <td>9.000000</td>\n",
       "    </tr>\n",
       "    <tr>\n",
       "      <th>50%</th>\n",
       "      <td>1.000000</td>\n",
       "      <td>12.000000</td>\n",
       "      <td>2.160000</td>\n",
       "      <td>9.880000</td>\n",
       "      <td>40.490000</td>\n",
       "      <td>5.910000</td>\n",
       "      <td>13.500000</td>\n",
       "    </tr>\n",
       "    <tr>\n",
       "      <th>75%</th>\n",
       "      <td>1.000000</td>\n",
       "      <td>18.000000</td>\n",
       "      <td>2.930000</td>\n",
       "      <td>9.996000</td>\n",
       "      <td>43.580000</td>\n",
       "      <td>8.410000</td>\n",
       "      <td>22.500000</td>\n",
       "    </tr>\n",
       "    <tr>\n",
       "      <th>max</th>\n",
       "      <td>3.000000</td>\n",
       "      <td>23.000000</td>\n",
       "      <td>7.860000</td>\n",
       "      <td>10.000000</td>\n",
       "      <td>57.220000</td>\n",
       "      <td>15.000000</td>\n",
       "      <td>97.500000</td>\n",
       "    </tr>\n",
       "  </tbody>\n",
       "</table>\n",
       "</div>"
      ],
      "text/plain": [
       "       surge_multiplier           hour       distance     visibility  \\\n",
       "count     637976.000000  637976.000000  637976.000000  637976.000000   \n",
       "mean           1.015068      11.618528       2.189261       8.469180   \n",
       "std            0.095422       6.948776       1.135413       2.601828   \n",
       "min            1.000000       0.000000       0.020000       0.717000   \n",
       "25%            1.000000       6.000000       1.270000       8.432000   \n",
       "50%            1.000000      12.000000       2.160000       9.880000   \n",
       "75%            1.000000      18.000000       2.930000       9.996000   \n",
       "max            3.000000      23.000000       7.860000      10.000000   \n",
       "\n",
       "         temperature      windSpeed          price  \n",
       "count  637976.000000  637976.000000  637976.000000  \n",
       "mean       39.582406       6.186795      16.545125  \n",
       "std         6.725500       3.147856       9.324359  \n",
       "min        18.910000       0.450000       2.500000  \n",
       "25%        36.450000       3.410000       9.000000  \n",
       "50%        40.490000       5.910000      13.500000  \n",
       "75%        43.580000       8.410000      22.500000  \n",
       "max        57.220000      15.000000      97.500000  "
      ]
     },
     "execution_count": 24,
     "metadata": {},
     "output_type": "execute_result"
    }
   ],
   "source": [
    "df.describe()"
   ]
  },
  {
   "cell_type": "markdown",
   "metadata": {
    "id": "d5vu_MP_4UZ2"
   },
   "source": [
    "Berdasarkan informasi mengenai statistik deskriptif, dapat diketahui:\n",
    "- Rata-rata pelanggan melakukan perjalanan sejauh 1.135413 (satuan jarak)\n",
    "- Rata-rata biaya yang harus dibayarkan pelanggan dalam satu kali perjalanan adalah 9.324359 USD\n",
    "- Rata-rata pelanggan memesan taksi pada pukul 11:00 hingga 12:00"
   ]
  },
  {
   "cell_type": "markdown",
   "metadata": {
    "id": "4BEVN_9Yi7Jp"
   },
   "source": [
    "Untuk mengetahui berapa biaya price/distance pada setiap jenis mobil perlu dilakukan groupby pada dataframe df berdasarkan kolom name. Kemudian dilakukan penambahan kolom baru pada dataframe yang berisikan nilai dari value pada kolom price dibagi dengan value pada kolom distance."
   ]
  },
  {
   "cell_type": "code",
   "execution_count": 25,
   "metadata": {
    "colab": {
     "base_uri": "https://localhost:8080/",
     "height": 511
    },
    "id": "AXlJ0_F3i9r8",
    "outputId": "0b2922d4-48d8-479a-d6dc-e130e2e7cc81"
   },
   "outputs": [
    {
     "data": {
      "text/html": [
       "<div>\n",
       "<style scoped>\n",
       "    .dataframe tbody tr th:only-of-type {\n",
       "        vertical-align: middle;\n",
       "    }\n",
       "\n",
       "    .dataframe tbody tr th {\n",
       "        vertical-align: top;\n",
       "    }\n",
       "\n",
       "    .dataframe thead th {\n",
       "        text-align: right;\n",
       "    }\n",
       "</style>\n",
       "<table border=\"1\" class=\"dataframe\">\n",
       "  <thead>\n",
       "    <tr style=\"text-align: right;\">\n",
       "      <th></th>\n",
       "      <th>surge_multiplier</th>\n",
       "      <th>hour</th>\n",
       "      <th>distance</th>\n",
       "      <th>visibility</th>\n",
       "      <th>temperature</th>\n",
       "      <th>windSpeed</th>\n",
       "      <th>price</th>\n",
       "      <th>price/distance</th>\n",
       "    </tr>\n",
       "    <tr>\n",
       "      <th>name</th>\n",
       "      <th></th>\n",
       "      <th></th>\n",
       "      <th></th>\n",
       "      <th></th>\n",
       "      <th></th>\n",
       "      <th></th>\n",
       "      <th></th>\n",
       "      <th></th>\n",
       "    </tr>\n",
       "  </thead>\n",
       "  <tbody>\n",
       "    <tr>\n",
       "      <th>Black</th>\n",
       "      <td>55095.00</td>\n",
       "      <td>638511</td>\n",
       "      <td>120735.12</td>\n",
       "      <td>466217.980</td>\n",
       "      <td>2180262.83</td>\n",
       "      <td>341673.98</td>\n",
       "      <td>1130758.00</td>\n",
       "      <td>9.365610</td>\n",
       "    </tr>\n",
       "    <tr>\n",
       "      <th>Black SUV</th>\n",
       "      <td>55096.00</td>\n",
       "      <td>639609</td>\n",
       "      <td>120736.15</td>\n",
       "      <td>466001.437</td>\n",
       "      <td>2182417.11</td>\n",
       "      <td>342100.28</td>\n",
       "      <td>1668679.50</td>\n",
       "      <td>13.820877</td>\n",
       "    </tr>\n",
       "    <tr>\n",
       "      <th>Lux</th>\n",
       "      <td>53139.75</td>\n",
       "      <td>595609</td>\n",
       "      <td>112049.32</td>\n",
       "      <td>434002.577</td>\n",
       "      <td>2028621.06</td>\n",
       "      <td>315847.94</td>\n",
       "      <td>910509.50</td>\n",
       "      <td>8.125971</td>\n",
       "    </tr>\n",
       "    <tr>\n",
       "      <th>Lux Black</th>\n",
       "      <td>53139.75</td>\n",
       "      <td>596003</td>\n",
       "      <td>112049.32</td>\n",
       "      <td>434627.181</td>\n",
       "      <td>2027089.81</td>\n",
       "      <td>316100.02</td>\n",
       "      <td>1181605.55</td>\n",
       "      <td>10.545406</td>\n",
       "    </tr>\n",
       "    <tr>\n",
       "      <th>Lux Black XL</th>\n",
       "      <td>53139.75</td>\n",
       "      <td>595410</td>\n",
       "      <td>112049.32</td>\n",
       "      <td>434134.555</td>\n",
       "      <td>2029360.84</td>\n",
       "      <td>315762.29</td>\n",
       "      <td>1656124.55</td>\n",
       "      <td>14.780318</td>\n",
       "    </tr>\n",
       "    <tr>\n",
       "      <th>Lyft</th>\n",
       "      <td>53184.25</td>\n",
       "      <td>598258</td>\n",
       "      <td>112049.32</td>\n",
       "      <td>434605.537</td>\n",
       "      <td>2029201.86</td>\n",
       "      <td>315705.01</td>\n",
       "      <td>492413.68</td>\n",
       "      <td>4.394616</td>\n",
       "    </tr>\n",
       "    <tr>\n",
       "      <th>Lyft XL</th>\n",
       "      <td>53184.25</td>\n",
       "      <td>594826</td>\n",
       "      <td>112049.32</td>\n",
       "      <td>433435.992</td>\n",
       "      <td>2029388.71</td>\n",
       "      <td>317717.61</td>\n",
       "      <td>784375.20</td>\n",
       "      <td>7.000267</td>\n",
       "    </tr>\n",
       "    <tr>\n",
       "      <th>Shared</th>\n",
       "      <td>51233.00</td>\n",
       "      <td>594717</td>\n",
       "      <td>112047.19</td>\n",
       "      <td>434132.165</td>\n",
       "      <td>2028582.98</td>\n",
       "      <td>317298.91</td>\n",
       "      <td>308929.50</td>\n",
       "      <td>2.757137</td>\n",
       "    </tr>\n",
       "    <tr>\n",
       "      <th>UberPool</th>\n",
       "      <td>55091.00</td>\n",
       "      <td>640234</td>\n",
       "      <td>120726.22</td>\n",
       "      <td>466271.210</td>\n",
       "      <td>2180220.70</td>\n",
       "      <td>341206.37</td>\n",
       "      <td>482184.00</td>\n",
       "      <td>3.994029</td>\n",
       "    </tr>\n",
       "    <tr>\n",
       "      <th>UberX</th>\n",
       "      <td>55094.00</td>\n",
       "      <td>638146</td>\n",
       "      <td>120732.46</td>\n",
       "      <td>466220.287</td>\n",
       "      <td>2178384.01</td>\n",
       "      <td>341652.29</td>\n",
       "      <td>537997.00</td>\n",
       "      <td>4.456109</td>\n",
       "    </tr>\n",
       "    <tr>\n",
       "      <th>UberXL</th>\n",
       "      <td>55096.00</td>\n",
       "      <td>640196</td>\n",
       "      <td>120736.15</td>\n",
       "      <td>466873.205</td>\n",
       "      <td>2178854.84</td>\n",
       "      <td>340899.19</td>\n",
       "      <td>863803.00</td>\n",
       "      <td>7.154469</td>\n",
       "    </tr>\n",
       "    <tr>\n",
       "      <th>WAV</th>\n",
       "      <td>55096.00</td>\n",
       "      <td>640823</td>\n",
       "      <td>120736.15</td>\n",
       "      <td>466611.470</td>\n",
       "      <td>2180240.37</td>\n",
       "      <td>341063.12</td>\n",
       "      <td>538013.50</td>\n",
       "      <td>4.456109</td>\n",
       "    </tr>\n",
       "  </tbody>\n",
       "</table>\n",
       "</div>"
      ],
      "text/plain": [
       "              surge_multiplier    hour   distance  visibility  temperature  \\\n",
       "name                                                                         \n",
       "Black                 55095.00  638511  120735.12  466217.980   2180262.83   \n",
       "Black SUV             55096.00  639609  120736.15  466001.437   2182417.11   \n",
       "Lux                   53139.75  595609  112049.32  434002.577   2028621.06   \n",
       "Lux Black             53139.75  596003  112049.32  434627.181   2027089.81   \n",
       "Lux Black XL          53139.75  595410  112049.32  434134.555   2029360.84   \n",
       "Lyft                  53184.25  598258  112049.32  434605.537   2029201.86   \n",
       "Lyft XL               53184.25  594826  112049.32  433435.992   2029388.71   \n",
       "Shared                51233.00  594717  112047.19  434132.165   2028582.98   \n",
       "UberPool              55091.00  640234  120726.22  466271.210   2180220.70   \n",
       "UberX                 55094.00  638146  120732.46  466220.287   2178384.01   \n",
       "UberXL                55096.00  640196  120736.15  466873.205   2178854.84   \n",
       "WAV                   55096.00  640823  120736.15  466611.470   2180240.37   \n",
       "\n",
       "              windSpeed       price  price/distance  \n",
       "name                                                 \n",
       "Black         341673.98  1130758.00        9.365610  \n",
       "Black SUV     342100.28  1668679.50       13.820877  \n",
       "Lux           315847.94   910509.50        8.125971  \n",
       "Lux Black     316100.02  1181605.55       10.545406  \n",
       "Lux Black XL  315762.29  1656124.55       14.780318  \n",
       "Lyft          315705.01   492413.68        4.394616  \n",
       "Lyft XL       317717.61   784375.20        7.000267  \n",
       "Shared        317298.91   308929.50        2.757137  \n",
       "UberPool      341206.37   482184.00        3.994029  \n",
       "UberX         341652.29   537997.00        4.456109  \n",
       "UberXL        340899.19   863803.00        7.154469  \n",
       "WAV           341063.12   538013.50        4.456109  "
      ]
     },
     "execution_count": 25,
     "metadata": {},
     "output_type": "execute_result"
    }
   ],
   "source": [
    "df_name_2 = df.groupby('name').sum()\n",
    "df_name_2['price/distance'] = df_name_2['price'] / df_name_2['distance']\n",
    "df_name_2"
   ]
  },
  {
   "cell_type": "markdown",
   "metadata": {
    "id": "1UvBl4jUjAne"
   },
   "source": [
    "Hasil yang didapatkan diurutkan menggunakan fungsi `.sort_values()` dari nilai yang terkecil hingga terbesar kemudian divisualisasikan menggunakan bar plot atau diagram batang menggunakan fungsi `.plot()` dengan argumen yang disesuaikan.\n",
    "\n",
    "- `kind='bar' `: mendefinisikan jenis plot yang digunakan yaitu bar plot\n",
    "- `figsize=()` : mendefinisikan ukuran dari plot yang akan dibuat\n",
    "- `color=' '` : memberi warna pada plot\n",
    "- `edgecolor=' '` : memberi warna pada tepi plot\n",
    "\n",
    "Untuk menambahkan keterangan pada plot, dapat digunakan fungsi sebagai berikut:\n",
    "\n",
    "- `plt.title()` : memberi judul pada plot\n",
    "- `plt.xlabel()` : memberi keterangan pada sumbu X\n",
    "- `plt.ylable()` : memberi keterangan pada sumbu Y\n",
    "- `size= ` : mengatur ukuran"
   ]
  },
  {
   "cell_type": "code",
   "execution_count": 26,
   "metadata": {
    "colab": {
     "base_uri": "https://localhost:8080/",
     "height": 567
    },
    "id": "_njRPXnUjFM6",
    "outputId": "dde1f5b5-283e-4155-cd4e-6f10195acdc2"
   },
   "outputs": [
    {
     "data": {
      "image/png": "[encoded data removed]",
      "text/plain": [
       "<Figure size 720x360 with 1 Axes>"
      ]
     },
     "metadata": {
      "needs_background": "light"
     },
     "output_type": "display_data"
    }
   ],
   "source": [
    "df_name_2['price/distance'].sort_values(ascending=True).plot(kind='bar',figsize=(10,5), color='lightgreen', edgecolor='black')\n",
    "plt.title('Prices/Distance Between Car Name',size=15)\n",
    "plt.xlabel('Car Name',size=13)\n",
    "plt.ylabel('Value',size=13)\n",
    "plt.show()"
   ]
  },
  {
   "cell_type": "markdown",
   "metadata": {
    "id": "_--Po70ejJZd"
   },
   "source": [
    "Berdasarkan plot, dapat diketahui bahwa biaya price/distance jenis mobil Shared adalah yang paling terjangkau. Sedangkan mobil jenis Lux Black XL memiliki biaya price/distance termahal."
   ]
  },
  {
   "cell_type": "markdown",
   "metadata": {
    "id": "04Jqy6tP5sSH"
   },
   "source": [
    "Pengecekan terhadap outlier pada set data dapat dilakukan menggunakan box plot atau diagram kotak garis menggunakan fungsi `.plot()` dengan parameter `kind='box'` yaitu untuk mendefinisikan plot sebagai box plot dan parameter `figsize=()` untuk mendefinisikan ukuran dari plot yang akan dibuat."
   ]
  },
  {
   "cell_type": "code",
   "execution_count": 27,
   "metadata": {
    "colab": {
     "base_uri": "https://localhost:8080/",
     "height": 847
    },
    "id": "tgMZS6p94QyE",
    "outputId": "3ccde6b6-cccb-4e76-dcbc-8c96411d7467"
   },
   "outputs": [
    {
     "data": {
      "text/plain": [
       "<AxesSubplot:>"
      ]
     },
     "execution_count": 27,
     "metadata": {},
     "output_type": "execute_result"
    },
    {
     "data": {
      "image/png": "[encoded data removed]",
      "text/plain": [
       "<Figure size 1080x720 with 1 Axes>"
      ]
     },
     "metadata": {
      "needs_background": "light"
     },
     "output_type": "display_data"
    }
   ],
   "source": [
    "df.plot(kind='box',figsize=(15,10))"
   ]
  },
  {
   "cell_type": "markdown",
   "metadata": {
    "id": "bDu80rh_52YN"
   },
   "source": [
    "Berdasarkan box plot, ditemukan outlier pada beberapa kolom yaitu **surge_multiplier**, **distance**, **visibility**, **temperature**, dan **price**. Sedangkan pada kolom **hour** dan **windSpeed** tidak ditemukan outlier."
   ]
  },
  {
   "cell_type": "markdown",
   "metadata": {
    "id": "Sd718bU-7LPi"
   },
   "source": [
    "Sebaran pada data label dapat diketahui melalui histogram atau plot distribusi peluang.\n",
    "\n",
    "Histogram didapatkan menggunakan fungsi `.plot()` dengan parameter yang disesuaikan. \n",
    "\n",
    "- `kind='hist' `: mendefinisikan jenis plot yang digunakan yaitu histogram\n",
    "- `figsize=()` : mendefinisikan ukuran dari plot yang akan dibuat\n",
    "- `color=' '` : memberi warna pada plot\n",
    "- `edgecolor=' '` : memberi warna pada tepi plot"
   ]
  },
  {
   "cell_type": "code",
   "execution_count": 28,
   "metadata": {
    "colab": {
     "base_uri": "https://localhost:8080/",
     "height": 447
    },
    "id": "bKWCO5ZX4Qje",
    "outputId": "c8b410b2-0bec-4621-f29e-9c8644640a66"
   },
   "outputs": [
    {
     "data": {
      "text/plain": [
       "<AxesSubplot:ylabel='Frequency'>"
      ]
     },
     "execution_count": 28,
     "metadata": {},
     "output_type": "execute_result"
    },
    {
     "data": {
      "image/png": "[encoded data removed]",
      "text/plain": [
       "<Figure size 432x288 with 1 Axes>"
      ]
     },
     "metadata": {
      "needs_background": "light"
     },
     "output_type": "display_data"
    }
   ],
   "source": [
    "df['price'].plot(kind='hist',color='red',edgecolor='black')"
   ]
  },
  {
   "cell_type": "markdown",
   "metadata": {
    "id": "Gl_bj2US8E2R"
   },
   "source": [
    "Sedangkan plot distribusi peluang didapatkan menggunakan fungsi `sns.displot()` dengan parameter `df['price']` yaitu kolom data label."
   ]
  },
  {
   "cell_type": "code",
   "execution_count": 29,
   "metadata": {
    "colab": {
     "base_uri": "https://localhost:8080/",
     "height": 524
    },
    "id": "xbgk9Yzk8TP4",
    "outputId": "d6281480-d124-4330-bd66-064e3ac02c08"
   },
   "outputs": [
    {
     "data": {
      "text/plain": [
       "<seaborn.axisgrid.FacetGrid at 0x2b903c1f670>"
      ]
     },
     "execution_count": 29,
     "metadata": {},
     "output_type": "execute_result"
    },
    {
     "data": {
      "image/png": "[encoded data removed]",
      "text/plain": [
       "<Figure size 360x360 with 1 Axes>"
      ]
     },
     "metadata": {
      "needs_background": "light"
     },
     "output_type": "display_data"
    }
   ],
   "source": [
    "sns.displot(df['price'])"
   ]
  },
  {
   "cell_type": "markdown",
   "metadata": {
    "id": "EJTvdME_8VSJ"
   },
   "source": [
    "Berdasarkan histogram dan plot distribusi peluang, keduanya sama-sama menunjukkan adanya kecenderungan distribusi data yang miring ke kanan."
   ]
  },
  {
   "cell_type": "markdown",
   "metadata": {
    "id": "1VPZcAx_9E9p"
   },
   "source": [
    "Korelasi antar kolom pada set data dapat diketahui menggunakan fungsi `.corr()`."
   ]
  },
  {
   "cell_type": "code",
   "execution_count": 30,
   "metadata": {
    "colab": {
     "base_uri": "https://localhost:8080/",
     "height": 323
    },
    "id": "HMiGNzny889N",
    "outputId": "0dfef03e-ae1e-4a1a-dfda-30f2ccf4fd3c"
   },
   "outputs": [
    {
     "data": {
      "text/html": [
       "<div>\n",
       "<style scoped>\n",
       "    .dataframe tbody tr th:only-of-type {\n",
       "        vertical-align: middle;\n",
       "    }\n",
       "\n",
       "    .dataframe tbody tr th {\n",
       "        vertical-align: top;\n",
       "    }\n",
       "\n",
       "    .dataframe thead th {\n",
       "        text-align: right;\n",
       "    }\n",
       "</style>\n",
       "<table border=\"1\" class=\"dataframe\">\n",
       "  <thead>\n",
       "    <tr style=\"text-align: right;\">\n",
       "      <th></th>\n",
       "      <th>surge_multiplier</th>\n",
       "      <th>hour</th>\n",
       "      <th>distance</th>\n",
       "      <th>visibility</th>\n",
       "      <th>temperature</th>\n",
       "      <th>windSpeed</th>\n",
       "      <th>price</th>\n",
       "    </tr>\n",
       "  </thead>\n",
       "  <tbody>\n",
       "    <tr>\n",
       "      <th>surge_multiplier</th>\n",
       "      <td>1.000000</td>\n",
       "      <td>-0.000067</td>\n",
       "      <td>0.025946</td>\n",
       "      <td>0.001716</td>\n",
       "      <td>-0.001594</td>\n",
       "      <td>0.002593</td>\n",
       "      <td>0.240458</td>\n",
       "    </tr>\n",
       "    <tr>\n",
       "      <th>hour</th>\n",
       "      <td>-0.000067</td>\n",
       "      <td>1.000000</td>\n",
       "      <td>0.002283</td>\n",
       "      <td>0.173776</td>\n",
       "      <td>0.218829</td>\n",
       "      <td>0.073011</td>\n",
       "      <td>0.000561</td>\n",
       "    </tr>\n",
       "    <tr>\n",
       "      <th>distance</th>\n",
       "      <td>0.025946</td>\n",
       "      <td>0.002283</td>\n",
       "      <td>1.000000</td>\n",
       "      <td>0.004143</td>\n",
       "      <td>-0.002738</td>\n",
       "      <td>0.001709</td>\n",
       "      <td>0.345061</td>\n",
       "    </tr>\n",
       "    <tr>\n",
       "      <th>visibility</th>\n",
       "      <td>0.001716</td>\n",
       "      <td>0.173776</td>\n",
       "      <td>0.004143</td>\n",
       "      <td>1.000000</td>\n",
       "      <td>-0.324158</td>\n",
       "      <td>-0.035550</td>\n",
       "      <td>0.001497</td>\n",
       "    </tr>\n",
       "    <tr>\n",
       "      <th>temperature</th>\n",
       "      <td>-0.001594</td>\n",
       "      <td>0.218829</td>\n",
       "      <td>-0.002738</td>\n",
       "      <td>-0.324158</td>\n",
       "      <td>1.000000</td>\n",
       "      <td>0.058846</td>\n",
       "      <td>-0.000084</td>\n",
       "    </tr>\n",
       "    <tr>\n",
       "      <th>windSpeed</th>\n",
       "      <td>0.002593</td>\n",
       "      <td>0.073011</td>\n",
       "      <td>0.001709</td>\n",
       "      <td>-0.035550</td>\n",
       "      <td>0.058846</td>\n",
       "      <td>1.000000</td>\n",
       "      <td>0.000990</td>\n",
       "    </tr>\n",
       "    <tr>\n",
       "      <th>price</th>\n",
       "      <td>0.240458</td>\n",
       "      <td>0.000561</td>\n",
       "      <td>0.345061</td>\n",
       "      <td>0.001497</td>\n",
       "      <td>-0.000084</td>\n",
       "      <td>0.000990</td>\n",
       "      <td>1.000000</td>\n",
       "    </tr>\n",
       "  </tbody>\n",
       "</table>\n",
       "</div>"
      ],
      "text/plain": [
       "                  surge_multiplier      hour  distance  visibility  \\\n",
       "surge_multiplier          1.000000 -0.000067  0.025946    0.001716   \n",
       "hour                     -0.000067  1.000000  0.002283    0.173776   \n",
       "distance                  0.025946  0.002283  1.000000    0.004143   \n",
       "visibility                0.001716  0.173776  0.004143    1.000000   \n",
       "temperature              -0.001594  0.218829 -0.002738   -0.324158   \n",
       "windSpeed                 0.002593  0.073011  0.001709   -0.035550   \n",
       "price                     0.240458  0.000561  0.345061    0.001497   \n",
       "\n",
       "                  temperature  windSpeed     price  \n",
       "surge_multiplier    -0.001594   0.002593  0.240458  \n",
       "hour                 0.218829   0.073011  0.000561  \n",
       "distance            -0.002738   0.001709  0.345061  \n",
       "visibility          -0.324158  -0.035550  0.001497  \n",
       "temperature          1.000000   0.058846 -0.000084  \n",
       "windSpeed            0.058846   1.000000  0.000990  \n",
       "price               -0.000084   0.000990  1.000000  "
      ]
     },
     "execution_count": 30,
     "metadata": {},
     "output_type": "execute_result"
    }
   ],
   "source": [
    "df.corr()"
   ]
  },
  {
   "cell_type": "markdown",
   "metadata": {
    "id": "M_D1vAGW9VG6"
   },
   "source": [
    "Jika ingin diketahui visualisasi dari korelasi antar kolom, maka dapat digunakan plot jenis heatmap yang didapatkan menggunakan fungsi `sns.heatmap()`."
   ]
  },
  {
   "cell_type": "code",
   "execution_count": 68,
   "metadata": {
    "colab": {
     "base_uri": "https://localhost:8080/",
     "height": 605
    },
    "id": "PRGZfMLt9Paf",
    "outputId": "b33a314a-1610-4545-a091-d874b2d9a988"
   },
   "outputs": [
    {
     "data": {
      "image/png": "[encoded data removed]",
      "text/plain": [
       "<Figure size 720x720 with 2 Axes>"
      ]
     },
     "metadata": {
      "needs_background": "light"
     },
     "output_type": "display_data"
    }
   ],
   "source": [
    "fig, ax = plt.subplots(figsize=(10,10))  \n",
    "sns.heatmap(df.corr(),annot=True)\n",
    "plt.show()"
   ]
  },
  {
   "cell_type": "markdown",
   "metadata": {
    "id": "r7xSAHw19P4n"
   },
   "source": [
    "Dapat diketahui bahwa korelasi antar kolom pada set data sangat kecil dan bernilai mendekati nol. Korelasi paling besar ditemukan pada kolom price dengan kolom distance dengan korelasi sebesar 0.35 dan kolom temperature dengan kolom visibility sebesar -0.32."
   ]
  },
  {
   "cell_type": "markdown",
   "metadata": {
    "id": "FqxgLWGO9_1g",
    "tags": []
   },
   "source": [
    "# Pre-Processing Data"
   ]
  },
  {
   "cell_type": "markdown",
   "metadata": {
    "id": "kCnVg-_z-HBJ"
   },
   "source": [
    "## Encode Data\n",
    "\n",
    "Proses Encoding dilakukan untuk memetakan setiap data kategorik pada dataset menjadi sebuah angka."
   ]
  },
  {
   "cell_type": "markdown",
   "metadata": {
    "id": "5VsCibRsPAyl"
   },
   "source": [
    "Pada kolom `cab_type` dilakukan encoding dengan jenis one hot encoding dimana pada setiap data kategori unik dijadikan kolom baru."
   ]
  },
  {
   "cell_type": "code",
   "execution_count": 32,
   "metadata": {
    "colab": {
     "base_uri": "https://localhost:8080/",
     "height": 423
    },
    "id": "lwI2H-rPPGUU",
    "outputId": "230c8aed-7239-4894-b31f-ef3a80e90e72"
   },
   "outputs": [
    {
     "data": {
      "text/html": [
       "<div>\n",
       "<style scoped>\n",
       "    .dataframe tbody tr th:only-of-type {\n",
       "        vertical-align: middle;\n",
       "    }\n",
       "\n",
       "    .dataframe tbody tr th {\n",
       "        vertical-align: top;\n",
       "    }\n",
       "\n",
       "    .dataframe thead th {\n",
       "        text-align: right;\n",
       "    }\n",
       "</style>\n",
       "<table border=\"1\" class=\"dataframe\">\n",
       "  <thead>\n",
       "    <tr style=\"text-align: right;\">\n",
       "      <th></th>\n",
       "      <th>name</th>\n",
       "      <th>surge_multiplier</th>\n",
       "      <th>hour</th>\n",
       "      <th>distance</th>\n",
       "      <th>visibility</th>\n",
       "      <th>temperature</th>\n",
       "      <th>windSpeed</th>\n",
       "      <th>price</th>\n",
       "      <th>cab_type_Lyft</th>\n",
       "      <th>cab_type_Uber</th>\n",
       "    </tr>\n",
       "  </thead>\n",
       "  <tbody>\n",
       "    <tr>\n",
       "      <th>0</th>\n",
       "      <td>Shared</td>\n",
       "      <td>1.0</td>\n",
       "      <td>9</td>\n",
       "      <td>0.44</td>\n",
       "      <td>10.000</td>\n",
       "      <td>42.34</td>\n",
       "      <td>8.66</td>\n",
       "      <td>5.0</td>\n",
       "      <td>1</td>\n",
       "      <td>0</td>\n",
       "    </tr>\n",
       "    <tr>\n",
       "      <th>1</th>\n",
       "      <td>Lux</td>\n",
       "      <td>1.0</td>\n",
       "      <td>2</td>\n",
       "      <td>0.44</td>\n",
       "      <td>4.786</td>\n",
       "      <td>43.58</td>\n",
       "      <td>11.98</td>\n",
       "      <td>11.0</td>\n",
       "      <td>1</td>\n",
       "      <td>0</td>\n",
       "    </tr>\n",
       "    <tr>\n",
       "      <th>2</th>\n",
       "      <td>Lyft</td>\n",
       "      <td>1.0</td>\n",
       "      <td>1</td>\n",
       "      <td>0.44</td>\n",
       "      <td>10.000</td>\n",
       "      <td>38.33</td>\n",
       "      <td>7.33</td>\n",
       "      <td>7.0</td>\n",
       "      <td>1</td>\n",
       "      <td>0</td>\n",
       "    </tr>\n",
       "    <tr>\n",
       "      <th>3</th>\n",
       "      <td>Lux Black XL</td>\n",
       "      <td>1.0</td>\n",
       "      <td>4</td>\n",
       "      <td>0.44</td>\n",
       "      <td>10.000</td>\n",
       "      <td>34.38</td>\n",
       "      <td>5.28</td>\n",
       "      <td>26.0</td>\n",
       "      <td>1</td>\n",
       "      <td>0</td>\n",
       "    </tr>\n",
       "    <tr>\n",
       "      <th>4</th>\n",
       "      <td>Lyft XL</td>\n",
       "      <td>1.0</td>\n",
       "      <td>3</td>\n",
       "      <td>0.44</td>\n",
       "      <td>10.000</td>\n",
       "      <td>37.44</td>\n",
       "      <td>9.14</td>\n",
       "      <td>9.0</td>\n",
       "      <td>1</td>\n",
       "      <td>0</td>\n",
       "    </tr>\n",
       "    <tr>\n",
       "      <th>...</th>\n",
       "      <td>...</td>\n",
       "      <td>...</td>\n",
       "      <td>...</td>\n",
       "      <td>...</td>\n",
       "      <td>...</td>\n",
       "      <td>...</td>\n",
       "      <td>...</td>\n",
       "      <td>...</td>\n",
       "      <td>...</td>\n",
       "      <td>...</td>\n",
       "    </tr>\n",
       "    <tr>\n",
       "      <th>693065</th>\n",
       "      <td>WAV</td>\n",
       "      <td>1.0</td>\n",
       "      <td>23</td>\n",
       "      <td>1.00</td>\n",
       "      <td>9.785</td>\n",
       "      <td>37.05</td>\n",
       "      <td>2.34</td>\n",
       "      <td>9.5</td>\n",
       "      <td>0</td>\n",
       "      <td>1</td>\n",
       "    </tr>\n",
       "    <tr>\n",
       "      <th>693066</th>\n",
       "      <td>UberXL</td>\n",
       "      <td>1.0</td>\n",
       "      <td>23</td>\n",
       "      <td>1.00</td>\n",
       "      <td>9.785</td>\n",
       "      <td>37.05</td>\n",
       "      <td>2.34</td>\n",
       "      <td>13.0</td>\n",
       "      <td>0</td>\n",
       "      <td>1</td>\n",
       "    </tr>\n",
       "    <tr>\n",
       "      <th>693067</th>\n",
       "      <td>UberX</td>\n",
       "      <td>1.0</td>\n",
       "      <td>23</td>\n",
       "      <td>1.00</td>\n",
       "      <td>9.785</td>\n",
       "      <td>37.05</td>\n",
       "      <td>2.34</td>\n",
       "      <td>9.5</td>\n",
       "      <td>0</td>\n",
       "      <td>1</td>\n",
       "    </tr>\n",
       "    <tr>\n",
       "      <th>693069</th>\n",
       "      <td>Black SUV</td>\n",
       "      <td>1.0</td>\n",
       "      <td>23</td>\n",
       "      <td>1.00</td>\n",
       "      <td>9.785</td>\n",
       "      <td>37.05</td>\n",
       "      <td>2.34</td>\n",
       "      <td>27.0</td>\n",
       "      <td>0</td>\n",
       "      <td>1</td>\n",
       "    </tr>\n",
       "    <tr>\n",
       "      <th>693070</th>\n",
       "      <td>UberPool</td>\n",
       "      <td>1.0</td>\n",
       "      <td>23</td>\n",
       "      <td>1.00</td>\n",
       "      <td>9.785</td>\n",
       "      <td>37.05</td>\n",
       "      <td>2.34</td>\n",
       "      <td>10.0</td>\n",
       "      <td>0</td>\n",
       "      <td>1</td>\n",
       "    </tr>\n",
       "  </tbody>\n",
       "</table>\n",
       "<p>637976 rows × 10 columns</p>\n",
       "</div>"
      ],
      "text/plain": [
       "                name  surge_multiplier  hour  distance  visibility  \\\n",
       "0             Shared               1.0     9      0.44      10.000   \n",
       "1                Lux               1.0     2      0.44       4.786   \n",
       "2               Lyft               1.0     1      0.44      10.000   \n",
       "3       Lux Black XL               1.0     4      0.44      10.000   \n",
       "4            Lyft XL               1.0     3      0.44      10.000   \n",
       "...              ...               ...   ...       ...         ...   \n",
       "693065           WAV               1.0    23      1.00       9.785   \n",
       "693066        UberXL               1.0    23      1.00       9.785   \n",
       "693067         UberX               1.0    23      1.00       9.785   \n",
       "693069     Black SUV               1.0    23      1.00       9.785   \n",
       "693070      UberPool               1.0    23      1.00       9.785   \n",
       "\n",
       "        temperature  windSpeed  price  cab_type_Lyft  cab_type_Uber  \n",
       "0             42.34       8.66    5.0              1              0  \n",
       "1             43.58      11.98   11.0              1              0  \n",
       "2             38.33       7.33    7.0              1              0  \n",
       "3             34.38       5.28   26.0              1              0  \n",
       "4             37.44       9.14    9.0              1              0  \n",
       "...             ...        ...    ...            ...            ...  \n",
       "693065        37.05       2.34    9.5              0              1  \n",
       "693066        37.05       2.34   13.0              0              1  \n",
       "693067        37.05       2.34    9.5              0              1  \n",
       "693069        37.05       2.34   27.0              0              1  \n",
       "693070        37.05       2.34   10.0              0              1  \n",
       "\n",
       "[637976 rows x 10 columns]"
      ]
     },
     "execution_count": 32,
     "metadata": {},
     "output_type": "execute_result"
    }
   ],
   "source": [
    "cols = ['cab_type']\n",
    "df = pd.get_dummies(df, columns = cols)\n",
    "df"
   ]
  },
  {
   "cell_type": "markdown",
   "metadata": {
    "id": "aKKsRdG-PHhL"
   },
   "source": [
    "Sedangkan pada kolom `name` dilakukan encoding dengan jenis ordinal encoding yaitu memetakan setiap data kategorik pada dataset menjadi sebuah angka secara urut dimana urutan ditentukan berdasarkan kualitas dari kategori."
   ]
  },
  {
   "cell_type": "code",
   "execution_count": 33,
   "metadata": {
    "id": "aQQDa5aN-Dng"
   },
   "outputs": [],
   "source": [
    "df['name'].replace({'Shared':1,'UberPool':2,'Lyft':3,'UberX':4,'UberXL':5,'WAV':6,'Lyft XL':7,'Lux':8,'Black':9,'Lux Black':10,'Lux Black XL':11,'Black SUV':12},inplace=True)"
   ]
  },
  {
   "cell_type": "markdown",
   "metadata": {
    "id": "vOXxZFDv-OPv",
    "tags": []
   },
   "source": [
    "## Splitting Data\n",
    "\n",
    "Splitting data dilakukan untuk membagi data menjadi 2 set/bagian yaitu training set dan test set. Pembagian data training dan data testing dilakukan secara acak. Data training digunakan untuk melatih model, sedangkan data testing digunakan untuk mengevaluasi model. Sebelum dilakukan proses splitting data, masing-masing data feature dan data label perlu didefinisikan terlebih dahulu.\n",
    "\n",
    "* X : data feature (variabel independen)\n",
    "* y : data label (variabel dependen)\n",
    "\n"
   ]
  },
  {
   "cell_type": "code",
   "execution_count": 34,
   "metadata": {
    "id": "CCl6UqvTBOoe"
   },
   "outputs": [],
   "source": [
    "X = df.drop('price',axis=1)\n",
    "y = df['price']"
   ]
  },
  {
   "cell_type": "markdown",
   "metadata": {
    "id": "ikIxCcrWBQ8q"
   },
   "source": [
    "Proses splitting data dapat menggunakan fungsi `train_test_split()` dengan parameter:\n",
    "\n",
    "- X : data feature\n",
    "- y : data label\n",
    "- test_size : ukuran test data yaitu 30%\n",
    "- random_state : digunakan agar saat proses running ulang data tidak berubah-ubah"
   ]
  },
  {
   "cell_type": "markdown",
   "metadata": {
    "id": "zSvteNqoQcV9"
   },
   "source": [
    "Proporsi test data umumnya bernilai 20% atau 30% sesuai dengan kebutuhan. Ukuran train data harus lebih besar daripada ukuran test data karena apabila ukuran train data terlalu kecil maka model tidak akan belajar."
   ]
  },
  {
   "cell_type": "code",
   "execution_count": 35,
   "metadata": {
    "id": "zEeP61gc-Rol"
   },
   "outputs": [],
   "source": [
    "# train 70%, test 30%\n",
    "\n",
    "X_train, X_test, y_train, y_test = train_test_split(X, y, test_size=0.3, random_state=0)"
   ]
  },
  {
   "cell_type": "markdown",
   "metadata": {
    "id": "VFA6ZZLwB6Q6"
   },
   "source": [
    "Banyaknya data pada masing masing set dapat diketahui menggunakan fungsi `len()`."
   ]
  },
  {
   "cell_type": "code",
   "execution_count": 36,
   "metadata": {
    "colab": {
     "base_uri": "https://localhost:8080/"
    },
    "id": "tDwnCW66-Sqp",
    "outputId": "aeb43d0a-b7f2-4802-9115-7269e07be219"
   },
   "outputs": [
    {
     "name": "stdout",
     "output_type": "stream",
     "text": [
      "Training dataset\t: 446583\n",
      "Testing dataset\t\t: 191393\n",
      "Training\t\t: 70.00% ada pada dataset\n",
      "Test\t\t\t: 30.00% ada pada dataset\n"
     ]
    }
   ],
   "source": [
    "print('Training dataset\\t:', len(X_train))\n",
    "print('Testing dataset\\t\\t:', len(X_test))\n",
    "print('Training\\t\\t: {0:0.02f}% ada pada dataset'.format((len(X_train)/len(df.name)) * 100))\n",
    "print('Test\\t\\t\\t: {0:0.02f}% ada pada dataset'.format((len(X_test)/len(df.name)) * 100))"
   ]
  },
  {
   "cell_type": "markdown",
   "metadata": {
    "id": "fWaKR04goZ_r"
   },
   "source": [
    "# Pendefinisian Model"
   ]
  },
  {
   "cell_type": "markdown",
   "metadata": {
    "id": "KUryU-1-oZ_s"
   },
   "source": [
    "## Linear Regression"
   ]
  },
  {
   "cell_type": "markdown",
   "metadata": {
    "id": "pqysO46CoZ_s"
   },
   "source": [
    ">Model linear regression terdiri dari satu atau lebih variabel independen (X) dan memiliki satu variabel dependen (y). Tujuan dari model ini adalah untuk menemukan hubungan linier yang terbaik antara variabel dependen dan variabel independen dengan menggunakan koefisien regresi yang optimal.\n",
    ">1. Sederhana dan Mudah Dipahami : karena hanya melibatkan hubungan liniear antara variabel dependen dan variabel independen\n",
    ">2. Komputasi Cepat: hanya melibatkan operasi matematika dasar\n",
    ">3. Interpretasi Variabel: koefisien regresi pada model Linear Regression dapat diinterpretasikan dengan mudah dan dapat memberikan informasi tentang seberapa besar pengaruh dari setiap variabel\n",
    ">4. Prediksi Akurat: jika model Linear Regression sudah sesuai dengan data yang ada, maka model ini dapat memberikan prediksi yang cukup akurat"
   ]
  },
  {
   "cell_type": "code",
   "execution_count": 37,
   "metadata": {
    "id": "fbpudXsvoZ_t"
   },
   "outputs": [],
   "source": [
    "lr = LinearRegression(fit_intercept=True, copy_X=True, n_jobs=None, positive=True)"
   ]
  },
  {
   "cell_type": "markdown",
   "metadata": {
    "id": "VW1LWMMToZ_u"
   },
   "source": [
    "`fit_intercept(True)` untuk menambahkan nilai intercept, yang sangat penting dalam model Linear Regression karena jika tidak termasuk dalam model, maka garis regresi akan selalu melewati titik koordinat (0,0).\n",
    "\n",
    "`copy_X(true) `jika dataset yang digunakan cukup besar, disarankan untuk mengatur nilai copy_X menjadi True, sehingga data yang diolah oleh model tidak mengganggu dataset yang asli.\n",
    "\n",
    "`n_jobs(None)` nilai n_jobs hanya efektif jika dataset yang digunakan cukup besar, dan jumlah core pada komputer yang digunakan juga mencukupi. Jika dataset yang digunakan tidak terlalu besar, atau jumlah core pada komputer tidak cukup, penggunaan nilai n_jobs yang terlalu besar justru dapat membuat proses training model menjadi lebih lambat.\n",
    "\n",
    "`positive(true)` karena semua nilai dari variabel harus bernilai positive"
   ]
  },
  {
   "cell_type": "markdown",
   "metadata": {
    "id": "jETGFCrboZ_u"
   },
   "source": [
    "## XG Boost Regressor"
   ]
  },
  {
   "cell_type": "markdown",
   "metadata": {
    "id": "74ZfXIqQoZ_v"
   },
   "source": [
    ">XGBoost (Extreme Gradient Boosting) Regression adalah jenis model regresi yang dikembangkan menggunakan ekstensi dari model pohon keputusan yang ditingkatkan dengan teknik boosting.\n",
    "\n",
    ">Model XGBoost Regresi memanfaatkan teknik pembelajaran mesin yang kuat dan dapat digunakan untuk memprediksi variabel target yang kontinu (numerik). \n",
    "\n",
    ">XGBoost menggabungkan beberapa model pohon keputusan yang lemah untuk membentuk model yang lebih kuat. Setiap pohon keputusan dibangun dengan mempertimbangkan residual (selisih antara nilai prediksi model saat ini dan nilai target yang sebenarnya) dari model sebelumnya. Dengan cara ini, model XGBoost dapat memperbaiki prediksi pada setiap iterasi.\n",
    "\n",
    ">1. Akurai yang Tinggi: menggunakan teknik ensemble learning dengan memadukan beberapa model pohon keputusan untuk membuat model yang lebih akurat dan stabil.\n",
    ">2. Skalabilitas : dapat dengan mudah menangani data yang sangat besar dan kompleks dengan fitur yang banyak. Model ini mendukung parallel processing yang mempercepat waktu pelatihan model.\n",
    ">3. Penanganan Missing Values: dapat menangani nilai yang hilang dalam data dan memungkinkan penggunaan data yang tidak lengkap.\n",
    ">4. Regularisasi: membantu mencegah overfitting dan menghasilkan model yang lebih umum.\n",
    ">5. Interpretasi: pengguna dapat memahami faktor apa yang paling mempengaruhi target."
   ]
  },
  {
   "cell_type": "code",
   "execution_count": 38,
   "metadata": {
    "id": "XAxhgGCIoZ_w"
   },
   "outputs": [],
   "source": [
    "xgb_r = xg.XGBRegressor(objective='reg:linear',n_estimators = 11, seed = 123)"
   ]
  },
  {
   "cell_type": "markdown",
   "metadata": {
    "id": "_Z7tdQCaoZ_x"
   },
   "source": [
    "`objective(reg:linear)` artinya fungsi objektif yang digunakan adalah Mean Squared Error(MSE). Tujuannya adalah untuk meminimalkan MSE dengan menemukan bobot yang optimal untuk setiap pohon keputusan. Cocok untuk masalah regresi dimana targetnya adalah numerik dan kontinu\n",
    "\n",
    "`n_estimators(11)` menentukan jumlah pohon keputusan yang dibuat dalam model. Semakin banyak pohon, semakin kompleks, dan semakin akurat, namun dapat menyebabkan overfitting dan membutuhkan waktu dalam melatih model. nilai 11 mejadi nilai yang lebih akurat dibandingkan nilai 10 yang sebelumnya digunakan.\n",
    "\n",
    "`seed(123)` merupakan nilai awal untuk menginisiasi generator bilangan acak. menentukan nilai seed untuk memastikan bahwa dalam tiap eksekusi hasilnya akan konsisten, jika tidak diatur makan hasil bisa saja berbeda-beda setiap dieksekusi"
   ]
  },
  {
   "cell_type": "markdown",
   "metadata": {
    "id": "cLwbJ6iloZ_x"
   },
   "source": [
    "## Random Forest Regressor"
   ]
  },
  {
   "cell_type": "markdown",
   "metadata": {
    "id": "EYWDho-xoZ_y"
   },
   "source": [
    ">Random Forest Regressor adalah salah satu jenis algoritma Machine Learning yang digunakan untuk melakukan prediksi nilai numerik atau kontinu berdasarkan fitur atau atribut lainnya. Model ini menggabungkan banyak pohon keputusan (decision trees) ke dalam satu model yang lebih besar. Setiap pohon keputusan dalam model random forest dihasilkan secara acak dan independen satu sama lain.\n",
    "\n",
    ">Dalam model random forest regressor, setiap pohon keputusan memiliki bobot yang sama pentingnya, sehingga prediksi akhir didapatkan dari hasil penggabungan semua pohon keputusan. Model ini dapat digunakan untuk memprediksi nilai numerik, seperti harga rumah, suhu, atau penghasilan berdasarkan fitur atau atribut lainnya.\n",
    "\n",
    ">1. Mampu menangani data yang kompleks: Model ini dapat menangani dataset dengan banyak fitur dan pola yang kompleks. \n",
    ">2. Tidak sensitif terhadap overfitting: Model ini dapat menghindari overfitting pada data yang digunakan karena setiap pohon keputusan dihasilkan secara acak dan independen satu sama lain.\n",
    ">3. Mudah diimplementasikan: Model ini mudah diimplementasikan dan cepat dalam proses pelatihan dan pengujian. Juga tidak memerlukan banyak tuning parameter seperti pada model lainnya.\n",
    ">4. Stabil dan akurat: Model ini dapat memberikan hasil prediksi yang stabil dan akurat pada data yang belum pernah dilihat sebelumnya. Sehingga model ini dapat diandalkan dalam membuat prediksi nilai numerik atau kontinu pada data baru."
   ]
  },
  {
   "cell_type": "code",
   "execution_count": 39,
   "metadata": {
    "id": "stk5E-zWoZ_z"
   },
   "outputs": [],
   "source": [
    "rf_r = RandomForestRegressor(max_depth = 10,random_state=33)"
   ]
  },
  {
   "cell_type": "markdown",
   "metadata": {
    "id": "hiRRM264oZ_0"
   },
   "source": [
    "`n_estimators` tidak didefenisikan  untuk membuat hasil paling maksimal dari pohon keputusan,yang merupakan penentu jumlah pohon keputusan dalam model\n",
    "\n",
    "`max_depth (10)` untuk membatasi kedalaman maksimum setiap pohon keputusan, semakin dalam semakin komplek dan lama dalam pelatihan model. Setelah dilakukan percobaan, nilai diatas sepuluh menyebabkan prediksi menghasilkan data yang bersifat overfitting.\n",
    "\n",
    "`random_state(33)` untuk memastikan pohon keputusan yang dihasilkan pada setiap pelatihan model akan selalu sama dan memudahkan dalam melakukan evaluasi dan debugging model"
   ]
  },
  {
   "cell_type": "markdown",
   "metadata": {
    "id": "LdhPBZrfoZ_1"
   },
   "source": [
    "# Pelatihan Model"
   ]
  },
  {
   "cell_type": "markdown",
   "metadata": {
    "id": "B3xPaoA4oZ_1"
   },
   "source": [
    "## Linear Regression"
   ]
  },
  {
   "cell_type": "code",
   "execution_count": 40,
   "metadata": {
    "id": "QMETUi6LoZ_2"
   },
   "outputs": [],
   "source": [
    "model = lr.fit(X_train, y_train)\n",
    "y_pred_lr_train=model.predict(X_train)\n",
    "y_pred_lr_test=model.predict(X_test)"
   ]
  },
  {
   "cell_type": "markdown",
   "metadata": {
    "id": "kFcGmXI_oZ_2"
   },
   "source": [
    "Melatih model Linear Regression dengan variabel independen X_train, dan variabel independen y_train\n",
    "Kemudian melakukan prediksi terhadap variabel independen X_test"
   ]
  },
  {
   "cell_type": "code",
   "execution_count": 41,
   "metadata": {
    "colab": {
     "base_uri": "https://localhost:8080/",
     "height": 363
    },
    "id": "A_0UumwhJNz0",
    "outputId": "2292c4ef-bea5-4fc7-b013-09dfc3f58d54"
   },
   "outputs": [
    {
     "data": {
      "text/html": [
       "<div>\n",
       "<style scoped>\n",
       "    .dataframe tbody tr th:only-of-type {\n",
       "        vertical-align: middle;\n",
       "    }\n",
       "\n",
       "    .dataframe tbody tr th {\n",
       "        vertical-align: top;\n",
       "    }\n",
       "\n",
       "    .dataframe thead th {\n",
       "        text-align: right;\n",
       "    }\n",
       "</style>\n",
       "<table border=\"1\" class=\"dataframe\">\n",
       "  <thead>\n",
       "    <tr style=\"text-align: right;\">\n",
       "      <th></th>\n",
       "      <th>price</th>\n",
       "      <th>predict train</th>\n",
       "      <th>difference</th>\n",
       "    </tr>\n",
       "  </thead>\n",
       "  <tbody>\n",
       "    <tr>\n",
       "      <th>195683</th>\n",
       "      <td>11.0</td>\n",
       "      <td>15.686446</td>\n",
       "      <td>-4.686446</td>\n",
       "    </tr>\n",
       "    <tr>\n",
       "      <th>11612</th>\n",
       "      <td>27.5</td>\n",
       "      <td>27.538616</td>\n",
       "      <td>-0.038616</td>\n",
       "    </tr>\n",
       "    <tr>\n",
       "      <th>405687</th>\n",
       "      <td>19.5</td>\n",
       "      <td>22.134016</td>\n",
       "      <td>-2.634016</td>\n",
       "    </tr>\n",
       "    <tr>\n",
       "      <th>27359</th>\n",
       "      <td>17.0</td>\n",
       "      <td>21.475077</td>\n",
       "      <td>-4.475077</td>\n",
       "    </tr>\n",
       "    <tr>\n",
       "      <th>467781</th>\n",
       "      <td>9.0</td>\n",
       "      <td>10.641264</td>\n",
       "      <td>-1.641264</td>\n",
       "    </tr>\n",
       "    <tr>\n",
       "      <th>576712</th>\n",
       "      <td>7.0</td>\n",
       "      <td>1.834239</td>\n",
       "      <td>5.165761</td>\n",
       "    </tr>\n",
       "    <tr>\n",
       "      <th>424618</th>\n",
       "      <td>8.0</td>\n",
       "      <td>7.460493</td>\n",
       "      <td>0.539507</td>\n",
       "    </tr>\n",
       "    <tr>\n",
       "      <th>91185</th>\n",
       "      <td>15.0</td>\n",
       "      <td>13.247802</td>\n",
       "      <td>1.752198</td>\n",
       "    </tr>\n",
       "    <tr>\n",
       "      <th>472760</th>\n",
       "      <td>10.5</td>\n",
       "      <td>9.291118</td>\n",
       "      <td>1.208882</td>\n",
       "    </tr>\n",
       "    <tr>\n",
       "      <th>543109</th>\n",
       "      <td>32.5</td>\n",
       "      <td>26.562479</td>\n",
       "      <td>5.937521</td>\n",
       "    </tr>\n",
       "  </tbody>\n",
       "</table>\n",
       "</div>"
      ],
      "text/plain": [
       "        price  predict train  difference\n",
       "195683   11.0      15.686446   -4.686446\n",
       "11612    27.5      27.538616   -0.038616\n",
       "405687   19.5      22.134016   -2.634016\n",
       "27359    17.0      21.475077   -4.475077\n",
       "467781    9.0      10.641264   -1.641264\n",
       "576712    7.0       1.834239    5.165761\n",
       "424618    8.0       7.460493    0.539507\n",
       "91185    15.0      13.247802    1.752198\n",
       "472760   10.5       9.291118    1.208882\n",
       "543109   32.5      26.562479    5.937521"
      ]
     },
     "execution_count": 41,
     "metadata": {},
     "output_type": "execute_result"
    }
   ],
   "source": [
    "train=pd.DataFrame(y_train[:10])\n",
    "train['predict train']=y_pred_lr_train[:10]\n",
    "train['difference']=train['price']-train['predict train']\n",
    "train"
   ]
  },
  {
   "cell_type": "markdown",
   "metadata": {
    "id": "PgkNbiNqJSvf"
   },
   "source": [
    "Menggunakan Data Frame untuk melihat 10 hasil output prediksi dari data X_train yang digunakan untuk membuat model prediksi tersebut. Ditunjukkan bahwa hasil memiliki perbedaan nilai yang cukup signifikan pada beberapa prediksi, dengan beberapa nilai cukup mendekati nilai real price dari data y_train"
   ]
  },
  {
   "cell_type": "code",
   "execution_count": 42,
   "metadata": {
    "colab": {
     "base_uri": "https://localhost:8080/",
     "height": 363
    },
    "id": "GiExlB7noZ_3",
    "outputId": "ee7188f3-cea9-4f32-be24-400596b96ca3"
   },
   "outputs": [
    {
     "data": {
      "text/html": [
       "<div>\n",
       "<style scoped>\n",
       "    .dataframe tbody tr th:only-of-type {\n",
       "        vertical-align: middle;\n",
       "    }\n",
       "\n",
       "    .dataframe tbody tr th {\n",
       "        vertical-align: top;\n",
       "    }\n",
       "\n",
       "    .dataframe thead th {\n",
       "        text-align: right;\n",
       "    }\n",
       "</style>\n",
       "<table border=\"1\" class=\"dataframe\">\n",
       "  <thead>\n",
       "    <tr style=\"text-align: right;\">\n",
       "      <th></th>\n",
       "      <th>price</th>\n",
       "      <th>predict test</th>\n",
       "      <th>difference</th>\n",
       "    </tr>\n",
       "  </thead>\n",
       "  <tbody>\n",
       "    <tr>\n",
       "      <th>677566</th>\n",
       "      <td>19.5</td>\n",
       "      <td>22.200838</td>\n",
       "      <td>-2.700838</td>\n",
       "    </tr>\n",
       "    <tr>\n",
       "      <th>308691</th>\n",
       "      <td>10.5</td>\n",
       "      <td>8.743591</td>\n",
       "      <td>1.756409</td>\n",
       "    </tr>\n",
       "    <tr>\n",
       "      <th>396241</th>\n",
       "      <td>5.0</td>\n",
       "      <td>6.492542</td>\n",
       "      <td>-1.492542</td>\n",
       "    </tr>\n",
       "    <tr>\n",
       "      <th>136589</th>\n",
       "      <td>16.5</td>\n",
       "      <td>19.497155</td>\n",
       "      <td>-2.997155</td>\n",
       "    </tr>\n",
       "    <tr>\n",
       "      <th>198998</th>\n",
       "      <td>38.5</td>\n",
       "      <td>28.117429</td>\n",
       "      <td>10.382571</td>\n",
       "    </tr>\n",
       "    <tr>\n",
       "      <th>179736</th>\n",
       "      <td>16.5</td>\n",
       "      <td>18.686790</td>\n",
       "      <td>-2.186790</td>\n",
       "    </tr>\n",
       "    <tr>\n",
       "      <th>311934</th>\n",
       "      <td>30.5</td>\n",
       "      <td>26.247775</td>\n",
       "      <td>4.252225</td>\n",
       "    </tr>\n",
       "    <tr>\n",
       "      <th>510750</th>\n",
       "      <td>19.5</td>\n",
       "      <td>21.897129</td>\n",
       "      <td>-2.397129</td>\n",
       "    </tr>\n",
       "    <tr>\n",
       "      <th>6135</th>\n",
       "      <td>13.5</td>\n",
       "      <td>15.104214</td>\n",
       "      <td>-1.604214</td>\n",
       "    </tr>\n",
       "    <tr>\n",
       "      <th>313476</th>\n",
       "      <td>10.5</td>\n",
       "      <td>16.436945</td>\n",
       "      <td>-5.936945</td>\n",
       "    </tr>\n",
       "  </tbody>\n",
       "</table>\n",
       "</div>"
      ],
      "text/plain": [
       "        price  predict test  difference\n",
       "677566   19.5     22.200838   -2.700838\n",
       "308691   10.5      8.743591    1.756409\n",
       "396241    5.0      6.492542   -1.492542\n",
       "136589   16.5     19.497155   -2.997155\n",
       "198998   38.5     28.117429   10.382571\n",
       "179736   16.5     18.686790   -2.186790\n",
       "311934   30.5     26.247775    4.252225\n",
       "510750   19.5     21.897129   -2.397129\n",
       "6135     13.5     15.104214   -1.604214\n",
       "313476   10.5     16.436945   -5.936945"
      ]
     },
     "execution_count": 42,
     "metadata": {},
     "output_type": "execute_result"
    }
   ],
   "source": [
    "test=pd.DataFrame(y_test[:10])\n",
    "test['predict test']=y_pred_lr_test[:10]\n",
    "test['difference']=test['price']-test['predict test']\n",
    "test"
   ]
  },
  {
   "cell_type": "markdown",
   "metadata": {
    "id": "rMGcwOQ1oZ_4"
   },
   "source": [
    "Menggunakan Data Frame untuk melihat 10 pertama hasil output prediksi dari data X_test kemudian dibandingkan dengan nilai price real dari y_test, yang menunjukkan hasil prediksi sedikit berbeda dengan nilai price asli. Namun beberapa cukup mendekati nilai price aslinya."
   ]
  },
  {
   "cell_type": "code",
   "execution_count": 43,
   "metadata": {
    "colab": {
     "base_uri": "https://localhost:8080/",
     "height": 468
    },
    "id": "_KUJ_38BoZ_5",
    "outputId": "b0333428-985d-48ef-af2b-a6f0e6279668"
   },
   "outputs": [
    {
     "data": {
      "image/png": "[encoded data removed]",
      "text/plain": [
       "<Figure size 720x360 with 2 Axes>"
      ]
     },
     "metadata": {
      "needs_background": "light"
     },
     "output_type": "display_data"
    }
   ],
   "source": [
    "#membuat dua subplot dalam satu figure\n",
    "fig, (ax1,ax2)=plt.subplots(1,2, figsize=(10,5))\n",
    "\n",
    "#plot pertama\n",
    "ax1.scatter(x=range(1,51),y=y_train[:50],marker='*',c='r',s=70,label=['y_test'])\n",
    "ax1.scatter(x=range(1,51),y=y_pred_lr_train[:50],marker='o',c='g',s=50,label=['y_pred'])\n",
    "ax1.set_title('Linear Regression Train Data')\n",
    "ax1.set_ylim([0,41])\n",
    "\n",
    "#plot kedua\n",
    "ax2.scatter(x=range(1,51),y=y_test[:50],marker='*',c='r',s=70,label=['y_test'])\n",
    "ax2.scatter(x=range(1,51),y=y_pred_lr_test[:50],marker='o',c='g',s=50,label=['y_pred'])\n",
    "ax2.set_title('Linear Regression Test Data')\n",
    "\n",
    "#menampilkan plot\n",
    "plt.show()"
   ]
  },
  {
   "cell_type": "markdown",
   "metadata": {
    "id": "fTqc31L3oZ_5"
   },
   "source": [
    "Menggunakan Scatter Plot untuk melihat 50 pertama hasil output prediksi dari data X_train dan X_test. \n",
    "Kemudian dibandingkan dengan nilai price real dari y_train dan y_test. \n",
    "\n",
    "Menunjukkan hasil prediksi pada data train data didominasi oleh data yang mendekati nilai real dan sangat sedikit data yang berbeda namun tidak terlalu jauh.\n",
    "\n",
    "Pada data test, didominasi juga oleh data yang mendekati nilai real, tetapi terdapat beberapa yang perbedaannya cukup signifikan"
   ]
  },
  {
   "cell_type": "markdown",
   "metadata": {
    "id": "GVgQ1PaooZ_6"
   },
   "source": [
    "## XG Boost"
   ]
  },
  {
   "cell_type": "code",
   "execution_count": 44,
   "metadata": {
    "colab": {
     "base_uri": "https://localhost:8080/"
    },
    "id": "HKF0dQd1oZ_7",
    "outputId": "58bd8cc7-2bf9-4695-e80e-d2437d39f8ec"
   },
   "outputs": [
    {
     "name": "stdout",
     "output_type": "stream",
     "text": [
      "[10:55:31] WARNING: C:\\buildkite-agent\\builds\\buildkite-windows-cpu-autoscaling-group-i-07593ffd91cd9da33-1\\xgboost\\xgboost-ci-windows\\src\\objective\\regression_obj.cu:213: reg:linear is now deprecated in favor of reg:squarederror.\n"
     ]
    }
   ],
   "source": [
    "model = xgb_r.fit(X_train, y_train)\n",
    "y_pred_xgb_train = model.predict(X_train)\n",
    "y_pred_xgb_test = model.predict(X_test)"
   ]
  },
  {
   "cell_type": "markdown",
   "metadata": {
    "id": "gq6eLL_4oZ_7"
   },
   "source": [
    "Melatih model XG Boost Regressor dengan variabel independen X_train, dan variabel independen y_train\n",
    "Kemudian melakukan prediksi terhadap variabel independen X_test"
   ]
  },
  {
   "cell_type": "code",
   "execution_count": 45,
   "metadata": {
    "colab": {
     "base_uri": "https://localhost:8080/",
     "height": 363
    },
    "id": "eFAfuCp1oZ_8",
    "outputId": "f93cdff6-2cc4-4a32-963a-176a9b38a41c"
   },
   "outputs": [
    {
     "data": {
      "text/html": [
       "<div>\n",
       "<style scoped>\n",
       "    .dataframe tbody tr th:only-of-type {\n",
       "        vertical-align: middle;\n",
       "    }\n",
       "\n",
       "    .dataframe tbody tr th {\n",
       "        vertical-align: top;\n",
       "    }\n",
       "\n",
       "    .dataframe thead th {\n",
       "        text-align: right;\n",
       "    }\n",
       "</style>\n",
       "<table border=\"1\" class=\"dataframe\">\n",
       "  <thead>\n",
       "    <tr style=\"text-align: right;\">\n",
       "      <th></th>\n",
       "      <th>price</th>\n",
       "      <th>predict train</th>\n",
       "      <th>difference</th>\n",
       "    </tr>\n",
       "  </thead>\n",
       "  <tbody>\n",
       "    <tr>\n",
       "      <th>195683</th>\n",
       "      <td>11.0</td>\n",
       "      <td>10.962972</td>\n",
       "      <td>0.037028</td>\n",
       "    </tr>\n",
       "    <tr>\n",
       "      <th>11612</th>\n",
       "      <td>27.5</td>\n",
       "      <td>26.961906</td>\n",
       "      <td>0.538094</td>\n",
       "    </tr>\n",
       "    <tr>\n",
       "      <th>405687</th>\n",
       "      <td>19.5</td>\n",
       "      <td>20.027206</td>\n",
       "      <td>-0.527206</td>\n",
       "    </tr>\n",
       "    <tr>\n",
       "      <th>27359</th>\n",
       "      <td>17.0</td>\n",
       "      <td>13.293572</td>\n",
       "      <td>3.706428</td>\n",
       "    </tr>\n",
       "    <tr>\n",
       "      <th>467781</th>\n",
       "      <td>9.0</td>\n",
       "      <td>7.362426</td>\n",
       "      <td>1.637574</td>\n",
       "    </tr>\n",
       "    <tr>\n",
       "      <th>576712</th>\n",
       "      <td>7.0</td>\n",
       "      <td>6.395574</td>\n",
       "      <td>0.604426</td>\n",
       "    </tr>\n",
       "    <tr>\n",
       "      <th>424618</th>\n",
       "      <td>8.0</td>\n",
       "      <td>9.295434</td>\n",
       "      <td>-1.295434</td>\n",
       "    </tr>\n",
       "    <tr>\n",
       "      <th>91185</th>\n",
       "      <td>15.0</td>\n",
       "      <td>16.167936</td>\n",
       "      <td>-1.167936</td>\n",
       "    </tr>\n",
       "    <tr>\n",
       "      <th>472760</th>\n",
       "      <td>10.5</td>\n",
       "      <td>8.949859</td>\n",
       "      <td>1.550141</td>\n",
       "    </tr>\n",
       "    <tr>\n",
       "      <th>543109</th>\n",
       "      <td>32.5</td>\n",
       "      <td>26.111799</td>\n",
       "      <td>6.388201</td>\n",
       "    </tr>\n",
       "  </tbody>\n",
       "</table>\n",
       "</div>"
      ],
      "text/plain": [
       "        price  predict train  difference\n",
       "195683   11.0      10.962972    0.037028\n",
       "11612    27.5      26.961906    0.538094\n",
       "405687   19.5      20.027206   -0.527206\n",
       "27359    17.0      13.293572    3.706428\n",
       "467781    9.0       7.362426    1.637574\n",
       "576712    7.0       6.395574    0.604426\n",
       "424618    8.0       9.295434   -1.295434\n",
       "91185    15.0      16.167936   -1.167936\n",
       "472760   10.5       8.949859    1.550141\n",
       "543109   32.5      26.111799    6.388201"
      ]
     },
     "execution_count": 45,
     "metadata": {},
     "output_type": "execute_result"
    }
   ],
   "source": [
    "train=pd.DataFrame(y_train[:10])\n",
    "train['predict train']=y_pred_xgb_train[:10]\n",
    "train['difference']=train['price']-train['predict train']\n",
    "train"
   ]
  },
  {
   "cell_type": "markdown",
   "metadata": {
    "id": "OXN-WuCaoZ_9"
   },
   "source": [
    "Menggunakan Data Frame untuk melihat 10 hasil output prediksi dari data X_train yang merupakan data untuk membuat prediksi tersebut. Kemudian dibandingkan dengan nilai price real dari y_train, yang menunjukkan hasil prediksi yang cukup dekat dengan nilai aslinya, Namun terdapat beberapa nilai prediksi yang memiiki selisih cukup besar."
   ]
  },
  {
   "cell_type": "code",
   "execution_count": 46,
   "metadata": {
    "colab": {
     "base_uri": "https://localhost:8080/",
     "height": 363
    },
    "id": "Z7Mc-t2MQY1Y",
    "outputId": "eba8e11d-17b6-4885-924c-ec9b2c1ece8e"
   },
   "outputs": [
    {
     "data": {
      "text/html": [
       "<div>\n",
       "<style scoped>\n",
       "    .dataframe tbody tr th:only-of-type {\n",
       "        vertical-align: middle;\n",
       "    }\n",
       "\n",
       "    .dataframe tbody tr th {\n",
       "        vertical-align: top;\n",
       "    }\n",
       "\n",
       "    .dataframe thead th {\n",
       "        text-align: right;\n",
       "    }\n",
       "</style>\n",
       "<table border=\"1\" class=\"dataframe\">\n",
       "  <thead>\n",
       "    <tr style=\"text-align: right;\">\n",
       "      <th></th>\n",
       "      <th>price</th>\n",
       "      <th>predict test</th>\n",
       "      <th>difference</th>\n",
       "    </tr>\n",
       "  </thead>\n",
       "  <tbody>\n",
       "    <tr>\n",
       "      <th>677566</th>\n",
       "      <td>19.5</td>\n",
       "      <td>20.882133</td>\n",
       "      <td>-1.382133</td>\n",
       "    </tr>\n",
       "    <tr>\n",
       "      <th>308691</th>\n",
       "      <td>10.5</td>\n",
       "      <td>11.052687</td>\n",
       "      <td>-0.552687</td>\n",
       "    </tr>\n",
       "    <tr>\n",
       "      <th>396241</th>\n",
       "      <td>5.0</td>\n",
       "      <td>6.844829</td>\n",
       "      <td>-1.844829</td>\n",
       "    </tr>\n",
       "    <tr>\n",
       "      <th>136589</th>\n",
       "      <td>16.5</td>\n",
       "      <td>16.645100</td>\n",
       "      <td>-0.145100</td>\n",
       "    </tr>\n",
       "    <tr>\n",
       "      <th>198998</th>\n",
       "      <td>38.5</td>\n",
       "      <td>32.341320</td>\n",
       "      <td>6.158680</td>\n",
       "    </tr>\n",
       "    <tr>\n",
       "      <th>179736</th>\n",
       "      <td>16.5</td>\n",
       "      <td>16.039398</td>\n",
       "      <td>0.460602</td>\n",
       "    </tr>\n",
       "    <tr>\n",
       "      <th>311934</th>\n",
       "      <td>30.5</td>\n",
       "      <td>26.941254</td>\n",
       "      <td>3.558746</td>\n",
       "    </tr>\n",
       "    <tr>\n",
       "      <th>510750</th>\n",
       "      <td>19.5</td>\n",
       "      <td>20.027206</td>\n",
       "      <td>-0.527206</td>\n",
       "    </tr>\n",
       "    <tr>\n",
       "      <th>6135</th>\n",
       "      <td>13.5</td>\n",
       "      <td>11.297630</td>\n",
       "      <td>2.202370</td>\n",
       "    </tr>\n",
       "    <tr>\n",
       "      <th>313476</th>\n",
       "      <td>10.5</td>\n",
       "      <td>12.156940</td>\n",
       "      <td>-1.656940</td>\n",
       "    </tr>\n",
       "  </tbody>\n",
       "</table>\n",
       "</div>"
      ],
      "text/plain": [
       "        price  predict test  difference\n",
       "677566   19.5     20.882133   -1.382133\n",
       "308691   10.5     11.052687   -0.552687\n",
       "396241    5.0      6.844829   -1.844829\n",
       "136589   16.5     16.645100   -0.145100\n",
       "198998   38.5     32.341320    6.158680\n",
       "179736   16.5     16.039398    0.460602\n",
       "311934   30.5     26.941254    3.558746\n",
       "510750   19.5     20.027206   -0.527206\n",
       "6135     13.5     11.297630    2.202370\n",
       "313476   10.5     12.156940   -1.656940"
      ]
     },
     "execution_count": 46,
     "metadata": {},
     "output_type": "execute_result"
    }
   ],
   "source": [
    "test=pd.DataFrame(y_test[:10])\n",
    "test['predict test']=y_pred_xgb_test[:10]\n",
    "test['difference']=test['price']-test['predict test']\n",
    "test"
   ]
  },
  {
   "cell_type": "markdown",
   "metadata": {
    "id": "ftObFwL_RPVo"
   },
   "source": [
    "Menggunakan Data Frame untuk melihat 10 pertama hasil output prediksi dari data X_test kemudian dibandingkan dengan nilai price real dari y_test, yang menunjukkan hasil prediksi yang cukup dekat dengan nilai aslinya. Hanya beberapa nilai prediksi yang berbeda cukup besar"
   ]
  },
  {
   "cell_type": "code",
   "execution_count": 47,
   "metadata": {
    "colab": {
     "base_uri": "https://localhost:8080/",
     "height": 468
    },
    "id": "qxhLYV5WoZ_-",
    "outputId": "94525ad9-e729-48d7-80fa-431e93e7f26b"
   },
   "outputs": [
    {
     "data": {
      "image/png": "[encoded data removed]",
      "text/plain": [
       "<Figure size 720x360 with 2 Axes>"
      ]
     },
     "metadata": {
      "needs_background": "light"
     },
     "output_type": "display_data"
    }
   ],
   "source": [
    "#membuat dua subplot dalam satu figure\n",
    "fig, (ax1,ax2)=plt.subplots(1,2, figsize=(10,5))\n",
    "\n",
    "#plot pertama\n",
    "ax1.scatter(x=range(1,51),y=y_train[:50],marker='*',c='r',s=70,label=['y_test'])\n",
    "ax1.scatter(x=range(1,51),y=y_pred_xgb_train[:50],marker='o',c='g',s=50,label=['y_pred'])\n",
    "ax1.set_title('XG Boost Regressor Train Data')\n",
    "ax1.set_ylim([0,41])\n",
    "\n",
    "#plot kedua\n",
    "ax2.scatter(x=range(1,51),y=y_test[:50],marker='*',c='r',s=70,label=['y_test'])\n",
    "ax2.scatter(x=range(1,51),y=y_pred_xgb_test[:50],marker='o',c='g',s=50,label=['y_pred'])\n",
    "ax2.set_title('XG Boost Regressor Test Data')\n",
    "ax2.set_ylim([0,41])\n",
    "#menampilkan plot\n",
    "plt.show()"
   ]
  },
  {
   "cell_type": "markdown",
   "metadata": {
    "id": "JcDjA6pyoZ_-"
   },
   "source": [
    "Menggunakan Scatter Plot untuk melihat 50 pertama hasil output prediksi dari data X_train dan X_test. \n",
    "Kemudian dibandingkan dengan nilai price real dari y_train dan y_test. \n",
    "\n",
    "Menunjukkan hasil prediksi pada data train didominasi oleh data yang sangat mendekati nilai real dan perbedaan data tidak jauh.\n",
    "\n",
    "Pada data test, didominasi juga oleh data yang sangat mendekati nilai real, dengan beberapa data yang perbedaan tidak jauh dari nilai asli."
   ]
  },
  {
   "cell_type": "markdown",
   "metadata": {
    "id": "IY25CKp3oZ__"
   },
   "source": [
    "## Random Forest Regressor"
   ]
  },
  {
   "cell_type": "code",
   "execution_count": 48,
   "metadata": {
    "id": "v9HJV8H8oaAA"
   },
   "outputs": [],
   "source": [
    "model = rf_r.fit(X_train, y_train)\n",
    "y_pred_rf_train = model.predict(X_train)\n",
    "y_pred_rf_test = model.predict(X_test)"
   ]
  },
  {
   "cell_type": "markdown",
   "metadata": {
    "id": "1KX-mu1zoaAB"
   },
   "source": [
    "Melatih model XG Boost Regressor dengan variabel independen X_train, dan variabel independen y_train\n",
    "Kemudian melakukan prediksi terhadap variabel independen X_test"
   ]
  },
  {
   "cell_type": "code",
   "execution_count": 49,
   "metadata": {
    "colab": {
     "base_uri": "https://localhost:8080/",
     "height": 363
    },
    "id": "fOGm7qkioaAC",
    "outputId": "44ac6fbb-5d73-49f0-af6b-0202bd5e1585"
   },
   "outputs": [
    {
     "data": {
      "text/html": [
       "<div>\n",
       "<style scoped>\n",
       "    .dataframe tbody tr th:only-of-type {\n",
       "        vertical-align: middle;\n",
       "    }\n",
       "\n",
       "    .dataframe tbody tr th {\n",
       "        vertical-align: top;\n",
       "    }\n",
       "\n",
       "    .dataframe thead th {\n",
       "        text-align: right;\n",
       "    }\n",
       "</style>\n",
       "<table border=\"1\" class=\"dataframe\">\n",
       "  <thead>\n",
       "    <tr style=\"text-align: right;\">\n",
       "      <th></th>\n",
       "      <th>price</th>\n",
       "      <th>predict train</th>\n",
       "      <th>difference</th>\n",
       "    </tr>\n",
       "  </thead>\n",
       "  <tbody>\n",
       "    <tr>\n",
       "      <th>195683</th>\n",
       "      <td>11.0</td>\n",
       "      <td>11.246551</td>\n",
       "      <td>-0.246551</td>\n",
       "    </tr>\n",
       "    <tr>\n",
       "      <th>11612</th>\n",
       "      <td>27.5</td>\n",
       "      <td>27.940954</td>\n",
       "      <td>-0.440954</td>\n",
       "    </tr>\n",
       "    <tr>\n",
       "      <th>405687</th>\n",
       "      <td>19.5</td>\n",
       "      <td>20.468894</td>\n",
       "      <td>-0.968894</td>\n",
       "    </tr>\n",
       "    <tr>\n",
       "      <th>27359</th>\n",
       "      <td>17.0</td>\n",
       "      <td>13.331710</td>\n",
       "      <td>3.668290</td>\n",
       "    </tr>\n",
       "    <tr>\n",
       "      <th>467781</th>\n",
       "      <td>9.0</td>\n",
       "      <td>7.786878</td>\n",
       "      <td>1.213122</td>\n",
       "    </tr>\n",
       "    <tr>\n",
       "      <th>576712</th>\n",
       "      <td>7.0</td>\n",
       "      <td>6.429212</td>\n",
       "      <td>0.570788</td>\n",
       "    </tr>\n",
       "    <tr>\n",
       "      <th>424618</th>\n",
       "      <td>8.0</td>\n",
       "      <td>9.609204</td>\n",
       "      <td>-1.609204</td>\n",
       "    </tr>\n",
       "    <tr>\n",
       "      <th>91185</th>\n",
       "      <td>15.0</td>\n",
       "      <td>17.357140</td>\n",
       "      <td>-2.357140</td>\n",
       "    </tr>\n",
       "    <tr>\n",
       "      <th>472760</th>\n",
       "      <td>10.5</td>\n",
       "      <td>9.195037</td>\n",
       "      <td>1.304963</td>\n",
       "    </tr>\n",
       "    <tr>\n",
       "      <th>543109</th>\n",
       "      <td>32.5</td>\n",
       "      <td>26.532526</td>\n",
       "      <td>5.967474</td>\n",
       "    </tr>\n",
       "  </tbody>\n",
       "</table>\n",
       "</div>"
      ],
      "text/plain": [
       "        price  predict train  difference\n",
       "195683   11.0      11.246551   -0.246551\n",
       "11612    27.5      27.940954   -0.440954\n",
       "405687   19.5      20.468894   -0.968894\n",
       "27359    17.0      13.331710    3.668290\n",
       "467781    9.0       7.786878    1.213122\n",
       "576712    7.0       6.429212    0.570788\n",
       "424618    8.0       9.609204   -1.609204\n",
       "91185    15.0      17.357140   -2.357140\n",
       "472760   10.5       9.195037    1.304963\n",
       "543109   32.5      26.532526    5.967474"
      ]
     },
     "execution_count": 49,
     "metadata": {},
     "output_type": "execute_result"
    }
   ],
   "source": [
    "train=pd.DataFrame(y_train[:10])\n",
    "train['predict train']=y_pred_rf_train[:10]\n",
    "train['difference']=train['price']-train['predict train']\n",
    "train"
   ]
  },
  {
   "cell_type": "markdown",
   "metadata": {
    "id": "XqK6cf0boaAD"
   },
   "source": [
    "Menggunakan Data Frame untuk melihat 10 pertama hasil output prediksi dari data X_train yang digunakan untuk membuat prediksi, kemudian dibandingkan dengan nilai price real dari y_train, yang menunjukkan hasil nilai prediksi yang sangat dekat dengan nilai aslinya, Tetapi terdapat nilai yang memiliki selisih yang cukup besar"
   ]
  },
  {
   "cell_type": "code",
   "execution_count": 50,
   "metadata": {
    "colab": {
     "base_uri": "https://localhost:8080/",
     "height": 363
    },
    "id": "OTdq2mrlZi3q",
    "outputId": "25b6cfbe-5fe2-49fd-a9d7-8dce1e99e028"
   },
   "outputs": [
    {
     "data": {
      "text/html": [
       "<div>\n",
       "<style scoped>\n",
       "    .dataframe tbody tr th:only-of-type {\n",
       "        vertical-align: middle;\n",
       "    }\n",
       "\n",
       "    .dataframe tbody tr th {\n",
       "        vertical-align: top;\n",
       "    }\n",
       "\n",
       "    .dataframe thead th {\n",
       "        text-align: right;\n",
       "    }\n",
       "</style>\n",
       "<table border=\"1\" class=\"dataframe\">\n",
       "  <thead>\n",
       "    <tr style=\"text-align: right;\">\n",
       "      <th></th>\n",
       "      <th>price</th>\n",
       "      <th>predict test</th>\n",
       "      <th>difference</th>\n",
       "    </tr>\n",
       "  </thead>\n",
       "  <tbody>\n",
       "    <tr>\n",
       "      <th>677566</th>\n",
       "      <td>19.5</td>\n",
       "      <td>22.075700</td>\n",
       "      <td>-2.575700</td>\n",
       "    </tr>\n",
       "    <tr>\n",
       "      <th>308691</th>\n",
       "      <td>10.5</td>\n",
       "      <td>11.157726</td>\n",
       "      <td>-0.657726</td>\n",
       "    </tr>\n",
       "    <tr>\n",
       "      <th>396241</th>\n",
       "      <td>5.0</td>\n",
       "      <td>6.901677</td>\n",
       "      <td>-1.901677</td>\n",
       "    </tr>\n",
       "    <tr>\n",
       "      <th>136589</th>\n",
       "      <td>16.5</td>\n",
       "      <td>17.172468</td>\n",
       "      <td>-0.672468</td>\n",
       "    </tr>\n",
       "    <tr>\n",
       "      <th>198998</th>\n",
       "      <td>38.5</td>\n",
       "      <td>33.808458</td>\n",
       "      <td>4.691542</td>\n",
       "    </tr>\n",
       "    <tr>\n",
       "      <th>179736</th>\n",
       "      <td>16.5</td>\n",
       "      <td>16.495523</td>\n",
       "      <td>0.004477</td>\n",
       "    </tr>\n",
       "    <tr>\n",
       "      <th>311934</th>\n",
       "      <td>30.5</td>\n",
       "      <td>28.294961</td>\n",
       "      <td>2.205039</td>\n",
       "    </tr>\n",
       "    <tr>\n",
       "      <th>510750</th>\n",
       "      <td>19.5</td>\n",
       "      <td>20.456903</td>\n",
       "      <td>-0.956903</td>\n",
       "    </tr>\n",
       "    <tr>\n",
       "      <th>6135</th>\n",
       "      <td>13.5</td>\n",
       "      <td>11.808418</td>\n",
       "      <td>1.691582</td>\n",
       "    </tr>\n",
       "    <tr>\n",
       "      <th>313476</th>\n",
       "      <td>10.5</td>\n",
       "      <td>12.585738</td>\n",
       "      <td>-2.085738</td>\n",
       "    </tr>\n",
       "  </tbody>\n",
       "</table>\n",
       "</div>"
      ],
      "text/plain": [
       "        price  predict test  difference\n",
       "677566   19.5     22.075700   -2.575700\n",
       "308691   10.5     11.157726   -0.657726\n",
       "396241    5.0      6.901677   -1.901677\n",
       "136589   16.5     17.172468   -0.672468\n",
       "198998   38.5     33.808458    4.691542\n",
       "179736   16.5     16.495523    0.004477\n",
       "311934   30.5     28.294961    2.205039\n",
       "510750   19.5     20.456903   -0.956903\n",
       "6135     13.5     11.808418    1.691582\n",
       "313476   10.5     12.585738   -2.085738"
      ]
     },
     "execution_count": 50,
     "metadata": {},
     "output_type": "execute_result"
    }
   ],
   "source": [
    "test=pd.DataFrame(y_test[:10])\n",
    "test['predict test']=y_pred_rf_test[:10]\n",
    "test['difference']=test['price']-test['predict test']\n",
    "test"
   ]
  },
  {
   "cell_type": "markdown",
   "metadata": {
    "id": "irrf_OBna4Gx"
   },
   "source": [
    "Menggunakan Data Frame untuk melihat 10 pertama hasil output prediksi dari data X_test kemudian dibandingkan dengan nilai price real dari y_test, yang menunjukkan hasil nilai prediksi yang sangat mendekati dengan nilai aslinya, terdapat beberapa nilai yang memiliki perbedaan namun tidak terlalu besar."
   ]
  },
  {
   "cell_type": "code",
   "execution_count": 51,
   "metadata": {
    "colab": {
     "base_uri": "https://localhost:8080/",
     "height": 468
    },
    "id": "Prn8a4ajoaAE",
    "outputId": "3cdd819b-ded8-443b-ea2a-178a557bf622"
   },
   "outputs": [
    {
     "data": {
      "image/png": "[encoded data removed]",
      "text/plain": [
       "<Figure size 720x360 with 2 Axes>"
      ]
     },
     "metadata": {
      "needs_background": "light"
     },
     "output_type": "display_data"
    }
   ],
   "source": [
    "#membuat dua subplot dalam satu figure\n",
    "fig, (ax1,ax2)=plt.subplots(1,2, figsize=(10,5))\n",
    "\n",
    "#plot pertama\n",
    "ax1.scatter(x=range(1,51),y=y_train[:50],marker='*',c='r',s=70,label=['y_test'])\n",
    "ax1.scatter(x=range(1,51),y=y_pred_rf_train[:50],marker='o',c='g',s=50,label=['y_pred'])\n",
    "ax1.set_title('Random Forest Regressor Train Data')\n",
    "ax1.set_ylim([0,41])\n",
    "\n",
    "#plot kedua\n",
    "ax2.scatter(x=range(1,51),y=y_test[:50],marker='*',c='r',s=70,label=['y_test'])\n",
    "ax2.scatter(x=range(1,51),y=y_pred_rf_test[:50],marker='o',c='g',s=50,label=['y_pred'])\n",
    "ax2.set_title('Random Forest Regressor Test Data')\n",
    "ax2.set_ylim([0,41])\n",
    "#menampilkan plot\n",
    "plt.show()"
   ]
  },
  {
   "cell_type": "markdown",
   "metadata": {
    "id": "fGpdsJ_eoaAF"
   },
   "source": [
    "Menggunakan Scatter Plot untuk melihat 50 pertama hasil output prediksi dari data X_train dan X_test. \n",
    "Kemudian dibandingkan dengan nilai price real dari y_train dan y_test. \n",
    "\n",
    "Menunjukkan hasil prediksi pada data train didominasi oleh data yang sangat mendekati nilai real dan hanya sedikit nilai yang berbeda dengan selisih yang cukup kecil\n",
    "\n",
    "Pada data test, didominasi juga oleh data yang sangat mendekati nilai real, dengan dan hanya sedikit nilai yang berbeda dengan selisih yang cukup kecil."
   ]
  },
  {
   "cell_type": "markdown",
   "metadata": {
    "id": "i-E3aWLqoaAG"
   },
   "source": [
    "# Evaluasi Model"
   ]
  },
  {
   "cell_type": "markdown",
   "metadata": {
    "id": "1tlggkhwoaAH"
   },
   "source": [
    "## Linear Regression"
   ]
  },
  {
   "cell_type": "code",
   "execution_count": 52,
   "metadata": {
    "colab": {
     "base_uri": "https://localhost:8080/"
    },
    "id": "OELKnD7cRbjh",
    "outputId": "11176a3b-6fc6-4489-c9cd-7a0b6c12fa9f"
   },
   "outputs": [
    {
     "name": "stdout",
     "output_type": "stream",
     "text": [
      "test [22.20083792  8.74359104  6.49254155 ... 41.13911606 21.86509537\n",
      " 19.74138705]\n",
      "train [15.68644589 27.53861594 22.13401558 ... 25.23354416 19.29232157\n",
      " -0.20396044]\n"
     ]
    }
   ],
   "source": [
    "print('test',y_pred_lr_test)\n",
    "print('train', y_pred_lr_train)"
   ]
  },
  {
   "cell_type": "code",
   "execution_count": 53,
   "metadata": {
    "colab": {
     "base_uri": "https://localhost:8080/"
    },
    "id": "dRVUSYFloaAJ",
    "outputId": "1a5e538b-cf00-4e26-a17f-55f5bf998bff"
   },
   "outputs": [
    {
     "name": "stdout",
     "output_type": "stream",
     "text": [
      "slope : [2.20168198e+00 1.77760341e+01 0.00000000e+00 2.79960227e+00\n",
      " 3.08661466e-03 2.63218795e-04 8.02041009e-04 2.76799649e-01\n",
      " 0.00000000e+00]\n",
      "intercept : -22.098135785894154\n"
     ]
    }
   ],
   "source": [
    "print('slope :',lr.coef_)\n",
    "print('intercept :',lr.intercept_)"
   ]
  },
  {
   "cell_type": "code",
   "execution_count": 54,
   "metadata": {
    "colab": {
     "base_uri": "https://localhost:8080/"
    },
    "id": "Q9RfjAiRV_Cj",
    "outputId": "c8da4eb3-bb5b-437b-bfaf-546480bad10c"
   },
   "outputs": [
    {
     "name": "stdout",
     "output_type": "stream",
     "text": [
      "Rumus dari Model Linear Regression adalah :\n",
      "y = 2.2016819846699707 X1 + 17.776034105377057 X2 + 0.0 X3 + 2.7996022688551467 X4 + 0.003086614655898477 X5 + 0.0002632187950389614 X6 + 0.000802041008815815 X7 + 0.27679964878283786 X8 + 0.0 X9 -22.098135785894154\n"
     ]
    }
   ],
   "source": [
    "print('Rumus dari Model Linear Regression adalah :\\ny =',lr.coef_[0],'X1 +', lr.coef_[1], 'X2 +', lr.coef_[2], 'X3 +', lr.coef_[3], 'X4 +', lr.coef_[4], 'X5 +', lr.coef_[5], 'X6 +', lr.coef_[6], 'X7 +',lr.coef_[7], 'X8 +', lr.coef_[8], 'X9', lr.intercept_)"
   ]
  },
  {
   "cell_type": "code",
   "execution_count": 55,
   "metadata": {
    "colab": {
     "base_uri": "https://localhost:8080/"
    },
    "id": "cai3tTPGRYfy",
    "outputId": "b9c40c0c-1b62-4fe9-e8d4-cd83a771fa06"
   },
   "outputs": [
    {
     "data": {
      "text/plain": [
       "Index(['name', 'surge_multiplier', 'hour', 'distance', 'visibility',\n",
       "       'temperature', 'windSpeed', 'cab_type_Lyft', 'cab_type_Uber'],\n",
       "      dtype='object')"
      ]
     },
     "execution_count": 55,
     "metadata": {},
     "output_type": "execute_result"
    }
   ],
   "source": [
    "X_train.columns"
   ]
  },
  {
   "cell_type": "code",
   "execution_count": 56,
   "metadata": {
    "colab": {
     "base_uri": "https://localhost:8080/"
    },
    "id": "CMx98eWwRiM0",
    "outputId": "85abd3c7-bd49-45e3-8f37-6707fdc398d0"
   },
   "outputs": [
    {
     "name": "stdout",
     "output_type": "stream",
     "text": [
      "R^2 score data train model Linear Regression adalah : 0.8327440163476412\n",
      "R^2 score data test model Linear Regression adalah : 0.8347584961023765\n",
      "-------------------------------------------------------------------------\n",
      "MSE data train model Linear Regression : 14.253813556569973\n",
      "MSE data test model Linear Regression : 14.590698693016826\n",
      "-------------------------------------------------------------------------\n",
      "RMSE data train model Linear Regression : 3.775422301752477\n",
      "RMSE data test model Linear Regression : 3.819777309348914\n",
      "-------------------------------------------------------------------------\n",
      "MAPE data train model Linear Regression : 0.2329136572344688\n",
      "MAPE data test model Linear Regression : 0.2322749349986715\n"
     ]
    }
   ],
   "source": [
    "print('R^2 score data train model Linear Regression adalah :',r2_score(y_train, y_pred_lr_train))\n",
    "print('R^2 score data test model Linear Regression adalah :',r2_score(y_test, y_pred_lr_test))\n",
    "print('-------------------------------------------------------------------------')\n",
    "mse_train = mean_squared_error(y_test,y_pred_lr_test)\n",
    "mse_test = mean_squared_error(y_train,y_pred_lr_train)\n",
    "rootmeansq_train = np.sqrt(mse_train)\n",
    "rootmeansq_test = np.sqrt(mse_test)\n",
    "mape_train = mean_absolute_percentage_error(y_train, y_pred_lr_train)\n",
    "mape_test = mean_absolute_percentage_error(y_test, y_pred_lr_test)\n",
    "print('MSE data train model Linear Regression :',mse_train)\n",
    "print('MSE data test model Linear Regression :',mse_test)\n",
    "print('-------------------------------------------------------------------------')\n",
    "print('RMSE data train model Linear Regression :', rootmeansq_train)\n",
    "print('RMSE data test model Linear Regression :', rootmeansq_test)\n",
    "print('-------------------------------------------------------------------------')\n",
    "print('MAPE data train model Linear Regression :', mape_train)\n",
    "print('MAPE data test model Linear Regression :', mape_test)"
   ]
  },
  {
   "cell_type": "markdown",
   "metadata": {
    "id": "Y-wo9RsJR6Ok"
   },
   "source": [
    "> R^2 score mewakili koefisien memprediksi seberapa baik nilai cocok dibandingkan dengan nilai aslinya. Nilai dari 0 sampai 1 diartikan sebagai persentase, semakin tinggi nilainya, semakin baik modelnya.\n",
    "Terlihat hasil dari R^2 Score data test model Liner Regression tersebut dengan menggunakan R^2 score didapatkan sebesar 0.83475.\n",
    "Dapat Disimpulkan bahwa model tersebut sudah cukup baik dalam memprediksi data. Juga dapat dilihat dari selisih R^2 score data training dan data testing tidak cukup besar sehingga dapat disimpulkan tidak terjadi overfitting pada model tersebut.\n",
    "\n",
    "\n",
    "> Dengan melihat nilai MSE data test dari model Linear Regression sebesar 14.5906 yang berarti terdapat kesalahan sebesar 14.5906 dalam model tersebut memprediksi nilai, terlihat bahwa nilai MSE dari model tersebut cukup besar yang berarti tingkat error dalam memprediksi juga cukup besar. Dapat dilihat dari selisih nilai MSE data training dan data testing tidak cukup besar sehingga dapat disimpulkan tidak terjadi overfitting.\n",
    "\n",
    "\n",
    "> Nilai RMSE merupakan turunan dari nilai MSE, terlihat dari RMSE data test model Linear Regression didapat RMSE sebesar 3.8197, nilai RMSE tersebut cukup besar yang berarti tingkat error dalam memprediksi juga cukup besar.\n",
    "\n",
    "\n",
    "> Nilai MAPE merupakan persentase kesalahan absolut rata-rata antara nilai prediksi dan nilai aktual. Terlihat dari nilai MAPE data test model Linear Regression sebesar 0.2322 atau rata-rata kesalahan dari model tersebut dalam memprediksi yaitu sebesar 23% yang mana nilai ini cukup besar. Terlihat juga dari selisih nilai MAPE data training dan data testing tidak cukup besar sehingga dapat disimpulkan tidak terjadi overfitting."
   ]
  },
  {
   "cell_type": "markdown",
   "metadata": {
    "id": "NEFz12M4oaAO"
   },
   "source": [
    "## XGBoost"
   ]
  },
  {
   "cell_type": "code",
   "execution_count": 57,
   "metadata": {
    "colab": {
     "base_uri": "https://localhost:8080/"
    },
    "id": "DMatcihNoaAP",
    "outputId": "82419365-1c75-46ab-9aad-f1bf72bc3b1d"
   },
   "outputs": [
    {
     "name": "stdout",
     "output_type": "stream",
     "text": [
      "test [20.882133  11.052687   6.8448286 ... 41.213573  26.36546   16.696533 ]\n",
      "train [10.962972  26.961906  20.027206  ... 22.91534   15.902607   4.0825768]\n"
     ]
    }
   ],
   "source": [
    "print('test',y_pred_xgb_test)\n",
    "print('train', y_pred_xgb_train)"
   ]
  },
  {
   "cell_type": "code",
   "execution_count": 58,
   "metadata": {
    "colab": {
     "base_uri": "https://localhost:8080/"
    },
    "id": "VVEv356AoaAQ",
    "outputId": "6a421407-5516-4551-8891-956ceb763813"
   },
   "outputs": [
    {
     "name": "stdout",
     "output_type": "stream",
     "text": [
      "R^2 score data train model XGBoost adalah : 0.9612929353501829\n",
      "R^2 score data test model XGBoost adalah : 0.9617083510954731\n",
      "-------------------------------------------------------------------------\n",
      "MSE data train model XGBoost : 3.303056504477939\n",
      "MSE data test model XGBoost : 3.376639240425996\n",
      "-------------------------------------------------------------------------\n",
      "RMSE data train model XGBoost : 1.8174312929180951\n",
      "RMSE data test model XGBoost : 1.8375633976616959\n",
      "-------------------------------------------------------------------------\n",
      "MAPE data train model XGBoost : 0.08552809338890517\n",
      "MAPE data test model XGBoost : 0.08524872831604681\n"
     ]
    }
   ],
   "source": [
    "print('R^2 score data train model XGBoost adalah :',r2_score(y_train, y_pred_xgb_train))\n",
    "print('R^2 score data test model XGBoost adalah :',r2_score(y_test, y_pred_xgb_test))\n",
    "print('-------------------------------------------------------------------------')\n",
    "mse_train = mean_squared_error(y_test,y_pred_xgb_test)\n",
    "mse_test = mean_squared_error(y_train,y_pred_xgb_train)\n",
    "rootmeansq_train = np.sqrt(mse_train)\n",
    "rootmeansq_test = np.sqrt(mse_test)\n",
    "mape_train = mean_absolute_percentage_error(y_train, y_pred_xgb_train)\n",
    "mape_test = mean_absolute_percentage_error(y_test, y_pred_xgb_test)\n",
    "print('MSE data train model XGBoost :',mse_train)\n",
    "print('MSE data test model XGBoost :',mse_test)\n",
    "print('-------------------------------------------------------------------------')\n",
    "print('RMSE data train model XGBoost :', rootmeansq_train)\n",
    "print('RMSE data test model XGBoost :', rootmeansq_test)\n",
    "print('-------------------------------------------------------------------------')\n",
    "print('MAPE data train model XGBoost :', mape_train)\n",
    "print('MAPE data test model XGBoost :', mape_test)"
   ]
  },
  {
   "cell_type": "markdown",
   "metadata": {
    "id": "leLOaJrESJYs"
   },
   "source": [
    "> R^2 score mewakili koefisien memprediksi seberapa baik nilai cocok dibandingkan dengan nilai aslinya. Nilai dari 0 sampai 1 diartikan sebagai persentase, semakin tinggi nilainya, semakin baik modelnya.\n",
    "Terlihat hasil dari R^2 score data test model XGBoost tersebut dengan menggunakan R^2 score didapatkan sebesar 0.96170.\n",
    "Dapat Disimpulkan bahwa model tersebut sudah baik dalam memprediksi data. Juga dapat dilihat dari selisih R^2 score data training dan data testing tidak cukup besar sehingga dapat disimpulkan tidak terjadi overfitting pada model tersebut.\n",
    "\n",
    "\n",
    "> Dengan melihat nilai MSE dari data test model XGBoost sebesar 3.3766 yang berarti terdapat kesalahan sebesar 3.3766 dalam model tersebut memprediksi nilai, terlihat bahwa nilai MSE dari model tersebut kecil yang berarti tingkat error atau kesalahan model dalam memprediksi juga kecil, yang artinya model tersebut sudah baik dalam memprediksi serta error dalam memprediksi juga cukup kecil. Dapat dilihat dari selisih nilai MSE data training dan data testing tidak cukup besar sehingga dapat disimpulkan tidak terjadi overfitting.\n",
    "\n",
    "\n",
    "> Nilai RMSE merupakan turunan dari nilai MSE, terlihat dari model XGBoost didapat RMSE sebesar 1.8375, nilai RMSE tersebut sudah kecil yang berarti tingkat error atau kesalahan model dalam memprediksi juga kecil.\n",
    "\n",
    "\n",
    "> Nilai MAPE merupakan persentase kesalahan absolut rata-rata antara nilai prediksi dan nilai aktual. Terlihat dari nilai MAPE model data test XGBoost sebesar 0.08524 atau rata-rata kesalahan dari model tersebut dalam memprediksi yaitu sebesar 8% yang mana nilai tersebut cukup kecil, sehingga model tersebut sudah baik dalam memprediksi. Terlihat juga dari selisih nilai MSE data training dan data testing tidak cukup besar sehingga dapat disimpulkan tidak terjadi overfitting."
   ]
  },
  {
   "cell_type": "markdown",
   "metadata": {
    "id": "g_FuUHV0oaAK"
   },
   "source": [
    "## Random Forest"
   ]
  },
  {
   "cell_type": "code",
   "execution_count": 59,
   "metadata": {
    "colab": {
     "base_uri": "https://localhost:8080/"
    },
    "id": "_ATmS2gGoaAK",
    "outputId": "95925e8a-076b-4b92-9208-5aefadd12dfe"
   },
   "outputs": [
    {
     "name": "stdout",
     "output_type": "stream",
     "text": [
      "test [22.07570004 11.15772608  6.9016768  ... 43.1497095  26.79461991\n",
      " 16.97673636]\n",
      "train [11.24655143 27.94095378 20.46889396 ... 23.80176017 17.19868162\n",
      "  4.06277877]\n"
     ]
    }
   ],
   "source": [
    "print('test',y_pred_rf_test)\n",
    "print('train', y_pred_rf_train)"
   ]
  },
  {
   "cell_type": "code",
   "execution_count": 60,
   "metadata": {
    "colab": {
     "base_uri": "https://localhost:8080/"
    },
    "id": "VXw6ESknoaAL",
    "outputId": "5523acfa-b8fb-4f64-9095-4530c5468271"
   },
   "outputs": [
    {
     "name": "stdout",
     "output_type": "stream",
     "text": [
      "R^2 score data train model Random Forest adalah : 0.9653299538374907\n",
      "R^2 score data test model Random Forest adalah : 0.9645011769545301\n",
      "-------------------------------------------------------------------------\n",
      "MSE data train model Random Forest : 3.0621459695821267\n",
      "MSE data test model Random Forest : 3.0244669648506415\n",
      "-------------------------------------------------------------------------\n",
      "RMSE data train model Random Forest : 1.7498988455285427\n",
      "RMSE data test model Random Forest : 1.739099469510195\n",
      "-------------------------------------------------------------------------\n",
      "MAPE data train model Random Forest : 0.08471416176147609\n",
      "MAPE data test model Random Forest : 0.08521378550218216\n"
     ]
    }
   ],
   "source": [
    "print('R^2 score data train model Random Forest adalah :',r2_score(y_train, y_pred_rf_train))\n",
    "print('R^2 score data test model Random Forest adalah :',r2_score(y_test, y_pred_rf_test))\n",
    "print('-------------------------------------------------------------------------')\n",
    "mse_train = mean_squared_error(y_test,y_pred_rf_test)\n",
    "mse_test = mean_squared_error(y_train,y_pred_rf_train)\n",
    "rootmeansq_train = np.sqrt(mse_train)\n",
    "rootmeansq_test = np.sqrt(mse_test)\n",
    "mape_train = mean_absolute_percentage_error(y_train, y_pred_rf_train)\n",
    "mape_test = mean_absolute_percentage_error(y_test, y_pred_rf_test)\n",
    "print('MSE data train model Random Forest :',mse_train)\n",
    "print('MSE data test model Random Forest :',mse_test)\n",
    "print('-------------------------------------------------------------------------')\n",
    "print('RMSE data train model Random Forest :', rootmeansq_train)\n",
    "print('RMSE data test model Random Forest :', rootmeansq_test)\n",
    "print('-------------------------------------------------------------------------')\n",
    "print('MAPE data train model Random Forest :', mape_train)\n",
    "print('MAPE data test model Random Forest :', mape_test)"
   ]
  },
  {
   "cell_type": "markdown",
   "metadata": {
    "id": "IS-YzmDRSBxS"
   },
   "source": [
    "> R^2 score mewakili koefisien memprediksi seberapa baik nilai cocok dibandingkan dengan nilai aslinya. Nilai dari 0 sampai 1 diartikan sebagai persentase, semakin tinggi nilainya, semakin baik modelnya. \n",
    "Terlihat hasil dari R^2 score data test model Random Forest tersebut dengan menggunakan R^2 score didapatkan sebesar 0.964501.\n",
    "Dapat Disimpulkan bahwa model tersebut sudah baik dalam memprediksi data. Juga dapat dilihat dari selisih R^2 score data training dan data testing tidak cukup besar sehingga dapat disimpulkan tidak terjadi overfitting pada model tersebut.\n",
    "\n",
    "\n",
    "> Dengan melihat nilai MSE dari data test model Random Forest sebesar 3.0244 yang berarti terdapat kesalahan sebesar 3.0244 dalam model tersebut memprediksi nilai, terlihat bahwa nilai MSE dari model tersebut cukup kecil yang berarti tingkat error atau kesalahan model dalam memprediksi juga cukup kecil. Dapat dilihat dari selisih nilai MSE data training dan data testing tidak cukup besar sehingga dapat disimpulkan tidak terjadi overfitting.\n",
    "\n",
    "\n",
    "> Nilai RMSE merupakan turunan dari nilai MSE, terlihat dari data test model Random Forest didapat RMSE sebesar 1.7390, nilai RMSE tersebut cukup kecil yang berarti tingkat error atau kesalahan model dalam memprediksi juga cukup kecil.\n",
    "\n",
    "\n",
    "> Nilai MAPE merupakan persentase kesalahan absolut rata-rata antara nilai prediksi dan nilai aktual. Terlihat dari nilai MAPE data test model Random Forest sebesar 0.08521 atau rata-rata kesalahan dari model tersebut dalam memprediksi yaitu sebesar 8% yang mana nilai tersebut cukup kecil, sehingga model sudah baik dalam memprediksi. Terlihat juga dari selisih nilai MAPE data training dan data testing tidak cukup besar sehingga dapat disimpulkan tidak terjadi overfitting."
   ]
  },
  {
   "cell_type": "markdown",
   "metadata": {
    "id": "jGGtd-8Y0X8n"
   },
   "source": [
    "## HYPOTHESIS TESTING"
   ]
  },
  {
   "cell_type": "markdown",
   "metadata": {
    "id": "Ce3YmaMo0fK1"
   },
   "source": [
    "**Dengan tingkat kepercayaan sebesar 95%**\n",
    "\n",
    "**Hipotesis**:\n",
    "\n",
    "**$H0$** : Rata-rata harga order taksi Uber sama dengan rata-rata harga order taksi Lyft\n",
    "\n",
    "**$H1$** : Rata-rata harga order taksi Uber tidak sama dengan rata-rata harga order taksi Lyft\n",
    "\n",
    "**$Alpha : 0.05$**"
   ]
  },
  {
   "cell_type": "code",
   "execution_count": 61,
   "metadata": {
    "id": "gQSZAbDd0jMb"
   },
   "outputs": [],
   "source": [
    "uber = df[df['cab_type_Uber']==1]\n",
    "lyft = df[df['cab_type_Lyft']==1]"
   ]
  },
  {
   "cell_type": "code",
   "execution_count": 62,
   "metadata": {
    "colab": {
     "base_uri": "https://localhost:8080/"
    },
    "id": "jWvoQ5op0kJU",
    "outputId": "bbbdd48a-1b85-43c3-b91c-e206a0986c34"
   },
   "outputs": [
    {
     "name": "stdout",
     "output_type": "stream",
     "text": [
      "Jumlah data Uber: 330568 \n",
      "Mean Uber: 15.795343166912708 \n",
      "Std Uber: 8.560299982017439\n"
     ]
    }
   ],
   "source": [
    "# Jumlah data, mean, dan standard deviasi\n",
    "n_uber = len(uber)\n",
    "mean_uber = uber['price'].mean()\n",
    "std_uber = uber['price'].std()\n",
    "print('Jumlah data Uber:',n_uber,'\\nMean Uber:',mean_uber,'\\nStd Uber:',std_uber)"
   ]
  },
  {
   "cell_type": "code",
   "execution_count": 63,
   "metadata": {
    "colab": {
     "base_uri": "https://localhost:8080/"
    },
    "id": "9rx55Mgn0kLu",
    "outputId": "0c5b7f13-aae3-4380-839d-39446bc82bca"
   },
   "outputs": [
    {
     "name": "stdout",
     "output_type": "stream",
     "text": [
      "Jumlah data Lyft: 307408 \n",
      "Mean Lyft: 17.351396125019512 \n",
      "Std Lyft: 10.019170761821647\n"
     ]
    }
   ],
   "source": [
    "# Jumlah data, mean, dan standard deviasi\n",
    "n_lyft = len(lyft)\n",
    "mean_lyft = lyft['price'].mean()\n",
    "std_lyft = lyft['price'].std()\n",
    "print('Jumlah data Lyft:',n_lyft,'\\nMean Lyft:',mean_lyft,'\\nStd Lyft:',std_lyft)"
   ]
  },
  {
   "cell_type": "code",
   "execution_count": 64,
   "metadata": {
    "id": "Lz3z8I-80kN2"
   },
   "outputs": [],
   "source": [
    "# Dengan tingkat kepercayaan sebesar 95% maka alpha = 0.05\n",
    "alpha = 0.05"
   ]
  },
  {
   "cell_type": "code",
   "execution_count": 65,
   "metadata": {
    "id": "AA_-0O_v0kP9"
   },
   "outputs": [],
   "source": [
    "price_hypo = sm.stats.ztest(uber['price'].dropna(),\n",
    "                            lyft['price'].dropna(), \n",
    "                            alternative='two-sided')"
   ]
  },
  {
   "cell_type": "code",
   "execution_count": 66,
   "metadata": {
    "colab": {
     "base_uri": "https://localhost:8080/"
    },
    "id": "YDzilXeC0oFg",
    "outputId": "7f37e6c0-94f0-413d-8ac3-b549da8e4335"
   },
   "outputs": [
    {
     "data": {
      "text/plain": [
       "(-66.83531585586235, 0.0)"
      ]
     },
     "execution_count": 66,
     "metadata": {},
     "output_type": "execute_result"
    }
   ],
   "source": [
    "price_hypo"
   ]
  },
  {
   "cell_type": "code",
   "execution_count": 67,
   "metadata": {
    "colab": {
     "base_uri": "https://localhost:8080/"
    },
    "id": "uOiynOC90oHn",
    "outputId": "686b73a7-9781-4f5e-e49b-384252e71830"
   },
   "outputs": [
    {
     "name": "stdout",
     "output_type": "stream",
     "text": [
      "Reject Hipotesis nol(H0), Rata-rata harga order taksi Uber tidak sama dengan rata-rata harga order taksi Lyft\n"
     ]
    }
   ],
   "source": [
    "if price_hypo[1]>alpha:\n",
    "    print('Terima Hipotesis nol(H0), Rata-rata harga order taksi Uber sama dengan rata-rata harga order taksi Lyft')\n",
    "else:\n",
    "    print('Reject Hipotesis nol(H0), Rata-rata harga order taksi Uber tidak sama dengan rata-rata harga order taksi Lyft')"
   ]
  },
  {
   "cell_type": "markdown",
   "metadata": {
    "id": "q21TsemhSMNE"
   },
   "source": [
    "# Kesimpulan\n",
    "\n",
    "Berdasarkan hasil analisis diatas, dapat disimpulkan bahwa :\n",
    "> Data untuk kolom price memiliki distribusi yang tidak normal hal ini terlihat dari distribution plot, sehingga data tidak terdistribusi secara merata dan lebih cendrung ke kanan atau positive skew.\n",
    "\n",
    "\n",
    "> Dari grafik persebaran data surge multiplier, distance, temprature, dan price terlihat bahwa terdapat data outlier dari grafik tersebut.\n",
    "\n",
    "\n",
    "> Dari model-model machine learning yang telah diterapkan, diambil kesimpulan bahwa model **Random Forest** merupakan model terbaik untuk memprediksi.\n",
    "Karena nilai R-Squared Score-nya yang paling besar yaitu 0.964501. Selain itu, nilai MSE serta RMSE atau rata-rata kesalahan nilai antara prediksi dan aktualnya yg kecil sebesar 3.0244 dan 1.73909, dan total presentase kesalahan absolut dari model tersebut dengan menggunakan MAPE yang kecil sebesar 8%. Selain itu selisih antara nilai data train dan data test kecil sehingga tidak terjadi underfitting ataupun overfitting.\n",
    "\n",
    "\n",
    "> Berdasarkan model linear regression yaitu **y = 2.2016819846699707 X1 + 17.776034105377057 X2 + 0.0 X3 + 2.7996022688551467 X4 + 0.003086614655898477 X5 + 0.0002632187950389614 X6 + 0.000802041008815815 X7 + 0.27679964878283786 X8 + 0.0 X9 -22.098135785894154** terlihat bahwa intercept pada model yang dibuat adalah sekitar - 22.167956321343542, dan variabel yang paling mempengaruhi price dari model tersebut adalah variabel 'surge_multiplier', karena memiliki nilai slope terbesar yaitu 17.77603410537705.\n",
    "\n",
    "\n",
    "> Dengan menggunakan uji hipotesis untuk mengetahui apakah rata-rata harga order taksi Uber sama dengan rata-rata harga taksi Lyft didapat hasil bahwa **rata-rata harga taksi Uber tidak sama dengan taksi lyft**.\n",
    "\n",
    "\n",
    "> Didapat hasil bahwa rata-rata harga order taksi Lyft lebih besar daripada rata-rata harga order taksi Lyft yaitu 17.3513 $.\n",
    "\n",
    "\n",
    "> Untuk meningkatkan pendapatan lebih besar lagi, taksi Uber dan Lyft dapat memaksimalkan variabel surge multiplier yaitu menaikkan tarif order yang lebih tinggi disaat perusahaan kesulitan untuk memenuhi jumlah permintaan layanan atau order."
   ]
  },
  {
   "cell_type": "code",
   "execution_count": null,
   "metadata": {},
   "outputs": [],
   "source": []
  }
 ],
 "metadata": {
  "accelerator": "GPU",
  "colab": {
   "provenance": []
  },
  "gpuClass": "standard",
  "kernelspec": {
   "display_name": "Python 3 (ipykernel)",
   "language": "python",
   "name": "python3"
  },
  "language_info": {
   "codemirror_mode": {
    "name": "ipython",
    "version": 3
   },
   "file_extension": ".py",
   "mimetype": "text/x-python",
   "name": "python",
   "nbconvert_exporter": "python",
   "pygments_lexer": "ipython3",
   "version": "3.9.12"
  }
 },
 "nbformat": 4,
 "nbformat_minor": 1
}
